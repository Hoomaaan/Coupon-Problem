{
 "cells": [
  {
   "cell_type": "markdown",
   "metadata": {},
   "source": [
    "### Will a Customer Accept the Coupon?\n",
    "\n",
    "**Context**\n",
    "\n",
    "Imagine driving through town and a coupon is delivered to your cell phone for a restaraunt near where you are driving. Would you accept that coupon and take a short detour to the restaraunt? Would you accept the coupon but use it on a sunbsequent trip? Would you ignore the coupon entirely? What if the coupon was for a bar instead of a restaraunt? What about a coffee house? Would you accept a bar coupon with a minor passenger in the car? What about if it was just you and your partner in the car? Would weather impact the rate of acceptance? What about the time of day?\n",
    "\n",
    "Obviously, proximity to the business is a factor on whether the coupon is delivered to the driver or not, but what are the factors that determine whether a driver accepts the coupon once it is delivered to them? How would you determine whether a driver is likely to accept a coupon?\n",
    "\n",
    "**Overview**\n",
    "\n",
    "The goal of this project is to use what you know about visualizations and probability distributions to distinguish between customers who accepted a driving coupon versus those that did not.\n",
    "\n",
    "**Data**\n",
    "\n",
    "This data comes to us from the UCI Machine Learning repository and was collected via a survey on Amazon Mechanical Turk. The survey describes different driving scenarios including the destination, current time, weather, passenger, etc., and then ask the person whether he will accept the coupon if he is the driver. Answers that the user will drive there ‘right away’ or ‘later before the coupon expires’ are labeled as ‘Y = 1’ and answers ‘no, I do not want the coupon’ are labeled as ‘Y = 0’.  There are five different types of coupons -- less expensive restaurants (under \\\\$20), coffee houses, carry out & take away, bar, and more expensive restaurants (\\\\$20 - \\\\$50). "
   ]
  },
  {
   "cell_type": "markdown",
   "metadata": {},
   "source": [
    "**Deliverables**\n",
    "\n",
    "Your final product should be a brief report that highlights the differences between customers who did and did not accept the coupons.  To explore the data you will utilize your knowledge of plotting, statistical summaries, and visualization using Python. You will publish your findings in a public facing github repository as your first portfolio piece. \n",
    "\n",
    "\n",
    "\n"
   ]
  },
  {
   "cell_type": "markdown",
   "metadata": {},
   "source": [
    "### Data Description\n",
    "Keep in mind that these values mentioned below are average values.\n",
    "\n",
    "The attributes of this data set include:\n",
    "1. User attributes\n",
    "    -  Gender: male, female\n",
    "    -  Age: below 21, 21 to 25, 26 to 30, etc.\n",
    "    -  Marital Status: single, married partner, unmarried partner, or widowed\n",
    "    -  Number of children: 0, 1, or more than 1\n",
    "    -  Education: high school, bachelors degree, associates degree, or graduate degree\n",
    "    -  Occupation: architecture & engineering, business & financial, etc.\n",
    "    -  Annual income: less than \\\\$12500, \\\\$12500 - \\\\$24999, \\\\$25000 - \\\\$37499, etc.\n",
    "    -  Number of times that he/she goes to a bar: 0, less than 1, 1 to 3, 4 to 8 or greater than 8\n",
    "    -  Number of times that he/she buys takeaway food: 0, less than 1, 1 to 3, 4 to 8 or greater\n",
    "    than 8\n",
    "    -  Number of times that he/she goes to a coffee house: 0, less than 1, 1 to 3, 4 to 8 or\n",
    "    greater than 8\n",
    "    -  Number of times that he/she eats at a restaurant with average expense less than \\\\$20 per\n",
    "    person: 0, less than 1, 1 to 3, 4 to 8 or greater than 8\n",
    "    -  Number of times that he/she goes to a bar: 0, less than 1, 1 to 3, 4 to 8 or greater than 8\n",
    "    \n",
    "\n",
    "2. Contextual attributes\n",
    "    - Driving destination: home, work, or no urgent destination\n",
    "    - Location of user, coupon and destination: we provide a map to show the geographical\n",
    "    location of the user, destination, and the venue, and we mark the distance between each\n",
    "    two places with time of driving. The user can see whether the venue is in the same\n",
    "    direction as the destination.\n",
    "    - Weather: sunny, rainy, or snowy\n",
    "    - Temperature: 30F, 55F, or 80F\n",
    "    - Time: 10AM, 2PM, or 6PM\n",
    "    - Passenger: alone, partner, kid(s), or friend(s)\n",
    "\n",
    "\n",
    "3. Coupon attributes\n",
    "    - time before it expires: 2 hours or one day"
   ]
  },
  {
   "cell_type": "code",
   "execution_count": 78,
   "metadata": {},
   "outputs": [],
   "source": [
    "import matplotlib.pyplot as plt\n",
    "import seaborn as sns\n",
    "import plotly.express as px\n",
    "import pandas as pd\n",
    "import numpy as np\n",
    "import random"
   ]
  },
  {
   "cell_type": "markdown",
   "metadata": {},
   "source": [
    "### Problems\n",
    "\n",
    "Use the prompts below to get started with your data analysis.  \n",
    "\n",
    "1. Read in the `coupons.csv` file.\n",
    "\n",
    "\n"
   ]
  },
  {
   "cell_type": "code",
   "execution_count": 2,
   "metadata": {},
   "outputs": [],
   "source": [
    "data = pd.read_csv('data/coupons.csv')"
   ]
  },
  {
   "cell_type": "code",
   "execution_count": 3,
   "metadata": {},
   "outputs": [
    {
     "data": {
      "text/html": [
       "<div>\n",
       "<style scoped>\n",
       "    .dataframe tbody tr th:only-of-type {\n",
       "        vertical-align: middle;\n",
       "    }\n",
       "\n",
       "    .dataframe tbody tr th {\n",
       "        vertical-align: top;\n",
       "    }\n",
       "\n",
       "    .dataframe thead th {\n",
       "        text-align: right;\n",
       "    }\n",
       "</style>\n",
       "<table border=\"1\" class=\"dataframe\">\n",
       "  <thead>\n",
       "    <tr style=\"text-align: right;\">\n",
       "      <th></th>\n",
       "      <th>destination</th>\n",
       "      <th>passanger</th>\n",
       "      <th>weather</th>\n",
       "      <th>temperature</th>\n",
       "      <th>time</th>\n",
       "      <th>coupon</th>\n",
       "      <th>expiration</th>\n",
       "      <th>gender</th>\n",
       "      <th>age</th>\n",
       "      <th>maritalStatus</th>\n",
       "      <th>...</th>\n",
       "      <th>CoffeeHouse</th>\n",
       "      <th>CarryAway</th>\n",
       "      <th>RestaurantLessThan20</th>\n",
       "      <th>Restaurant20To50</th>\n",
       "      <th>toCoupon_GEQ5min</th>\n",
       "      <th>toCoupon_GEQ15min</th>\n",
       "      <th>toCoupon_GEQ25min</th>\n",
       "      <th>direction_same</th>\n",
       "      <th>direction_opp</th>\n",
       "      <th>Y</th>\n",
       "    </tr>\n",
       "  </thead>\n",
       "  <tbody>\n",
       "    <tr>\n",
       "      <th>0</th>\n",
       "      <td>No Urgent Place</td>\n",
       "      <td>Alone</td>\n",
       "      <td>Sunny</td>\n",
       "      <td>55</td>\n",
       "      <td>2PM</td>\n",
       "      <td>Restaurant(&lt;20)</td>\n",
       "      <td>1d</td>\n",
       "      <td>Female</td>\n",
       "      <td>21</td>\n",
       "      <td>Unmarried partner</td>\n",
       "      <td>...</td>\n",
       "      <td>never</td>\n",
       "      <td>NaN</td>\n",
       "      <td>4~8</td>\n",
       "      <td>1~3</td>\n",
       "      <td>1</td>\n",
       "      <td>0</td>\n",
       "      <td>0</td>\n",
       "      <td>0</td>\n",
       "      <td>1</td>\n",
       "      <td>1</td>\n",
       "    </tr>\n",
       "    <tr>\n",
       "      <th>1</th>\n",
       "      <td>No Urgent Place</td>\n",
       "      <td>Friend(s)</td>\n",
       "      <td>Sunny</td>\n",
       "      <td>80</td>\n",
       "      <td>10AM</td>\n",
       "      <td>Coffee House</td>\n",
       "      <td>2h</td>\n",
       "      <td>Female</td>\n",
       "      <td>21</td>\n",
       "      <td>Unmarried partner</td>\n",
       "      <td>...</td>\n",
       "      <td>never</td>\n",
       "      <td>NaN</td>\n",
       "      <td>4~8</td>\n",
       "      <td>1~3</td>\n",
       "      <td>1</td>\n",
       "      <td>0</td>\n",
       "      <td>0</td>\n",
       "      <td>0</td>\n",
       "      <td>1</td>\n",
       "      <td>0</td>\n",
       "    </tr>\n",
       "    <tr>\n",
       "      <th>2</th>\n",
       "      <td>No Urgent Place</td>\n",
       "      <td>Friend(s)</td>\n",
       "      <td>Sunny</td>\n",
       "      <td>80</td>\n",
       "      <td>10AM</td>\n",
       "      <td>Carry out &amp; Take away</td>\n",
       "      <td>2h</td>\n",
       "      <td>Female</td>\n",
       "      <td>21</td>\n",
       "      <td>Unmarried partner</td>\n",
       "      <td>...</td>\n",
       "      <td>never</td>\n",
       "      <td>NaN</td>\n",
       "      <td>4~8</td>\n",
       "      <td>1~3</td>\n",
       "      <td>1</td>\n",
       "      <td>1</td>\n",
       "      <td>0</td>\n",
       "      <td>0</td>\n",
       "      <td>1</td>\n",
       "      <td>1</td>\n",
       "    </tr>\n",
       "    <tr>\n",
       "      <th>3</th>\n",
       "      <td>No Urgent Place</td>\n",
       "      <td>Friend(s)</td>\n",
       "      <td>Sunny</td>\n",
       "      <td>80</td>\n",
       "      <td>2PM</td>\n",
       "      <td>Coffee House</td>\n",
       "      <td>2h</td>\n",
       "      <td>Female</td>\n",
       "      <td>21</td>\n",
       "      <td>Unmarried partner</td>\n",
       "      <td>...</td>\n",
       "      <td>never</td>\n",
       "      <td>NaN</td>\n",
       "      <td>4~8</td>\n",
       "      <td>1~3</td>\n",
       "      <td>1</td>\n",
       "      <td>1</td>\n",
       "      <td>0</td>\n",
       "      <td>0</td>\n",
       "      <td>1</td>\n",
       "      <td>0</td>\n",
       "    </tr>\n",
       "    <tr>\n",
       "      <th>4</th>\n",
       "      <td>No Urgent Place</td>\n",
       "      <td>Friend(s)</td>\n",
       "      <td>Sunny</td>\n",
       "      <td>80</td>\n",
       "      <td>2PM</td>\n",
       "      <td>Coffee House</td>\n",
       "      <td>1d</td>\n",
       "      <td>Female</td>\n",
       "      <td>21</td>\n",
       "      <td>Unmarried partner</td>\n",
       "      <td>...</td>\n",
       "      <td>never</td>\n",
       "      <td>NaN</td>\n",
       "      <td>4~8</td>\n",
       "      <td>1~3</td>\n",
       "      <td>1</td>\n",
       "      <td>1</td>\n",
       "      <td>0</td>\n",
       "      <td>0</td>\n",
       "      <td>1</td>\n",
       "      <td>0</td>\n",
       "    </tr>\n",
       "  </tbody>\n",
       "</table>\n",
       "<p>5 rows × 26 columns</p>\n",
       "</div>"
      ],
      "text/plain": [
       "       destination  passanger weather  temperature  time  \\\n",
       "0  No Urgent Place      Alone   Sunny           55   2PM   \n",
       "1  No Urgent Place  Friend(s)   Sunny           80  10AM   \n",
       "2  No Urgent Place  Friend(s)   Sunny           80  10AM   \n",
       "3  No Urgent Place  Friend(s)   Sunny           80   2PM   \n",
       "4  No Urgent Place  Friend(s)   Sunny           80   2PM   \n",
       "\n",
       "                  coupon expiration  gender age      maritalStatus  ...  \\\n",
       "0        Restaurant(<20)         1d  Female  21  Unmarried partner  ...   \n",
       "1           Coffee House         2h  Female  21  Unmarried partner  ...   \n",
       "2  Carry out & Take away         2h  Female  21  Unmarried partner  ...   \n",
       "3           Coffee House         2h  Female  21  Unmarried partner  ...   \n",
       "4           Coffee House         1d  Female  21  Unmarried partner  ...   \n",
       "\n",
       "   CoffeeHouse CarryAway RestaurantLessThan20 Restaurant20To50  \\\n",
       "0        never       NaN                  4~8              1~3   \n",
       "1        never       NaN                  4~8              1~3   \n",
       "2        never       NaN                  4~8              1~3   \n",
       "3        never       NaN                  4~8              1~3   \n",
       "4        never       NaN                  4~8              1~3   \n",
       "\n",
       "  toCoupon_GEQ5min toCoupon_GEQ15min toCoupon_GEQ25min direction_same  \\\n",
       "0                1                 0                 0              0   \n",
       "1                1                 0                 0              0   \n",
       "2                1                 1                 0              0   \n",
       "3                1                 1                 0              0   \n",
       "4                1                 1                 0              0   \n",
       "\n",
       "  direction_opp  Y  \n",
       "0             1  1  \n",
       "1             1  0  \n",
       "2             1  1  \n",
       "3             1  0  \n",
       "4             1  0  \n",
       "\n",
       "[5 rows x 26 columns]"
      ]
     },
     "execution_count": 3,
     "metadata": {},
     "output_type": "execute_result"
    }
   ],
   "source": [
    "data.head()"
   ]
  },
  {
   "cell_type": "markdown",
   "metadata": {},
   "source": [
    "2. Investigate the dataset for missing or problematic data."
   ]
  },
  {
   "cell_type": "code",
   "execution_count": 4,
   "metadata": {},
   "outputs": [
    {
     "name": "stdout",
     "output_type": "stream",
     "text": [
      "<class 'pandas.core.frame.DataFrame'>\n",
      "RangeIndex: 12684 entries, 0 to 12683\n",
      "Data columns (total 26 columns):\n",
      " #   Column                Non-Null Count  Dtype \n",
      "---  ------                --------------  ----- \n",
      " 0   destination           12684 non-null  object\n",
      " 1   passanger             12684 non-null  object\n",
      " 2   weather               12684 non-null  object\n",
      " 3   temperature           12684 non-null  int64 \n",
      " 4   time                  12684 non-null  object\n",
      " 5   coupon                12684 non-null  object\n",
      " 6   expiration            12684 non-null  object\n",
      " 7   gender                12684 non-null  object\n",
      " 8   age                   12684 non-null  object\n",
      " 9   maritalStatus         12684 non-null  object\n",
      " 10  has_children          12684 non-null  int64 \n",
      " 11  education             12684 non-null  object\n",
      " 12  occupation            12684 non-null  object\n",
      " 13  income                12684 non-null  object\n",
      " 14  car                   108 non-null    object\n",
      " 15  Bar                   12577 non-null  object\n",
      " 16  CoffeeHouse           12467 non-null  object\n",
      " 17  CarryAway             12533 non-null  object\n",
      " 18  RestaurantLessThan20  12554 non-null  object\n",
      " 19  Restaurant20To50      12495 non-null  object\n",
      " 20  toCoupon_GEQ5min      12684 non-null  int64 \n",
      " 21  toCoupon_GEQ15min     12684 non-null  int64 \n",
      " 22  toCoupon_GEQ25min     12684 non-null  int64 \n",
      " 23  direction_same        12684 non-null  int64 \n",
      " 24  direction_opp         12684 non-null  int64 \n",
      " 25  Y                     12684 non-null  int64 \n",
      "dtypes: int64(8), object(18)\n",
      "memory usage: 2.5+ MB\n"
     ]
    }
   ],
   "source": [
    "data.info()"
   ]
  },
  {
   "cell_type": "code",
   "execution_count": 5,
   "metadata": {
    "scrolled": false
   },
   "outputs": [
    {
     "data": {
      "text/plain": [
       "destination                 0\n",
       "passanger                   0\n",
       "weather                     0\n",
       "temperature                 0\n",
       "time                        0\n",
       "coupon                      0\n",
       "expiration                  0\n",
       "gender                      0\n",
       "age                         0\n",
       "maritalStatus               0\n",
       "has_children                0\n",
       "education                   0\n",
       "occupation                  0\n",
       "income                      0\n",
       "car                     12576\n",
       "Bar                       107\n",
       "CoffeeHouse               217\n",
       "CarryAway                 151\n",
       "RestaurantLessThan20      130\n",
       "Restaurant20To50          189\n",
       "toCoupon_GEQ5min            0\n",
       "toCoupon_GEQ15min           0\n",
       "toCoupon_GEQ25min           0\n",
       "direction_same              0\n",
       "direction_opp               0\n",
       "Y                           0\n",
       "dtype: int64"
      ]
     },
     "execution_count": 5,
     "metadata": {},
     "output_type": "execute_result"
    }
   ],
   "source": [
    "data.isnull().sum(axis=0)"
   ]
  },
  {
   "cell_type": "code",
   "execution_count": 6,
   "metadata": {},
   "outputs": [
    {
     "data": {
      "text/html": [
       "<div>\n",
       "<style scoped>\n",
       "    .dataframe tbody tr th:only-of-type {\n",
       "        vertical-align: middle;\n",
       "    }\n",
       "\n",
       "    .dataframe tbody tr th {\n",
       "        vertical-align: top;\n",
       "    }\n",
       "\n",
       "    .dataframe thead th {\n",
       "        text-align: right;\n",
       "    }\n",
       "</style>\n",
       "<table border=\"1\" class=\"dataframe\">\n",
       "  <thead>\n",
       "    <tr style=\"text-align: right;\">\n",
       "      <th></th>\n",
       "      <th>temperature</th>\n",
       "      <th>has_children</th>\n",
       "      <th>toCoupon_GEQ5min</th>\n",
       "      <th>toCoupon_GEQ15min</th>\n",
       "      <th>toCoupon_GEQ25min</th>\n",
       "      <th>direction_same</th>\n",
       "      <th>direction_opp</th>\n",
       "      <th>Y</th>\n",
       "    </tr>\n",
       "  </thead>\n",
       "  <tbody>\n",
       "    <tr>\n",
       "      <th>count</th>\n",
       "      <td>12684.000000</td>\n",
       "      <td>12684.000000</td>\n",
       "      <td>12684.0</td>\n",
       "      <td>12684.000000</td>\n",
       "      <td>12684.000000</td>\n",
       "      <td>12684.000000</td>\n",
       "      <td>12684.000000</td>\n",
       "      <td>12684.000000</td>\n",
       "    </tr>\n",
       "    <tr>\n",
       "      <th>mean</th>\n",
       "      <td>63.301798</td>\n",
       "      <td>0.414144</td>\n",
       "      <td>1.0</td>\n",
       "      <td>0.561495</td>\n",
       "      <td>0.119126</td>\n",
       "      <td>0.214759</td>\n",
       "      <td>0.785241</td>\n",
       "      <td>0.568433</td>\n",
       "    </tr>\n",
       "    <tr>\n",
       "      <th>std</th>\n",
       "      <td>19.154486</td>\n",
       "      <td>0.492593</td>\n",
       "      <td>0.0</td>\n",
       "      <td>0.496224</td>\n",
       "      <td>0.323950</td>\n",
       "      <td>0.410671</td>\n",
       "      <td>0.410671</td>\n",
       "      <td>0.495314</td>\n",
       "    </tr>\n",
       "    <tr>\n",
       "      <th>min</th>\n",
       "      <td>30.000000</td>\n",
       "      <td>0.000000</td>\n",
       "      <td>1.0</td>\n",
       "      <td>0.000000</td>\n",
       "      <td>0.000000</td>\n",
       "      <td>0.000000</td>\n",
       "      <td>0.000000</td>\n",
       "      <td>0.000000</td>\n",
       "    </tr>\n",
       "    <tr>\n",
       "      <th>25%</th>\n",
       "      <td>55.000000</td>\n",
       "      <td>0.000000</td>\n",
       "      <td>1.0</td>\n",
       "      <td>0.000000</td>\n",
       "      <td>0.000000</td>\n",
       "      <td>0.000000</td>\n",
       "      <td>1.000000</td>\n",
       "      <td>0.000000</td>\n",
       "    </tr>\n",
       "    <tr>\n",
       "      <th>50%</th>\n",
       "      <td>80.000000</td>\n",
       "      <td>0.000000</td>\n",
       "      <td>1.0</td>\n",
       "      <td>1.000000</td>\n",
       "      <td>0.000000</td>\n",
       "      <td>0.000000</td>\n",
       "      <td>1.000000</td>\n",
       "      <td>1.000000</td>\n",
       "    </tr>\n",
       "    <tr>\n",
       "      <th>75%</th>\n",
       "      <td>80.000000</td>\n",
       "      <td>1.000000</td>\n",
       "      <td>1.0</td>\n",
       "      <td>1.000000</td>\n",
       "      <td>0.000000</td>\n",
       "      <td>0.000000</td>\n",
       "      <td>1.000000</td>\n",
       "      <td>1.000000</td>\n",
       "    </tr>\n",
       "    <tr>\n",
       "      <th>max</th>\n",
       "      <td>80.000000</td>\n",
       "      <td>1.000000</td>\n",
       "      <td>1.0</td>\n",
       "      <td>1.000000</td>\n",
       "      <td>1.000000</td>\n",
       "      <td>1.000000</td>\n",
       "      <td>1.000000</td>\n",
       "      <td>1.000000</td>\n",
       "    </tr>\n",
       "  </tbody>\n",
       "</table>\n",
       "</div>"
      ],
      "text/plain": [
       "        temperature  has_children  toCoupon_GEQ5min  toCoupon_GEQ15min  \\\n",
       "count  12684.000000  12684.000000           12684.0       12684.000000   \n",
       "mean      63.301798      0.414144               1.0           0.561495   \n",
       "std       19.154486      0.492593               0.0           0.496224   \n",
       "min       30.000000      0.000000               1.0           0.000000   \n",
       "25%       55.000000      0.000000               1.0           0.000000   \n",
       "50%       80.000000      0.000000               1.0           1.000000   \n",
       "75%       80.000000      1.000000               1.0           1.000000   \n",
       "max       80.000000      1.000000               1.0           1.000000   \n",
       "\n",
       "       toCoupon_GEQ25min  direction_same  direction_opp             Y  \n",
       "count       12684.000000    12684.000000   12684.000000  12684.000000  \n",
       "mean            0.119126        0.214759       0.785241      0.568433  \n",
       "std             0.323950        0.410671       0.410671      0.495314  \n",
       "min             0.000000        0.000000       0.000000      0.000000  \n",
       "25%             0.000000        0.000000       1.000000      0.000000  \n",
       "50%             0.000000        0.000000       1.000000      1.000000  \n",
       "75%             0.000000        0.000000       1.000000      1.000000  \n",
       "max             1.000000        1.000000       1.000000      1.000000  "
      ]
     },
     "execution_count": 6,
     "metadata": {},
     "output_type": "execute_result"
    }
   ],
   "source": [
    "data.describe()"
   ]
  },
  {
   "cell_type": "markdown",
   "metadata": {},
   "source": [
    "3. Decide what to do about your missing data -- drop, replace, other..."
   ]
  },
  {
   "cell_type": "code",
   "execution_count": 7,
   "metadata": {
    "scrolled": true
   },
   "outputs": [],
   "source": [
    "# The most missing value is from the Car. So I decided to drop that column since there are 108 values filled.\n",
    "data = data.drop('car', axis=1)"
   ]
  },
  {
   "cell_type": "markdown",
   "metadata": {},
   "source": [
    "For the rest of the columns, drop the rows with a missing value in any of their columns."
   ]
  },
  {
   "cell_type": "code",
   "execution_count": 8,
   "metadata": {},
   "outputs": [
    {
     "data": {
      "text/plain": [
       "Index(['destination', 'passanger', 'weather', 'temperature', 'time', 'coupon',\n",
       "       'expiration', 'gender', 'age', 'maritalStatus', 'has_children',\n",
       "       'education', 'occupation', 'income', 'Bar', 'CoffeeHouse', 'CarryAway',\n",
       "       'RestaurantLessThan20', 'Restaurant20To50', 'toCoupon_GEQ5min',\n",
       "       'toCoupon_GEQ15min', 'toCoupon_GEQ25min', 'direction_same',\n",
       "       'direction_opp', 'Y'],\n",
       "      dtype='object')"
      ]
     },
     "execution_count": 8,
     "metadata": {},
     "output_type": "execute_result"
    }
   ],
   "source": [
    "data.columns"
   ]
  },
  {
   "cell_type": "code",
   "execution_count": 9,
   "metadata": {},
   "outputs": [],
   "source": [
    "data = data.dropna()"
   ]
  },
  {
   "cell_type": "code",
   "execution_count": 10,
   "metadata": {},
   "outputs": [
    {
     "data": {
      "text/plain": [
       "(12079, 25)"
      ]
     },
     "execution_count": 10,
     "metadata": {},
     "output_type": "execute_result"
    }
   ],
   "source": [
    "data.shape"
   ]
  },
  {
   "cell_type": "markdown",
   "metadata": {},
   "source": [
    "4. What proportion of the total observations chose to accept the coupon? \n",
    "\n"
   ]
  },
  {
   "cell_type": "code",
   "execution_count": 11,
   "metadata": {},
   "outputs": [
    {
     "data": {
      "text/plain": [
       "0.5693352098683666"
      ]
     },
     "execution_count": 11,
     "metadata": {},
     "output_type": "execute_result"
    }
   ],
   "source": [
    "accept_portion = len(data[data['Y'] == 1]) / len(data)\n",
    "accept_portion"
   ]
  },
  {
   "cell_type": "markdown",
   "metadata": {},
   "source": [
    "Around %57 of the dataset accepted the coupon."
   ]
  },
  {
   "cell_type": "markdown",
   "metadata": {},
   "source": [
    "5. Use a bar plot to visualize the `coupon` column."
   ]
  },
  {
   "cell_type": "code",
   "execution_count": 79,
   "metadata": {},
   "outputs": [
    {
     "data": {
      "text/plain": [
       "Text(0.5, 1.0, 'Different coupon counts')"
      ]
     },
     "execution_count": 79,
     "metadata": {},
     "output_type": "execute_result"
    },
    {
     "data": {
      "image/png": "[encoded data removed]",
      "text/plain": [
       "<Figure size 432x288 with 1 Axes>"
      ]
     },
     "metadata": {
      "needs_background": "light"
     },
     "output_type": "display_data"
    }
   ],
   "source": [
    "sns.countplot(data=data, x='coupon')\n",
    "plt.xticks(rotation=45)\n",
    "plt.title('Different coupon counts')"
   ]
  },
  {
   "cell_type": "code",
   "execution_count": null,
   "metadata": {},
   "outputs": [],
   "source": [
    "# Same barplot but this time using matplotlib\n",
    "coupons = data['coupon'].value_counts()\n",
    "plt.bar(coupons.index, coupons.values)\n",
    "plt.title('Different coupon counts')\n",
    "plt.xlabel('Coupon')\n",
    "plt.ylabel('Count')\n",
    "plt.xticks(rotation=45)"
   ]
  },
  {
   "cell_type": "markdown",
   "metadata": {},
   "source": [
    "6. Use a histogram to visualize the temperature column."
   ]
  },
  {
   "cell_type": "code",
   "execution_count": null,
   "metadata": {},
   "outputs": [],
   "source": [
    "sns.displot(data, x='temperature')"
   ]
  },
  {
   "cell_type": "markdown",
   "metadata": {},
   "source": [
    "Since the temperature can just take 3 different values, histogram may not be the best form of representation."
   ]
  },
  {
   "cell_type": "code",
   "execution_count": null,
   "metadata": {},
   "outputs": [],
   "source": []
  },
  {
   "cell_type": "code",
   "execution_count": null,
   "metadata": {},
   "outputs": [],
   "source": []
  },
  {
   "cell_type": "markdown",
   "metadata": {},
   "source": [
    "**Investigating the Bar Coupons**\n",
    "\n",
    "Now, we will lead you through an exploration of just the bar related coupons.  \n",
    "\n",
    "1. Create a new `DataFrame` that contains just the bar coupons.\n"
   ]
  },
  {
   "cell_type": "code",
   "execution_count": 13,
   "metadata": {},
   "outputs": [
    {
     "data": {
      "text/html": [
       "<div>\n",
       "<style scoped>\n",
       "    .dataframe tbody tr th:only-of-type {\n",
       "        vertical-align: middle;\n",
       "    }\n",
       "\n",
       "    .dataframe tbody tr th {\n",
       "        vertical-align: top;\n",
       "    }\n",
       "\n",
       "    .dataframe thead th {\n",
       "        text-align: right;\n",
       "    }\n",
       "</style>\n",
       "<table border=\"1\" class=\"dataframe\">\n",
       "  <thead>\n",
       "    <tr style=\"text-align: right;\">\n",
       "      <th></th>\n",
       "      <th>destination</th>\n",
       "      <th>passanger</th>\n",
       "      <th>weather</th>\n",
       "      <th>temperature</th>\n",
       "      <th>time</th>\n",
       "      <th>coupon</th>\n",
       "      <th>expiration</th>\n",
       "      <th>gender</th>\n",
       "      <th>age</th>\n",
       "      <th>maritalStatus</th>\n",
       "      <th>...</th>\n",
       "      <th>CoffeeHouse</th>\n",
       "      <th>CarryAway</th>\n",
       "      <th>RestaurantLessThan20</th>\n",
       "      <th>Restaurant20To50</th>\n",
       "      <th>toCoupon_GEQ5min</th>\n",
       "      <th>toCoupon_GEQ15min</th>\n",
       "      <th>toCoupon_GEQ25min</th>\n",
       "      <th>direction_same</th>\n",
       "      <th>direction_opp</th>\n",
       "      <th>Y</th>\n",
       "    </tr>\n",
       "  </thead>\n",
       "  <tbody>\n",
       "    <tr>\n",
       "      <th>24</th>\n",
       "      <td>No Urgent Place</td>\n",
       "      <td>Friend(s)</td>\n",
       "      <td>Sunny</td>\n",
       "      <td>80</td>\n",
       "      <td>10AM</td>\n",
       "      <td>Bar</td>\n",
       "      <td>1d</td>\n",
       "      <td>Male</td>\n",
       "      <td>21</td>\n",
       "      <td>Single</td>\n",
       "      <td>...</td>\n",
       "      <td>less1</td>\n",
       "      <td>4~8</td>\n",
       "      <td>4~8</td>\n",
       "      <td>less1</td>\n",
       "      <td>1</td>\n",
       "      <td>0</td>\n",
       "      <td>0</td>\n",
       "      <td>0</td>\n",
       "      <td>1</td>\n",
       "      <td>1</td>\n",
       "    </tr>\n",
       "    <tr>\n",
       "      <th>35</th>\n",
       "      <td>Home</td>\n",
       "      <td>Alone</td>\n",
       "      <td>Sunny</td>\n",
       "      <td>55</td>\n",
       "      <td>6PM</td>\n",
       "      <td>Bar</td>\n",
       "      <td>1d</td>\n",
       "      <td>Male</td>\n",
       "      <td>21</td>\n",
       "      <td>Single</td>\n",
       "      <td>...</td>\n",
       "      <td>less1</td>\n",
       "      <td>4~8</td>\n",
       "      <td>4~8</td>\n",
       "      <td>less1</td>\n",
       "      <td>1</td>\n",
       "      <td>0</td>\n",
       "      <td>0</td>\n",
       "      <td>1</td>\n",
       "      <td>0</td>\n",
       "      <td>1</td>\n",
       "    </tr>\n",
       "    <tr>\n",
       "      <th>39</th>\n",
       "      <td>Work</td>\n",
       "      <td>Alone</td>\n",
       "      <td>Sunny</td>\n",
       "      <td>55</td>\n",
       "      <td>7AM</td>\n",
       "      <td>Bar</td>\n",
       "      <td>1d</td>\n",
       "      <td>Male</td>\n",
       "      <td>21</td>\n",
       "      <td>Single</td>\n",
       "      <td>...</td>\n",
       "      <td>less1</td>\n",
       "      <td>4~8</td>\n",
       "      <td>4~8</td>\n",
       "      <td>less1</td>\n",
       "      <td>1</td>\n",
       "      <td>1</td>\n",
       "      <td>1</td>\n",
       "      <td>0</td>\n",
       "      <td>1</td>\n",
       "      <td>1</td>\n",
       "    </tr>\n",
       "    <tr>\n",
       "      <th>46</th>\n",
       "      <td>No Urgent Place</td>\n",
       "      <td>Friend(s)</td>\n",
       "      <td>Sunny</td>\n",
       "      <td>80</td>\n",
       "      <td>10AM</td>\n",
       "      <td>Bar</td>\n",
       "      <td>1d</td>\n",
       "      <td>Male</td>\n",
       "      <td>46</td>\n",
       "      <td>Single</td>\n",
       "      <td>...</td>\n",
       "      <td>4~8</td>\n",
       "      <td>1~3</td>\n",
       "      <td>1~3</td>\n",
       "      <td>never</td>\n",
       "      <td>1</td>\n",
       "      <td>0</td>\n",
       "      <td>0</td>\n",
       "      <td>0</td>\n",
       "      <td>1</td>\n",
       "      <td>0</td>\n",
       "    </tr>\n",
       "    <tr>\n",
       "      <th>57</th>\n",
       "      <td>Home</td>\n",
       "      <td>Alone</td>\n",
       "      <td>Sunny</td>\n",
       "      <td>55</td>\n",
       "      <td>6PM</td>\n",
       "      <td>Bar</td>\n",
       "      <td>1d</td>\n",
       "      <td>Male</td>\n",
       "      <td>46</td>\n",
       "      <td>Single</td>\n",
       "      <td>...</td>\n",
       "      <td>4~8</td>\n",
       "      <td>1~3</td>\n",
       "      <td>1~3</td>\n",
       "      <td>never</td>\n",
       "      <td>1</td>\n",
       "      <td>0</td>\n",
       "      <td>0</td>\n",
       "      <td>1</td>\n",
       "      <td>0</td>\n",
       "      <td>0</td>\n",
       "    </tr>\n",
       "  </tbody>\n",
       "</table>\n",
       "<p>5 rows × 25 columns</p>\n",
       "</div>"
      ],
      "text/plain": [
       "        destination  passanger weather  temperature  time coupon expiration  \\\n",
       "24  No Urgent Place  Friend(s)   Sunny           80  10AM    Bar         1d   \n",
       "35             Home      Alone   Sunny           55   6PM    Bar         1d   \n",
       "39             Work      Alone   Sunny           55   7AM    Bar         1d   \n",
       "46  No Urgent Place  Friend(s)   Sunny           80  10AM    Bar         1d   \n",
       "57             Home      Alone   Sunny           55   6PM    Bar         1d   \n",
       "\n",
       "   gender age maritalStatus  ...  CoffeeHouse CarryAway RestaurantLessThan20  \\\n",
       "24   Male  21        Single  ...        less1       4~8                  4~8   \n",
       "35   Male  21        Single  ...        less1       4~8                  4~8   \n",
       "39   Male  21        Single  ...        less1       4~8                  4~8   \n",
       "46   Male  46        Single  ...          4~8       1~3                  1~3   \n",
       "57   Male  46        Single  ...          4~8       1~3                  1~3   \n",
       "\n",
       "   Restaurant20To50 toCoupon_GEQ5min toCoupon_GEQ15min toCoupon_GEQ25min  \\\n",
       "24            less1                1                 0                 0   \n",
       "35            less1                1                 0                 0   \n",
       "39            less1                1                 1                 1   \n",
       "46            never                1                 0                 0   \n",
       "57            never                1                 0                 0   \n",
       "\n",
       "   direction_same direction_opp  Y  \n",
       "24              0             1  1  \n",
       "35              1             0  1  \n",
       "39              0             1  1  \n",
       "46              0             1  0  \n",
       "57              1             0  0  \n",
       "\n",
       "[5 rows x 25 columns]"
      ]
     },
     "execution_count": 13,
     "metadata": {},
     "output_type": "execute_result"
    }
   ],
   "source": [
    "bar_df = data[data['coupon'] == 'Bar']\n",
    "bar_df.head()"
   ]
  },
  {
   "cell_type": "markdown",
   "metadata": {},
   "source": [
    "2. What proportion of bar coupons were accepted?\n"
   ]
  },
  {
   "cell_type": "code",
   "execution_count": 14,
   "metadata": {
    "scrolled": true
   },
   "outputs": [
    {
     "data": {
      "text/plain": [
       "0.41191845269210664"
      ]
     },
     "execution_count": 14,
     "metadata": {},
     "output_type": "execute_result"
    }
   ],
   "source": [
    "accepted_bar_coupons_ratio = len(bar_df[bar_df['Y'] == 1]) / len(bar_df)\n",
    "accepted_bar_coupons_ratio"
   ]
  },
  {
   "cell_type": "markdown",
   "metadata": {},
   "source": [
    "**Answer:** Approximately %41 of the bar coupons were accpeted."
   ]
  },
  {
   "cell_type": "markdown",
   "metadata": {},
   "source": [
    "3. Compare the acceptance rate between those who went to a bar 3 or fewer times a month to those who went more.\n"
   ]
  },
  {
   "cell_type": "code",
   "execution_count": 15,
   "metadata": {
    "scrolled": false
   },
   "outputs": [
    {
     "data": {
      "text/plain": [
       "never    788\n",
       "less1    553\n",
       "1~3      379\n",
       "4~8      147\n",
       "gt8       46\n",
       "Name: Bar, dtype: int64"
      ]
     },
     "execution_count": 15,
     "metadata": {},
     "output_type": "execute_result"
    }
   ],
   "source": [
    "# First find all the values in the Bar columns\n",
    "bar_df['Bar'].value_counts()"
   ]
  },
  {
   "cell_type": "code",
   "execution_count": 16,
   "metadata": {},
   "outputs": [
    {
     "name": "stdout",
     "output_type": "stream",
     "text": [
      "Acceptance rate for those who went to a bar more than 3 times: %76.16580310880829\n"
     ]
    }
   ],
   "source": [
    "# Based on the values, people who went to bar more than 3 times are 4~8 and gt8 and the rest of the data went to the bar 3 times or fewer\n",
    "# First get the acceptance rate of people who went to a bar more than 3 times\n",
    "acc_rate_more_3 = len(bar_df[(bar_df['Y'] == 1) & (bar_df['Bar'].isin(['4~8', 'gt8']))]) / len(bar_df[bar_df['Bar'].isin(['4~8', 'gt8'])])\n",
    "print(f\"Acceptance rate for those who went to a bar more than 3 times: %{acc_rate_more_3 * 100}\")"
   ]
  },
  {
   "cell_type": "code",
   "execution_count": 17,
   "metadata": {},
   "outputs": [
    {
     "name": "stdout",
     "output_type": "stream",
     "text": [
      "Acceptance rate for those who went to a bar 3 times: %37.26744186046512\n"
     ]
    }
   ],
   "source": [
    "# Now for the rest of the people who went to a bar 3 or fewer times\n",
    "fewer_3 = ['never', 'less1', '1~3']\n",
    "acc_rate_fewer_3 = len(bar_df[(bar_df['Y'] == 1) & (bar_df['Bar'].isin(fewer_3))]) / len(bar_df[bar_df['Bar'].isin(fewer_3)])\n",
    "print(f\"Acceptance rate for those who went to a bar 3 times: %{acc_rate_fewer_3 * 100}\")"
   ]
  },
  {
   "cell_type": "markdown",
   "metadata": {},
   "source": [
    "**Answer:** According to the percentages, people who went to a bar more than 3 times are more likely to accept the coupon."
   ]
  },
  {
   "cell_type": "markdown",
   "metadata": {},
   "source": [
    "4. Compare the acceptance rate between drivers who go to a bar more than once a month and are over the age of 25 to the all others.  Is there a difference?\n"
   ]
  },
  {
   "cell_type": "code",
   "execution_count": 18,
   "metadata": {
    "scrolled": true
   },
   "outputs": [
    {
     "name": "stdout",
     "output_type": "stream",
     "text": [
      "object\n"
     ]
    },
    {
     "data": {
      "text/plain": [
       "21         397\n",
       "26         368\n",
       "31         324\n",
       "50plus     273\n",
       "36         196\n",
       "41         171\n",
       "46         103\n",
       "below21     81\n",
       "Name: age, dtype: int64"
      ]
     },
     "execution_count": 18,
     "metadata": {},
     "output_type": "execute_result"
    }
   ],
   "source": [
    "print(bar_df['age'].dtype)\n",
    "bar_df['age'].value_counts()"
   ]
  },
  {
   "cell_type": "markdown",
   "metadata": {},
   "source": [
    "The age field is of type object and it is actually string. Therefore, it is better to convert the values to integer first to be able to find all the values above 25. To do so, I do a data cleaning by replacing 50plus with 51 and below21 with 20. In that case, when I want to filter the data based on the age > 25, I will get the correct result."
   ]
  },
  {
   "cell_type": "code",
   "execution_count": 19,
   "metadata": {},
   "outputs": [
    {
     "name": "stdout",
     "output_type": "stream",
     "text": [
      "24       21\n",
      "35       21\n",
      "39       21\n",
      "46       46\n",
      "57       46\n",
      "         ..\n",
      "12663    26\n",
      "12664    26\n",
      "12667    26\n",
      "12670    26\n",
      "12682    26\n",
      "Name: age, Length: 1913, dtype: int32\n"
     ]
    },
    {
     "name": "stderr",
     "output_type": "stream",
     "text": [
      "C:\\Users\\hoo11155\\AppData\\Local\\Temp\\1\\ipykernel_15668\\1608570590.py:1: SettingWithCopyWarning: \n",
      "A value is trying to be set on a copy of a slice from a DataFrame.\n",
      "Try using .loc[row_indexer,col_indexer] = value instead\n",
      "\n",
      "See the caveats in the documentation: https://pandas.pydata.org/pandas-docs/stable/user_guide/indexing.html#returning-a-view-versus-a-copy\n",
      "  bar_df['age'] = bar_df['age'].map(lambda x: 20 if x == 'below21' else x)\n",
      "C:\\Users\\hoo11155\\AppData\\Local\\Temp\\1\\ipykernel_15668\\1608570590.py:2: SettingWithCopyWarning: \n",
      "A value is trying to be set on a copy of a slice from a DataFrame.\n",
      "Try using .loc[row_indexer,col_indexer] = value instead\n",
      "\n",
      "See the caveats in the documentation: https://pandas.pydata.org/pandas-docs/stable/user_guide/indexing.html#returning-a-view-versus-a-copy\n",
      "  bar_df['age'] = bar_df['age'].map(lambda x: 51 if x == '50plus' else x).astype(int)\n"
     ]
    }
   ],
   "source": [
    "bar_df['age'] = bar_df['age'].map(lambda x: 20 if x == 'below21' else x)\n",
    "bar_df['age'] = bar_df['age'].map(lambda x: 51 if x == '50plus' else x).astype(int)\n",
    "print(bar_df['age'])"
   ]
  },
  {
   "cell_type": "code",
   "execution_count": 20,
   "metadata": {},
   "outputs": [],
   "source": [
    "more_than_once = ['1~3', '4~8', 'gt8']\n",
    "more_than_once_over_twentyfive_df = bar_df.query('age > 25 & Bar in @more_than_once')\n",
    "# print(more_than_once_over_twentyfive_df.head())\n",
    "others_df = bar_df.query('age <= 25 | Bar not in @more_than_once')\n",
    "# print(others_df.head())"
   ]
  },
  {
   "cell_type": "code",
   "execution_count": 21,
   "metadata": {
    "scrolled": true
   },
   "outputs": [
    {
     "name": "stdout",
     "output_type": "stream",
     "text": [
      "acceptance rate of drivers who go to a bar more than once a month and are over the age of 25: %68.98263027295285\n"
     ]
    }
   ],
   "source": [
    "acceptance_rate = len(more_than_once_over_twentyfive_df.query('Y == 1')) / len(more_than_once_over_twentyfive_df)\n",
    "print(f\"acceptance rate of drivers who go to a bar more than once a month and are over the age of 25: %{acceptance_rate * 100}\")"
   ]
  },
  {
   "cell_type": "code",
   "execution_count": 22,
   "metadata": {},
   "outputs": [
    {
     "name": "stdout",
     "output_type": "stream",
     "text": [
      "acceptance rate of other drivers: %33.77483443708609\n"
     ]
    }
   ],
   "source": [
    "acceptance_rate_others = len(others_df.query('Y == 1')) / len(others_df)\n",
    "print(f\"acceptance rate of other drivers: %{acceptance_rate_others * 100}\")"
   ]
  },
  {
   "cell_type": "markdown",
   "metadata": {},
   "source": [
    "**Answer:** Drivers who go to a bar more than once a month and are over 25 years old accept the coupon more than twice the drivers who are 25 or younger or go to a bar less than 1 times in a month."
   ]
  },
  {
   "cell_type": "markdown",
   "metadata": {},
   "source": [
    "5. Use the same process to compare the acceptance rate between drivers who go to bars more than once a month and had passengers that were not a kid and had occupations other than farming, fishing, or forestry. \n"
   ]
  },
  {
   "cell_type": "code",
   "execution_count": 23,
   "metadata": {},
   "outputs": [
    {
     "name": "stdout",
     "output_type": "stream",
     "text": [
      "acceptance rate of drivers who go to bars more than once a month and had passengers that were not a kid and had occupations other than farming, fishing, or forestry: %31.191885038038887\n"
     ]
    }
   ],
   "source": [
    "# First look at the values\n",
    "df1 = bar_df[bar_df['Bar'].isin(['never', 'less1'])] # df1 has all drivers who go to bars more than once a month\n",
    "df1 = df1[df1['passanger'] != 'Kid(s)'] # df1 has passangers who are not kid(s)\n",
    "df1 = df1[df1['occupation'] != 'Farming Fishing & Forestry'] # df1 occupation is not farming, fishing, or forestry\n",
    "\n",
    "# Now df1 meets all the criteria mentioned\n",
    "acceptance_rate_df1 = len(df1[df1['Y'] == 1]) / len(df1)\n",
    "print(f\"acceptance rate of drivers who go to bars more than once a month and had passengers that were not a kid and had occupations other than farming, fishing, or forestry: %{acceptance_rate_df1 * 100}\")"
   ]
  },
  {
   "cell_type": "code",
   "execution_count": 24,
   "metadata": {},
   "outputs": [
    {
     "name": "stdout",
     "output_type": "stream",
     "text": [
      "acceptance rate of other drivers: %41.20418848167539\n"
     ]
    }
   ],
   "source": [
    "# to practice both filtering and querying, I use query for this part\n",
    "less_than_one_bar_visit = ['never', 'less1']\n",
    "df_others = bar_df.query('Bar not in @less_than_one_bar_visit | passanger != \"Kid(s)\" | occupation != \"Farming Fishing & Forestry\"')\n",
    "\n",
    "acceptance_rate_other = len(df_others.query('Y == 1')) / len(df_others)\n",
    "print(f\"acceptance rate of other drivers: %{acceptance_rate_other * 100}\")"
   ]
  },
  {
   "cell_type": "markdown",
   "metadata": {},
   "source": [
    "**Answer:** The others have higher rate of acceptance for the coupon."
   ]
  },
  {
   "cell_type": "markdown",
   "metadata": {},
   "source": [
    "6. Compare the acceptance rates between those drivers who:\n",
    "\n",
    "- go to bars more than once a month, had passengers that were not a kid, and were not widowed *OR*\n",
    "- go to bars more than once a month and are under the age of 30 *OR*\n",
    "- go to cheap restaurants more than 4 times a month and income is less than 50K. "
   ]
  },
  {
   "cell_type": "code",
   "execution_count": 25,
   "metadata": {},
   "outputs": [
    {
     "data": {
      "text/plain": [
       "Coffee House             3816\n",
       "Restaurant(<20)          2653\n",
       "Carry out & Take away    2280\n",
       "Bar                      1913\n",
       "Restaurant(20-50)        1417\n",
       "Name: coupon, dtype: int64"
      ]
     },
     "execution_count": 25,
     "metadata": {},
     "output_type": "execute_result"
    }
   ],
   "source": [
    "data['coupon'].value_counts()"
   ]
  },
  {
   "cell_type": "code",
   "execution_count": 26,
   "metadata": {
    "scrolled": true
   },
   "outputs": [
    {
     "data": {
      "text/plain": [
       "1~3      5163\n",
       "4~8      3450\n",
       "less1    2005\n",
       "gt8      1285\n",
       "never     176\n",
       "Name: RestaurantLessThan20, dtype: int64"
      ]
     },
     "execution_count": 26,
     "metadata": {},
     "output_type": "execute_result"
    }
   ],
   "source": [
    "data['RestaurantLessThan20'].value_counts()"
   ]
  },
  {
   "cell_type": "code",
   "execution_count": 27,
   "metadata": {},
   "outputs": [
    {
     "name": "stdout",
     "output_type": "stream",
     "text": [
      "Acc rate for go to bars more than once a month, had passengers that were not a kid, and were not widowed: % 70.94339622641509\n",
      "Acc rate for go to bars more than once a month and are under the age of 30: % 71.95121951219512\n",
      "Acc rate go to cheap restaurants more than 4 times a month and income is less than 50K: % 45.645645645645644\n"
     ]
    }
   ],
   "source": [
    "# go to bars more than once a month, had passengers that were not a kid, and were not widowed\n",
    "df1 = bar_df.query('Bar not in @less_than_one_bar_visit & passanger != \"Kid(s)\" & maritalStatus != \"widowed\"')\n",
    "acc1 = len(df1.query('Y == 1')) / len(df1)\n",
    "print(f\"Acc rate for go to bars more than once a month, had passengers that were not a kid, and were not widowed: % {acc1 * 100}\")\n",
    "\n",
    "# go to bars more than once a month and are under the age of 30\n",
    "df2 = bar_df.query('Bar not in @less_than_one_bar_visit & age < 30')\n",
    "acc2 = len(df2.query('Y == 1')) / len(df2)\n",
    "print(f\"Acc rate for go to bars more than once a month and are under the age of 30: % {acc2 * 100}\")\n",
    "\n",
    "# go to cheap restaurants more than 4 times a month and income is less than 50K\n",
    "income_less_50k = ['Less than $12500', '$12500 - $24999', '$25000 - $37499', '$37500 - $49999']\n",
    "cheap_rest_more_4 = ['4~8', 'gt8']\n",
    "df3 = bar_df.query('income in @income_less_50k & RestaurantLessThan20 in @cheap_rest_more_4')\n",
    "acc3 = len(df3.query('Y == 1')) / len(df3)\n",
    "print(f\"Acc rate go to cheap restaurants more than 4 times a month and income is less than 50K: % {acc3 * 100}\")"
   ]
  },
  {
   "cell_type": "markdown",
   "metadata": {},
   "source": [
    "7.  Based on these observations, what do you hypothesize about drivers who accepted the bar coupons?"
   ]
  },
  {
   "cell_type": "markdown",
   "metadata": {},
   "source": [
    "**Answer:** Based on the acceptance rate result of the previous problem, drivers who are under age of 30 and go to bar more than once a months accepted the coupon more than other two groups. Overall, it shows that if the driver has the history of going to bar at least once a month, the acceptance rate of bar coupon is higher."
   ]
  },
  {
   "cell_type": "markdown",
   "metadata": {},
   "source": [
    "### Independent Investigation\n",
    "\n",
    "Using the bar coupon example as motivation, you are to explore one of the other coupon groups and try to determine the characteristics of passengers who accept the coupons.  "
   ]
  },
  {
   "cell_type": "markdown",
   "metadata": {},
   "source": [
    "Let's look at all the coupons available in the dataset and try to find what percentage of coupons are being accepted."
   ]
  },
  {
   "cell_type": "code",
   "execution_count": 30,
   "metadata": {},
   "outputs": [
    {
     "data": {
      "text/plain": [
       "Index(['destination', 'passanger', 'weather', 'temperature', 'time', 'coupon',\n",
       "       'expiration', 'gender', 'age', 'maritalStatus', 'has_children',\n",
       "       'education', 'occupation', 'income', 'Bar', 'CoffeeHouse', 'CarryAway',\n",
       "       'RestaurantLessThan20', 'Restaurant20To50', 'toCoupon_GEQ5min',\n",
       "       'toCoupon_GEQ15min', 'toCoupon_GEQ25min', 'direction_same',\n",
       "       'direction_opp', 'Y'],\n",
       "      dtype='object')"
      ]
     },
     "execution_count": 30,
     "metadata": {},
     "output_type": "execute_result"
    }
   ],
   "source": [
    "data.columns"
   ]
  },
  {
   "cell_type": "code",
   "execution_count": 57,
   "metadata": {},
   "outputs": [
    {
     "data": {
      "image/png": "[encoded data removed]",
      "text/plain": [
       "<Figure size 864x360 with 1 Axes>"
      ]
     },
     "metadata": {
      "needs_background": "light"
     },
     "output_type": "display_data"
    }
   ],
   "source": [
    "plt.figure(figsize=(12, 5))\n",
    "ax = sns.countplot(data=data, x='coupon', hue='Y', edgecolor='w')\n",
    "for container in ax.containers:\n",
    "    ax.bar_label(container)"
   ]
  },
  {
   "cell_type": "markdown",
   "metadata": {},
   "source": [
    "This plot depicts that cheaper restaurants and carry outs & take aways have higher number of accepted restaurant compraing to their rejected coupons. On the contrary, the number of rejected coupons are higher for other types of businesses. It be observed that coffe Houses have higher number of coupons with total of 3816 (1922 + 1894) among all the businesses. "
   ]
  },
  {
   "cell_type": "markdown",
   "metadata": {},
   "source": [
    "Now, I would like further investigate Coffee Houses to find out which factors have impact on accepting or rejecting a coupon."
   ]
  },
  {
   "cell_type": "code",
   "execution_count": 69,
   "metadata": {
    "scrolled": true
   },
   "outputs": [
    {
     "data": {
      "text/html": [
       "<div>\n",
       "<style scoped>\n",
       "    .dataframe tbody tr th:only-of-type {\n",
       "        vertical-align: middle;\n",
       "    }\n",
       "\n",
       "    .dataframe tbody tr th {\n",
       "        vertical-align: top;\n",
       "    }\n",
       "\n",
       "    .dataframe thead th {\n",
       "        text-align: right;\n",
       "    }\n",
       "</style>\n",
       "<table border=\"1\" class=\"dataframe\">\n",
       "  <thead>\n",
       "    <tr style=\"text-align: right;\">\n",
       "      <th></th>\n",
       "      <th>destination</th>\n",
       "      <th>passanger</th>\n",
       "      <th>weather</th>\n",
       "      <th>temperature</th>\n",
       "      <th>time</th>\n",
       "      <th>coupon</th>\n",
       "      <th>expiration</th>\n",
       "      <th>gender</th>\n",
       "      <th>age</th>\n",
       "      <th>maritalStatus</th>\n",
       "      <th>...</th>\n",
       "      <th>CoffeeHouse</th>\n",
       "      <th>CarryAway</th>\n",
       "      <th>RestaurantLessThan20</th>\n",
       "      <th>Restaurant20To50</th>\n",
       "      <th>toCoupon_GEQ5min</th>\n",
       "      <th>toCoupon_GEQ15min</th>\n",
       "      <th>toCoupon_GEQ25min</th>\n",
       "      <th>direction_same</th>\n",
       "      <th>direction_opp</th>\n",
       "      <th>Y</th>\n",
       "    </tr>\n",
       "  </thead>\n",
       "  <tbody>\n",
       "    <tr>\n",
       "      <th>23</th>\n",
       "      <td>No Urgent Place</td>\n",
       "      <td>Friend(s)</td>\n",
       "      <td>Sunny</td>\n",
       "      <td>80</td>\n",
       "      <td>10AM</td>\n",
       "      <td>Coffee House</td>\n",
       "      <td>2h</td>\n",
       "      <td>Male</td>\n",
       "      <td>21</td>\n",
       "      <td>Single</td>\n",
       "      <td>...</td>\n",
       "      <td>less1</td>\n",
       "      <td>4~8</td>\n",
       "      <td>4~8</td>\n",
       "      <td>less1</td>\n",
       "      <td>1</td>\n",
       "      <td>0</td>\n",
       "      <td>0</td>\n",
       "      <td>0</td>\n",
       "      <td>1</td>\n",
       "      <td>0</td>\n",
       "    </tr>\n",
       "    <tr>\n",
       "      <th>26</th>\n",
       "      <td>No Urgent Place</td>\n",
       "      <td>Friend(s)</td>\n",
       "      <td>Sunny</td>\n",
       "      <td>80</td>\n",
       "      <td>2PM</td>\n",
       "      <td>Coffee House</td>\n",
       "      <td>1d</td>\n",
       "      <td>Male</td>\n",
       "      <td>21</td>\n",
       "      <td>Single</td>\n",
       "      <td>...</td>\n",
       "      <td>less1</td>\n",
       "      <td>4~8</td>\n",
       "      <td>4~8</td>\n",
       "      <td>less1</td>\n",
       "      <td>1</td>\n",
       "      <td>0</td>\n",
       "      <td>0</td>\n",
       "      <td>0</td>\n",
       "      <td>1</td>\n",
       "      <td>0</td>\n",
       "    </tr>\n",
       "    <tr>\n",
       "      <th>27</th>\n",
       "      <td>No Urgent Place</td>\n",
       "      <td>Friend(s)</td>\n",
       "      <td>Sunny</td>\n",
       "      <td>80</td>\n",
       "      <td>2PM</td>\n",
       "      <td>Coffee House</td>\n",
       "      <td>2h</td>\n",
       "      <td>Male</td>\n",
       "      <td>21</td>\n",
       "      <td>Single</td>\n",
       "      <td>...</td>\n",
       "      <td>less1</td>\n",
       "      <td>4~8</td>\n",
       "      <td>4~8</td>\n",
       "      <td>less1</td>\n",
       "      <td>1</td>\n",
       "      <td>1</td>\n",
       "      <td>0</td>\n",
       "      <td>0</td>\n",
       "      <td>1</td>\n",
       "      <td>0</td>\n",
       "    </tr>\n",
       "    <tr>\n",
       "      <th>28</th>\n",
       "      <td>No Urgent Place</td>\n",
       "      <td>Friend(s)</td>\n",
       "      <td>Sunny</td>\n",
       "      <td>80</td>\n",
       "      <td>2PM</td>\n",
       "      <td>Coffee House</td>\n",
       "      <td>1d</td>\n",
       "      <td>Male</td>\n",
       "      <td>21</td>\n",
       "      <td>Single</td>\n",
       "      <td>...</td>\n",
       "      <td>less1</td>\n",
       "      <td>4~8</td>\n",
       "      <td>4~8</td>\n",
       "      <td>less1</td>\n",
       "      <td>1</td>\n",
       "      <td>1</td>\n",
       "      <td>0</td>\n",
       "      <td>0</td>\n",
       "      <td>1</td>\n",
       "      <td>0</td>\n",
       "    </tr>\n",
       "    <tr>\n",
       "      <th>30</th>\n",
       "      <td>No Urgent Place</td>\n",
       "      <td>Friend(s)</td>\n",
       "      <td>Sunny</td>\n",
       "      <td>80</td>\n",
       "      <td>6PM</td>\n",
       "      <td>Coffee House</td>\n",
       "      <td>2h</td>\n",
       "      <td>Male</td>\n",
       "      <td>21</td>\n",
       "      <td>Single</td>\n",
       "      <td>...</td>\n",
       "      <td>less1</td>\n",
       "      <td>4~8</td>\n",
       "      <td>4~8</td>\n",
       "      <td>less1</td>\n",
       "      <td>1</td>\n",
       "      <td>0</td>\n",
       "      <td>0</td>\n",
       "      <td>0</td>\n",
       "      <td>1</td>\n",
       "      <td>0</td>\n",
       "    </tr>\n",
       "  </tbody>\n",
       "</table>\n",
       "<p>5 rows × 25 columns</p>\n",
       "</div>"
      ],
      "text/plain": [
       "        destination  passanger weather  temperature  time        coupon  \\\n",
       "23  No Urgent Place  Friend(s)   Sunny           80  10AM  Coffee House   \n",
       "26  No Urgent Place  Friend(s)   Sunny           80   2PM  Coffee House   \n",
       "27  No Urgent Place  Friend(s)   Sunny           80   2PM  Coffee House   \n",
       "28  No Urgent Place  Friend(s)   Sunny           80   2PM  Coffee House   \n",
       "30  No Urgent Place  Friend(s)   Sunny           80   6PM  Coffee House   \n",
       "\n",
       "   expiration gender age maritalStatus  ...  CoffeeHouse CarryAway  \\\n",
       "23         2h   Male  21        Single  ...        less1       4~8   \n",
       "26         1d   Male  21        Single  ...        less1       4~8   \n",
       "27         2h   Male  21        Single  ...        less1       4~8   \n",
       "28         1d   Male  21        Single  ...        less1       4~8   \n",
       "30         2h   Male  21        Single  ...        less1       4~8   \n",
       "\n",
       "   RestaurantLessThan20 Restaurant20To50 toCoupon_GEQ5min toCoupon_GEQ15min  \\\n",
       "23                  4~8            less1                1                 0   \n",
       "26                  4~8            less1                1                 0   \n",
       "27                  4~8            less1                1                 1   \n",
       "28                  4~8            less1                1                 1   \n",
       "30                  4~8            less1                1                 0   \n",
       "\n",
       "   toCoupon_GEQ25min direction_same direction_opp  Y  \n",
       "23                 0              0             1  0  \n",
       "26                 0              0             1  0  \n",
       "27                 0              0             1  0  \n",
       "28                 0              0             1  0  \n",
       "30                 0              0             1  0  \n",
       "\n",
       "[5 rows x 25 columns]"
      ]
     },
     "execution_count": 69,
     "metadata": {},
     "output_type": "execute_result"
    }
   ],
   "source": [
    "coffee_house_df = data[data['coupon'] == 'Coffee House']\n",
    "coffee_house_df.head()"
   ]
  },
  {
   "cell_type": "markdown",
   "metadata": {},
   "source": [
    "#### Let's look at what proportion of coffee house coupons were accepted w.r.t. all the coupons"
   ]
  },
  {
   "cell_type": "code",
   "execution_count": 171,
   "metadata": {
    "scrolled": true
   },
   "outputs": [
    {
     "data": {
      "text/plain": [
       "Text(0.5, 1.0, 'Coffee House coupon acceptance vs all coupon acceptance')"
      ]
     },
     "execution_count": 171,
     "metadata": {},
     "output_type": "execute_result"
    },
    {
     "data": {
      "image/png": "[encoded data removed]",
      "text/plain": [
       "<Figure size 1008x504 with 2 Axes>"
      ]
     },
     "metadata": {},
     "output_type": "display_data"
    }
   ],
   "source": [
    "# coffee house coupons in relation to all coupons\n",
    "coffee_house_to_all = coffee_house_df[coffee_house_df['Y'] == 1]['Y'].count() / len(data['Y'])\n",
    "\n",
    "# coffee house coupons acceptance in relation to all accepted coupons\n",
    "coffe_house_to_accpeted = len(coffee_house_df[coffee_house_df['Y'] == 1]) / len(data[data['Y'] == 1])\n",
    "\n",
    "vals1 = [coffee_house_to_all, 1 - coffee_house_to_all]\n",
    "labels1 = ['Coffee House Acceptance', 'All the Coupons']\n",
    "fig, ax1 = plt.subplots(1, 2, figsize=(14, 7))\n",
    "ax1[0].pie(vals1, labels=labels1, autopct='%1.1f%%')\n",
    "ax1[0].set_title('Coffee House coupon acceptance Vs all the coupons')\n",
    "\n",
    "vals2 = [coffe_house_to_accpeted, 1 - coffe_house_to_accpeted]\n",
    "labels2 = ['Coffee House Acceptance', 'All the Accepted Coupons']\n",
    "ax1[1].pie(vals2, labels=labels2, autopct='%1.1f%%')\n",
    "ax1[1].set_title('Coffee House coupon acceptance vs all coupon acceptance')"
   ]
  },
  {
   "cell_type": "markdown",
   "metadata": {},
   "source": [
    "As the plot suggests, coffee house coupon acceptance rate is approximately %27.5 of the total accepted coupons. In addition, accepted coffee house coupons compose %15.7 of the total coupons in the system."
   ]
  },
  {
   "cell_type": "markdown",
   "metadata": {},
   "source": [
    "### Is there any relation between weather condition and the coffee house coupon acceptance"
   ]
  },
  {
   "cell_type": "code",
   "execution_count": 71,
   "metadata": {
    "scrolled": true
   },
   "outputs": [
    {
     "data": {
      "text/plain": [
       "Sunny    3316\n",
       "Snowy     285\n",
       "Rainy     215\n",
       "Name: weather, dtype: int64"
      ]
     },
     "execution_count": 71,
     "metadata": {},
     "output_type": "execute_result"
    }
   ],
   "source": [
    "coffee_house_df['weather'].value_counts()"
   ]
  },
  {
   "cell_type": "code",
   "execution_count": 97,
   "metadata": {},
   "outputs": [
    {
     "data": {
      "text/plain": [
       "Index(['destination', 'passanger', 'weather', 'temperature', 'time', 'coupon',\n",
       "       'expiration', 'gender', 'age', 'maritalStatus', 'has_children',\n",
       "       'education', 'occupation', 'income', 'Bar', 'CoffeeHouse', 'CarryAway',\n",
       "       'RestaurantLessThan20', 'Restaurant20To50', 'toCoupon_GEQ5min',\n",
       "       'toCoupon_GEQ15min', 'toCoupon_GEQ25min', 'direction_same',\n",
       "       'direction_opp', 'Y'],\n",
       "      dtype='object')"
      ]
     },
     "execution_count": 97,
     "metadata": {},
     "output_type": "execute_result"
    }
   ],
   "source": [
    "coffee_house_df.columns"
   ]
  },
  {
   "cell_type": "code",
   "execution_count": 72,
   "metadata": {
    "scrolled": true
   },
   "outputs": [
    {
     "data": {
      "text/plain": [
       "<AxesSubplot:xlabel='weather', ylabel='count'>"
      ]
     },
     "execution_count": 72,
     "metadata": {},
     "output_type": "execute_result"
    },
    {
     "data": {
      "image/png": "[encoded data removed]",
      "text/plain": [
       "<Figure size 864x360 with 1 Axes>"
      ]
     },
     "metadata": {
      "needs_background": "light"
     },
     "output_type": "display_data"
    }
   ],
   "source": [
    "plt.figure(figsize=(12, 5))\n",
    "sns.countplot(data=coffee_house_df, x='weather', hue='Y')"
   ]
  },
  {
   "cell_type": "markdown",
   "metadata": {},
   "source": [
    "This plot illustrates that there are more number of coupons in sunny days, not considering if the coupon was accepted or not. In addition it shows that in rainy days, the number of rejected coffee house coupons are higher than the number of accepted ones. But in the Sunny and Rainy days, the number of accepted ones are higher. This would suggest that coffee houses can reduce the number of coupons they give out on snowy days."
   ]
  },
  {
   "cell_type": "code",
   "execution_count": 95,
   "metadata": {},
   "outputs": [
    {
     "data": {
      "application/vnd.plotly.v1+json": {
       "config": {
        "plotlyServerURL": "https://plot.ly"
       },
       "data": [
        {
         "domain": {
          "x": [
           0,
           1
          ],
          "y": [
           0,
           1
          ]
         },
         "hovertemplate": "index=%{label}<br>value=%{value}<extra></extra>",
         "labels": [
          "Sunny",
          "Snowy",
          "Rainy"
         ],
         "legendgroup": "",
         "name": "",
         "showlegend": true,
         "type": "pie",
         "values": [
          3316,
          285,
          215
         ]
        }
       ],
       "layout": {
        "legend": {
         "tracegroupgap": 0
        },
        "margin": {
         "t": 60
        },
        "template": {
         "data": {
          "bar": [
           {
            "error_x": {
             "color": "#2a3f5f"
            },
            "error_y": {
             "color": "#2a3f5f"
            },
            "marker": {
             "line": {
              "color": "#E5ECF6",
              "width": 0.5
             },
             "pattern": {
              "fillmode": "overlay",
              "size": 10,
              "solidity": 0.2
             }
            },
            "type": "bar"
           }
          ],
          "barpolar": [
           {
            "marker": {
             "line": {
              "color": "#E5ECF6",
              "width": 0.5
             },
             "pattern": {
              "fillmode": "overlay",
              "size": 10,
              "solidity": 0.2
             }
            },
            "type": "barpolar"
           }
          ],
          "carpet": [
           {
            "aaxis": {
             "endlinecolor": "#2a3f5f",
             "gridcolor": "white",
             "linecolor": "white",
             "minorgridcolor": "white",
             "startlinecolor": "#2a3f5f"
            },
            "baxis": {
             "endlinecolor": "#2a3f5f",
             "gridcolor": "white",
             "linecolor": "white",
             "minorgridcolor": "white",
             "startlinecolor": "#2a3f5f"
            },
            "type": "carpet"
           }
          ],
          "choropleth": [
           {
            "colorbar": {
             "outlinewidth": 0,
             "ticks": ""
            },
            "type": "choropleth"
           }
          ],
          "contour": [
           {
            "colorbar": {
             "outlinewidth": 0,
             "ticks": ""
            },
            "colorscale": [
             [
              0,
              "#0d0887"
             ],
             [
              0.1111111111111111,
              "#46039f"
             ],
             [
              0.2222222222222222,
              "#7201a8"
             ],
             [
              0.3333333333333333,
              "#9c179e"
             ],
             [
              0.4444444444444444,
              "#bd3786"
             ],
             [
              0.5555555555555556,
              "#d8576b"
             ],
             [
              0.6666666666666666,
              "#ed7953"
             ],
             [
              0.7777777777777778,
              "#fb9f3a"
             ],
             [
              0.8888888888888888,
              "#fdca26"
             ],
             [
              1,
              "#f0f921"
             ]
            ],
            "type": "contour"
           }
          ],
          "contourcarpet": [
           {
            "colorbar": {
             "outlinewidth": 0,
             "ticks": ""
            },
            "type": "contourcarpet"
           }
          ],
          "heatmap": [
           {
            "colorbar": {
             "outlinewidth": 0,
             "ticks": ""
            },
            "colorscale": [
             [
              0,
              "#0d0887"
             ],
             [
              0.1111111111111111,
              "#46039f"
             ],
             [
              0.2222222222222222,
              "#7201a8"
             ],
             [
              0.3333333333333333,
              "#9c179e"
             ],
             [
              0.4444444444444444,
              "#bd3786"
             ],
             [
              0.5555555555555556,
              "#d8576b"
             ],
             [
              0.6666666666666666,
              "#ed7953"
             ],
             [
              0.7777777777777778,
              "#fb9f3a"
             ],
             [
              0.8888888888888888,
              "#fdca26"
             ],
             [
              1,
              "#f0f921"
             ]
            ],
            "type": "heatmap"
           }
          ],
          "heatmapgl": [
           {
            "colorbar": {
             "outlinewidth": 0,
             "ticks": ""
            },
            "colorscale": [
             [
              0,
              "#0d0887"
             ],
             [
              0.1111111111111111,
              "#46039f"
             ],
             [
              0.2222222222222222,
              "#7201a8"
             ],
             [
              0.3333333333333333,
              "#9c179e"
             ],
             [
              0.4444444444444444,
              "#bd3786"
             ],
             [
              0.5555555555555556,
              "#d8576b"
             ],
             [
              0.6666666666666666,
              "#ed7953"
             ],
             [
              0.7777777777777778,
              "#fb9f3a"
             ],
             [
              0.8888888888888888,
              "#fdca26"
             ],
             [
              1,
              "#f0f921"
             ]
            ],
            "type": "heatmapgl"
           }
          ],
          "histogram": [
           {
            "marker": {
             "pattern": {
              "fillmode": "overlay",
              "size": 10,
              "solidity": 0.2
             }
            },
            "type": "histogram"
           }
          ],
          "histogram2d": [
           {
            "colorbar": {
             "outlinewidth": 0,
             "ticks": ""
            },
            "colorscale": [
             [
              0,
              "#0d0887"
             ],
             [
              0.1111111111111111,
              "#46039f"
             ],
             [
              0.2222222222222222,
              "#7201a8"
             ],
             [
              0.3333333333333333,
              "#9c179e"
             ],
             [
              0.4444444444444444,
              "#bd3786"
             ],
             [
              0.5555555555555556,
              "#d8576b"
             ],
             [
              0.6666666666666666,
              "#ed7953"
             ],
             [
              0.7777777777777778,
              "#fb9f3a"
             ],
             [
              0.8888888888888888,
              "#fdca26"
             ],
             [
              1,
              "#f0f921"
             ]
            ],
            "type": "histogram2d"
           }
          ],
          "histogram2dcontour": [
           {
            "colorbar": {
             "outlinewidth": 0,
             "ticks": ""
            },
            "colorscale": [
             [
              0,
              "#0d0887"
             ],
             [
              0.1111111111111111,
              "#46039f"
             ],
             [
              0.2222222222222222,
              "#7201a8"
             ],
             [
              0.3333333333333333,
              "#9c179e"
             ],
             [
              0.4444444444444444,
              "#bd3786"
             ],
             [
              0.5555555555555556,
              "#d8576b"
             ],
             [
              0.6666666666666666,
              "#ed7953"
             ],
             [
              0.7777777777777778,
              "#fb9f3a"
             ],
             [
              0.8888888888888888,
              "#fdca26"
             ],
             [
              1,
              "#f0f921"
             ]
            ],
            "type": "histogram2dcontour"
           }
          ],
          "mesh3d": [
           {
            "colorbar": {
             "outlinewidth": 0,
             "ticks": ""
            },
            "type": "mesh3d"
           }
          ],
          "parcoords": [
           {
            "line": {
             "colorbar": {
              "outlinewidth": 0,
              "ticks": ""
             }
            },
            "type": "parcoords"
           }
          ],
          "pie": [
           {
            "automargin": true,
            "type": "pie"
           }
          ],
          "scatter": [
           {
            "marker": {
             "colorbar": {
              "outlinewidth": 0,
              "ticks": ""
             }
            },
            "type": "scatter"
           }
          ],
          "scatter3d": [
           {
            "line": {
             "colorbar": {
              "outlinewidth": 0,
              "ticks": ""
             }
            },
            "marker": {
             "colorbar": {
              "outlinewidth": 0,
              "ticks": ""
             }
            },
            "type": "scatter3d"
           }
          ],
          "scattercarpet": [
           {
            "marker": {
             "colorbar": {
              "outlinewidth": 0,
              "ticks": ""
             }
            },
            "type": "scattercarpet"
           }
          ],
          "scattergeo": [
           {
            "marker": {
             "colorbar": {
              "outlinewidth": 0,
              "ticks": ""
             }
            },
            "type": "scattergeo"
           }
          ],
          "scattergl": [
           {
            "marker": {
             "colorbar": {
              "outlinewidth": 0,
              "ticks": ""
             }
            },
            "type": "scattergl"
           }
          ],
          "scattermapbox": [
           {
            "marker": {
             "colorbar": {
              "outlinewidth": 0,
              "ticks": ""
             }
            },
            "type": "scattermapbox"
           }
          ],
          "scatterpolar": [
           {
            "marker": {
             "colorbar": {
              "outlinewidth": 0,
              "ticks": ""
             }
            },
            "type": "scatterpolar"
           }
          ],
          "scatterpolargl": [
           {
            "marker": {
             "colorbar": {
              "outlinewidth": 0,
              "ticks": ""
             }
            },
            "type": "scatterpolargl"
           }
          ],
          "scatterternary": [
           {
            "marker": {
             "colorbar": {
              "outlinewidth": 0,
              "ticks": ""
             }
            },
            "type": "scatterternary"
           }
          ],
          "surface": [
           {
            "colorbar": {
             "outlinewidth": 0,
             "ticks": ""
            },
            "colorscale": [
             [
              0,
              "#0d0887"
             ],
             [
              0.1111111111111111,
              "#46039f"
             ],
             [
              0.2222222222222222,
              "#7201a8"
             ],
             [
              0.3333333333333333,
              "#9c179e"
             ],
             [
              0.4444444444444444,
              "#bd3786"
             ],
             [
              0.5555555555555556,
              "#d8576b"
             ],
             [
              0.6666666666666666,
              "#ed7953"
             ],
             [
              0.7777777777777778,
              "#fb9f3a"
             ],
             [
              0.8888888888888888,
              "#fdca26"
             ],
             [
              1,
              "#f0f921"
             ]
            ],
            "type": "surface"
           }
          ],
          "table": [
           {
            "cells": {
             "fill": {
              "color": "#EBF0F8"
             },
             "line": {
              "color": "white"
             }
            },
            "header": {
             "fill": {
              "color": "#C8D4E3"
             },
             "line": {
              "color": "white"
             }
            },
            "type": "table"
           }
          ]
         },
         "layout": {
          "annotationdefaults": {
           "arrowcolor": "#2a3f5f",
           "arrowhead": 0,
           "arrowwidth": 1
          },
          "autotypenumbers": "strict",
          "coloraxis": {
           "colorbar": {
            "outlinewidth": 0,
            "ticks": ""
           }
          },
          "colorscale": {
           "diverging": [
            [
             0,
             "#8e0152"
            ],
            [
             0.1,
             "#c51b7d"
            ],
            [
             0.2,
             "#de77ae"
            ],
            [
             0.3,
             "#f1b6da"
            ],
            [
             0.4,
             "#fde0ef"
            ],
            [
             0.5,
             "#f7f7f7"
            ],
            [
             0.6,
             "#e6f5d0"
            ],
            [
             0.7,
             "#b8e186"
            ],
            [
             0.8,
             "#7fbc41"
            ],
            [
             0.9,
             "#4d9221"
            ],
            [
             1,
             "#276419"
            ]
           ],
           "sequential": [
            [
             0,
             "#0d0887"
            ],
            [
             0.1111111111111111,
             "#46039f"
            ],
            [
             0.2222222222222222,
             "#7201a8"
            ],
            [
             0.3333333333333333,
             "#9c179e"
            ],
            [
             0.4444444444444444,
             "#bd3786"
            ],
            [
             0.5555555555555556,
             "#d8576b"
            ],
            [
             0.6666666666666666,
             "#ed7953"
            ],
            [
             0.7777777777777778,
             "#fb9f3a"
            ],
            [
             0.8888888888888888,
             "#fdca26"
            ],
            [
             1,
             "#f0f921"
            ]
           ],
           "sequentialminus": [
            [
             0,
             "#0d0887"
            ],
            [
             0.1111111111111111,
             "#46039f"
            ],
            [
             0.2222222222222222,
             "#7201a8"
            ],
            [
             0.3333333333333333,
             "#9c179e"
            ],
            [
             0.4444444444444444,
             "#bd3786"
            ],
            [
             0.5555555555555556,
             "#d8576b"
            ],
            [
             0.6666666666666666,
             "#ed7953"
            ],
            [
             0.7777777777777778,
             "#fb9f3a"
            ],
            [
             0.8888888888888888,
             "#fdca26"
            ],
            [
             1,
             "#f0f921"
            ]
           ]
          },
          "colorway": [
           "#636efa",
           "#EF553B",
           "#00cc96",
           "#ab63fa",
           "#FFA15A",
           "#19d3f3",
           "#FF6692",
           "#B6E880",
           "#FF97FF",
           "#FECB52"
          ],
          "font": {
           "color": "#2a3f5f"
          },
          "geo": {
           "bgcolor": "white",
           "lakecolor": "white",
           "landcolor": "#E5ECF6",
           "showlakes": true,
           "showland": true,
           "subunitcolor": "white"
          },
          "hoverlabel": {
           "align": "left"
          },
          "hovermode": "closest",
          "mapbox": {
           "style": "light"
          },
          "paper_bgcolor": "white",
          "plot_bgcolor": "#E5ECF6",
          "polar": {
           "angularaxis": {
            "gridcolor": "white",
            "linecolor": "white",
            "ticks": ""
           },
           "bgcolor": "#E5ECF6",
           "radialaxis": {
            "gridcolor": "white",
            "linecolor": "white",
            "ticks": ""
           }
          },
          "scene": {
           "xaxis": {
            "backgroundcolor": "#E5ECF6",
            "gridcolor": "white",
            "gridwidth": 2,
            "linecolor": "white",
            "showbackground": true,
            "ticks": "",
            "zerolinecolor": "white"
           },
           "yaxis": {
            "backgroundcolor": "#E5ECF6",
            "gridcolor": "white",
            "gridwidth": 2,
            "linecolor": "white",
            "showbackground": true,
            "ticks": "",
            "zerolinecolor": "white"
           },
           "zaxis": {
            "backgroundcolor": "#E5ECF6",
            "gridcolor": "white",
            "gridwidth": 2,
            "linecolor": "white",
            "showbackground": true,
            "ticks": "",
            "zerolinecolor": "white"
           }
          },
          "shapedefaults": {
           "line": {
            "color": "#2a3f5f"
           }
          },
          "ternary": {
           "aaxis": {
            "gridcolor": "white",
            "linecolor": "white",
            "ticks": ""
           },
           "baxis": {
            "gridcolor": "white",
            "linecolor": "white",
            "ticks": ""
           },
           "bgcolor": "#E5ECF6",
           "caxis": {
            "gridcolor": "white",
            "linecolor": "white",
            "ticks": ""
           }
          },
          "title": {
           "x": 0.05
          },
          "xaxis": {
           "automargin": true,
           "gridcolor": "white",
           "linecolor": "white",
           "ticks": "",
           "title": {
            "standoff": 15
           },
           "zerolinecolor": "white",
           "zerolinewidth": 2
          },
          "yaxis": {
           "automargin": true,
           "gridcolor": "white",
           "linecolor": "white",
           "ticks": "",
           "title": {
            "standoff": 15
           },
           "zerolinecolor": "white",
           "zerolinewidth": 2
          }
         }
        }
       }
      },
      "text/html": [
       "<div>                            <div id=\"1e844ac0-8c07-4844-b77b-3c3107e53098\" class=\"plotly-graph-div\" style=\"height:525px; width:100%;\"></div>            <script type=\"text/javascript\">                require([\"plotly\"], function(Plotly) {                    window.PLOTLYENV=window.PLOTLYENV || {};                                    if (document.getElementById(\"1e844ac0-8c07-4844-b77b-3c3107e53098\")) {                    Plotly.newPlot(                        \"1e844ac0-8c07-4844-b77b-3c3107e53098\",                        [{\"domain\":{\"x\":[0.0,1.0],\"y\":[0.0,1.0]},\"hovertemplate\":\"index=%{label}<br>value=%{value}<extra></extra>\",\"labels\":[\"Sunny\",\"Snowy\",\"Rainy\"],\"legendgroup\":\"\",\"name\":\"\",\"showlegend\":true,\"values\":[3316,285,215],\"type\":\"pie\"}],                        {\"template\":{\"data\":{\"bar\":[{\"error_x\":{\"color\":\"#2a3f5f\"},\"error_y\":{\"color\":\"#2a3f5f\"},\"marker\":{\"line\":{\"color\":\"#E5ECF6\",\"width\":0.5},\"pattern\":{\"fillmode\":\"overlay\",\"size\":10,\"solidity\":0.2}},\"type\":\"bar\"}],\"barpolar\":[{\"marker\":{\"line\":{\"color\":\"#E5ECF6\",\"width\":0.5},\"pattern\":{\"fillmode\":\"overlay\",\"size\":10,\"solidity\":0.2}},\"type\":\"barpolar\"}],\"carpet\":[{\"aaxis\":{\"endlinecolor\":\"#2a3f5f\",\"gridcolor\":\"white\",\"linecolor\":\"white\",\"minorgridcolor\":\"white\",\"startlinecolor\":\"#2a3f5f\"},\"baxis\":{\"endlinecolor\":\"#2a3f5f\",\"gridcolor\":\"white\",\"linecolor\":\"white\",\"minorgridcolor\":\"white\",\"startlinecolor\":\"#2a3f5f\"},\"type\":\"carpet\"}],\"choropleth\":[{\"colorbar\":{\"outlinewidth\":0,\"ticks\":\"\"},\"type\":\"choropleth\"}],\"contour\":[{\"colorbar\":{\"outlinewidth\":0,\"ticks\":\"\"},\"colorscale\":[[0.0,\"#0d0887\"],[0.1111111111111111,\"#46039f\"],[0.2222222222222222,\"#7201a8\"],[0.3333333333333333,\"#9c179e\"],[0.4444444444444444,\"#bd3786\"],[0.5555555555555556,\"#d8576b\"],[0.6666666666666666,\"#ed7953\"],[0.7777777777777778,\"#fb9f3a\"],[0.8888888888888888,\"#fdca26\"],[1.0,\"#f0f921\"]],\"type\":\"contour\"}],\"contourcarpet\":[{\"colorbar\":{\"outlinewidth\":0,\"ticks\":\"\"},\"type\":\"contourcarpet\"}],\"heatmap\":[{\"colorbar\":{\"outlinewidth\":0,\"ticks\":\"\"},\"colorscale\":[[0.0,\"#0d0887\"],[0.1111111111111111,\"#46039f\"],[0.2222222222222222,\"#7201a8\"],[0.3333333333333333,\"#9c179e\"],[0.4444444444444444,\"#bd3786\"],[0.5555555555555556,\"#d8576b\"],[0.6666666666666666,\"#ed7953\"],[0.7777777777777778,\"#fb9f3a\"],[0.8888888888888888,\"#fdca26\"],[1.0,\"#f0f921\"]],\"type\":\"heatmap\"}],\"heatmapgl\":[{\"colorbar\":{\"outlinewidth\":0,\"ticks\":\"\"},\"colorscale\":[[0.0,\"#0d0887\"],[0.1111111111111111,\"#46039f\"],[0.2222222222222222,\"#7201a8\"],[0.3333333333333333,\"#9c179e\"],[0.4444444444444444,\"#bd3786\"],[0.5555555555555556,\"#d8576b\"],[0.6666666666666666,\"#ed7953\"],[0.7777777777777778,\"#fb9f3a\"],[0.8888888888888888,\"#fdca26\"],[1.0,\"#f0f921\"]],\"type\":\"heatmapgl\"}],\"histogram\":[{\"marker\":{\"pattern\":{\"fillmode\":\"overlay\",\"size\":10,\"solidity\":0.2}},\"type\":\"histogram\"}],\"histogram2d\":[{\"colorbar\":{\"outlinewidth\":0,\"ticks\":\"\"},\"colorscale\":[[0.0,\"#0d0887\"],[0.1111111111111111,\"#46039f\"],[0.2222222222222222,\"#7201a8\"],[0.3333333333333333,\"#9c179e\"],[0.4444444444444444,\"#bd3786\"],[0.5555555555555556,\"#d8576b\"],[0.6666666666666666,\"#ed7953\"],[0.7777777777777778,\"#fb9f3a\"],[0.8888888888888888,\"#fdca26\"],[1.0,\"#f0f921\"]],\"type\":\"histogram2d\"}],\"histogram2dcontour\":[{\"colorbar\":{\"outlinewidth\":0,\"ticks\":\"\"},\"colorscale\":[[0.0,\"#0d0887\"],[0.1111111111111111,\"#46039f\"],[0.2222222222222222,\"#7201a8\"],[0.3333333333333333,\"#9c179e\"],[0.4444444444444444,\"#bd3786\"],[0.5555555555555556,\"#d8576b\"],[0.6666666666666666,\"#ed7953\"],[0.7777777777777778,\"#fb9f3a\"],[0.8888888888888888,\"#fdca26\"],[1.0,\"#f0f921\"]],\"type\":\"histogram2dcontour\"}],\"mesh3d\":[{\"colorbar\":{\"outlinewidth\":0,\"ticks\":\"\"},\"type\":\"mesh3d\"}],\"parcoords\":[{\"line\":{\"colorbar\":{\"outlinewidth\":0,\"ticks\":\"\"}},\"type\":\"parcoords\"}],\"pie\":[{\"automargin\":true,\"type\":\"pie\"}],\"scatter\":[{\"marker\":{\"colorbar\":{\"outlinewidth\":0,\"ticks\":\"\"}},\"type\":\"scatter\"}],\"scatter3d\":[{\"line\":{\"colorbar\":{\"outlinewidth\":0,\"ticks\":\"\"}},\"marker\":{\"colorbar\":{\"outlinewidth\":0,\"ticks\":\"\"}},\"type\":\"scatter3d\"}],\"scattercarpet\":[{\"marker\":{\"colorbar\":{\"outlinewidth\":0,\"ticks\":\"\"}},\"type\":\"scattercarpet\"}],\"scattergeo\":[{\"marker\":{\"colorbar\":{\"outlinewidth\":0,\"ticks\":\"\"}},\"type\":\"scattergeo\"}],\"scattergl\":[{\"marker\":{\"colorbar\":{\"outlinewidth\":0,\"ticks\":\"\"}},\"type\":\"scattergl\"}],\"scattermapbox\":[{\"marker\":{\"colorbar\":{\"outlinewidth\":0,\"ticks\":\"\"}},\"type\":\"scattermapbox\"}],\"scatterpolar\":[{\"marker\":{\"colorbar\":{\"outlinewidth\":0,\"ticks\":\"\"}},\"type\":\"scatterpolar\"}],\"scatterpolargl\":[{\"marker\":{\"colorbar\":{\"outlinewidth\":0,\"ticks\":\"\"}},\"type\":\"scatterpolargl\"}],\"scatterternary\":[{\"marker\":{\"colorbar\":{\"outlinewidth\":0,\"ticks\":\"\"}},\"type\":\"scatterternary\"}],\"surface\":[{\"colorbar\":{\"outlinewidth\":0,\"ticks\":\"\"},\"colorscale\":[[0.0,\"#0d0887\"],[0.1111111111111111,\"#46039f\"],[0.2222222222222222,\"#7201a8\"],[0.3333333333333333,\"#9c179e\"],[0.4444444444444444,\"#bd3786\"],[0.5555555555555556,\"#d8576b\"],[0.6666666666666666,\"#ed7953\"],[0.7777777777777778,\"#fb9f3a\"],[0.8888888888888888,\"#fdca26\"],[1.0,\"#f0f921\"]],\"type\":\"surface\"}],\"table\":[{\"cells\":{\"fill\":{\"color\":\"#EBF0F8\"},\"line\":{\"color\":\"white\"}},\"header\":{\"fill\":{\"color\":\"#C8D4E3\"},\"line\":{\"color\":\"white\"}},\"type\":\"table\"}]},\"layout\":{\"annotationdefaults\":{\"arrowcolor\":\"#2a3f5f\",\"arrowhead\":0,\"arrowwidth\":1},\"autotypenumbers\":\"strict\",\"coloraxis\":{\"colorbar\":{\"outlinewidth\":0,\"ticks\":\"\"}},\"colorscale\":{\"diverging\":[[0,\"#8e0152\"],[0.1,\"#c51b7d\"],[0.2,\"#de77ae\"],[0.3,\"#f1b6da\"],[0.4,\"#fde0ef\"],[0.5,\"#f7f7f7\"],[0.6,\"#e6f5d0\"],[0.7,\"#b8e186\"],[0.8,\"#7fbc41\"],[0.9,\"#4d9221\"],[1,\"#276419\"]],\"sequential\":[[0.0,\"#0d0887\"],[0.1111111111111111,\"#46039f\"],[0.2222222222222222,\"#7201a8\"],[0.3333333333333333,\"#9c179e\"],[0.4444444444444444,\"#bd3786\"],[0.5555555555555556,\"#d8576b\"],[0.6666666666666666,\"#ed7953\"],[0.7777777777777778,\"#fb9f3a\"],[0.8888888888888888,\"#fdca26\"],[1.0,\"#f0f921\"]],\"sequentialminus\":[[0.0,\"#0d0887\"],[0.1111111111111111,\"#46039f\"],[0.2222222222222222,\"#7201a8\"],[0.3333333333333333,\"#9c179e\"],[0.4444444444444444,\"#bd3786\"],[0.5555555555555556,\"#d8576b\"],[0.6666666666666666,\"#ed7953\"],[0.7777777777777778,\"#fb9f3a\"],[0.8888888888888888,\"#fdca26\"],[1.0,\"#f0f921\"]]},\"colorway\":[\"#636efa\",\"#EF553B\",\"#00cc96\",\"#ab63fa\",\"#FFA15A\",\"#19d3f3\",\"#FF6692\",\"#B6E880\",\"#FF97FF\",\"#FECB52\"],\"font\":{\"color\":\"#2a3f5f\"},\"geo\":{\"bgcolor\":\"white\",\"lakecolor\":\"white\",\"landcolor\":\"#E5ECF6\",\"showlakes\":true,\"showland\":true,\"subunitcolor\":\"white\"},\"hoverlabel\":{\"align\":\"left\"},\"hovermode\":\"closest\",\"mapbox\":{\"style\":\"light\"},\"paper_bgcolor\":\"white\",\"plot_bgcolor\":\"#E5ECF6\",\"polar\":{\"angularaxis\":{\"gridcolor\":\"white\",\"linecolor\":\"white\",\"ticks\":\"\"},\"bgcolor\":\"#E5ECF6\",\"radialaxis\":{\"gridcolor\":\"white\",\"linecolor\":\"white\",\"ticks\":\"\"}},\"scene\":{\"xaxis\":{\"backgroundcolor\":\"#E5ECF6\",\"gridcolor\":\"white\",\"gridwidth\":2,\"linecolor\":\"white\",\"showbackground\":true,\"ticks\":\"\",\"zerolinecolor\":\"white\"},\"yaxis\":{\"backgroundcolor\":\"#E5ECF6\",\"gridcolor\":\"white\",\"gridwidth\":2,\"linecolor\":\"white\",\"showbackground\":true,\"ticks\":\"\",\"zerolinecolor\":\"white\"},\"zaxis\":{\"backgroundcolor\":\"#E5ECF6\",\"gridcolor\":\"white\",\"gridwidth\":2,\"linecolor\":\"white\",\"showbackground\":true,\"ticks\":\"\",\"zerolinecolor\":\"white\"}},\"shapedefaults\":{\"line\":{\"color\":\"#2a3f5f\"}},\"ternary\":{\"aaxis\":{\"gridcolor\":\"white\",\"linecolor\":\"white\",\"ticks\":\"\"},\"baxis\":{\"gridcolor\":\"white\",\"linecolor\":\"white\",\"ticks\":\"\"},\"bgcolor\":\"#E5ECF6\",\"caxis\":{\"gridcolor\":\"white\",\"linecolor\":\"white\",\"ticks\":\"\"}},\"title\":{\"x\":0.05},\"xaxis\":{\"automargin\":true,\"gridcolor\":\"white\",\"linecolor\":\"white\",\"ticks\":\"\",\"title\":{\"standoff\":15},\"zerolinecolor\":\"white\",\"zerolinewidth\":2},\"yaxis\":{\"automargin\":true,\"gridcolor\":\"white\",\"linecolor\":\"white\",\"ticks\":\"\",\"title\":{\"standoff\":15},\"zerolinecolor\":\"white\",\"zerolinewidth\":2}}},\"legend\":{\"tracegroupgap\":0},\"margin\":{\"t\":60}},                        {\"responsive\": true}                    ).then(function(){\n",
       "                            \n",
       "var gd = document.getElementById('1e844ac0-8c07-4844-b77b-3c3107e53098');\n",
       "var x = new MutationObserver(function (mutations, observer) {{\n",
       "        var display = window.getComputedStyle(gd).display;\n",
       "        if (!display || display === 'none') {{\n",
       "            console.log([gd, 'removed!']);\n",
       "            Plotly.purge(gd);\n",
       "            observer.disconnect();\n",
       "        }}\n",
       "}});\n",
       "\n",
       "// Listen for the removal of the full notebook cells\n",
       "var notebookContainer = gd.closest('#notebook-container');\n",
       "if (notebookContainer) {{\n",
       "    x.observe(notebookContainer, {childList: true});\n",
       "}}\n",
       "\n",
       "// Listen for the clearing of the current output cell\n",
       "var outputEl = gd.closest('.output');\n",
       "if (outputEl) {{\n",
       "    x.observe(outputEl, {childList: true});\n",
       "}}\n",
       "\n",
       "                        })                };                });            </script>        </div>"
      ]
     },
     "metadata": {},
     "output_type": "display_data"
    }
   ],
   "source": [
    "weather_type = coffee_house_df['weather'].value_counts()\n",
    "weather_type\n",
    "px.pie(weather_type, values=weather_type.values, names=weather_type.index)"
   ]
  },
  {
   "cell_type": "markdown",
   "metadata": {},
   "source": [
    "#### Does the type of passanger affects the acceptance rate of the coffee house coupon?"
   ]
  },
  {
   "cell_type": "code",
   "execution_count": 99,
   "metadata": {},
   "outputs": [
    {
     "data": {
      "text/plain": [
       "Alone        2157\n",
       "Friend(s)    1175\n",
       "Partner       291\n",
       "Kid(s)        193\n",
       "Name: passanger, dtype: int64"
      ]
     },
     "execution_count": 99,
     "metadata": {},
     "output_type": "execute_result"
    }
   ],
   "source": [
    "coffee_house_df['passanger'].value_counts()"
   ]
  },
  {
   "cell_type": "code",
   "execution_count": 104,
   "metadata": {},
   "outputs": [
    {
     "data": {
      "application/vnd.plotly.v1+json": {
       "config": {
        "plotlyServerURL": "https://plot.ly"
       },
       "data": [
        {
         "alignmentgroup": "True",
         "bingroup": "x",
         "hovertemplate": "Y=0<br>passanger=%{x}<br>count=%{y}<extra></extra>",
         "legendgroup": "0",
         "marker": {
          "color": "#636efa",
          "pattern": {
           "shape": ""
          }
         },
         "name": "0",
         "offsetgroup": "0",
         "orientation": "v",
         "showlegend": true,
         "type": "histogram",
         "x": [
          "Friend(s)",
          "Friend(s)",
          "Friend(s)",
          "Friend(s)",
          "Friend(s)",
          "Friend(s)",
          "Alone",
          "Alone",
          "Alone",
          "Alone",
          "Friend(s)",
          "Friend(s)",
          "Alone",
          "Alone",
          "Alone",
          "Kid(s)",
          "Alone",
          "Alone",
          "Friend(s)",
          "Friend(s)",
          "Friend(s)",
          "Alone",
          "Alone",
          "Kid(s)",
          "Alone",
          "Alone",
          "Alone",
          "Friend(s)",
          "Friend(s)",
          "Friend(s)",
          "Friend(s)",
          "Alone",
          "Alone",
          "Alone",
          "Alone",
          "Friend(s)",
          "Friend(s)",
          "Friend(s)",
          "Friend(s)",
          "Friend(s)",
          "Friend(s)",
          "Alone",
          "Alone",
          "Alone",
          "Alone",
          "Alone",
          "Alone",
          "Friend(s)",
          "Friend(s)",
          "Alone",
          "Alone",
          "Friend(s)",
          "Friend(s)",
          "Kid(s)",
          "Alone",
          "Alone",
          "Friend(s)",
          "Friend(s)",
          "Kid(s)",
          "Alone",
          "Alone",
          "Alone",
          "Alone",
          "Alone",
          "Alone",
          "Kid(s)",
          "Alone",
          "Alone",
          "Alone",
          "Friend(s)",
          "Kid(s)",
          "Alone",
          "Alone",
          "Friend(s)",
          "Friend(s)",
          "Friend(s)",
          "Friend(s)",
          "Friend(s)",
          "Friend(s)",
          "Alone",
          "Alone",
          "Alone",
          "Alone",
          "Friend(s)",
          "Friend(s)",
          "Alone",
          "Alone",
          "Friend(s)",
          "Friend(s)",
          "Friend(s)",
          "Alone",
          "Alone",
          "Alone",
          "Friend(s)",
          "Friend(s)",
          "Alone",
          "Alone",
          "Kid(s)",
          "Alone",
          "Alone",
          "Friend(s)",
          "Friend(s)",
          "Friend(s)",
          "Friend(s)",
          "Alone",
          "Alone",
          "Alone",
          "Friend(s)",
          "Friend(s)",
          "Friend(s)",
          "Friend(s)",
          "Friend(s)",
          "Friend(s)",
          "Alone",
          "Alone",
          "Alone",
          "Alone",
          "Kid(s)",
          "Friend(s)",
          "Friend(s)",
          "Alone",
          "Alone",
          "Alone",
          "Friend(s)",
          "Friend(s)",
          "Friend(s)",
          "Partner",
          "Partner",
          "Alone",
          "Alone",
          "Alone",
          "Friend(s)",
          "Friend(s)",
          "Kid(s)",
          "Alone",
          "Alone",
          "Alone",
          "Friend(s)",
          "Friend(s)",
          "Friend(s)",
          "Partner",
          "Partner",
          "Alone",
          "Alone",
          "Alone",
          "Friend(s)",
          "Friend(s)",
          "Friend(s)",
          "Friend(s)",
          "Friend(s)",
          "Alone",
          "Friend(s)",
          "Alone",
          "Alone",
          "Friend(s)",
          "Friend(s)",
          "Kid(s)",
          "Alone",
          "Alone",
          "Alone",
          "Kid(s)",
          "Friend(s)",
          "Kid(s)",
          "Alone",
          "Alone",
          "Alone",
          "Friend(s)",
          "Friend(s)",
          "Alone",
          "Alone",
          "Alone",
          "Friend(s)",
          "Alone",
          "Alone",
          "Alone",
          "Friend(s)",
          "Friend(s)",
          "Friend(s)",
          "Alone",
          "Alone",
          "Alone",
          "Alone",
          "Kid(s)",
          "Alone",
          "Alone",
          "Friend(s)",
          "Friend(s)",
          "Kid(s)",
          "Alone",
          "Alone",
          "Alone",
          "Friend(s)",
          "Friend(s)",
          "Friend(s)",
          "Friend(s)",
          "Friend(s)",
          "Alone",
          "Alone",
          "Friend(s)",
          "Friend(s)",
          "Friend(s)",
          "Partner",
          "Partner",
          "Alone",
          "Alone",
          "Alone",
          "Friend(s)",
          "Friend(s)",
          "Alone",
          "Alone",
          "Alone",
          "Friend(s)",
          "Friend(s)",
          "Friend(s)",
          "Kid(s)",
          "Alone",
          "Alone",
          "Friend(s)",
          "Friend(s)",
          "Kid(s)",
          "Alone",
          "Friend(s)",
          "Alone",
          "Alone",
          "Friend(s)",
          "Friend(s)",
          "Alone",
          "Alone",
          "Alone",
          "Friend(s)",
          "Friend(s)",
          "Friend(s)",
          "Kid(s)",
          "Alone",
          "Alone",
          "Alone",
          "Alone",
          "Alone",
          "Friend(s)",
          "Friend(s)",
          "Friend(s)",
          "Friend(s)",
          "Alone",
          "Friend(s)",
          "Friend(s)",
          "Friend(s)",
          "Friend(s)",
          "Friend(s)",
          "Alone",
          "Alone",
          "Alone",
          "Friend(s)",
          "Friend(s)",
          "Partner",
          "Partner",
          "Alone",
          "Alone",
          "Alone",
          "Alone",
          "Friend(s)",
          "Friend(s)",
          "Friend(s)",
          "Alone",
          "Alone",
          "Friend(s)",
          "Alone",
          "Alone",
          "Friend(s)",
          "Friend(s)",
          "Friend(s)",
          "Alone",
          "Alone",
          "Friend(s)",
          "Friend(s)",
          "Kid(s)",
          "Alone",
          "Alone",
          "Friend(s)",
          "Friend(s)",
          "Friend(s)",
          "Friend(s)",
          "Friend(s)",
          "Friend(s)",
          "Alone",
          "Alone",
          "Alone",
          "Alone",
          "Alone",
          "Alone",
          "Alone",
          "Alone",
          "Alone",
          "Friend(s)",
          "Partner",
          "Alone",
          "Alone",
          "Alone",
          "Friend(s)",
          "Friend(s)",
          "Friend(s)",
          "Alone",
          "Alone",
          "Alone",
          "Friend(s)",
          "Friend(s)",
          "Friend(s)",
          "Friend(s)",
          "Friend(s)",
          "Friend(s)",
          "Alone",
          "Alone",
          "Alone",
          "Alone",
          "Friend(s)",
          "Kid(s)",
          "Alone",
          "Alone",
          "Kid(s)",
          "Alone",
          "Friend(s)",
          "Friend(s)",
          "Friend(s)",
          "Kid(s)",
          "Alone",
          "Alone",
          "Alone",
          "Friend(s)",
          "Friend(s)",
          "Alone",
          "Alone",
          "Friend(s)",
          "Kid(s)",
          "Alone",
          "Alone",
          "Alone",
          "Friend(s)",
          "Friend(s)",
          "Friend(s)",
          "Partner",
          "Partner",
          "Alone",
          "Alone",
          "Alone",
          "Alone",
          "Alone",
          "Friend(s)",
          "Friend(s)",
          "Partner",
          "Alone",
          "Kid(s)",
          "Friend(s)",
          "Kid(s)",
          "Alone",
          "Alone",
          "Alone",
          "Alone",
          "Alone",
          "Alone",
          "Alone",
          "Alone",
          "Alone",
          "Alone",
          "Alone",
          "Alone",
          "Alone",
          "Alone",
          "Alone",
          "Friend(s)",
          "Friend(s)",
          "Friend(s)",
          "Alone",
          "Alone",
          "Alone",
          "Friend(s)",
          "Friend(s)",
          "Kid(s)",
          "Alone",
          "Alone",
          "Friend(s)",
          "Alone",
          "Alone",
          "Friend(s)",
          "Friend(s)",
          "Partner",
          "Partner",
          "Alone",
          "Alone",
          "Alone",
          "Friend(s)",
          "Kid(s)",
          "Alone",
          "Alone",
          "Friend(s)",
          "Kid(s)",
          "Alone",
          "Alone",
          "Kid(s)",
          "Alone",
          "Alone",
          "Alone",
          "Alone",
          "Alone",
          "Alone",
          "Alone",
          "Alone",
          "Alone",
          "Alone",
          "Alone",
          "Friend(s)",
          "Friend(s)",
          "Friend(s)",
          "Friend(s)",
          "Friend(s)",
          "Alone",
          "Alone",
          "Alone",
          "Friend(s)",
          "Friend(s)",
          "Friend(s)",
          "Alone",
          "Alone",
          "Alone",
          "Friend(s)",
          "Friend(s)",
          "Friend(s)",
          "Partner",
          "Partner",
          "Alone",
          "Alone",
          "Friend(s)",
          "Friend(s)",
          "Friend(s)",
          "Friend(s)",
          "Friend(s)",
          "Friend(s)",
          "Alone",
          "Alone",
          "Alone",
          "Alone",
          "Friend(s)",
          "Friend(s)",
          "Alone",
          "Alone",
          "Alone",
          "Alone",
          "Friend(s)",
          "Friend(s)",
          "Friend(s)",
          "Friend(s)",
          "Friend(s)",
          "Alone",
          "Alone",
          "Alone",
          "Friend(s)",
          "Kid(s)",
          "Alone",
          "Alone",
          "Alone",
          "Friend(s)",
          "Friend(s)",
          "Friend(s)",
          "Friend(s)",
          "Friend(s)",
          "Friend(s)",
          "Alone",
          "Alone",
          "Alone",
          "Alone",
          "Friend(s)",
          "Friend(s)",
          "Friend(s)",
          "Kid(s)",
          "Alone",
          "Alone",
          "Alone",
          "Alone",
          "Alone",
          "Alone",
          "Alone",
          "Alone",
          "Alone",
          "Alone",
          "Friend(s)",
          "Friend(s)",
          "Friend(s)",
          "Friend(s)",
          "Friend(s)",
          "Alone",
          "Alone",
          "Alone",
          "Friend(s)",
          "Alone",
          "Friend(s)",
          "Friend(s)",
          "Kid(s)",
          "Alone",
          "Alone",
          "Alone",
          "Friend(s)",
          "Alone",
          "Alone",
          "Friend(s)",
          "Kid(s)",
          "Alone",
          "Friend(s)",
          "Friend(s)",
          "Friend(s)",
          "Kid(s)",
          "Alone",
          "Alone",
          "Alone",
          "Alone",
          "Alone",
          "Friend(s)",
          "Friend(s)",
          "Kid(s)",
          "Alone",
          "Friend(s)",
          "Friend(s)",
          "Friend(s)",
          "Alone",
          "Alone",
          "Alone",
          "Alone",
          "Friend(s)",
          "Friend(s)",
          "Friend(s)",
          "Friend(s)",
          "Friend(s)",
          "Friend(s)",
          "Alone",
          "Alone",
          "Alone",
          "Alone",
          "Friend(s)",
          "Friend(s)",
          "Friend(s)",
          "Kid(s)",
          "Alone",
          "Alone",
          "Alone",
          "Friend(s)",
          "Alone",
          "Alone",
          "Friend(s)",
          "Friend(s)",
          "Friend(s)",
          "Kid(s)",
          "Alone",
          "Alone",
          "Alone",
          "Friend(s)",
          "Friend(s)",
          "Friend(s)",
          "Friend(s)",
          "Friend(s)",
          "Alone",
          "Alone",
          "Alone",
          "Kid(s)",
          "Alone",
          "Alone",
          "Alone",
          "Kid(s)",
          "Alone",
          "Alone",
          "Alone",
          "Friend(s)",
          "Friend(s)",
          "Kid(s)",
          "Alone",
          "Friend(s)",
          "Friend(s)",
          "Friend(s)",
          "Friend(s)",
          "Alone",
          "Alone",
          "Friend(s)",
          "Friend(s)",
          "Friend(s)",
          "Kid(s)",
          "Alone",
          "Alone",
          "Alone",
          "Friend(s)",
          "Friend(s)",
          "Friend(s)",
          "Friend(s)",
          "Friend(s)",
          "Friend(s)",
          "Alone",
          "Alone",
          "Alone",
          "Alone",
          "Kid(s)",
          "Alone",
          "Alone",
          "Friend(s)",
          "Friend(s)",
          "Friend(s)",
          "Friend(s)",
          "Alone",
          "Alone",
          "Alone",
          "Alone",
          "Alone",
          "Friend(s)",
          "Friend(s)",
          "Friend(s)",
          "Friend(s)",
          "Friend(s)",
          "Friend(s)",
          "Partner",
          "Alone",
          "Alone",
          "Alone",
          "Friend(s)",
          "Kid(s)",
          "Alone",
          "Alone",
          "Friend(s)",
          "Friend(s)",
          "Friend(s)",
          "Partner",
          "Partner",
          "Alone",
          "Alone",
          "Alone",
          "Friend(s)",
          "Friend(s)",
          "Partner",
          "Partner",
          "Alone",
          "Alone",
          "Friend(s)",
          "Friend(s)",
          "Kid(s)",
          "Alone",
          "Alone",
          "Alone",
          "Friend(s)",
          "Friend(s)",
          "Alone",
          "Friend(s)",
          "Alone",
          "Alone",
          "Alone",
          "Friend(s)",
          "Friend(s)",
          "Friend(s)",
          "Alone",
          "Alone",
          "Alone",
          "Friend(s)",
          "Friend(s)",
          "Alone",
          "Alone",
          "Friend(s)",
          "Friend(s)",
          "Kid(s)",
          "Alone",
          "Alone",
          "Alone",
          "Alone",
          "Alone",
          "Alone",
          "Friend(s)",
          "Friend(s)",
          "Partner",
          "Partner",
          "Alone",
          "Friend(s)",
          "Alone",
          "Friend(s)",
          "Friend(s)",
          "Alone",
          "Alone",
          "Friend(s)",
          "Alone",
          "Alone",
          "Alone",
          "Alone",
          "Friend(s)",
          "Friend(s)",
          "Friend(s)",
          "Kid(s)",
          "Alone",
          "Alone",
          "Kid(s)",
          "Alone",
          "Alone",
          "Alone",
          "Friend(s)",
          "Alone",
          "Alone",
          "Alone",
          "Friend(s)",
          "Friend(s)",
          "Friend(s)",
          "Friend(s)",
          "Friend(s)",
          "Alone",
          "Alone",
          "Alone",
          "Alone",
          "Alone",
          "Alone",
          "Friend(s)",
          "Friend(s)",
          "Alone",
          "Alone",
          "Alone",
          "Friend(s)",
          "Friend(s)",
          "Friend(s)",
          "Friend(s)",
          "Alone",
          "Alone",
          "Alone",
          "Friend(s)",
          "Kid(s)",
          "Alone",
          "Alone",
          "Friend(s)",
          "Alone",
          "Alone",
          "Friend(s)",
          "Friend(s)",
          "Friend(s)",
          "Partner",
          "Partner",
          "Alone",
          "Alone",
          "Alone",
          "Friend(s)",
          "Friend(s)",
          "Kid(s)",
          "Alone",
          "Alone",
          "Alone",
          "Friend(s)",
          "Friend(s)",
          "Friend(s)",
          "Friend(s)",
          "Friend(s)",
          "Friend(s)",
          "Alone",
          "Alone",
          "Alone",
          "Alone",
          "Alone",
          "Alone",
          "Alone",
          "Friend(s)",
          "Friend(s)",
          "Friend(s)",
          "Friend(s)",
          "Friend(s)",
          "Friend(s)",
          "Alone",
          "Alone",
          "Alone",
          "Alone",
          "Friend(s)",
          "Friend(s)",
          "Friend(s)",
          "Friend(s)",
          "Friend(s)",
          "Friend(s)",
          "Alone",
          "Alone",
          "Alone",
          "Alone",
          "Friend(s)",
          "Kid(s)",
          "Alone",
          "Alone",
          "Alone",
          "Alone",
          "Alone",
          "Friend(s)",
          "Friend(s)",
          "Friend(s)",
          "Friend(s)",
          "Friend(s)",
          "Friend(s)",
          "Alone",
          "Alone",
          "Alone",
          "Alone",
          "Alone",
          "Alone",
          "Alone",
          "Alone",
          "Alone",
          "Friend(s)",
          "Friend(s)",
          "Partner",
          "Partner",
          "Partner",
          "Alone",
          "Alone",
          "Alone",
          "Alone",
          "Alone",
          "Alone",
          "Friend(s)",
          "Friend(s)",
          "Kid(s)",
          "Kid(s)",
          "Alone",
          "Alone",
          "Alone",
          "Alone",
          "Alone",
          "Alone",
          "Friend(s)",
          "Friend(s)",
          "Partner",
          "Partner",
          "Partner",
          "Alone",
          "Alone",
          "Alone",
          "Alone",
          "Alone",
          "Friend(s)",
          "Friend(s)",
          "Kid(s)",
          "Kid(s)",
          "Alone",
          "Alone",
          "Alone",
          "Alone",
          "Alone",
          "Alone",
          "Friend(s)",
          "Friend(s)",
          "Partner",
          "Partner",
          "Partner",
          "Alone",
          "Alone",
          "Alone",
          "Alone",
          "Alone",
          "Alone",
          "Friend(s)",
          "Alone",
          "Alone",
          "Alone",
          "Alone",
          "Alone",
          "Alone",
          "Friend(s)",
          "Partner",
          "Partner",
          "Alone",
          "Alone",
          "Alone",
          "Alone",
          "Alone",
          "Alone",
          "Alone",
          "Alone",
          "Friend(s)",
          "Friend(s)",
          "Alone",
          "Alone",
          "Alone",
          "Alone",
          "Alone",
          "Alone",
          "Alone",
          "Alone",
          "Alone",
          "Alone",
          "Alone",
          "Alone",
          "Alone",
          "Friend(s)",
          "Friend(s)",
          "Partner",
          "Alone",
          "Alone",
          "Alone",
          "Alone",
          "Alone",
          "Friend(s)",
          "Friend(s)",
          "Partner",
          "Partner",
          "Partner",
          "Alone",
          "Alone",
          "Alone",
          "Alone",
          "Alone",
          "Alone",
          "Partner",
          "Partner",
          "Alone",
          "Alone",
          "Alone",
          "Friend(s)",
          "Friend(s)",
          "Alone",
          "Alone",
          "Alone",
          "Alone",
          "Friend(s)",
          "Friend(s)",
          "Partner",
          "Partner",
          "Partner",
          "Alone",
          "Alone",
          "Alone",
          "Alone",
          "Alone",
          "Alone",
          "Alone",
          "Friend(s)",
          "Friend(s)",
          "Alone",
          "Alone",
          "Alone",
          "Alone",
          "Alone",
          "Alone",
          "Alone",
          "Alone",
          "Alone",
          "Alone",
          "Alone",
          "Alone",
          "Alone",
          "Alone",
          "Alone",
          "Alone",
          "Alone",
          "Kid(s)",
          "Alone",
          "Alone",
          "Alone",
          "Alone",
          "Alone",
          "Friend(s)",
          "Friend(s)",
          "Partner",
          "Partner",
          "Partner",
          "Alone",
          "Alone",
          "Alone",
          "Alone",
          "Alone",
          "Alone",
          "Alone",
          "Alone",
          "Friend(s)",
          "Alone",
          "Alone",
          "Alone",
          "Friend(s)",
          "Partner",
          "Alone",
          "Alone",
          "Friend(s)",
          "Kid(s)",
          "Kid(s)",
          "Alone",
          "Alone",
          "Alone",
          "Alone",
          "Alone",
          "Alone",
          "Partner",
          "Alone",
          "Alone",
          "Alone",
          "Alone",
          "Friend(s)",
          "Friend(s)",
          "Alone",
          "Alone",
          "Alone",
          "Alone",
          "Alone",
          "Alone",
          "Partner",
          "Alone",
          "Alone",
          "Alone",
          "Alone",
          "Alone",
          "Alone",
          "Friend(s)",
          "Alone",
          "Alone",
          "Alone",
          "Alone",
          "Friend(s)",
          "Alone",
          "Alone",
          "Alone",
          "Kid(s)",
          "Friend(s)",
          "Friend(s)",
          "Kid(s)",
          "Kid(s)",
          "Alone",
          "Alone",
          "Alone",
          "Alone",
          "Alone",
          "Alone",
          "Friend(s)",
          "Friend(s)",
          "Alone",
          "Alone",
          "Alone",
          "Alone",
          "Alone",
          "Alone",
          "Friend(s)",
          "Alone",
          "Friend(s)",
          "Alone",
          "Alone",
          "Alone",
          "Alone",
          "Friend(s)",
          "Partner",
          "Partner",
          "Partner",
          "Alone",
          "Alone",
          "Alone",
          "Alone",
          "Alone",
          "Alone",
          "Alone",
          "Alone",
          "Alone",
          "Alone",
          "Alone",
          "Alone",
          "Alone",
          "Alone",
          "Alone",
          "Alone",
          "Friend(s)",
          "Friend(s)",
          "Alone",
          "Alone",
          "Alone",
          "Alone",
          "Alone",
          "Alone",
          "Alone",
          "Alone",
          "Alone",
          "Friend(s)",
          "Friend(s)",
          "Alone",
          "Alone",
          "Alone",
          "Alone",
          "Alone",
          "Alone",
          "Friend(s)",
          "Friend(s)",
          "Kid(s)",
          "Kid(s)",
          "Alone",
          "Alone",
          "Alone",
          "Alone",
          "Alone",
          "Alone",
          "Kid(s)",
          "Alone",
          "Alone",
          "Alone",
          "Alone",
          "Friend(s)",
          "Friend(s)",
          "Partner",
          "Partner",
          "Partner",
          "Alone",
          "Alone",
          "Alone",
          "Alone",
          "Alone",
          "Alone",
          "Alone",
          "Friend(s)",
          "Alone",
          "Alone",
          "Alone",
          "Friend(s)",
          "Friend(s)",
          "Partner",
          "Partner",
          "Partner",
          "Alone",
          "Alone",
          "Alone",
          "Alone",
          "Alone",
          "Alone",
          "Friend(s)",
          "Friend(s)",
          "Alone",
          "Partner",
          "Partner",
          "Partner",
          "Alone",
          "Alone",
          "Alone",
          "Alone",
          "Alone",
          "Alone",
          "Alone",
          "Alone",
          "Friend(s)",
          "Partner",
          "Alone",
          "Alone",
          "Alone",
          "Alone",
          "Alone",
          "Alone",
          "Alone",
          "Alone",
          "Alone",
          "Alone",
          "Friend(s)",
          "Friend(s)",
          "Alone",
          "Alone",
          "Alone",
          "Alone",
          "Alone",
          "Friend(s)",
          "Friend(s)",
          "Alone",
          "Alone",
          "Alone",
          "Alone",
          "Alone",
          "Alone",
          "Friend(s)",
          "Friend(s)",
          "Partner",
          "Partner",
          "Partner",
          "Alone",
          "Alone",
          "Alone",
          "Alone",
          "Alone",
          "Alone",
          "Friend(s)",
          "Friend(s)",
          "Alone",
          "Alone",
          "Alone",
          "Alone",
          "Alone",
          "Kid(s)",
          "Friend(s)",
          "Friend(s)",
          "Kid(s)",
          "Kid(s)",
          "Alone",
          "Alone",
          "Alone",
          "Alone",
          "Alone",
          "Alone",
          "Friend(s)",
          "Alone",
          "Alone",
          "Alone",
          "Alone",
          "Alone",
          "Alone",
          "Alone",
          "Alone",
          "Alone",
          "Alone",
          "Alone",
          "Friend(s)",
          "Alone",
          "Alone",
          "Alone",
          "Alone",
          "Friend(s)",
          "Friend(s)",
          "Partner",
          "Partner",
          "Partner",
          "Alone",
          "Alone",
          "Alone",
          "Alone",
          "Alone",
          "Alone",
          "Friend(s)",
          "Kid(s)",
          "Alone",
          "Alone",
          "Alone",
          "Alone",
          "Friend(s)",
          "Partner",
          "Partner",
          "Partner",
          "Alone",
          "Alone",
          "Alone",
          "Alone",
          "Alone",
          "Alone",
          "Friend(s)",
          "Friend(s)",
          "Kid(s)",
          "Kid(s)",
          "Alone",
          "Alone",
          "Alone",
          "Alone",
          "Alone",
          "Alone",
          "Alone",
          "Friend(s)",
          "Friend(s)",
          "Partner",
          "Partner",
          "Partner",
          "Alone",
          "Alone",
          "Alone",
          "Alone",
          "Alone",
          "Alone",
          "Alone",
          "Alone",
          "Friend(s)",
          "Friend(s)",
          "Alone",
          "Alone",
          "Alone",
          "Alone",
          "Alone",
          "Alone",
          "Alone",
          "Alone",
          "Alone",
          "Alone",
          "Alone",
          "Alone",
          "Alone",
          "Alone",
          "Alone",
          "Friend(s)",
          "Friend(s)",
          "Partner",
          "Partner",
          "Partner",
          "Alone",
          "Alone",
          "Alone",
          "Alone",
          "Alone",
          "Alone",
          "Friend(s)",
          "Friend(s)",
          "Partner",
          "Partner",
          "Partner",
          "Alone",
          "Alone",
          "Alone",
          "Alone",
          "Alone",
          "Alone",
          "Alone",
          "Alone",
          "Alone",
          "Friend(s)",
          "Alone",
          "Alone",
          "Alone",
          "Alone",
          "Alone",
          "Alone",
          "Alone",
          "Alone",
          "Kid(s)",
          "Alone",
          "Alone",
          "Alone",
          "Alone",
          "Alone",
          "Alone",
          "Alone",
          "Alone",
          "Alone",
          "Alone",
          "Friend(s)",
          "Alone",
          "Alone",
          "Alone",
          "Alone",
          "Alone",
          "Friend(s)",
          "Alone",
          "Alone",
          "Friend(s)",
          "Alone",
          "Alone",
          "Alone",
          "Alone",
          "Alone",
          "Alone",
          "Friend(s)",
          "Alone",
          "Alone",
          "Alone",
          "Alone",
          "Alone",
          "Alone",
          "Alone",
          "Alone",
          "Alone",
          "Alone",
          "Friend(s)",
          "Friend(s)",
          "Alone",
          "Alone",
          "Alone",
          "Alone",
          "Alone",
          "Alone",
          "Alone",
          "Friend(s)",
          "Friend(s)",
          "Alone",
          "Alone",
          "Alone",
          "Alone",
          "Alone",
          "Alone",
          "Friend(s)",
          "Alone",
          "Alone",
          "Friend(s)",
          "Partner",
          "Partner",
          "Partner",
          "Alone",
          "Alone",
          "Alone",
          "Alone",
          "Alone",
          "Friend(s)",
          "Kid(s)",
          "Alone",
          "Alone",
          "Alone",
          "Alone",
          "Alone",
          "Alone",
          "Alone",
          "Alone",
          "Alone",
          "Alone",
          "Alone",
          "Alone",
          "Alone",
          "Friend(s)",
          "Alone",
          "Alone",
          "Alone",
          "Friend(s)",
          "Kid(s)",
          "Alone",
          "Alone",
          "Alone",
          "Alone",
          "Alone",
          "Alone",
          "Alone",
          "Alone",
          "Alone",
          "Alone",
          "Alone",
          "Alone",
          "Friend(s)",
          "Kid(s)",
          "Alone",
          "Alone",
          "Alone",
          "Alone",
          "Alone",
          "Alone",
          "Alone",
          "Alone",
          "Kid(s)",
          "Alone",
          "Kid(s)",
          "Alone",
          "Alone",
          "Alone",
          "Alone",
          "Alone",
          "Alone",
          "Alone",
          "Alone",
          "Friend(s)",
          "Partner",
          "Partner",
          "Alone",
          "Alone",
          "Alone",
          "Alone",
          "Friend(s)",
          "Kid(s)",
          "Alone",
          "Friend(s)",
          "Alone",
          "Alone",
          "Friend(s)",
          "Kid(s)",
          "Alone",
          "Alone",
          "Alone",
          "Friend(s)",
          "Partner",
          "Alone",
          "Partner",
          "Alone",
          "Alone",
          "Friend(s)",
          "Friend(s)",
          "Alone",
          "Alone",
          "Alone",
          "Alone",
          "Friend(s)",
          "Alone",
          "Alone",
          "Alone",
          "Alone",
          "Alone",
          "Alone",
          "Kid(s)",
          "Alone",
          "Alone",
          "Alone",
          "Alone",
          "Friend(s)",
          "Alone",
          "Alone",
          "Alone",
          "Alone",
          "Partner",
          "Alone",
          "Partner",
          "Kid(s)",
          "Alone",
          "Alone",
          "Partner",
          "Alone",
          "Partner",
          "Alone",
          "Friend(s)",
          "Alone",
          "Alone",
          "Partner",
          "Alone",
          "Alone",
          "Alone",
          "Alone",
          "Friend(s)",
          "Alone",
          "Partner",
          "Alone",
          "Alone",
          "Alone",
          "Alone",
          "Alone",
          "Alone",
          "Partner",
          "Partner",
          "Alone",
          "Friend(s)",
          "Partner",
          "Alone",
          "Partner",
          "Alone",
          "Alone",
          "Partner",
          "Alone",
          "Partner",
          "Alone",
          "Alone",
          "Partner",
          "Alone",
          "Alone",
          "Alone",
          "Friend(s)",
          "Kid(s)",
          "Alone",
          "Kid(s)",
          "Alone",
          "Alone",
          "Friend(s)",
          "Partner",
          "Alone",
          "Partner",
          "Alone",
          "Friend(s)",
          "Alone",
          "Alone",
          "Alone",
          "Friend(s)",
          "Alone",
          "Alone",
          "Alone",
          "Kid(s)",
          "Alone",
          "Alone",
          "Alone",
          "Alone",
          "Friend(s)",
          "Friend(s)",
          "Alone",
          "Alone",
          "Alone",
          "Friend(s)",
          "Alone",
          "Partner",
          "Alone",
          "Partner",
          "Alone",
          "Alone",
          "Friend(s)",
          "Kid(s)",
          "Alone",
          "Alone",
          "Alone",
          "Alone",
          "Alone",
          "Alone",
          "Alone",
          "Friend(s)",
          "Kid(s)",
          "Alone",
          "Alone",
          "Alone",
          "Partner",
          "Alone",
          "Alone",
          "Alone",
          "Alone",
          "Friend(s)",
          "Partner",
          "Alone",
          "Partner",
          "Alone",
          "Alone",
          "Partner",
          "Alone",
          "Alone",
          "Alone",
          "Friend(s)",
          "Kid(s)",
          "Alone",
          "Alone",
          "Alone",
          "Alone",
          "Alone",
          "Alone",
          "Alone",
          "Friend(s)",
          "Alone",
          "Alone",
          "Alone",
          "Partner",
          "Alone",
          "Alone",
          "Alone",
          "Alone",
          "Partner",
          "Alone",
          "Alone",
          "Alone",
          "Alone",
          "Alone",
          "Alone",
          "Alone",
          "Friend(s)",
          "Partner",
          "Alone",
          "Partner",
          "Alone",
          "Friend(s)",
          "Kid(s)",
          "Alone",
          "Alone",
          "Friend(s)",
          "Partner",
          "Alone",
          "Partner",
          "Alone",
          "Alone",
          "Alone",
          "Alone",
          "Friend(s)",
          "Alone",
          "Alone",
          "Alone",
          "Friend(s)",
          "Kid(s)",
          "Alone",
          "Friend(s)",
          "Alone",
          "Kid(s)",
          "Kid(s)",
          "Alone",
          "Alone",
          "Alone",
          "Alone",
          "Friend(s)",
          "Alone",
          "Alone",
          "Alone",
          "Friend(s)",
          "Alone",
          "Partner",
          "Alone",
          "Alone",
          "Friend(s)",
          "Alone",
          "Partner",
          "Alone",
          "Alone",
          "Friend(s)",
          "Alone",
          "Alone",
          "Alone",
          "Alone",
          "Partner",
          "Alone",
          "Alone",
          "Alone",
          "Friend(s)",
          "Alone",
          "Alone",
          "Alone",
          "Friend(s)",
          "Alone",
          "Alone",
          "Friend(s)",
          "Partner",
          "Alone",
          "Alone",
          "Friend(s)",
          "Alone",
          "Alone",
          "Alone",
          "Friend(s)",
          "Alone",
          "Kid(s)",
          "Kid(s)",
          "Alone",
          "Friend(s)",
          "Alone",
          "Partner",
          "Alone",
          "Alone",
          "Alone",
          "Alone",
          "Alone",
          "Alone",
          "Kid(s)",
          "Alone",
          "Friend(s)",
          "Alone",
          "Alone",
          "Alone",
          "Alone",
          "Friend(s)",
          "Alone",
          "Alone",
          "Alone",
          "Alone",
          "Alone",
          "Alone",
          "Partner",
          "Alone",
          "Alone",
          "Alone",
          "Friend(s)",
          "Alone",
          "Alone",
          "Alone",
          "Friend(s)",
          "Alone",
          "Friend(s)",
          "Alone",
          "Alone",
          "Alone",
          "Alone",
          "Friend(s)",
          "Alone",
          "Partner",
          "Alone",
          "Kid(s)",
          "Kid(s)",
          "Alone",
          "Friend(s)",
          "Alone",
          "Alone",
          "Alone",
          "Partner",
          "Alone",
          "Friend(s)",
          "Alone",
          "Alone",
          "Alone",
          "Friend(s)",
          "Kid(s)",
          "Alone",
          "Friend(s)",
          "Alone",
          "Partner",
          "Alone",
          "Alone",
          "Alone",
          "Alone",
          "Alone",
          "Alone",
          "Alone",
          "Alone",
          "Alone",
          "Friend(s)",
          "Alone",
          "Kid(s)",
          "Alone",
          "Kid(s)",
          "Kid(s)",
          "Kid(s)",
          "Alone",
          "Alone",
          "Alone",
          "Alone",
          "Alone",
          "Partner",
          "Alone",
          "Alone",
          "Friend(s)",
          "Alone",
          "Kid(s)",
          "Kid(s)",
          "Alone",
          "Friend(s)",
          "Alone",
          "Kid(s)",
          "Kid(s)",
          "Alone",
          "Alone",
          "Friend(s)",
          "Alone",
          "Alone",
          "Alone",
          "Alone",
          "Alone",
          "Alone",
          "Alone",
          "Alone",
          "Alone",
          "Alone",
          "Alone",
          "Alone",
          "Alone",
          "Alone",
          "Alone",
          "Alone",
          "Alone",
          "Alone",
          "Alone",
          "Alone",
          "Alone",
          "Alone",
          "Alone",
          "Alone",
          "Alone",
          "Alone",
          "Alone",
          "Alone",
          "Alone",
          "Alone",
          "Alone",
          "Alone",
          "Alone",
          "Alone",
          "Alone",
          "Alone",
          "Alone",
          "Alone",
          "Alone",
          "Alone",
          "Alone",
          "Alone",
          "Alone",
          "Alone",
          "Alone",
          "Alone",
          "Alone",
          "Alone",
          "Alone",
          "Alone",
          "Alone",
          "Alone",
          "Alone",
          "Alone",
          "Alone",
          "Alone",
          "Alone",
          "Alone",
          "Alone",
          "Alone",
          "Alone",
          "Alone",
          "Alone",
          "Alone",
          "Alone",
          "Alone",
          "Alone",
          "Alone",
          "Alone",
          "Alone",
          "Alone",
          "Alone",
          "Alone",
          "Alone",
          "Alone",
          "Alone",
          "Alone",
          "Alone",
          "Alone",
          "Alone",
          "Alone",
          "Alone",
          "Alone",
          "Alone",
          "Alone",
          "Alone",
          "Alone",
          "Alone",
          "Alone",
          "Alone",
          "Alone",
          "Alone",
          "Alone",
          "Alone",
          "Alone",
          "Alone",
          "Alone",
          "Alone",
          "Alone",
          "Alone",
          "Alone",
          "Alone",
          "Alone",
          "Alone",
          "Alone",
          "Alone",
          "Alone",
          "Alone",
          "Alone",
          "Alone",
          "Alone",
          "Alone",
          "Alone",
          "Alone",
          "Alone",
          "Alone",
          "Alone",
          "Alone",
          "Alone",
          "Alone",
          "Alone",
          "Alone",
          "Alone",
          "Alone",
          "Alone",
          "Alone",
          "Alone",
          "Alone",
          "Alone",
          "Alone",
          "Alone",
          "Alone",
          "Alone",
          "Alone",
          "Alone",
          "Alone",
          "Alone",
          "Alone",
          "Alone",
          "Alone",
          "Alone",
          "Alone",
          "Alone",
          "Alone"
         ],
         "xaxis": "x",
         "yaxis": "y"
        },
        {
         "alignmentgroup": "True",
         "bingroup": "x",
         "hovertemplate": "Y=1<br>passanger=%{x}<br>count=%{y}<extra></extra>",
         "legendgroup": "1",
         "marker": {
          "color": "#EF553B",
          "pattern": {
           "shape": ""
          }
         },
         "name": "1",
         "offsetgroup": "1",
         "orientation": "v",
         "showlegend": true,
         "type": "histogram",
         "x": [
          "Friend(s)",
          "Friend(s)",
          "Friend(s)",
          "Friend(s)",
          "Alone",
          "Friend(s)",
          "Friend(s)",
          "Friend(s)",
          "Alone",
          "Friend(s)",
          "Friend(s)",
          "Friend(s)",
          "Friend(s)",
          "Friend(s)",
          "Friend(s)",
          "Alone",
          "Alone",
          "Alone",
          "Alone",
          "Friend(s)",
          "Friend(s)",
          "Friend(s)",
          "Alone",
          "Alone",
          "Friend(s)",
          "Friend(s)",
          "Friend(s)",
          "Friend(s)",
          "Friend(s)",
          "Friend(s)",
          "Friend(s)",
          "Friend(s)",
          "Friend(s)",
          "Friend(s)",
          "Friend(s)",
          "Alone",
          "Friend(s)",
          "Friend(s)",
          "Friend(s)",
          "Partner",
          "Partner",
          "Alone",
          "Friend(s)",
          "Friend(s)",
          "Friend(s)",
          "Friend(s)",
          "Alone",
          "Alone",
          "Friend(s)",
          "Alone",
          "Friend(s)",
          "Friend(s)",
          "Friend(s)",
          "Kid(s)",
          "Alone",
          "Alone",
          "Alone",
          "Friend(s)",
          "Friend(s)",
          "Friend(s)",
          "Friend(s)",
          "Partner",
          "Partner",
          "Friend(s)",
          "Friend(s)",
          "Friend(s)",
          "Friend(s)",
          "Friend(s)",
          "Alone",
          "Friend(s)",
          "Partner",
          "Partner",
          "Alone",
          "Friend(s)",
          "Friend(s)",
          "Friend(s)",
          "Alone",
          "Friend(s)",
          "Friend(s)",
          "Friend(s)",
          "Friend(s)",
          "Alone",
          "Alone",
          "Alone",
          "Friend(s)",
          "Friend(s)",
          "Friend(s)",
          "Friend(s)",
          "Friend(s)",
          "Friend(s)",
          "Alone",
          "Alone",
          "Alone",
          "Friend(s)",
          "Friend(s)",
          "Friend(s)",
          "Alone",
          "Friend(s)",
          "Friend(s)",
          "Alone",
          "Friend(s)",
          "Friend(s)",
          "Friend(s)",
          "Friend(s)",
          "Friend(s)",
          "Friend(s)",
          "Alone",
          "Alone",
          "Alone",
          "Alone",
          "Friend(s)",
          "Friend(s)",
          "Friend(s)",
          "Alone",
          "Alone",
          "Alone",
          "Friend(s)",
          "Friend(s)",
          "Friend(s)",
          "Friend(s)",
          "Alone",
          "Friend(s)",
          "Friend(s)",
          "Alone",
          "Alone",
          "Alone",
          "Alone",
          "Friend(s)",
          "Friend(s)",
          "Friend(s)",
          "Partner",
          "Partner",
          "Alone",
          "Alone",
          "Friend(s)",
          "Friend(s)",
          "Friend(s)",
          "Friend(s)",
          "Friend(s)",
          "Alone",
          "Alone",
          "Friend(s)",
          "Friend(s)",
          "Friend(s)",
          "Friend(s)",
          "Alone",
          "Alone",
          "Friend(s)",
          "Friend(s)",
          "Friend(s)",
          "Partner",
          "Partner",
          "Friend(s)",
          "Friend(s)",
          "Friend(s)",
          "Friend(s)",
          "Friend(s)",
          "Alone",
          "Friend(s)",
          "Friend(s)",
          "Friend(s)",
          "Alone",
          "Alone",
          "Alone",
          "Friend(s)",
          "Friend(s)",
          "Friend(s)",
          "Partner",
          "Partner",
          "Friend(s)",
          "Friend(s)",
          "Friend(s)",
          "Alone",
          "Friend(s)",
          "Friend(s)",
          "Alone",
          "Alone",
          "Friend(s)",
          "Partner",
          "Partner",
          "Alone",
          "Friend(s)",
          "Alone",
          "Alone",
          "Friend(s)",
          "Friend(s)",
          "Kid(s)",
          "Alone",
          "Friend(s)",
          "Partner",
          "Partner",
          "Alone",
          "Friend(s)",
          "Friend(s)",
          "Friend(s)",
          "Friend(s)",
          "Friend(s)",
          "Friend(s)",
          "Alone",
          "Friend(s)",
          "Friend(s)",
          "Alone",
          "Alone",
          "Alone",
          "Friend(s)",
          "Alone",
          "Friend(s)",
          "Friend(s)",
          "Friend(s)",
          "Friend(s)",
          "Partner",
          "Partner",
          "Alone",
          "Alone",
          "Friend(s)",
          "Friend(s)",
          "Friend(s)",
          "Alone",
          "Alone",
          "Friend(s)",
          "Friend(s)",
          "Partner",
          "Partner",
          "Alone",
          "Friend(s)",
          "Friend(s)",
          "Friend(s)",
          "Partner",
          "Partner",
          "Alone",
          "Alone",
          "Alone",
          "Friend(s)",
          "Friend(s)",
          "Friend(s)",
          "Alone",
          "Alone",
          "Friend(s)",
          "Alone",
          "Friend(s)",
          "Friend(s)",
          "Friend(s)",
          "Kid(s)",
          "Friend(s)",
          "Friend(s)",
          "Friend(s)",
          "Partner",
          "Partner",
          "Alone",
          "Friend(s)",
          "Friend(s)",
          "Partner",
          "Friend(s)",
          "Friend(s)",
          "Friend(s)",
          "Kid(s)",
          "Alone",
          "Alone",
          "Alone",
          "Friend(s)",
          "Friend(s)",
          "Friend(s)",
          "Alone",
          "Friend(s)",
          "Friend(s)",
          "Alone",
          "Friend(s)",
          "Friend(s)",
          "Friend(s)",
          "Friend(s)",
          "Friend(s)",
          "Friend(s)",
          "Alone",
          "Alone",
          "Alone",
          "Alone",
          "Friend(s)",
          "Friend(s)",
          "Friend(s)",
          "Alone",
          "Alone",
          "Friend(s)",
          "Friend(s)",
          "Friend(s)",
          "Friend(s)",
          "Alone",
          "Alone",
          "Friend(s)",
          "Friend(s)",
          "Friend(s)",
          "Friend(s)",
          "Friend(s)",
          "Friend(s)",
          "Friend(s)",
          "Friend(s)",
          "Alone",
          "Alone",
          "Friend(s)",
          "Partner",
          "Alone",
          "Alone",
          "Friend(s)",
          "Friend(s)",
          "Friend(s)",
          "Alone",
          "Alone",
          "Alone",
          "Friend(s)",
          "Friend(s)",
          "Friend(s)",
          "Friend(s)",
          "Friend(s)",
          "Friend(s)",
          "Friend(s)",
          "Friend(s)",
          "Alone",
          "Alone",
          "Alone",
          "Alone",
          "Friend(s)",
          "Friend(s)",
          "Friend(s)",
          "Friend(s)",
          "Friend(s)",
          "Friend(s)",
          "Friend(s)",
          "Friend(s)",
          "Friend(s)",
          "Friend(s)",
          "Friend(s)",
          "Friend(s)",
          "Alone",
          "Alone",
          "Friend(s)",
          "Friend(s)",
          "Friend(s)",
          "Friend(s)",
          "Friend(s)",
          "Friend(s)",
          "Friend(s)",
          "Friend(s)",
          "Friend(s)",
          "Friend(s)",
          "Friend(s)",
          "Friend(s)",
          "Alone",
          "Alone",
          "Kid(s)",
          "Friend(s)",
          "Alone",
          "Friend(s)",
          "Friend(s)",
          "Partner",
          "Partner",
          "Alone",
          "Friend(s)",
          "Friend(s)",
          "Friend(s)",
          "Alone",
          "Friend(s)",
          "Friend(s)",
          "Alone",
          "Friend(s)",
          "Friend(s)",
          "Friend(s)",
          "Friend(s)",
          "Friend(s)",
          "Friend(s)",
          "Friend(s)",
          "Friend(s)",
          "Friend(s)",
          "Alone",
          "Alone",
          "Friend(s)",
          "Friend(s)",
          "Friend(s)",
          "Friend(s)",
          "Friend(s)",
          "Friend(s)",
          "Alone",
          "Friend(s)",
          "Friend(s)",
          "Friend(s)",
          "Kid(s)",
          "Alone",
          "Alone",
          "Friend(s)",
          "Friend(s)",
          "Friend(s)",
          "Friend(s)",
          "Friend(s)",
          "Friend(s)",
          "Alone",
          "Alone",
          "Friend(s)",
          "Alone",
          "Partner",
          "Partner",
          "Alone",
          "Friend(s)",
          "Friend(s)",
          "Friend(s)",
          "Friend(s)",
          "Alone",
          "Alone",
          "Friend(s)",
          "Friend(s)",
          "Friend(s)",
          "Partner",
          "Partner",
          "Alone",
          "Alone",
          "Friend(s)",
          "Friend(s)",
          "Friend(s)",
          "Friend(s)",
          "Friend(s)",
          "Friend(s)",
          "Friend(s)",
          "Friend(s)",
          "Alone",
          "Alone",
          "Friend(s)",
          "Friend(s)",
          "Friend(s)",
          "Partner",
          "Partner",
          "Alone",
          "Friend(s)",
          "Friend(s)",
          "Friend(s)",
          "Partner",
          "Partner",
          "Friend(s)",
          "Friend(s)",
          "Friend(s)",
          "Friend(s)",
          "Friend(s)",
          "Friend(s)",
          "Alone",
          "Alone",
          "Alone",
          "Alone",
          "Friend(s)",
          "Friend(s)",
          "Friend(s)",
          "Kid(s)",
          "Alone",
          "Alone",
          "Friend(s)",
          "Friend(s)",
          "Friend(s)",
          "Friend(s)",
          "Friend(s)",
          "Friend(s)",
          "Alone",
          "Alone",
          "Alone",
          "Alone",
          "Friend(s)",
          "Friend(s)",
          "Friend(s)",
          "Friend(s)",
          "Friend(s)",
          "Friend(s)",
          "Alone",
          "Alone",
          "Friend(s)",
          "Friend(s)",
          "Alone",
          "Alone",
          "Friend(s)",
          "Friend(s)",
          "Friend(s)",
          "Kid(s)",
          "Alone",
          "Alone",
          "Friend(s)",
          "Friend(s)",
          "Friend(s)",
          "Partner",
          "Partner",
          "Alone",
          "Alone",
          "Friend(s)",
          "Alone",
          "Alone",
          "Friend(s)",
          "Friend(s)",
          "Friend(s)",
          "Friend(s)",
          "Friend(s)",
          "Friend(s)",
          "Friend(s)",
          "Friend(s)",
          "Alone",
          "Alone",
          "Alone",
          "Friend(s)",
          "Friend(s)",
          "Friend(s)",
          "Friend(s)",
          "Friend(s)",
          "Friend(s)",
          "Alone",
          "Alone",
          "Alone",
          "Friend(s)",
          "Alone",
          "Alone",
          "Friend(s)",
          "Friend(s)",
          "Friend(s)",
          "Friend(s)",
          "Friend(s)",
          "Friend(s)",
          "Alone",
          "Alone",
          "Alone",
          "Friend(s)",
          "Friend(s)",
          "Friend(s)",
          "Friend(s)",
          "Friend(s)",
          "Friend(s)",
          "Friend(s)",
          "Alone",
          "Alone",
          "Friend(s)",
          "Friend(s)",
          "Alone",
          "Alone",
          "Friend(s)",
          "Friend(s)",
          "Friend(s)",
          "Alone",
          "Friend(s)",
          "Friend(s)",
          "Friend(s)",
          "Friend(s)",
          "Friend(s)",
          "Kid(s)",
          "Alone",
          "Alone",
          "Alone",
          "Friend(s)",
          "Friend(s)",
          "Alone",
          "Friend(s)",
          "Friend(s)",
          "Friend(s)",
          "Friend(s)",
          "Friend(s)",
          "Friend(s)",
          "Friend(s)",
          "Alone",
          "Alone",
          "Alone",
          "Alone",
          "Friend(s)",
          "Kid(s)",
          "Alone",
          "Alone",
          "Friend(s)",
          "Friend(s)",
          "Partner",
          "Partner",
          "Friend(s)",
          "Friend(s)",
          "Friend(s)",
          "Alone",
          "Friend(s)",
          "Alone",
          "Friend(s)",
          "Friend(s)",
          "Friend(s)",
          "Friend(s)",
          "Friend(s)",
          "Friend(s)",
          "Friend(s)",
          "Alone",
          "Friend(s)",
          "Alone",
          "Alone",
          "Friend(s)",
          "Friend(s)",
          "Partner",
          "Partner",
          "Alone",
          "Alone",
          "Friend(s)",
          "Friend(s)",
          "Friend(s)",
          "Friend(s)",
          "Alone",
          "Alone",
          "Friend(s)",
          "Friend(s)",
          "Friend(s)",
          "Friend(s)",
          "Friend(s)",
          "Alone",
          "Friend(s)",
          "Friend(s)",
          "Friend(s)",
          "Friend(s)",
          "Friend(s)",
          "Friend(s)",
          "Friend(s)",
          "Friend(s)",
          "Alone",
          "Alone",
          "Alone",
          "Friend(s)",
          "Friend(s)",
          "Friend(s)",
          "Partner",
          "Partner",
          "Alone",
          "Friend(s)",
          "Friend(s)",
          "Friend(s)",
          "Friend(s)",
          "Friend(s)",
          "Friend(s)",
          "Friend(s)",
          "Alone",
          "Alone",
          "Alone",
          "Friend(s)",
          "Friend(s)",
          "Friend(s)",
          "Kid(s)",
          "Alone",
          "Alone",
          "Friend(s)",
          "Partner",
          "Partner",
          "Alone",
          "Alone",
          "Friend(s)",
          "Friend(s)",
          "Friend(s)",
          "Partner",
          "Partner",
          "Alone",
          "Friend(s)",
          "Friend(s)",
          "Alone",
          "Alone",
          "Friend(s)",
          "Friend(s)",
          "Friend(s)",
          "Partner",
          "Partner",
          "Alone",
          "Alone",
          "Friend(s)",
          "Friend(s)",
          "Alone",
          "Friend(s)",
          "Friend(s)",
          "Friend(s)",
          "Friend(s)",
          "Friend(s)",
          "Alone",
          "Alone",
          "Friend(s)",
          "Friend(s)",
          "Friend(s)",
          "Friend(s)",
          "Partner",
          "Partner",
          "Friend(s)",
          "Friend(s)",
          "Friend(s)",
          "Friend(s)",
          "Friend(s)",
          "Friend(s)",
          "Friend(s)",
          "Friend(s)",
          "Alone",
          "Alone",
          "Friend(s)",
          "Friend(s)",
          "Kid(s)",
          "Kid(s)",
          "Alone",
          "Alone",
          "Alone",
          "Friend(s)",
          "Friend(s)",
          "Partner",
          "Partner",
          "Partner",
          "Alone",
          "Alone",
          "Alone",
          "Alone",
          "Alone",
          "Friend(s)",
          "Friend(s)",
          "Kid(s)",
          "Kid(s)",
          "Alone",
          "Alone",
          "Alone",
          "Alone",
          "Alone",
          "Alone",
          "Friend(s)",
          "Friend(s)",
          "Partner",
          "Alone",
          "Alone",
          "Alone",
          "Friend(s)",
          "Friend(s)",
          "Alone",
          "Alone",
          "Alone",
          "Alone",
          "Alone",
          "Alone",
          "Friend(s)",
          "Friend(s)",
          "Alone",
          "Friend(s)",
          "Friend(s)",
          "Partner",
          "Partner",
          "Partner",
          "Alone",
          "Alone",
          "Alone",
          "Alone",
          "Alone",
          "Friend(s)",
          "Friend(s)",
          "Partner",
          "Friend(s)",
          "Friend(s)",
          "Partner",
          "Alone",
          "Alone",
          "Alone",
          "Alone",
          "Alone",
          "Friend(s)",
          "Friend(s)",
          "Partner",
          "Partner",
          "Partner",
          "Alone",
          "Alone",
          "Alone",
          "Alone",
          "Alone",
          "Friend(s)",
          "Friend(s)",
          "Partner",
          "Alone",
          "Alone",
          "Alone",
          "Alone",
          "Friend(s)",
          "Friend(s)",
          "Partner",
          "Partner",
          "Partner",
          "Alone",
          "Alone",
          "Alone",
          "Friend(s)",
          "Friend(s)",
          "Kid(s)",
          "Kid(s)",
          "Friend(s)",
          "Friend(s)",
          "Kid(s)",
          "Alone",
          "Alone",
          "Alone",
          "Friend(s)",
          "Friend(s)",
          "Partner",
          "Partner",
          "Partner",
          "Alone",
          "Alone",
          "Alone",
          "Alone",
          "Friend(s)",
          "Friend(s)",
          "Alone",
          "Alone",
          "Alone",
          "Alone",
          "Friend(s)",
          "Alone",
          "Alone",
          "Alone",
          "Friend(s)",
          "Partner",
          "Partner",
          "Alone",
          "Alone",
          "Alone",
          "Alone",
          "Friend(s)",
          "Friend(s)",
          "Friend(s)",
          "Partner",
          "Partner",
          "Alone",
          "Alone",
          "Friend(s)",
          "Friend(s)",
          "Partner",
          "Partner",
          "Friend(s)",
          "Alone",
          "Alone",
          "Alone",
          "Friend(s)",
          "Friend(s)",
          "Alone",
          "Alone",
          "Alone",
          "Alone",
          "Alone",
          "Friend(s)",
          "Alone",
          "Alone",
          "Alone",
          "Friend(s)",
          "Friend(s)",
          "Alone",
          "Alone",
          "Alone",
          "Alone",
          "Alone",
          "Alone",
          "Friend(s)",
          "Friend(s)",
          "Kid(s)",
          "Alone",
          "Alone",
          "Alone",
          "Alone",
          "Alone",
          "Alone",
          "Friend(s)",
          "Alone",
          "Alone",
          "Alone",
          "Alone",
          "Alone",
          "Friend(s)",
          "Alone",
          "Alone",
          "Friend(s)",
          "Friend(s)",
          "Friend(s)",
          "Partner",
          "Partner",
          "Partner",
          "Kid(s)",
          "Kid(s)",
          "Alone",
          "Alone",
          "Alone",
          "Alone",
          "Alone",
          "Alone",
          "Friend(s)",
          "Friend(s)",
          "Partner",
          "Partner",
          "Partner",
          "Alone",
          "Alone",
          "Alone",
          "Alone",
          "Alone",
          "Alone",
          "Friend(s)",
          "Friend(s)",
          "Alone",
          "Alone",
          "Friend(s)",
          "Friend(s)",
          "Friend(s)",
          "Friend(s)",
          "Partner",
          "Partner",
          "Partner",
          "Alone",
          "Alone",
          "Alone",
          "Friend(s)",
          "Friend(s)",
          "Kid(s)",
          "Alone",
          "Alone",
          "Friend(s)",
          "Friend(s)",
          "Kid(s)",
          "Kid(s)",
          "Alone",
          "Alone",
          "Alone",
          "Alone",
          "Alone",
          "Friend(s)",
          "Partner",
          "Partner",
          "Partner",
          "Alone",
          "Alone",
          "Alone",
          "Partner",
          "Partner",
          "Partner",
          "Alone",
          "Alone",
          "Alone",
          "Alone",
          "Alone",
          "Friend(s)",
          "Friend(s)",
          "Alone",
          "Friend(s)",
          "Friend(s)",
          "Alone",
          "Alone",
          "Alone",
          "Friend(s)",
          "Partner",
          "Partner",
          "Alone",
          "Alone",
          "Friend(s)",
          "Friend(s)",
          "Alone",
          "Alone",
          "Friend(s)",
          "Friend(s)",
          "Kid(s)",
          "Alone",
          "Alone",
          "Alone",
          "Alone",
          "Alone",
          "Alone",
          "Alone",
          "Alone",
          "Friend(s)",
          "Friend(s)",
          "Alone",
          "Alone",
          "Alone",
          "Alone",
          "Friend(s)",
          "Alone",
          "Alone",
          "Alone",
          "Alone",
          "Friend(s)",
          "Friend(s)",
          "Alone",
          "Alone",
          "Alone",
          "Alone",
          "Friend(s)",
          "Friend(s)",
          "Alone",
          "Alone",
          "Alone",
          "Alone",
          "Alone",
          "Friend(s)",
          "Friend(s)",
          "Partner",
          "Partner",
          "Partner",
          "Alone",
          "Alone",
          "Alone",
          "Alone",
          "Alone",
          "Friend(s)",
          "Friend(s)",
          "Alone",
          "Alone",
          "Friend(s)",
          "Friend(s)",
          "Kid(s)",
          "Kid(s)",
          "Alone",
          "Alone",
          "Alone",
          "Alone",
          "Alone",
          "Friend(s)",
          "Alone",
          "Alone",
          "Friend(s)",
          "Kid(s)",
          "Alone",
          "Alone",
          "Alone",
          "Alone",
          "Friend(s)",
          "Friend(s)",
          "Alone",
          "Alone",
          "Alone",
          "Alone",
          "Friend(s)",
          "Friend(s)",
          "Friend(s)",
          "Kid(s)",
          "Kid(s)",
          "Alone",
          "Alone",
          "Alone",
          "Alone",
          "Alone",
          "Friend(s)",
          "Friend(s)",
          "Alone",
          "Alone",
          "Alone",
          "Alone",
          "Alone",
          "Alone",
          "Friend(s)",
          "Friend(s)",
          "Partner",
          "Partner",
          "Partner",
          "Alone",
          "Alone",
          "Alone",
          "Alone",
          "Alone",
          "Alone",
          "Friend(s)",
          "Friend(s)",
          "Alone",
          "Alone",
          "Alone",
          "Friend(s)",
          "Friend(s)",
          "Partner",
          "Partner",
          "Partner",
          "Alone",
          "Alone",
          "Alone",
          "Friend(s)",
          "Friend(s)",
          "Alone",
          "Friend(s)",
          "Friend(s)",
          "Alone",
          "Alone",
          "Alone",
          "Alone",
          "Alone",
          "Alone",
          "Friend(s)",
          "Friend(s)",
          "Partner",
          "Partner",
          "Partner",
          "Kid(s)",
          "Kid(s)",
          "Alone",
          "Alone",
          "Alone",
          "Friend(s)",
          "Partner",
          "Partner",
          "Partner",
          "Alone",
          "Alone",
          "Friend(s)",
          "Friend(s)",
          "Partner",
          "Partner",
          "Partner",
          "Alone",
          "Alone",
          "Friend(s)",
          "Friend(s)",
          "Kid(s)",
          "Alone",
          "Friend(s)",
          "Friend(s)",
          "Alone",
          "Alone",
          "Alone",
          "Alone",
          "Friend(s)",
          "Friend(s)",
          "Partner",
          "Partner",
          "Partner",
          "Alone",
          "Alone",
          "Alone",
          "Friend(s)",
          "Partner",
          "Partner",
          "Partner",
          "Alone",
          "Friend(s)",
          "Alone",
          "Alone",
          "Alone",
          "Alone",
          "Friend(s)",
          "Friend(s)",
          "Friend(s)",
          "Partner",
          "Partner",
          "Partner",
          "Alone",
          "Alone",
          "Alone",
          "Alone",
          "Alone",
          "Alone",
          "Friend(s)",
          "Partner",
          "Alone",
          "Friend(s)",
          "Friend(s)",
          "Alone",
          "Friend(s)",
          "Friend(s)",
          "Kid(s)",
          "Kid(s)",
          "Alone",
          "Alone",
          "Alone",
          "Alone",
          "Alone",
          "Alone",
          "Friend(s)",
          "Friend(s)",
          "Alone",
          "Alone",
          "Alone",
          "Alone",
          "Alone",
          "Friend(s)",
          "Friend(s)",
          "Kid(s)",
          "Kid(s)",
          "Alone",
          "Alone",
          "Alone",
          "Alone",
          "Alone",
          "Alone",
          "Friend(s)",
          "Alone",
          "Alone",
          "Alone",
          "Alone",
          "Alone",
          "Alone",
          "Friend(s)",
          "Friend(s)",
          "Alone",
          "Alone",
          "Alone",
          "Alone",
          "Friend(s)",
          "Alone",
          "Alone",
          "Kid(s)",
          "Alone",
          "Alone",
          "Friend(s)",
          "Alone",
          "Alone",
          "Alone",
          "Alone",
          "Friend(s)",
          "Alone",
          "Alone",
          "Alone",
          "Alone",
          "Alone",
          "Alone",
          "Alone",
          "Friend(s)",
          "Alone",
          "Alone",
          "Alone",
          "Alone",
          "Alone",
          "Alone",
          "Alone",
          "Alone",
          "Kid(s)",
          "Alone",
          "Alone",
          "Alone",
          "Alone",
          "Alone",
          "Alone",
          "Alone",
          "Friend(s)",
          "Alone",
          "Alone",
          "Alone",
          "Alone",
          "Alone",
          "Friend(s)",
          "Alone",
          "Alone",
          "Alone",
          "Kid(s)",
          "Alone",
          "Friend(s)",
          "Kid(s)",
          "Alone",
          "Alone",
          "Alone",
          "Alone",
          "Alone",
          "Friend(s)",
          "Alone",
          "Alone",
          "Kid(s)",
          "Alone",
          "Friend(s)",
          "Kid(s)",
          "Alone",
          "Alone",
          "Alone",
          "Alone",
          "Alone",
          "Alone",
          "Kid(s)",
          "Alone",
          "Alone",
          "Alone",
          "Alone",
          "Alone",
          "Alone",
          "Friend(s)",
          "Alone",
          "Alone",
          "Alone",
          "Alone",
          "Alone",
          "Alone",
          "Friend(s)",
          "Alone",
          "Alone",
          "Alone",
          "Alone",
          "Alone",
          "Alone",
          "Alone",
          "Alone",
          "Friend(s)",
          "Partner",
          "Alone",
          "Partner",
          "Alone",
          "Alone",
          "Friend(s)",
          "Kid(s)",
          "Alone",
          "Friend(s)",
          "Partner",
          "Partner",
          "Alone",
          "Friend(s)",
          "Alone",
          "Alone",
          "Friend(s)",
          "Alone",
          "Friend(s)",
          "Friend(s)",
          "Alone",
          "Alone",
          "Alone",
          "Alone",
          "Friend(s)",
          "Partner",
          "Alone",
          "Partner",
          "Alone",
          "Friend(s)",
          "Partner",
          "Partner",
          "Alone",
          "Alone",
          "Friend(s)",
          "Friend(s)",
          "Alone",
          "Alone",
          "Alone",
          "Friend(s)",
          "Kid(s)",
          "Alone",
          "Alone",
          "Alone",
          "Friend(s)",
          "Friend(s)",
          "Alone",
          "Alone",
          "Alone",
          "Alone",
          "Alone",
          "Kid(s)",
          "Alone",
          "Alone",
          "Alone",
          "Friend(s)",
          "Kid(s)",
          "Alone",
          "Alone",
          "Alone",
          "Friend(s)",
          "Partner",
          "Alone",
          "Partner",
          "Alone",
          "Friend(s)",
          "Kid(s)",
          "Alone",
          "Alone",
          "Alone",
          "Partner",
          "Alone",
          "Partner",
          "Alone",
          "Friend(s)",
          "Kid(s)",
          "Friend(s)",
          "Friend(s)",
          "Alone",
          "Alone",
          "Alone",
          "Friend(s)",
          "Alone",
          "Alone",
          "Friend(s)",
          "Kid(s)",
          "Friend(s)",
          "Alone",
          "Alone",
          "Friend(s)",
          "Kid(s)",
          "Alone",
          "Alone",
          "Friend(s)",
          "Friend(s)",
          "Alone",
          "Alone",
          "Friend(s)",
          "Alone",
          "Alone",
          "Friend(s)",
          "Alone",
          "Partner",
          "Alone",
          "Alone",
          "Friend(s)",
          "Kid(s)",
          "Alone",
          "Alone",
          "Partner",
          "Partner",
          "Alone",
          "Friend(s)",
          "Partner",
          "Alone",
          "Alone",
          "Friend(s)",
          "Friend(s)",
          "Alone",
          "Alone",
          "Partner",
          "Alone",
          "Friend(s)",
          "Friend(s)",
          "Friend(s)",
          "Alone",
          "Alone",
          "Alone",
          "Friend(s)",
          "Friend(s)",
          "Alone",
          "Alone",
          "Alone",
          "Alone",
          "Friend(s)",
          "Alone",
          "Alone",
          "Friend(s)",
          "Friend(s)",
          "Alone",
          "Alone",
          "Alone",
          "Friend(s)",
          "Alone",
          "Partner",
          "Alone",
          "Alone",
          "Friend(s)",
          "Friend(s)",
          "Alone",
          "Alone",
          "Alone",
          "Alone",
          "Friend(s)",
          "Kid(s)",
          "Alone",
          "Alone",
          "Alone",
          "Friend(s)",
          "Partner",
          "Alone",
          "Partner",
          "Alone",
          "Alone",
          "Friend(s)",
          "Friend(s)",
          "Alone",
          "Alone",
          "Alone",
          "Alone",
          "Alone",
          "Friend(s)",
          "Alone",
          "Alone",
          "Friend(s)",
          "Friend(s)",
          "Alone",
          "Alone",
          "Alone",
          "Alone",
          "Alone",
          "Friend(s)",
          "Alone",
          "Alone",
          "Friend(s)",
          "Alone",
          "Alone",
          "Friend(s)",
          "Alone",
          "Alone",
          "Friend(s)",
          "Kid(s)",
          "Alone",
          "Alone",
          "Partner",
          "Alone",
          "Friend(s)",
          "Alone",
          "Partner",
          "Friend(s)",
          "Friend(s)",
          "Alone",
          "Alone",
          "Alone",
          "Friend(s)",
          "Kid(s)",
          "Alone",
          "Alone",
          "Alone",
          "Friend(s)",
          "Alone",
          "Alone",
          "Alone",
          "Friend(s)",
          "Partner",
          "Alone",
          "Alone",
          "Friend(s)",
          "Kid(s)",
          "Alone",
          "Friend(s)",
          "Kid(s)",
          "Alone",
          "Alone",
          "Alone",
          "Friend(s)",
          "Friend(s)",
          "Alone",
          "Alone",
          "Alone",
          "Alone",
          "Friend(s)",
          "Partner",
          "Alone",
          "Friend(s)",
          "Kid(s)",
          "Alone",
          "Alone",
          "Friend(s)",
          "Friend(s)",
          "Alone",
          "Alone",
          "Alone",
          "Friend(s)",
          "Kid(s)",
          "Alone",
          "Kid(s)",
          "Alone",
          "Friend(s)",
          "Partner",
          "Alone",
          "Alone",
          "Friend(s)",
          "Kid(s)",
          "Friend(s)",
          "Partner",
          "Friend(s)",
          "Friend(s)",
          "Alone",
          "Alone",
          "Alone",
          "Alone",
          "Friend(s)",
          "Friend(s)",
          "Alone",
          "Alone",
          "Alone",
          "Friend(s)",
          "Partner",
          "Alone",
          "Partner",
          "Alone",
          "Alone",
          "Alone",
          "Friend(s)",
          "Kid(s)",
          "Friend(s)",
          "Alone",
          "Partner",
          "Alone",
          "Friend(s)",
          "Alone",
          "Kid(s)",
          "Kid(s)",
          "Alone",
          "Alone",
          "Alone",
          "Alone",
          "Alone",
          "Friend(s)",
          "Alone",
          "Partner",
          "Friend(s)",
          "Alone",
          "Alone",
          "Alone",
          "Friend(s)",
          "Alone",
          "Kid(s)",
          "Kid(s)",
          "Alone",
          "Alone",
          "Friend(s)",
          "Alone",
          "Kid(s)",
          "Kid(s)",
          "Alone",
          "Friend(s)",
          "Alone",
          "Alone",
          "Alone",
          "Friend(s)",
          "Alone",
          "Alone",
          "Alone",
          "Alone",
          "Kid(s)",
          "Alone",
          "Alone",
          "Friend(s)",
          "Alone",
          "Kid(s)",
          "Kid(s)",
          "Alone",
          "Friend(s)",
          "Alone",
          "Kid(s)",
          "Kid(s)",
          "Partner",
          "Alone",
          "Alone",
          "Friend(s)",
          "Alone",
          "Friend(s)",
          "Alone",
          "Alone",
          "Friend(s)",
          "Alone",
          "Alone",
          "Friend(s)",
          "Alone",
          "Alone",
          "Friend(s)",
          "Alone",
          "Alone",
          "Alone",
          "Friend(s)",
          "Alone",
          "Alone",
          "Alone",
          "Friend(s)",
          "Alone",
          "Alone",
          "Alone",
          "Alone",
          "Alone",
          "Friend(s)",
          "Alone",
          "Kid(s)",
          "Kid(s)",
          "Alone",
          "Alone",
          "Friend(s)",
          "Alone",
          "Partner",
          "Alone",
          "Alone",
          "Friend(s)",
          "Alone",
          "Partner",
          "Alone",
          "Alone",
          "Friend(s)",
          "Alone",
          "Kid(s)",
          "Kid(s)",
          "Alone",
          "Alone",
          "Alone",
          "Friend(s)",
          "Alone",
          "Alone",
          "Friend(s)",
          "Alone",
          "Alone",
          "Friend(s)",
          "Partner",
          "Alone",
          "Alone",
          "Friend(s)",
          "Alone",
          "Alone",
          "Friend(s)",
          "Alone",
          "Alone",
          "Friend(s)",
          "Kid(s)",
          "Alone",
          "Alone",
          "Friend(s)",
          "Partner",
          "Alone",
          "Friend(s)",
          "Alone",
          "Partner",
          "Alone",
          "Partner",
          "Alone",
          "Friend(s)",
          "Friend(s)",
          "Alone",
          "Alone",
          "Friend(s)",
          "Alone",
          "Alone",
          "Friend(s)",
          "Alone",
          "Alone",
          "Alone",
          "Friend(s)",
          "Alone",
          "Alone",
          "Friend(s)",
          "Alone",
          "Partner",
          "Alone",
          "Alone",
          "Friend(s)",
          "Alone",
          "Alone",
          "Alone",
          "Partner",
          "Alone",
          "Alone",
          "Friend(s)",
          "Alone",
          "Alone",
          "Friend(s)",
          "Alone",
          "Kid(s)",
          "Kid(s)",
          "Alone",
          "Alone",
          "Friend(s)",
          "Alone",
          "Partner",
          "Alone",
          "Alone",
          "Friend(s)",
          "Alone",
          "Alone",
          "Friend(s)",
          "Alone",
          "Alone",
          "Alone",
          "Friend(s)",
          "Alone",
          "Partner",
          "Alone",
          "Kid(s)",
          "Kid(s)",
          "Friend(s)",
          "Alone",
          "Alone",
          "Alone",
          "Alone",
          "Kid(s)",
          "Alone",
          "Alone",
          "Friend(s)",
          "Alone",
          "Kid(s)",
          "Kid(s)",
          "Alone",
          "Alone",
          "Friend(s)",
          "Alone",
          "Alone",
          "Alone",
          "Friend(s)",
          "Partner",
          "Alone",
          "Alone",
          "Friend(s)",
          "Alone",
          "Alone",
          "Friend(s)",
          "Alone",
          "Kid(s)",
          "Kid(s)",
          "Alone",
          "Friend(s)",
          "Alone",
          "Friend(s)",
          "Alone",
          "Friend(s)",
          "Kid(s)",
          "Kid(s)",
          "Alone",
          "Alone",
          "Friend(s)",
          "Alone",
          "Alone",
          "Alone",
          "Friend(s)",
          "Alone",
          "Kid(s)",
          "Alone",
          "Friend(s)",
          "Alone",
          "Alone",
          "Friend(s)",
          "Alone",
          "Friend(s)",
          "Alone",
          "Alone",
          "Friend(s)",
          "Alone",
          "Alone",
          "Alone",
          "Friend(s)",
          "Alone",
          "Alone",
          "Alone",
          "Partner",
          "Alone",
          "Alone",
          "Alone",
          "Alone",
          "Alone",
          "Alone",
          "Alone",
          "Alone",
          "Alone",
          "Alone",
          "Alone",
          "Alone",
          "Alone",
          "Alone",
          "Alone",
          "Alone",
          "Alone",
          "Alone",
          "Alone",
          "Alone",
          "Alone",
          "Alone",
          "Alone",
          "Alone",
          "Alone",
          "Alone",
          "Alone",
          "Alone",
          "Alone",
          "Alone",
          "Alone",
          "Alone",
          "Alone",
          "Alone",
          "Alone",
          "Alone",
          "Alone",
          "Alone",
          "Alone",
          "Alone",
          "Alone",
          "Alone",
          "Alone",
          "Alone",
          "Alone",
          "Alone",
          "Alone",
          "Alone",
          "Alone",
          "Alone",
          "Alone",
          "Alone",
          "Alone",
          "Alone",
          "Alone",
          "Alone",
          "Alone",
          "Alone",
          "Alone",
          "Alone",
          "Alone",
          "Alone",
          "Alone",
          "Alone",
          "Alone",
          "Alone",
          "Alone",
          "Alone",
          "Alone",
          "Alone",
          "Alone",
          "Alone",
          "Alone",
          "Alone",
          "Alone",
          "Alone",
          "Alone",
          "Alone",
          "Alone",
          "Alone",
          "Alone",
          "Alone",
          "Alone",
          "Alone",
          "Alone",
          "Alone",
          "Alone",
          "Alone",
          "Alone",
          "Alone",
          "Alone",
          "Alone",
          "Alone",
          "Alone",
          "Alone",
          "Alone",
          "Alone"
         ],
         "xaxis": "x",
         "yaxis": "y"
        }
       ],
       "layout": {
        "barmode": "group",
        "legend": {
         "title": {
          "text": "Y"
         },
         "tracegroupgap": 0
        },
        "margin": {
         "t": 60
        },
        "template": {
         "data": {
          "bar": [
           {
            "error_x": {
             "color": "#2a3f5f"
            },
            "error_y": {
             "color": "#2a3f5f"
            },
            "marker": {
             "line": {
              "color": "#E5ECF6",
              "width": 0.5
             },
             "pattern": {
              "fillmode": "overlay",
              "size": 10,
              "solidity": 0.2
             }
            },
            "type": "bar"
           }
          ],
          "barpolar": [
           {
            "marker": {
             "line": {
              "color": "#E5ECF6",
              "width": 0.5
             },
             "pattern": {
              "fillmode": "overlay",
              "size": 10,
              "solidity": 0.2
             }
            },
            "type": "barpolar"
           }
          ],
          "carpet": [
           {
            "aaxis": {
             "endlinecolor": "#2a3f5f",
             "gridcolor": "white",
             "linecolor": "white",
             "minorgridcolor": "white",
             "startlinecolor": "#2a3f5f"
            },
            "baxis": {
             "endlinecolor": "#2a3f5f",
             "gridcolor": "white",
             "linecolor": "white",
             "minorgridcolor": "white",
             "startlinecolor": "#2a3f5f"
            },
            "type": "carpet"
           }
          ],
          "choropleth": [
           {
            "colorbar": {
             "outlinewidth": 0,
             "ticks": ""
            },
            "type": "choropleth"
           }
          ],
          "contour": [
           {
            "colorbar": {
             "outlinewidth": 0,
             "ticks": ""
            },
            "colorscale": [
             [
              0,
              "#0d0887"
             ],
             [
              0.1111111111111111,
              "#46039f"
             ],
             [
              0.2222222222222222,
              "#7201a8"
             ],
             [
              0.3333333333333333,
              "#9c179e"
             ],
             [
              0.4444444444444444,
              "#bd3786"
             ],
             [
              0.5555555555555556,
              "#d8576b"
             ],
             [
              0.6666666666666666,
              "#ed7953"
             ],
             [
              0.7777777777777778,
              "#fb9f3a"
             ],
             [
              0.8888888888888888,
              "#fdca26"
             ],
             [
              1,
              "#f0f921"
             ]
            ],
            "type": "contour"
           }
          ],
          "contourcarpet": [
           {
            "colorbar": {
             "outlinewidth": 0,
             "ticks": ""
            },
            "type": "contourcarpet"
           }
          ],
          "heatmap": [
           {
            "colorbar": {
             "outlinewidth": 0,
             "ticks": ""
            },
            "colorscale": [
             [
              0,
              "#0d0887"
             ],
             [
              0.1111111111111111,
              "#46039f"
             ],
             [
              0.2222222222222222,
              "#7201a8"
             ],
             [
              0.3333333333333333,
              "#9c179e"
             ],
             [
              0.4444444444444444,
              "#bd3786"
             ],
             [
              0.5555555555555556,
              "#d8576b"
             ],
             [
              0.6666666666666666,
              "#ed7953"
             ],
             [
              0.7777777777777778,
              "#fb9f3a"
             ],
             [
              0.8888888888888888,
              "#fdca26"
             ],
             [
              1,
              "#f0f921"
             ]
            ],
            "type": "heatmap"
           }
          ],
          "heatmapgl": [
           {
            "colorbar": {
             "outlinewidth": 0,
             "ticks": ""
            },
            "colorscale": [
             [
              0,
              "#0d0887"
             ],
             [
              0.1111111111111111,
              "#46039f"
             ],
             [
              0.2222222222222222,
              "#7201a8"
             ],
             [
              0.3333333333333333,
              "#9c179e"
             ],
             [
              0.4444444444444444,
              "#bd3786"
             ],
             [
              0.5555555555555556,
              "#d8576b"
             ],
             [
              0.6666666666666666,
              "#ed7953"
             ],
             [
              0.7777777777777778,
              "#fb9f3a"
             ],
             [
              0.8888888888888888,
              "#fdca26"
             ],
             [
              1,
              "#f0f921"
             ]
            ],
            "type": "heatmapgl"
           }
          ],
          "histogram": [
           {
            "marker": {
             "pattern": {
              "fillmode": "overlay",
              "size": 10,
              "solidity": 0.2
             }
            },
            "type": "histogram"
           }
          ],
          "histogram2d": [
           {
            "colorbar": {
             "outlinewidth": 0,
             "ticks": ""
            },
            "colorscale": [
             [
              0,
              "#0d0887"
             ],
             [
              0.1111111111111111,
              "#46039f"
             ],
             [
              0.2222222222222222,
              "#7201a8"
             ],
             [
              0.3333333333333333,
              "#9c179e"
             ],
             [
              0.4444444444444444,
              "#bd3786"
             ],
             [
              0.5555555555555556,
              "#d8576b"
             ],
             [
              0.6666666666666666,
              "#ed7953"
             ],
             [
              0.7777777777777778,
              "#fb9f3a"
             ],
             [
              0.8888888888888888,
              "#fdca26"
             ],
             [
              1,
              "#f0f921"
             ]
            ],
            "type": "histogram2d"
           }
          ],
          "histogram2dcontour": [
           {
            "colorbar": {
             "outlinewidth": 0,
             "ticks": ""
            },
            "colorscale": [
             [
              0,
              "#0d0887"
             ],
             [
              0.1111111111111111,
              "#46039f"
             ],
             [
              0.2222222222222222,
              "#7201a8"
             ],
             [
              0.3333333333333333,
              "#9c179e"
             ],
             [
              0.4444444444444444,
              "#bd3786"
             ],
             [
              0.5555555555555556,
              "#d8576b"
             ],
             [
              0.6666666666666666,
              "#ed7953"
             ],
             [
              0.7777777777777778,
              "#fb9f3a"
             ],
             [
              0.8888888888888888,
              "#fdca26"
             ],
             [
              1,
              "#f0f921"
             ]
            ],
            "type": "histogram2dcontour"
           }
          ],
          "mesh3d": [
           {
            "colorbar": {
             "outlinewidth": 0,
             "ticks": ""
            },
            "type": "mesh3d"
           }
          ],
          "parcoords": [
           {
            "line": {
             "colorbar": {
              "outlinewidth": 0,
              "ticks": ""
             }
            },
            "type": "parcoords"
           }
          ],
          "pie": [
           {
            "automargin": true,
            "type": "pie"
           }
          ],
          "scatter": [
           {
            "marker": {
             "colorbar": {
              "outlinewidth": 0,
              "ticks": ""
             }
            },
            "type": "scatter"
           }
          ],
          "scatter3d": [
           {
            "line": {
             "colorbar": {
              "outlinewidth": 0,
              "ticks": ""
             }
            },
            "marker": {
             "colorbar": {
              "outlinewidth": 0,
              "ticks": ""
             }
            },
            "type": "scatter3d"
           }
          ],
          "scattercarpet": [
           {
            "marker": {
             "colorbar": {
              "outlinewidth": 0,
              "ticks": ""
             }
            },
            "type": "scattercarpet"
           }
          ],
          "scattergeo": [
           {
            "marker": {
             "colorbar": {
              "outlinewidth": 0,
              "ticks": ""
             }
            },
            "type": "scattergeo"
           }
          ],
          "scattergl": [
           {
            "marker": {
             "colorbar": {
              "outlinewidth": 0,
              "ticks": ""
             }
            },
            "type": "scattergl"
           }
          ],
          "scattermapbox": [
           {
            "marker": {
             "colorbar": {
              "outlinewidth": 0,
              "ticks": ""
             }
            },
            "type": "scattermapbox"
           }
          ],
          "scatterpolar": [
           {
            "marker": {
             "colorbar": {
              "outlinewidth": 0,
              "ticks": ""
             }
            },
            "type": "scatterpolar"
           }
          ],
          "scatterpolargl": [
           {
            "marker": {
             "colorbar": {
              "outlinewidth": 0,
              "ticks": ""
             }
            },
            "type": "scatterpolargl"
           }
          ],
          "scatterternary": [
           {
            "marker": {
             "colorbar": {
              "outlinewidth": 0,
              "ticks": ""
             }
            },
            "type": "scatterternary"
           }
          ],
          "surface": [
           {
            "colorbar": {
             "outlinewidth": 0,
             "ticks": ""
            },
            "colorscale": [
             [
              0,
              "#0d0887"
             ],
             [
              0.1111111111111111,
              "#46039f"
             ],
             [
              0.2222222222222222,
              "#7201a8"
             ],
             [
              0.3333333333333333,
              "#9c179e"
             ],
             [
              0.4444444444444444,
              "#bd3786"
             ],
             [
              0.5555555555555556,
              "#d8576b"
             ],
             [
              0.6666666666666666,
              "#ed7953"
             ],
             [
              0.7777777777777778,
              "#fb9f3a"
             ],
             [
              0.8888888888888888,
              "#fdca26"
             ],
             [
              1,
              "#f0f921"
             ]
            ],
            "type": "surface"
           }
          ],
          "table": [
           {
            "cells": {
             "fill": {
              "color": "#EBF0F8"
             },
             "line": {
              "color": "white"
             }
            },
            "header": {
             "fill": {
              "color": "#C8D4E3"
             },
             "line": {
              "color": "white"
             }
            },
            "type": "table"
           }
          ]
         },
         "layout": {
          "annotationdefaults": {
           "arrowcolor": "#2a3f5f",
           "arrowhead": 0,
           "arrowwidth": 1
          },
          "autotypenumbers": "strict",
          "coloraxis": {
           "colorbar": {
            "outlinewidth": 0,
            "ticks": ""
           }
          },
          "colorscale": {
           "diverging": [
            [
             0,
             "#8e0152"
            ],
            [
             0.1,
             "#c51b7d"
            ],
            [
             0.2,
             "#de77ae"
            ],
            [
             0.3,
             "#f1b6da"
            ],
            [
             0.4,
             "#fde0ef"
            ],
            [
             0.5,
             "#f7f7f7"
            ],
            [
             0.6,
             "#e6f5d0"
            ],
            [
             0.7,
             "#b8e186"
            ],
            [
             0.8,
             "#7fbc41"
            ],
            [
             0.9,
             "#4d9221"
            ],
            [
             1,
             "#276419"
            ]
           ],
           "sequential": [
            [
             0,
             "#0d0887"
            ],
            [
             0.1111111111111111,
             "#46039f"
            ],
            [
             0.2222222222222222,
             "#7201a8"
            ],
            [
             0.3333333333333333,
             "#9c179e"
            ],
            [
             0.4444444444444444,
             "#bd3786"
            ],
            [
             0.5555555555555556,
             "#d8576b"
            ],
            [
             0.6666666666666666,
             "#ed7953"
            ],
            [
             0.7777777777777778,
             "#fb9f3a"
            ],
            [
             0.8888888888888888,
             "#fdca26"
            ],
            [
             1,
             "#f0f921"
            ]
           ],
           "sequentialminus": [
            [
             0,
             "#0d0887"
            ],
            [
             0.1111111111111111,
             "#46039f"
            ],
            [
             0.2222222222222222,
             "#7201a8"
            ],
            [
             0.3333333333333333,
             "#9c179e"
            ],
            [
             0.4444444444444444,
             "#bd3786"
            ],
            [
             0.5555555555555556,
             "#d8576b"
            ],
            [
             0.6666666666666666,
             "#ed7953"
            ],
            [
             0.7777777777777778,
             "#fb9f3a"
            ],
            [
             0.8888888888888888,
             "#fdca26"
            ],
            [
             1,
             "#f0f921"
            ]
           ]
          },
          "colorway": [
           "#636efa",
           "#EF553B",
           "#00cc96",
           "#ab63fa",
           "#FFA15A",
           "#19d3f3",
           "#FF6692",
           "#B6E880",
           "#FF97FF",
           "#FECB52"
          ],
          "font": {
           "color": "#2a3f5f"
          },
          "geo": {
           "bgcolor": "white",
           "lakecolor": "white",
           "landcolor": "#E5ECF6",
           "showlakes": true,
           "showland": true,
           "subunitcolor": "white"
          },
          "hoverlabel": {
           "align": "left"
          },
          "hovermode": "closest",
          "mapbox": {
           "style": "light"
          },
          "paper_bgcolor": "white",
          "plot_bgcolor": "#E5ECF6",
          "polar": {
           "angularaxis": {
            "gridcolor": "white",
            "linecolor": "white",
            "ticks": ""
           },
           "bgcolor": "#E5ECF6",
           "radialaxis": {
            "gridcolor": "white",
            "linecolor": "white",
            "ticks": ""
           }
          },
          "scene": {
           "xaxis": {
            "backgroundcolor": "#E5ECF6",
            "gridcolor": "white",
            "gridwidth": 2,
            "linecolor": "white",
            "showbackground": true,
            "ticks": "",
            "zerolinecolor": "white"
           },
           "yaxis": {
            "backgroundcolor": "#E5ECF6",
            "gridcolor": "white",
            "gridwidth": 2,
            "linecolor": "white",
            "showbackground": true,
            "ticks": "",
            "zerolinecolor": "white"
           },
           "zaxis": {
            "backgroundcolor": "#E5ECF6",
            "gridcolor": "white",
            "gridwidth": 2,
            "linecolor": "white",
            "showbackground": true,
            "ticks": "",
            "zerolinecolor": "white"
           }
          },
          "shapedefaults": {
           "line": {
            "color": "#2a3f5f"
           }
          },
          "ternary": {
           "aaxis": {
            "gridcolor": "white",
            "linecolor": "white",
            "ticks": ""
           },
           "baxis": {
            "gridcolor": "white",
            "linecolor": "white",
            "ticks": ""
           },
           "bgcolor": "#E5ECF6",
           "caxis": {
            "gridcolor": "white",
            "linecolor": "white",
            "ticks": ""
           }
          },
          "title": {
           "x": 0.05
          },
          "xaxis": {
           "automargin": true,
           "gridcolor": "white",
           "linecolor": "white",
           "ticks": "",
           "title": {
            "standoff": 15
           },
           "zerolinecolor": "white",
           "zerolinewidth": 2
          },
          "yaxis": {
           "automargin": true,
           "gridcolor": "white",
           "linecolor": "white",
           "ticks": "",
           "title": {
            "standoff": 15
           },
           "zerolinecolor": "white",
           "zerolinewidth": 2
          }
         }
        },
        "xaxis": {
         "anchor": "y",
         "domain": [
          0,
          1
         ],
         "title": {
          "text": "passanger"
         }
        },
        "yaxis": {
         "anchor": "x",
         "domain": [
          0,
          1
         ],
         "title": {
          "text": "count"
         }
        }
       }
      },
      "text/html": [
       "<div>                            <div id=\"523703e6-ce6c-48cf-a8e0-b907b9d6cf6e\" class=\"plotly-graph-div\" style=\"height:525px; width:100%;\"></div>            <script type=\"text/javascript\">                require([\"plotly\"], function(Plotly) {                    window.PLOTLYENV=window.PLOTLYENV || {};                                    if (document.getElementById(\"523703e6-ce6c-48cf-a8e0-b907b9d6cf6e\")) {                    Plotly.newPlot(                        \"523703e6-ce6c-48cf-a8e0-b907b9d6cf6e\",                        [{\"alignmentgroup\":\"True\",\"bingroup\":\"x\",\"hovertemplate\":\"Y=0<br>passanger=%{x}<br>count=%{y}<extra></extra>\",\"legendgroup\":\"0\",\"marker\":{\"color\":\"#636efa\",\"pattern\":{\"shape\":\"\"}},\"name\":\"0\",\"offsetgroup\":\"0\",\"orientation\":\"v\",\"showlegend\":true,\"x\":[\"Friend(s)\",\"Friend(s)\",\"Friend(s)\",\"Friend(s)\",\"Friend(s)\",\"Friend(s)\",\"Alone\",\"Alone\",\"Alone\",\"Alone\",\"Friend(s)\",\"Friend(s)\",\"Alone\",\"Alone\",\"Alone\",\"Kid(s)\",\"Alone\",\"Alone\",\"Friend(s)\",\"Friend(s)\",\"Friend(s)\",\"Alone\",\"Alone\",\"Kid(s)\",\"Alone\",\"Alone\",\"Alone\",\"Friend(s)\",\"Friend(s)\",\"Friend(s)\",\"Friend(s)\",\"Alone\",\"Alone\",\"Alone\",\"Alone\",\"Friend(s)\",\"Friend(s)\",\"Friend(s)\",\"Friend(s)\",\"Friend(s)\",\"Friend(s)\",\"Alone\",\"Alone\",\"Alone\",\"Alone\",\"Alone\",\"Alone\",\"Friend(s)\",\"Friend(s)\",\"Alone\",\"Alone\",\"Friend(s)\",\"Friend(s)\",\"Kid(s)\",\"Alone\",\"Alone\",\"Friend(s)\",\"Friend(s)\",\"Kid(s)\",\"Alone\",\"Alone\",\"Alone\",\"Alone\",\"Alone\",\"Alone\",\"Kid(s)\",\"Alone\",\"Alone\",\"Alone\",\"Friend(s)\",\"Kid(s)\",\"Alone\",\"Alone\",\"Friend(s)\",\"Friend(s)\",\"Friend(s)\",\"Friend(s)\",\"Friend(s)\",\"Friend(s)\",\"Alone\",\"Alone\",\"Alone\",\"Alone\",\"Friend(s)\",\"Friend(s)\",\"Alone\",\"Alone\",\"Friend(s)\",\"Friend(s)\",\"Friend(s)\",\"Alone\",\"Alone\",\"Alone\",\"Friend(s)\",\"Friend(s)\",\"Alone\",\"Alone\",\"Kid(s)\",\"Alone\",\"Alone\",\"Friend(s)\",\"Friend(s)\",\"Friend(s)\",\"Friend(s)\",\"Alone\",\"Alone\",\"Alone\",\"Friend(s)\",\"Friend(s)\",\"Friend(s)\",\"Friend(s)\",\"Friend(s)\",\"Friend(s)\",\"Alone\",\"Alone\",\"Alone\",\"Alone\",\"Kid(s)\",\"Friend(s)\",\"Friend(s)\",\"Alone\",\"Alone\",\"Alone\",\"Friend(s)\",\"Friend(s)\",\"Friend(s)\",\"Partner\",\"Partner\",\"Alone\",\"Alone\",\"Alone\",\"Friend(s)\",\"Friend(s)\",\"Kid(s)\",\"Alone\",\"Alone\",\"Alone\",\"Friend(s)\",\"Friend(s)\",\"Friend(s)\",\"Partner\",\"Partner\",\"Alone\",\"Alone\",\"Alone\",\"Friend(s)\",\"Friend(s)\",\"Friend(s)\",\"Friend(s)\",\"Friend(s)\",\"Alone\",\"Friend(s)\",\"Alone\",\"Alone\",\"Friend(s)\",\"Friend(s)\",\"Kid(s)\",\"Alone\",\"Alone\",\"Alone\",\"Kid(s)\",\"Friend(s)\",\"Kid(s)\",\"Alone\",\"Alone\",\"Alone\",\"Friend(s)\",\"Friend(s)\",\"Alone\",\"Alone\",\"Alone\",\"Friend(s)\",\"Alone\",\"Alone\",\"Alone\",\"Friend(s)\",\"Friend(s)\",\"Friend(s)\",\"Alone\",\"Alone\",\"Alone\",\"Alone\",\"Kid(s)\",\"Alone\",\"Alone\",\"Friend(s)\",\"Friend(s)\",\"Kid(s)\",\"Alone\",\"Alone\",\"Alone\",\"Friend(s)\",\"Friend(s)\",\"Friend(s)\",\"Friend(s)\",\"Friend(s)\",\"Alone\",\"Alone\",\"Friend(s)\",\"Friend(s)\",\"Friend(s)\",\"Partner\",\"Partner\",\"Alone\",\"Alone\",\"Alone\",\"Friend(s)\",\"Friend(s)\",\"Alone\",\"Alone\",\"Alone\",\"Friend(s)\",\"Friend(s)\",\"Friend(s)\",\"Kid(s)\",\"Alone\",\"Alone\",\"Friend(s)\",\"Friend(s)\",\"Kid(s)\",\"Alone\",\"Friend(s)\",\"Alone\",\"Alone\",\"Friend(s)\",\"Friend(s)\",\"Alone\",\"Alone\",\"Alone\",\"Friend(s)\",\"Friend(s)\",\"Friend(s)\",\"Kid(s)\",\"Alone\",\"Alone\",\"Alone\",\"Alone\",\"Alone\",\"Friend(s)\",\"Friend(s)\",\"Friend(s)\",\"Friend(s)\",\"Alone\",\"Friend(s)\",\"Friend(s)\",\"Friend(s)\",\"Friend(s)\",\"Friend(s)\",\"Alone\",\"Alone\",\"Alone\",\"Friend(s)\",\"Friend(s)\",\"Partner\",\"Partner\",\"Alone\",\"Alone\",\"Alone\",\"Alone\",\"Friend(s)\",\"Friend(s)\",\"Friend(s)\",\"Alone\",\"Alone\",\"Friend(s)\",\"Alone\",\"Alone\",\"Friend(s)\",\"Friend(s)\",\"Friend(s)\",\"Alone\",\"Alone\",\"Friend(s)\",\"Friend(s)\",\"Kid(s)\",\"Alone\",\"Alone\",\"Friend(s)\",\"Friend(s)\",\"Friend(s)\",\"Friend(s)\",\"Friend(s)\",\"Friend(s)\",\"Alone\",\"Alone\",\"Alone\",\"Alone\",\"Alone\",\"Alone\",\"Alone\",\"Alone\",\"Alone\",\"Friend(s)\",\"Partner\",\"Alone\",\"Alone\",\"Alone\",\"Friend(s)\",\"Friend(s)\",\"Friend(s)\",\"Alone\",\"Alone\",\"Alone\",\"Friend(s)\",\"Friend(s)\",\"Friend(s)\",\"Friend(s)\",\"Friend(s)\",\"Friend(s)\",\"Alone\",\"Alone\",\"Alone\",\"Alone\",\"Friend(s)\",\"Kid(s)\",\"Alone\",\"Alone\",\"Kid(s)\",\"Alone\",\"Friend(s)\",\"Friend(s)\",\"Friend(s)\",\"Kid(s)\",\"Alone\",\"Alone\",\"Alone\",\"Friend(s)\",\"Friend(s)\",\"Alone\",\"Alone\",\"Friend(s)\",\"Kid(s)\",\"Alone\",\"Alone\",\"Alone\",\"Friend(s)\",\"Friend(s)\",\"Friend(s)\",\"Partner\",\"Partner\",\"Alone\",\"Alone\",\"Alone\",\"Alone\",\"Alone\",\"Friend(s)\",\"Friend(s)\",\"Partner\",\"Alone\",\"Kid(s)\",\"Friend(s)\",\"Kid(s)\",\"Alone\",\"Alone\",\"Alone\",\"Alone\",\"Alone\",\"Alone\",\"Alone\",\"Alone\",\"Alone\",\"Alone\",\"Alone\",\"Alone\",\"Alone\",\"Alone\",\"Alone\",\"Friend(s)\",\"Friend(s)\",\"Friend(s)\",\"Alone\",\"Alone\",\"Alone\",\"Friend(s)\",\"Friend(s)\",\"Kid(s)\",\"Alone\",\"Alone\",\"Friend(s)\",\"Alone\",\"Alone\",\"Friend(s)\",\"Friend(s)\",\"Partner\",\"Partner\",\"Alone\",\"Alone\",\"Alone\",\"Friend(s)\",\"Kid(s)\",\"Alone\",\"Alone\",\"Friend(s)\",\"Kid(s)\",\"Alone\",\"Alone\",\"Kid(s)\",\"Alone\",\"Alone\",\"Alone\",\"Alone\",\"Alone\",\"Alone\",\"Alone\",\"Alone\",\"Alone\",\"Alone\",\"Alone\",\"Friend(s)\",\"Friend(s)\",\"Friend(s)\",\"Friend(s)\",\"Friend(s)\",\"Alone\",\"Alone\",\"Alone\",\"Friend(s)\",\"Friend(s)\",\"Friend(s)\",\"Alone\",\"Alone\",\"Alone\",\"Friend(s)\",\"Friend(s)\",\"Friend(s)\",\"Partner\",\"Partner\",\"Alone\",\"Alone\",\"Friend(s)\",\"Friend(s)\",\"Friend(s)\",\"Friend(s)\",\"Friend(s)\",\"Friend(s)\",\"Alone\",\"Alone\",\"Alone\",\"Alone\",\"Friend(s)\",\"Friend(s)\",\"Alone\",\"Alone\",\"Alone\",\"Alone\",\"Friend(s)\",\"Friend(s)\",\"Friend(s)\",\"Friend(s)\",\"Friend(s)\",\"Alone\",\"Alone\",\"Alone\",\"Friend(s)\",\"Kid(s)\",\"Alone\",\"Alone\",\"Alone\",\"Friend(s)\",\"Friend(s)\",\"Friend(s)\",\"Friend(s)\",\"Friend(s)\",\"Friend(s)\",\"Alone\",\"Alone\",\"Alone\",\"Alone\",\"Friend(s)\",\"Friend(s)\",\"Friend(s)\",\"Kid(s)\",\"Alone\",\"Alone\",\"Alone\",\"Alone\",\"Alone\",\"Alone\",\"Alone\",\"Alone\",\"Alone\",\"Alone\",\"Friend(s)\",\"Friend(s)\",\"Friend(s)\",\"Friend(s)\",\"Friend(s)\",\"Alone\",\"Alone\",\"Alone\",\"Friend(s)\",\"Alone\",\"Friend(s)\",\"Friend(s)\",\"Kid(s)\",\"Alone\",\"Alone\",\"Alone\",\"Friend(s)\",\"Alone\",\"Alone\",\"Friend(s)\",\"Kid(s)\",\"Alone\",\"Friend(s)\",\"Friend(s)\",\"Friend(s)\",\"Kid(s)\",\"Alone\",\"Alone\",\"Alone\",\"Alone\",\"Alone\",\"Friend(s)\",\"Friend(s)\",\"Kid(s)\",\"Alone\",\"Friend(s)\",\"Friend(s)\",\"Friend(s)\",\"Alone\",\"Alone\",\"Alone\",\"Alone\",\"Friend(s)\",\"Friend(s)\",\"Friend(s)\",\"Friend(s)\",\"Friend(s)\",\"Friend(s)\",\"Alone\",\"Alone\",\"Alone\",\"Alone\",\"Friend(s)\",\"Friend(s)\",\"Friend(s)\",\"Kid(s)\",\"Alone\",\"Alone\",\"Alone\",\"Friend(s)\",\"Alone\",\"Alone\",\"Friend(s)\",\"Friend(s)\",\"Friend(s)\",\"Kid(s)\",\"Alone\",\"Alone\",\"Alone\",\"Friend(s)\",\"Friend(s)\",\"Friend(s)\",\"Friend(s)\",\"Friend(s)\",\"Alone\",\"Alone\",\"Alone\",\"Kid(s)\",\"Alone\",\"Alone\",\"Alone\",\"Kid(s)\",\"Alone\",\"Alone\",\"Alone\",\"Friend(s)\",\"Friend(s)\",\"Kid(s)\",\"Alone\",\"Friend(s)\",\"Friend(s)\",\"Friend(s)\",\"Friend(s)\",\"Alone\",\"Alone\",\"Friend(s)\",\"Friend(s)\",\"Friend(s)\",\"Kid(s)\",\"Alone\",\"Alone\",\"Alone\",\"Friend(s)\",\"Friend(s)\",\"Friend(s)\",\"Friend(s)\",\"Friend(s)\",\"Friend(s)\",\"Alone\",\"Alone\",\"Alone\",\"Alone\",\"Kid(s)\",\"Alone\",\"Alone\",\"Friend(s)\",\"Friend(s)\",\"Friend(s)\",\"Friend(s)\",\"Alone\",\"Alone\",\"Alone\",\"Alone\",\"Alone\",\"Friend(s)\",\"Friend(s)\",\"Friend(s)\",\"Friend(s)\",\"Friend(s)\",\"Friend(s)\",\"Partner\",\"Alone\",\"Alone\",\"Alone\",\"Friend(s)\",\"Kid(s)\",\"Alone\",\"Alone\",\"Friend(s)\",\"Friend(s)\",\"Friend(s)\",\"Partner\",\"Partner\",\"Alone\",\"Alone\",\"Alone\",\"Friend(s)\",\"Friend(s)\",\"Partner\",\"Partner\",\"Alone\",\"Alone\",\"Friend(s)\",\"Friend(s)\",\"Kid(s)\",\"Alone\",\"Alone\",\"Alone\",\"Friend(s)\",\"Friend(s)\",\"Alone\",\"Friend(s)\",\"Alone\",\"Alone\",\"Alone\",\"Friend(s)\",\"Friend(s)\",\"Friend(s)\",\"Alone\",\"Alone\",\"Alone\",\"Friend(s)\",\"Friend(s)\",\"Alone\",\"Alone\",\"Friend(s)\",\"Friend(s)\",\"Kid(s)\",\"Alone\",\"Alone\",\"Alone\",\"Alone\",\"Alone\",\"Alone\",\"Friend(s)\",\"Friend(s)\",\"Partner\",\"Partner\",\"Alone\",\"Friend(s)\",\"Alone\",\"Friend(s)\",\"Friend(s)\",\"Alone\",\"Alone\",\"Friend(s)\",\"Alone\",\"Alone\",\"Alone\",\"Alone\",\"Friend(s)\",\"Friend(s)\",\"Friend(s)\",\"Kid(s)\",\"Alone\",\"Alone\",\"Kid(s)\",\"Alone\",\"Alone\",\"Alone\",\"Friend(s)\",\"Alone\",\"Alone\",\"Alone\",\"Friend(s)\",\"Friend(s)\",\"Friend(s)\",\"Friend(s)\",\"Friend(s)\",\"Alone\",\"Alone\",\"Alone\",\"Alone\",\"Alone\",\"Alone\",\"Friend(s)\",\"Friend(s)\",\"Alone\",\"Alone\",\"Alone\",\"Friend(s)\",\"Friend(s)\",\"Friend(s)\",\"Friend(s)\",\"Alone\",\"Alone\",\"Alone\",\"Friend(s)\",\"Kid(s)\",\"Alone\",\"Alone\",\"Friend(s)\",\"Alone\",\"Alone\",\"Friend(s)\",\"Friend(s)\",\"Friend(s)\",\"Partner\",\"Partner\",\"Alone\",\"Alone\",\"Alone\",\"Friend(s)\",\"Friend(s)\",\"Kid(s)\",\"Alone\",\"Alone\",\"Alone\",\"Friend(s)\",\"Friend(s)\",\"Friend(s)\",\"Friend(s)\",\"Friend(s)\",\"Friend(s)\",\"Alone\",\"Alone\",\"Alone\",\"Alone\",\"Alone\",\"Alone\",\"Alone\",\"Friend(s)\",\"Friend(s)\",\"Friend(s)\",\"Friend(s)\",\"Friend(s)\",\"Friend(s)\",\"Alone\",\"Alone\",\"Alone\",\"Alone\",\"Friend(s)\",\"Friend(s)\",\"Friend(s)\",\"Friend(s)\",\"Friend(s)\",\"Friend(s)\",\"Alone\",\"Alone\",\"Alone\",\"Alone\",\"Friend(s)\",\"Kid(s)\",\"Alone\",\"Alone\",\"Alone\",\"Alone\",\"Alone\",\"Friend(s)\",\"Friend(s)\",\"Friend(s)\",\"Friend(s)\",\"Friend(s)\",\"Friend(s)\",\"Alone\",\"Alone\",\"Alone\",\"Alone\",\"Alone\",\"Alone\",\"Alone\",\"Alone\",\"Alone\",\"Friend(s)\",\"Friend(s)\",\"Partner\",\"Partner\",\"Partner\",\"Alone\",\"Alone\",\"Alone\",\"Alone\",\"Alone\",\"Alone\",\"Friend(s)\",\"Friend(s)\",\"Kid(s)\",\"Kid(s)\",\"Alone\",\"Alone\",\"Alone\",\"Alone\",\"Alone\",\"Alone\",\"Friend(s)\",\"Friend(s)\",\"Partner\",\"Partner\",\"Partner\",\"Alone\",\"Alone\",\"Alone\",\"Alone\",\"Alone\",\"Friend(s)\",\"Friend(s)\",\"Kid(s)\",\"Kid(s)\",\"Alone\",\"Alone\",\"Alone\",\"Alone\",\"Alone\",\"Alone\",\"Friend(s)\",\"Friend(s)\",\"Partner\",\"Partner\",\"Partner\",\"Alone\",\"Alone\",\"Alone\",\"Alone\",\"Alone\",\"Alone\",\"Friend(s)\",\"Alone\",\"Alone\",\"Alone\",\"Alone\",\"Alone\",\"Alone\",\"Friend(s)\",\"Partner\",\"Partner\",\"Alone\",\"Alone\",\"Alone\",\"Alone\",\"Alone\",\"Alone\",\"Alone\",\"Alone\",\"Friend(s)\",\"Friend(s)\",\"Alone\",\"Alone\",\"Alone\",\"Alone\",\"Alone\",\"Alone\",\"Alone\",\"Alone\",\"Alone\",\"Alone\",\"Alone\",\"Alone\",\"Alone\",\"Friend(s)\",\"Friend(s)\",\"Partner\",\"Alone\",\"Alone\",\"Alone\",\"Alone\",\"Alone\",\"Friend(s)\",\"Friend(s)\",\"Partner\",\"Partner\",\"Partner\",\"Alone\",\"Alone\",\"Alone\",\"Alone\",\"Alone\",\"Alone\",\"Partner\",\"Partner\",\"Alone\",\"Alone\",\"Alone\",\"Friend(s)\",\"Friend(s)\",\"Alone\",\"Alone\",\"Alone\",\"Alone\",\"Friend(s)\",\"Friend(s)\",\"Partner\",\"Partner\",\"Partner\",\"Alone\",\"Alone\",\"Alone\",\"Alone\",\"Alone\",\"Alone\",\"Alone\",\"Friend(s)\",\"Friend(s)\",\"Alone\",\"Alone\",\"Alone\",\"Alone\",\"Alone\",\"Alone\",\"Alone\",\"Alone\",\"Alone\",\"Alone\",\"Alone\",\"Alone\",\"Alone\",\"Alone\",\"Alone\",\"Alone\",\"Alone\",\"Kid(s)\",\"Alone\",\"Alone\",\"Alone\",\"Alone\",\"Alone\",\"Friend(s)\",\"Friend(s)\",\"Partner\",\"Partner\",\"Partner\",\"Alone\",\"Alone\",\"Alone\",\"Alone\",\"Alone\",\"Alone\",\"Alone\",\"Alone\",\"Friend(s)\",\"Alone\",\"Alone\",\"Alone\",\"Friend(s)\",\"Partner\",\"Alone\",\"Alone\",\"Friend(s)\",\"Kid(s)\",\"Kid(s)\",\"Alone\",\"Alone\",\"Alone\",\"Alone\",\"Alone\",\"Alone\",\"Partner\",\"Alone\",\"Alone\",\"Alone\",\"Alone\",\"Friend(s)\",\"Friend(s)\",\"Alone\",\"Alone\",\"Alone\",\"Alone\",\"Alone\",\"Alone\",\"Partner\",\"Alone\",\"Alone\",\"Alone\",\"Alone\",\"Alone\",\"Alone\",\"Friend(s)\",\"Alone\",\"Alone\",\"Alone\",\"Alone\",\"Friend(s)\",\"Alone\",\"Alone\",\"Alone\",\"Kid(s)\",\"Friend(s)\",\"Friend(s)\",\"Kid(s)\",\"Kid(s)\",\"Alone\",\"Alone\",\"Alone\",\"Alone\",\"Alone\",\"Alone\",\"Friend(s)\",\"Friend(s)\",\"Alone\",\"Alone\",\"Alone\",\"Alone\",\"Alone\",\"Alone\",\"Friend(s)\",\"Alone\",\"Friend(s)\",\"Alone\",\"Alone\",\"Alone\",\"Alone\",\"Friend(s)\",\"Partner\",\"Partner\",\"Partner\",\"Alone\",\"Alone\",\"Alone\",\"Alone\",\"Alone\",\"Alone\",\"Alone\",\"Alone\",\"Alone\",\"Alone\",\"Alone\",\"Alone\",\"Alone\",\"Alone\",\"Alone\",\"Alone\",\"Friend(s)\",\"Friend(s)\",\"Alone\",\"Alone\",\"Alone\",\"Alone\",\"Alone\",\"Alone\",\"Alone\",\"Alone\",\"Alone\",\"Friend(s)\",\"Friend(s)\",\"Alone\",\"Alone\",\"Alone\",\"Alone\",\"Alone\",\"Alone\",\"Friend(s)\",\"Friend(s)\",\"Kid(s)\",\"Kid(s)\",\"Alone\",\"Alone\",\"Alone\",\"Alone\",\"Alone\",\"Alone\",\"Kid(s)\",\"Alone\",\"Alone\",\"Alone\",\"Alone\",\"Friend(s)\",\"Friend(s)\",\"Partner\",\"Partner\",\"Partner\",\"Alone\",\"Alone\",\"Alone\",\"Alone\",\"Alone\",\"Alone\",\"Alone\",\"Friend(s)\",\"Alone\",\"Alone\",\"Alone\",\"Friend(s)\",\"Friend(s)\",\"Partner\",\"Partner\",\"Partner\",\"Alone\",\"Alone\",\"Alone\",\"Alone\",\"Alone\",\"Alone\",\"Friend(s)\",\"Friend(s)\",\"Alone\",\"Partner\",\"Partner\",\"Partner\",\"Alone\",\"Alone\",\"Alone\",\"Alone\",\"Alone\",\"Alone\",\"Alone\",\"Alone\",\"Friend(s)\",\"Partner\",\"Alone\",\"Alone\",\"Alone\",\"Alone\",\"Alone\",\"Alone\",\"Alone\",\"Alone\",\"Alone\",\"Alone\",\"Friend(s)\",\"Friend(s)\",\"Alone\",\"Alone\",\"Alone\",\"Alone\",\"Alone\",\"Friend(s)\",\"Friend(s)\",\"Alone\",\"Alone\",\"Alone\",\"Alone\",\"Alone\",\"Alone\",\"Friend(s)\",\"Friend(s)\",\"Partner\",\"Partner\",\"Partner\",\"Alone\",\"Alone\",\"Alone\",\"Alone\",\"Alone\",\"Alone\",\"Friend(s)\",\"Friend(s)\",\"Alone\",\"Alone\",\"Alone\",\"Alone\",\"Alone\",\"Kid(s)\",\"Friend(s)\",\"Friend(s)\",\"Kid(s)\",\"Kid(s)\",\"Alone\",\"Alone\",\"Alone\",\"Alone\",\"Alone\",\"Alone\",\"Friend(s)\",\"Alone\",\"Alone\",\"Alone\",\"Alone\",\"Alone\",\"Alone\",\"Alone\",\"Alone\",\"Alone\",\"Alone\",\"Alone\",\"Friend(s)\",\"Alone\",\"Alone\",\"Alone\",\"Alone\",\"Friend(s)\",\"Friend(s)\",\"Partner\",\"Partner\",\"Partner\",\"Alone\",\"Alone\",\"Alone\",\"Alone\",\"Alone\",\"Alone\",\"Friend(s)\",\"Kid(s)\",\"Alone\",\"Alone\",\"Alone\",\"Alone\",\"Friend(s)\",\"Partner\",\"Partner\",\"Partner\",\"Alone\",\"Alone\",\"Alone\",\"Alone\",\"Alone\",\"Alone\",\"Friend(s)\",\"Friend(s)\",\"Kid(s)\",\"Kid(s)\",\"Alone\",\"Alone\",\"Alone\",\"Alone\",\"Alone\",\"Alone\",\"Alone\",\"Friend(s)\",\"Friend(s)\",\"Partner\",\"Partner\",\"Partner\",\"Alone\",\"Alone\",\"Alone\",\"Alone\",\"Alone\",\"Alone\",\"Alone\",\"Alone\",\"Friend(s)\",\"Friend(s)\",\"Alone\",\"Alone\",\"Alone\",\"Alone\",\"Alone\",\"Alone\",\"Alone\",\"Alone\",\"Alone\",\"Alone\",\"Alone\",\"Alone\",\"Alone\",\"Alone\",\"Alone\",\"Friend(s)\",\"Friend(s)\",\"Partner\",\"Partner\",\"Partner\",\"Alone\",\"Alone\",\"Alone\",\"Alone\",\"Alone\",\"Alone\",\"Friend(s)\",\"Friend(s)\",\"Partner\",\"Partner\",\"Partner\",\"Alone\",\"Alone\",\"Alone\",\"Alone\",\"Alone\",\"Alone\",\"Alone\",\"Alone\",\"Alone\",\"Friend(s)\",\"Alone\",\"Alone\",\"Alone\",\"Alone\",\"Alone\",\"Alone\",\"Alone\",\"Alone\",\"Kid(s)\",\"Alone\",\"Alone\",\"Alone\",\"Alone\",\"Alone\",\"Alone\",\"Alone\",\"Alone\",\"Alone\",\"Alone\",\"Friend(s)\",\"Alone\",\"Alone\",\"Alone\",\"Alone\",\"Alone\",\"Friend(s)\",\"Alone\",\"Alone\",\"Friend(s)\",\"Alone\",\"Alone\",\"Alone\",\"Alone\",\"Alone\",\"Alone\",\"Friend(s)\",\"Alone\",\"Alone\",\"Alone\",\"Alone\",\"Alone\",\"Alone\",\"Alone\",\"Alone\",\"Alone\",\"Alone\",\"Friend(s)\",\"Friend(s)\",\"Alone\",\"Alone\",\"Alone\",\"Alone\",\"Alone\",\"Alone\",\"Alone\",\"Friend(s)\",\"Friend(s)\",\"Alone\",\"Alone\",\"Alone\",\"Alone\",\"Alone\",\"Alone\",\"Friend(s)\",\"Alone\",\"Alone\",\"Friend(s)\",\"Partner\",\"Partner\",\"Partner\",\"Alone\",\"Alone\",\"Alone\",\"Alone\",\"Alone\",\"Friend(s)\",\"Kid(s)\",\"Alone\",\"Alone\",\"Alone\",\"Alone\",\"Alone\",\"Alone\",\"Alone\",\"Alone\",\"Alone\",\"Alone\",\"Alone\",\"Alone\",\"Alone\",\"Friend(s)\",\"Alone\",\"Alone\",\"Alone\",\"Friend(s)\",\"Kid(s)\",\"Alone\",\"Alone\",\"Alone\",\"Alone\",\"Alone\",\"Alone\",\"Alone\",\"Alone\",\"Alone\",\"Alone\",\"Alone\",\"Alone\",\"Friend(s)\",\"Kid(s)\",\"Alone\",\"Alone\",\"Alone\",\"Alone\",\"Alone\",\"Alone\",\"Alone\",\"Alone\",\"Kid(s)\",\"Alone\",\"Kid(s)\",\"Alone\",\"Alone\",\"Alone\",\"Alone\",\"Alone\",\"Alone\",\"Alone\",\"Alone\",\"Friend(s)\",\"Partner\",\"Partner\",\"Alone\",\"Alone\",\"Alone\",\"Alone\",\"Friend(s)\",\"Kid(s)\",\"Alone\",\"Friend(s)\",\"Alone\",\"Alone\",\"Friend(s)\",\"Kid(s)\",\"Alone\",\"Alone\",\"Alone\",\"Friend(s)\",\"Partner\",\"Alone\",\"Partner\",\"Alone\",\"Alone\",\"Friend(s)\",\"Friend(s)\",\"Alone\",\"Alone\",\"Alone\",\"Alone\",\"Friend(s)\",\"Alone\",\"Alone\",\"Alone\",\"Alone\",\"Alone\",\"Alone\",\"Kid(s)\",\"Alone\",\"Alone\",\"Alone\",\"Alone\",\"Friend(s)\",\"Alone\",\"Alone\",\"Alone\",\"Alone\",\"Partner\",\"Alone\",\"Partner\",\"Kid(s)\",\"Alone\",\"Alone\",\"Partner\",\"Alone\",\"Partner\",\"Alone\",\"Friend(s)\",\"Alone\",\"Alone\",\"Partner\",\"Alone\",\"Alone\",\"Alone\",\"Alone\",\"Friend(s)\",\"Alone\",\"Partner\",\"Alone\",\"Alone\",\"Alone\",\"Alone\",\"Alone\",\"Alone\",\"Partner\",\"Partner\",\"Alone\",\"Friend(s)\",\"Partner\",\"Alone\",\"Partner\",\"Alone\",\"Alone\",\"Partner\",\"Alone\",\"Partner\",\"Alone\",\"Alone\",\"Partner\",\"Alone\",\"Alone\",\"Alone\",\"Friend(s)\",\"Kid(s)\",\"Alone\",\"Kid(s)\",\"Alone\",\"Alone\",\"Friend(s)\",\"Partner\",\"Alone\",\"Partner\",\"Alone\",\"Friend(s)\",\"Alone\",\"Alone\",\"Alone\",\"Friend(s)\",\"Alone\",\"Alone\",\"Alone\",\"Kid(s)\",\"Alone\",\"Alone\",\"Alone\",\"Alone\",\"Friend(s)\",\"Friend(s)\",\"Alone\",\"Alone\",\"Alone\",\"Friend(s)\",\"Alone\",\"Partner\",\"Alone\",\"Partner\",\"Alone\",\"Alone\",\"Friend(s)\",\"Kid(s)\",\"Alone\",\"Alone\",\"Alone\",\"Alone\",\"Alone\",\"Alone\",\"Alone\",\"Friend(s)\",\"Kid(s)\",\"Alone\",\"Alone\",\"Alone\",\"Partner\",\"Alone\",\"Alone\",\"Alone\",\"Alone\",\"Friend(s)\",\"Partner\",\"Alone\",\"Partner\",\"Alone\",\"Alone\",\"Partner\",\"Alone\",\"Alone\",\"Alone\",\"Friend(s)\",\"Kid(s)\",\"Alone\",\"Alone\",\"Alone\",\"Alone\",\"Alone\",\"Alone\",\"Alone\",\"Friend(s)\",\"Alone\",\"Alone\",\"Alone\",\"Partner\",\"Alone\",\"Alone\",\"Alone\",\"Alone\",\"Partner\",\"Alone\",\"Alone\",\"Alone\",\"Alone\",\"Alone\",\"Alone\",\"Alone\",\"Friend(s)\",\"Partner\",\"Alone\",\"Partner\",\"Alone\",\"Friend(s)\",\"Kid(s)\",\"Alone\",\"Alone\",\"Friend(s)\",\"Partner\",\"Alone\",\"Partner\",\"Alone\",\"Alone\",\"Alone\",\"Alone\",\"Friend(s)\",\"Alone\",\"Alone\",\"Alone\",\"Friend(s)\",\"Kid(s)\",\"Alone\",\"Friend(s)\",\"Alone\",\"Kid(s)\",\"Kid(s)\",\"Alone\",\"Alone\",\"Alone\",\"Alone\",\"Friend(s)\",\"Alone\",\"Alone\",\"Alone\",\"Friend(s)\",\"Alone\",\"Partner\",\"Alone\",\"Alone\",\"Friend(s)\",\"Alone\",\"Partner\",\"Alone\",\"Alone\",\"Friend(s)\",\"Alone\",\"Alone\",\"Alone\",\"Alone\",\"Partner\",\"Alone\",\"Alone\",\"Alone\",\"Friend(s)\",\"Alone\",\"Alone\",\"Alone\",\"Friend(s)\",\"Alone\",\"Alone\",\"Friend(s)\",\"Partner\",\"Alone\",\"Alone\",\"Friend(s)\",\"Alone\",\"Alone\",\"Alone\",\"Friend(s)\",\"Alone\",\"Kid(s)\",\"Kid(s)\",\"Alone\",\"Friend(s)\",\"Alone\",\"Partner\",\"Alone\",\"Alone\",\"Alone\",\"Alone\",\"Alone\",\"Alone\",\"Kid(s)\",\"Alone\",\"Friend(s)\",\"Alone\",\"Alone\",\"Alone\",\"Alone\",\"Friend(s)\",\"Alone\",\"Alone\",\"Alone\",\"Alone\",\"Alone\",\"Alone\",\"Partner\",\"Alone\",\"Alone\",\"Alone\",\"Friend(s)\",\"Alone\",\"Alone\",\"Alone\",\"Friend(s)\",\"Alone\",\"Friend(s)\",\"Alone\",\"Alone\",\"Alone\",\"Alone\",\"Friend(s)\",\"Alone\",\"Partner\",\"Alone\",\"Kid(s)\",\"Kid(s)\",\"Alone\",\"Friend(s)\",\"Alone\",\"Alone\",\"Alone\",\"Partner\",\"Alone\",\"Friend(s)\",\"Alone\",\"Alone\",\"Alone\",\"Friend(s)\",\"Kid(s)\",\"Alone\",\"Friend(s)\",\"Alone\",\"Partner\",\"Alone\",\"Alone\",\"Alone\",\"Alone\",\"Alone\",\"Alone\",\"Alone\",\"Alone\",\"Alone\",\"Friend(s)\",\"Alone\",\"Kid(s)\",\"Alone\",\"Kid(s)\",\"Kid(s)\",\"Kid(s)\",\"Alone\",\"Alone\",\"Alone\",\"Alone\",\"Alone\",\"Partner\",\"Alone\",\"Alone\",\"Friend(s)\",\"Alone\",\"Kid(s)\",\"Kid(s)\",\"Alone\",\"Friend(s)\",\"Alone\",\"Kid(s)\",\"Kid(s)\",\"Alone\",\"Alone\",\"Friend(s)\",\"Alone\",\"Alone\",\"Alone\",\"Alone\",\"Alone\",\"Alone\",\"Alone\",\"Alone\",\"Alone\",\"Alone\",\"Alone\",\"Alone\",\"Alone\",\"Alone\",\"Alone\",\"Alone\",\"Alone\",\"Alone\",\"Alone\",\"Alone\",\"Alone\",\"Alone\",\"Alone\",\"Alone\",\"Alone\",\"Alone\",\"Alone\",\"Alone\",\"Alone\",\"Alone\",\"Alone\",\"Alone\",\"Alone\",\"Alone\",\"Alone\",\"Alone\",\"Alone\",\"Alone\",\"Alone\",\"Alone\",\"Alone\",\"Alone\",\"Alone\",\"Alone\",\"Alone\",\"Alone\",\"Alone\",\"Alone\",\"Alone\",\"Alone\",\"Alone\",\"Alone\",\"Alone\",\"Alone\",\"Alone\",\"Alone\",\"Alone\",\"Alone\",\"Alone\",\"Alone\",\"Alone\",\"Alone\",\"Alone\",\"Alone\",\"Alone\",\"Alone\",\"Alone\",\"Alone\",\"Alone\",\"Alone\",\"Alone\",\"Alone\",\"Alone\",\"Alone\",\"Alone\",\"Alone\",\"Alone\",\"Alone\",\"Alone\",\"Alone\",\"Alone\",\"Alone\",\"Alone\",\"Alone\",\"Alone\",\"Alone\",\"Alone\",\"Alone\",\"Alone\",\"Alone\",\"Alone\",\"Alone\",\"Alone\",\"Alone\",\"Alone\",\"Alone\",\"Alone\",\"Alone\",\"Alone\",\"Alone\",\"Alone\",\"Alone\",\"Alone\",\"Alone\",\"Alone\",\"Alone\",\"Alone\",\"Alone\",\"Alone\",\"Alone\",\"Alone\",\"Alone\",\"Alone\",\"Alone\",\"Alone\",\"Alone\",\"Alone\",\"Alone\",\"Alone\",\"Alone\",\"Alone\",\"Alone\",\"Alone\",\"Alone\",\"Alone\",\"Alone\",\"Alone\",\"Alone\",\"Alone\",\"Alone\",\"Alone\",\"Alone\",\"Alone\",\"Alone\",\"Alone\",\"Alone\",\"Alone\",\"Alone\",\"Alone\",\"Alone\",\"Alone\",\"Alone\",\"Alone\",\"Alone\"],\"xaxis\":\"x\",\"yaxis\":\"y\",\"type\":\"histogram\"},{\"alignmentgroup\":\"True\",\"bingroup\":\"x\",\"hovertemplate\":\"Y=1<br>passanger=%{x}<br>count=%{y}<extra></extra>\",\"legendgroup\":\"1\",\"marker\":{\"color\":\"#EF553B\",\"pattern\":{\"shape\":\"\"}},\"name\":\"1\",\"offsetgroup\":\"1\",\"orientation\":\"v\",\"showlegend\":true,\"x\":[\"Friend(s)\",\"Friend(s)\",\"Friend(s)\",\"Friend(s)\",\"Alone\",\"Friend(s)\",\"Friend(s)\",\"Friend(s)\",\"Alone\",\"Friend(s)\",\"Friend(s)\",\"Friend(s)\",\"Friend(s)\",\"Friend(s)\",\"Friend(s)\",\"Alone\",\"Alone\",\"Alone\",\"Alone\",\"Friend(s)\",\"Friend(s)\",\"Friend(s)\",\"Alone\",\"Alone\",\"Friend(s)\",\"Friend(s)\",\"Friend(s)\",\"Friend(s)\",\"Friend(s)\",\"Friend(s)\",\"Friend(s)\",\"Friend(s)\",\"Friend(s)\",\"Friend(s)\",\"Friend(s)\",\"Alone\",\"Friend(s)\",\"Friend(s)\",\"Friend(s)\",\"Partner\",\"Partner\",\"Alone\",\"Friend(s)\",\"Friend(s)\",\"Friend(s)\",\"Friend(s)\",\"Alone\",\"Alone\",\"Friend(s)\",\"Alone\",\"Friend(s)\",\"Friend(s)\",\"Friend(s)\",\"Kid(s)\",\"Alone\",\"Alone\",\"Alone\",\"Friend(s)\",\"Friend(s)\",\"Friend(s)\",\"Friend(s)\",\"Partner\",\"Partner\",\"Friend(s)\",\"Friend(s)\",\"Friend(s)\",\"Friend(s)\",\"Friend(s)\",\"Alone\",\"Friend(s)\",\"Partner\",\"Partner\",\"Alone\",\"Friend(s)\",\"Friend(s)\",\"Friend(s)\",\"Alone\",\"Friend(s)\",\"Friend(s)\",\"Friend(s)\",\"Friend(s)\",\"Alone\",\"Alone\",\"Alone\",\"Friend(s)\",\"Friend(s)\",\"Friend(s)\",\"Friend(s)\",\"Friend(s)\",\"Friend(s)\",\"Alone\",\"Alone\",\"Alone\",\"Friend(s)\",\"Friend(s)\",\"Friend(s)\",\"Alone\",\"Friend(s)\",\"Friend(s)\",\"Alone\",\"Friend(s)\",\"Friend(s)\",\"Friend(s)\",\"Friend(s)\",\"Friend(s)\",\"Friend(s)\",\"Alone\",\"Alone\",\"Alone\",\"Alone\",\"Friend(s)\",\"Friend(s)\",\"Friend(s)\",\"Alone\",\"Alone\",\"Alone\",\"Friend(s)\",\"Friend(s)\",\"Friend(s)\",\"Friend(s)\",\"Alone\",\"Friend(s)\",\"Friend(s)\",\"Alone\",\"Alone\",\"Alone\",\"Alone\",\"Friend(s)\",\"Friend(s)\",\"Friend(s)\",\"Partner\",\"Partner\",\"Alone\",\"Alone\",\"Friend(s)\",\"Friend(s)\",\"Friend(s)\",\"Friend(s)\",\"Friend(s)\",\"Alone\",\"Alone\",\"Friend(s)\",\"Friend(s)\",\"Friend(s)\",\"Friend(s)\",\"Alone\",\"Alone\",\"Friend(s)\",\"Friend(s)\",\"Friend(s)\",\"Partner\",\"Partner\",\"Friend(s)\",\"Friend(s)\",\"Friend(s)\",\"Friend(s)\",\"Friend(s)\",\"Alone\",\"Friend(s)\",\"Friend(s)\",\"Friend(s)\",\"Alone\",\"Alone\",\"Alone\",\"Friend(s)\",\"Friend(s)\",\"Friend(s)\",\"Partner\",\"Partner\",\"Friend(s)\",\"Friend(s)\",\"Friend(s)\",\"Alone\",\"Friend(s)\",\"Friend(s)\",\"Alone\",\"Alone\",\"Friend(s)\",\"Partner\",\"Partner\",\"Alone\",\"Friend(s)\",\"Alone\",\"Alone\",\"Friend(s)\",\"Friend(s)\",\"Kid(s)\",\"Alone\",\"Friend(s)\",\"Partner\",\"Partner\",\"Alone\",\"Friend(s)\",\"Friend(s)\",\"Friend(s)\",\"Friend(s)\",\"Friend(s)\",\"Friend(s)\",\"Alone\",\"Friend(s)\",\"Friend(s)\",\"Alone\",\"Alone\",\"Alone\",\"Friend(s)\",\"Alone\",\"Friend(s)\",\"Friend(s)\",\"Friend(s)\",\"Friend(s)\",\"Partner\",\"Partner\",\"Alone\",\"Alone\",\"Friend(s)\",\"Friend(s)\",\"Friend(s)\",\"Alone\",\"Alone\",\"Friend(s)\",\"Friend(s)\",\"Partner\",\"Partner\",\"Alone\",\"Friend(s)\",\"Friend(s)\",\"Friend(s)\",\"Partner\",\"Partner\",\"Alone\",\"Alone\",\"Alone\",\"Friend(s)\",\"Friend(s)\",\"Friend(s)\",\"Alone\",\"Alone\",\"Friend(s)\",\"Alone\",\"Friend(s)\",\"Friend(s)\",\"Friend(s)\",\"Kid(s)\",\"Friend(s)\",\"Friend(s)\",\"Friend(s)\",\"Partner\",\"Partner\",\"Alone\",\"Friend(s)\",\"Friend(s)\",\"Partner\",\"Friend(s)\",\"Friend(s)\",\"Friend(s)\",\"Kid(s)\",\"Alone\",\"Alone\",\"Alone\",\"Friend(s)\",\"Friend(s)\",\"Friend(s)\",\"Alone\",\"Friend(s)\",\"Friend(s)\",\"Alone\",\"Friend(s)\",\"Friend(s)\",\"Friend(s)\",\"Friend(s)\",\"Friend(s)\",\"Friend(s)\",\"Alone\",\"Alone\",\"Alone\",\"Alone\",\"Friend(s)\",\"Friend(s)\",\"Friend(s)\",\"Alone\",\"Alone\",\"Friend(s)\",\"Friend(s)\",\"Friend(s)\",\"Friend(s)\",\"Alone\",\"Alone\",\"Friend(s)\",\"Friend(s)\",\"Friend(s)\",\"Friend(s)\",\"Friend(s)\",\"Friend(s)\",\"Friend(s)\",\"Friend(s)\",\"Alone\",\"Alone\",\"Friend(s)\",\"Partner\",\"Alone\",\"Alone\",\"Friend(s)\",\"Friend(s)\",\"Friend(s)\",\"Alone\",\"Alone\",\"Alone\",\"Friend(s)\",\"Friend(s)\",\"Friend(s)\",\"Friend(s)\",\"Friend(s)\",\"Friend(s)\",\"Friend(s)\",\"Friend(s)\",\"Alone\",\"Alone\",\"Alone\",\"Alone\",\"Friend(s)\",\"Friend(s)\",\"Friend(s)\",\"Friend(s)\",\"Friend(s)\",\"Friend(s)\",\"Friend(s)\",\"Friend(s)\",\"Friend(s)\",\"Friend(s)\",\"Friend(s)\",\"Friend(s)\",\"Alone\",\"Alone\",\"Friend(s)\",\"Friend(s)\",\"Friend(s)\",\"Friend(s)\",\"Friend(s)\",\"Friend(s)\",\"Friend(s)\",\"Friend(s)\",\"Friend(s)\",\"Friend(s)\",\"Friend(s)\",\"Friend(s)\",\"Alone\",\"Alone\",\"Kid(s)\",\"Friend(s)\",\"Alone\",\"Friend(s)\",\"Friend(s)\",\"Partner\",\"Partner\",\"Alone\",\"Friend(s)\",\"Friend(s)\",\"Friend(s)\",\"Alone\",\"Friend(s)\",\"Friend(s)\",\"Alone\",\"Friend(s)\",\"Friend(s)\",\"Friend(s)\",\"Friend(s)\",\"Friend(s)\",\"Friend(s)\",\"Friend(s)\",\"Friend(s)\",\"Friend(s)\",\"Alone\",\"Alone\",\"Friend(s)\",\"Friend(s)\",\"Friend(s)\",\"Friend(s)\",\"Friend(s)\",\"Friend(s)\",\"Alone\",\"Friend(s)\",\"Friend(s)\",\"Friend(s)\",\"Kid(s)\",\"Alone\",\"Alone\",\"Friend(s)\",\"Friend(s)\",\"Friend(s)\",\"Friend(s)\",\"Friend(s)\",\"Friend(s)\",\"Alone\",\"Alone\",\"Friend(s)\",\"Alone\",\"Partner\",\"Partner\",\"Alone\",\"Friend(s)\",\"Friend(s)\",\"Friend(s)\",\"Friend(s)\",\"Alone\",\"Alone\",\"Friend(s)\",\"Friend(s)\",\"Friend(s)\",\"Partner\",\"Partner\",\"Alone\",\"Alone\",\"Friend(s)\",\"Friend(s)\",\"Friend(s)\",\"Friend(s)\",\"Friend(s)\",\"Friend(s)\",\"Friend(s)\",\"Friend(s)\",\"Alone\",\"Alone\",\"Friend(s)\",\"Friend(s)\",\"Friend(s)\",\"Partner\",\"Partner\",\"Alone\",\"Friend(s)\",\"Friend(s)\",\"Friend(s)\",\"Partner\",\"Partner\",\"Friend(s)\",\"Friend(s)\",\"Friend(s)\",\"Friend(s)\",\"Friend(s)\",\"Friend(s)\",\"Alone\",\"Alone\",\"Alone\",\"Alone\",\"Friend(s)\",\"Friend(s)\",\"Friend(s)\",\"Kid(s)\",\"Alone\",\"Alone\",\"Friend(s)\",\"Friend(s)\",\"Friend(s)\",\"Friend(s)\",\"Friend(s)\",\"Friend(s)\",\"Alone\",\"Alone\",\"Alone\",\"Alone\",\"Friend(s)\",\"Friend(s)\",\"Friend(s)\",\"Friend(s)\",\"Friend(s)\",\"Friend(s)\",\"Alone\",\"Alone\",\"Friend(s)\",\"Friend(s)\",\"Alone\",\"Alone\",\"Friend(s)\",\"Friend(s)\",\"Friend(s)\",\"Kid(s)\",\"Alone\",\"Alone\",\"Friend(s)\",\"Friend(s)\",\"Friend(s)\",\"Partner\",\"Partner\",\"Alone\",\"Alone\",\"Friend(s)\",\"Alone\",\"Alone\",\"Friend(s)\",\"Friend(s)\",\"Friend(s)\",\"Friend(s)\",\"Friend(s)\",\"Friend(s)\",\"Friend(s)\",\"Friend(s)\",\"Alone\",\"Alone\",\"Alone\",\"Friend(s)\",\"Friend(s)\",\"Friend(s)\",\"Friend(s)\",\"Friend(s)\",\"Friend(s)\",\"Alone\",\"Alone\",\"Alone\",\"Friend(s)\",\"Alone\",\"Alone\",\"Friend(s)\",\"Friend(s)\",\"Friend(s)\",\"Friend(s)\",\"Friend(s)\",\"Friend(s)\",\"Alone\",\"Alone\",\"Alone\",\"Friend(s)\",\"Friend(s)\",\"Friend(s)\",\"Friend(s)\",\"Friend(s)\",\"Friend(s)\",\"Friend(s)\",\"Alone\",\"Alone\",\"Friend(s)\",\"Friend(s)\",\"Alone\",\"Alone\",\"Friend(s)\",\"Friend(s)\",\"Friend(s)\",\"Alone\",\"Friend(s)\",\"Friend(s)\",\"Friend(s)\",\"Friend(s)\",\"Friend(s)\",\"Kid(s)\",\"Alone\",\"Alone\",\"Alone\",\"Friend(s)\",\"Friend(s)\",\"Alone\",\"Friend(s)\",\"Friend(s)\",\"Friend(s)\",\"Friend(s)\",\"Friend(s)\",\"Friend(s)\",\"Friend(s)\",\"Alone\",\"Alone\",\"Alone\",\"Alone\",\"Friend(s)\",\"Kid(s)\",\"Alone\",\"Alone\",\"Friend(s)\",\"Friend(s)\",\"Partner\",\"Partner\",\"Friend(s)\",\"Friend(s)\",\"Friend(s)\",\"Alone\",\"Friend(s)\",\"Alone\",\"Friend(s)\",\"Friend(s)\",\"Friend(s)\",\"Friend(s)\",\"Friend(s)\",\"Friend(s)\",\"Friend(s)\",\"Alone\",\"Friend(s)\",\"Alone\",\"Alone\",\"Friend(s)\",\"Friend(s)\",\"Partner\",\"Partner\",\"Alone\",\"Alone\",\"Friend(s)\",\"Friend(s)\",\"Friend(s)\",\"Friend(s)\",\"Alone\",\"Alone\",\"Friend(s)\",\"Friend(s)\",\"Friend(s)\",\"Friend(s)\",\"Friend(s)\",\"Alone\",\"Friend(s)\",\"Friend(s)\",\"Friend(s)\",\"Friend(s)\",\"Friend(s)\",\"Friend(s)\",\"Friend(s)\",\"Friend(s)\",\"Alone\",\"Alone\",\"Alone\",\"Friend(s)\",\"Friend(s)\",\"Friend(s)\",\"Partner\",\"Partner\",\"Alone\",\"Friend(s)\",\"Friend(s)\",\"Friend(s)\",\"Friend(s)\",\"Friend(s)\",\"Friend(s)\",\"Friend(s)\",\"Alone\",\"Alone\",\"Alone\",\"Friend(s)\",\"Friend(s)\",\"Friend(s)\",\"Kid(s)\",\"Alone\",\"Alone\",\"Friend(s)\",\"Partner\",\"Partner\",\"Alone\",\"Alone\",\"Friend(s)\",\"Friend(s)\",\"Friend(s)\",\"Partner\",\"Partner\",\"Alone\",\"Friend(s)\",\"Friend(s)\",\"Alone\",\"Alone\",\"Friend(s)\",\"Friend(s)\",\"Friend(s)\",\"Partner\",\"Partner\",\"Alone\",\"Alone\",\"Friend(s)\",\"Friend(s)\",\"Alone\",\"Friend(s)\",\"Friend(s)\",\"Friend(s)\",\"Friend(s)\",\"Friend(s)\",\"Alone\",\"Alone\",\"Friend(s)\",\"Friend(s)\",\"Friend(s)\",\"Friend(s)\",\"Partner\",\"Partner\",\"Friend(s)\",\"Friend(s)\",\"Friend(s)\",\"Friend(s)\",\"Friend(s)\",\"Friend(s)\",\"Friend(s)\",\"Friend(s)\",\"Alone\",\"Alone\",\"Friend(s)\",\"Friend(s)\",\"Kid(s)\",\"Kid(s)\",\"Alone\",\"Alone\",\"Alone\",\"Friend(s)\",\"Friend(s)\",\"Partner\",\"Partner\",\"Partner\",\"Alone\",\"Alone\",\"Alone\",\"Alone\",\"Alone\",\"Friend(s)\",\"Friend(s)\",\"Kid(s)\",\"Kid(s)\",\"Alone\",\"Alone\",\"Alone\",\"Alone\",\"Alone\",\"Alone\",\"Friend(s)\",\"Friend(s)\",\"Partner\",\"Alone\",\"Alone\",\"Alone\",\"Friend(s)\",\"Friend(s)\",\"Alone\",\"Alone\",\"Alone\",\"Alone\",\"Alone\",\"Alone\",\"Friend(s)\",\"Friend(s)\",\"Alone\",\"Friend(s)\",\"Friend(s)\",\"Partner\",\"Partner\",\"Partner\",\"Alone\",\"Alone\",\"Alone\",\"Alone\",\"Alone\",\"Friend(s)\",\"Friend(s)\",\"Partner\",\"Friend(s)\",\"Friend(s)\",\"Partner\",\"Alone\",\"Alone\",\"Alone\",\"Alone\",\"Alone\",\"Friend(s)\",\"Friend(s)\",\"Partner\",\"Partner\",\"Partner\",\"Alone\",\"Alone\",\"Alone\",\"Alone\",\"Alone\",\"Friend(s)\",\"Friend(s)\",\"Partner\",\"Alone\",\"Alone\",\"Alone\",\"Alone\",\"Friend(s)\",\"Friend(s)\",\"Partner\",\"Partner\",\"Partner\",\"Alone\",\"Alone\",\"Alone\",\"Friend(s)\",\"Friend(s)\",\"Kid(s)\",\"Kid(s)\",\"Friend(s)\",\"Friend(s)\",\"Kid(s)\",\"Alone\",\"Alone\",\"Alone\",\"Friend(s)\",\"Friend(s)\",\"Partner\",\"Partner\",\"Partner\",\"Alone\",\"Alone\",\"Alone\",\"Alone\",\"Friend(s)\",\"Friend(s)\",\"Alone\",\"Alone\",\"Alone\",\"Alone\",\"Friend(s)\",\"Alone\",\"Alone\",\"Alone\",\"Friend(s)\",\"Partner\",\"Partner\",\"Alone\",\"Alone\",\"Alone\",\"Alone\",\"Friend(s)\",\"Friend(s)\",\"Friend(s)\",\"Partner\",\"Partner\",\"Alone\",\"Alone\",\"Friend(s)\",\"Friend(s)\",\"Partner\",\"Partner\",\"Friend(s)\",\"Alone\",\"Alone\",\"Alone\",\"Friend(s)\",\"Friend(s)\",\"Alone\",\"Alone\",\"Alone\",\"Alone\",\"Alone\",\"Friend(s)\",\"Alone\",\"Alone\",\"Alone\",\"Friend(s)\",\"Friend(s)\",\"Alone\",\"Alone\",\"Alone\",\"Alone\",\"Alone\",\"Alone\",\"Friend(s)\",\"Friend(s)\",\"Kid(s)\",\"Alone\",\"Alone\",\"Alone\",\"Alone\",\"Alone\",\"Alone\",\"Friend(s)\",\"Alone\",\"Alone\",\"Alone\",\"Alone\",\"Alone\",\"Friend(s)\",\"Alone\",\"Alone\",\"Friend(s)\",\"Friend(s)\",\"Friend(s)\",\"Partner\",\"Partner\",\"Partner\",\"Kid(s)\",\"Kid(s)\",\"Alone\",\"Alone\",\"Alone\",\"Alone\",\"Alone\",\"Alone\",\"Friend(s)\",\"Friend(s)\",\"Partner\",\"Partner\",\"Partner\",\"Alone\",\"Alone\",\"Alone\",\"Alone\",\"Alone\",\"Alone\",\"Friend(s)\",\"Friend(s)\",\"Alone\",\"Alone\",\"Friend(s)\",\"Friend(s)\",\"Friend(s)\",\"Friend(s)\",\"Partner\",\"Partner\",\"Partner\",\"Alone\",\"Alone\",\"Alone\",\"Friend(s)\",\"Friend(s)\",\"Kid(s)\",\"Alone\",\"Alone\",\"Friend(s)\",\"Friend(s)\",\"Kid(s)\",\"Kid(s)\",\"Alone\",\"Alone\",\"Alone\",\"Alone\",\"Alone\",\"Friend(s)\",\"Partner\",\"Partner\",\"Partner\",\"Alone\",\"Alone\",\"Alone\",\"Partner\",\"Partner\",\"Partner\",\"Alone\",\"Alone\",\"Alone\",\"Alone\",\"Alone\",\"Friend(s)\",\"Friend(s)\",\"Alone\",\"Friend(s)\",\"Friend(s)\",\"Alone\",\"Alone\",\"Alone\",\"Friend(s)\",\"Partner\",\"Partner\",\"Alone\",\"Alone\",\"Friend(s)\",\"Friend(s)\",\"Alone\",\"Alone\",\"Friend(s)\",\"Friend(s)\",\"Kid(s)\",\"Alone\",\"Alone\",\"Alone\",\"Alone\",\"Alone\",\"Alone\",\"Alone\",\"Alone\",\"Friend(s)\",\"Friend(s)\",\"Alone\",\"Alone\",\"Alone\",\"Alone\",\"Friend(s)\",\"Alone\",\"Alone\",\"Alone\",\"Alone\",\"Friend(s)\",\"Friend(s)\",\"Alone\",\"Alone\",\"Alone\",\"Alone\",\"Friend(s)\",\"Friend(s)\",\"Alone\",\"Alone\",\"Alone\",\"Alone\",\"Alone\",\"Friend(s)\",\"Friend(s)\",\"Partner\",\"Partner\",\"Partner\",\"Alone\",\"Alone\",\"Alone\",\"Alone\",\"Alone\",\"Friend(s)\",\"Friend(s)\",\"Alone\",\"Alone\",\"Friend(s)\",\"Friend(s)\",\"Kid(s)\",\"Kid(s)\",\"Alone\",\"Alone\",\"Alone\",\"Alone\",\"Alone\",\"Friend(s)\",\"Alone\",\"Alone\",\"Friend(s)\",\"Kid(s)\",\"Alone\",\"Alone\",\"Alone\",\"Alone\",\"Friend(s)\",\"Friend(s)\",\"Alone\",\"Alone\",\"Alone\",\"Alone\",\"Friend(s)\",\"Friend(s)\",\"Friend(s)\",\"Kid(s)\",\"Kid(s)\",\"Alone\",\"Alone\",\"Alone\",\"Alone\",\"Alone\",\"Friend(s)\",\"Friend(s)\",\"Alone\",\"Alone\",\"Alone\",\"Alone\",\"Alone\",\"Alone\",\"Friend(s)\",\"Friend(s)\",\"Partner\",\"Partner\",\"Partner\",\"Alone\",\"Alone\",\"Alone\",\"Alone\",\"Alone\",\"Alone\",\"Friend(s)\",\"Friend(s)\",\"Alone\",\"Alone\",\"Alone\",\"Friend(s)\",\"Friend(s)\",\"Partner\",\"Partner\",\"Partner\",\"Alone\",\"Alone\",\"Alone\",\"Friend(s)\",\"Friend(s)\",\"Alone\",\"Friend(s)\",\"Friend(s)\",\"Alone\",\"Alone\",\"Alone\",\"Alone\",\"Alone\",\"Alone\",\"Friend(s)\",\"Friend(s)\",\"Partner\",\"Partner\",\"Partner\",\"Kid(s)\",\"Kid(s)\",\"Alone\",\"Alone\",\"Alone\",\"Friend(s)\",\"Partner\",\"Partner\",\"Partner\",\"Alone\",\"Alone\",\"Friend(s)\",\"Friend(s)\",\"Partner\",\"Partner\",\"Partner\",\"Alone\",\"Alone\",\"Friend(s)\",\"Friend(s)\",\"Kid(s)\",\"Alone\",\"Friend(s)\",\"Friend(s)\",\"Alone\",\"Alone\",\"Alone\",\"Alone\",\"Friend(s)\",\"Friend(s)\",\"Partner\",\"Partner\",\"Partner\",\"Alone\",\"Alone\",\"Alone\",\"Friend(s)\",\"Partner\",\"Partner\",\"Partner\",\"Alone\",\"Friend(s)\",\"Alone\",\"Alone\",\"Alone\",\"Alone\",\"Friend(s)\",\"Friend(s)\",\"Friend(s)\",\"Partner\",\"Partner\",\"Partner\",\"Alone\",\"Alone\",\"Alone\",\"Alone\",\"Alone\",\"Alone\",\"Friend(s)\",\"Partner\",\"Alone\",\"Friend(s)\",\"Friend(s)\",\"Alone\",\"Friend(s)\",\"Friend(s)\",\"Kid(s)\",\"Kid(s)\",\"Alone\",\"Alone\",\"Alone\",\"Alone\",\"Alone\",\"Alone\",\"Friend(s)\",\"Friend(s)\",\"Alone\",\"Alone\",\"Alone\",\"Alone\",\"Alone\",\"Friend(s)\",\"Friend(s)\",\"Kid(s)\",\"Kid(s)\",\"Alone\",\"Alone\",\"Alone\",\"Alone\",\"Alone\",\"Alone\",\"Friend(s)\",\"Alone\",\"Alone\",\"Alone\",\"Alone\",\"Alone\",\"Alone\",\"Friend(s)\",\"Friend(s)\",\"Alone\",\"Alone\",\"Alone\",\"Alone\",\"Friend(s)\",\"Alone\",\"Alone\",\"Kid(s)\",\"Alone\",\"Alone\",\"Friend(s)\",\"Alone\",\"Alone\",\"Alone\",\"Alone\",\"Friend(s)\",\"Alone\",\"Alone\",\"Alone\",\"Alone\",\"Alone\",\"Alone\",\"Alone\",\"Friend(s)\",\"Alone\",\"Alone\",\"Alone\",\"Alone\",\"Alone\",\"Alone\",\"Alone\",\"Alone\",\"Kid(s)\",\"Alone\",\"Alone\",\"Alone\",\"Alone\",\"Alone\",\"Alone\",\"Alone\",\"Friend(s)\",\"Alone\",\"Alone\",\"Alone\",\"Alone\",\"Alone\",\"Friend(s)\",\"Alone\",\"Alone\",\"Alone\",\"Kid(s)\",\"Alone\",\"Friend(s)\",\"Kid(s)\",\"Alone\",\"Alone\",\"Alone\",\"Alone\",\"Alone\",\"Friend(s)\",\"Alone\",\"Alone\",\"Kid(s)\",\"Alone\",\"Friend(s)\",\"Kid(s)\",\"Alone\",\"Alone\",\"Alone\",\"Alone\",\"Alone\",\"Alone\",\"Kid(s)\",\"Alone\",\"Alone\",\"Alone\",\"Alone\",\"Alone\",\"Alone\",\"Friend(s)\",\"Alone\",\"Alone\",\"Alone\",\"Alone\",\"Alone\",\"Alone\",\"Friend(s)\",\"Alone\",\"Alone\",\"Alone\",\"Alone\",\"Alone\",\"Alone\",\"Alone\",\"Alone\",\"Friend(s)\",\"Partner\",\"Alone\",\"Partner\",\"Alone\",\"Alone\",\"Friend(s)\",\"Kid(s)\",\"Alone\",\"Friend(s)\",\"Partner\",\"Partner\",\"Alone\",\"Friend(s)\",\"Alone\",\"Alone\",\"Friend(s)\",\"Alone\",\"Friend(s)\",\"Friend(s)\",\"Alone\",\"Alone\",\"Alone\",\"Alone\",\"Friend(s)\",\"Partner\",\"Alone\",\"Partner\",\"Alone\",\"Friend(s)\",\"Partner\",\"Partner\",\"Alone\",\"Alone\",\"Friend(s)\",\"Friend(s)\",\"Alone\",\"Alone\",\"Alone\",\"Friend(s)\",\"Kid(s)\",\"Alone\",\"Alone\",\"Alone\",\"Friend(s)\",\"Friend(s)\",\"Alone\",\"Alone\",\"Alone\",\"Alone\",\"Alone\",\"Kid(s)\",\"Alone\",\"Alone\",\"Alone\",\"Friend(s)\",\"Kid(s)\",\"Alone\",\"Alone\",\"Alone\",\"Friend(s)\",\"Partner\",\"Alone\",\"Partner\",\"Alone\",\"Friend(s)\",\"Kid(s)\",\"Alone\",\"Alone\",\"Alone\",\"Partner\",\"Alone\",\"Partner\",\"Alone\",\"Friend(s)\",\"Kid(s)\",\"Friend(s)\",\"Friend(s)\",\"Alone\",\"Alone\",\"Alone\",\"Friend(s)\",\"Alone\",\"Alone\",\"Friend(s)\",\"Kid(s)\",\"Friend(s)\",\"Alone\",\"Alone\",\"Friend(s)\",\"Kid(s)\",\"Alone\",\"Alone\",\"Friend(s)\",\"Friend(s)\",\"Alone\",\"Alone\",\"Friend(s)\",\"Alone\",\"Alone\",\"Friend(s)\",\"Alone\",\"Partner\",\"Alone\",\"Alone\",\"Friend(s)\",\"Kid(s)\",\"Alone\",\"Alone\",\"Partner\",\"Partner\",\"Alone\",\"Friend(s)\",\"Partner\",\"Alone\",\"Alone\",\"Friend(s)\",\"Friend(s)\",\"Alone\",\"Alone\",\"Partner\",\"Alone\",\"Friend(s)\",\"Friend(s)\",\"Friend(s)\",\"Alone\",\"Alone\",\"Alone\",\"Friend(s)\",\"Friend(s)\",\"Alone\",\"Alone\",\"Alone\",\"Alone\",\"Friend(s)\",\"Alone\",\"Alone\",\"Friend(s)\",\"Friend(s)\",\"Alone\",\"Alone\",\"Alone\",\"Friend(s)\",\"Alone\",\"Partner\",\"Alone\",\"Alone\",\"Friend(s)\",\"Friend(s)\",\"Alone\",\"Alone\",\"Alone\",\"Alone\",\"Friend(s)\",\"Kid(s)\",\"Alone\",\"Alone\",\"Alone\",\"Friend(s)\",\"Partner\",\"Alone\",\"Partner\",\"Alone\",\"Alone\",\"Friend(s)\",\"Friend(s)\",\"Alone\",\"Alone\",\"Alone\",\"Alone\",\"Alone\",\"Friend(s)\",\"Alone\",\"Alone\",\"Friend(s)\",\"Friend(s)\",\"Alone\",\"Alone\",\"Alone\",\"Alone\",\"Alone\",\"Friend(s)\",\"Alone\",\"Alone\",\"Friend(s)\",\"Alone\",\"Alone\",\"Friend(s)\",\"Alone\",\"Alone\",\"Friend(s)\",\"Kid(s)\",\"Alone\",\"Alone\",\"Partner\",\"Alone\",\"Friend(s)\",\"Alone\",\"Partner\",\"Friend(s)\",\"Friend(s)\",\"Alone\",\"Alone\",\"Alone\",\"Friend(s)\",\"Kid(s)\",\"Alone\",\"Alone\",\"Alone\",\"Friend(s)\",\"Alone\",\"Alone\",\"Alone\",\"Friend(s)\",\"Partner\",\"Alone\",\"Alone\",\"Friend(s)\",\"Kid(s)\",\"Alone\",\"Friend(s)\",\"Kid(s)\",\"Alone\",\"Alone\",\"Alone\",\"Friend(s)\",\"Friend(s)\",\"Alone\",\"Alone\",\"Alone\",\"Alone\",\"Friend(s)\",\"Partner\",\"Alone\",\"Friend(s)\",\"Kid(s)\",\"Alone\",\"Alone\",\"Friend(s)\",\"Friend(s)\",\"Alone\",\"Alone\",\"Alone\",\"Friend(s)\",\"Kid(s)\",\"Alone\",\"Kid(s)\",\"Alone\",\"Friend(s)\",\"Partner\",\"Alone\",\"Alone\",\"Friend(s)\",\"Kid(s)\",\"Friend(s)\",\"Partner\",\"Friend(s)\",\"Friend(s)\",\"Alone\",\"Alone\",\"Alone\",\"Alone\",\"Friend(s)\",\"Friend(s)\",\"Alone\",\"Alone\",\"Alone\",\"Friend(s)\",\"Partner\",\"Alone\",\"Partner\",\"Alone\",\"Alone\",\"Alone\",\"Friend(s)\",\"Kid(s)\",\"Friend(s)\",\"Alone\",\"Partner\",\"Alone\",\"Friend(s)\",\"Alone\",\"Kid(s)\",\"Kid(s)\",\"Alone\",\"Alone\",\"Alone\",\"Alone\",\"Alone\",\"Friend(s)\",\"Alone\",\"Partner\",\"Friend(s)\",\"Alone\",\"Alone\",\"Alone\",\"Friend(s)\",\"Alone\",\"Kid(s)\",\"Kid(s)\",\"Alone\",\"Alone\",\"Friend(s)\",\"Alone\",\"Kid(s)\",\"Kid(s)\",\"Alone\",\"Friend(s)\",\"Alone\",\"Alone\",\"Alone\",\"Friend(s)\",\"Alone\",\"Alone\",\"Alone\",\"Alone\",\"Kid(s)\",\"Alone\",\"Alone\",\"Friend(s)\",\"Alone\",\"Kid(s)\",\"Kid(s)\",\"Alone\",\"Friend(s)\",\"Alone\",\"Kid(s)\",\"Kid(s)\",\"Partner\",\"Alone\",\"Alone\",\"Friend(s)\",\"Alone\",\"Friend(s)\",\"Alone\",\"Alone\",\"Friend(s)\",\"Alone\",\"Alone\",\"Friend(s)\",\"Alone\",\"Alone\",\"Friend(s)\",\"Alone\",\"Alone\",\"Alone\",\"Friend(s)\",\"Alone\",\"Alone\",\"Alone\",\"Friend(s)\",\"Alone\",\"Alone\",\"Alone\",\"Alone\",\"Alone\",\"Friend(s)\",\"Alone\",\"Kid(s)\",\"Kid(s)\",\"Alone\",\"Alone\",\"Friend(s)\",\"Alone\",\"Partner\",\"Alone\",\"Alone\",\"Friend(s)\",\"Alone\",\"Partner\",\"Alone\",\"Alone\",\"Friend(s)\",\"Alone\",\"Kid(s)\",\"Kid(s)\",\"Alone\",\"Alone\",\"Alone\",\"Friend(s)\",\"Alone\",\"Alone\",\"Friend(s)\",\"Alone\",\"Alone\",\"Friend(s)\",\"Partner\",\"Alone\",\"Alone\",\"Friend(s)\",\"Alone\",\"Alone\",\"Friend(s)\",\"Alone\",\"Alone\",\"Friend(s)\",\"Kid(s)\",\"Alone\",\"Alone\",\"Friend(s)\",\"Partner\",\"Alone\",\"Friend(s)\",\"Alone\",\"Partner\",\"Alone\",\"Partner\",\"Alone\",\"Friend(s)\",\"Friend(s)\",\"Alone\",\"Alone\",\"Friend(s)\",\"Alone\",\"Alone\",\"Friend(s)\",\"Alone\",\"Alone\",\"Alone\",\"Friend(s)\",\"Alone\",\"Alone\",\"Friend(s)\",\"Alone\",\"Partner\",\"Alone\",\"Alone\",\"Friend(s)\",\"Alone\",\"Alone\",\"Alone\",\"Partner\",\"Alone\",\"Alone\",\"Friend(s)\",\"Alone\",\"Alone\",\"Friend(s)\",\"Alone\",\"Kid(s)\",\"Kid(s)\",\"Alone\",\"Alone\",\"Friend(s)\",\"Alone\",\"Partner\",\"Alone\",\"Alone\",\"Friend(s)\",\"Alone\",\"Alone\",\"Friend(s)\",\"Alone\",\"Alone\",\"Alone\",\"Friend(s)\",\"Alone\",\"Partner\",\"Alone\",\"Kid(s)\",\"Kid(s)\",\"Friend(s)\",\"Alone\",\"Alone\",\"Alone\",\"Alone\",\"Kid(s)\",\"Alone\",\"Alone\",\"Friend(s)\",\"Alone\",\"Kid(s)\",\"Kid(s)\",\"Alone\",\"Alone\",\"Friend(s)\",\"Alone\",\"Alone\",\"Alone\",\"Friend(s)\",\"Partner\",\"Alone\",\"Alone\",\"Friend(s)\",\"Alone\",\"Alone\",\"Friend(s)\",\"Alone\",\"Kid(s)\",\"Kid(s)\",\"Alone\",\"Friend(s)\",\"Alone\",\"Friend(s)\",\"Alone\",\"Friend(s)\",\"Kid(s)\",\"Kid(s)\",\"Alone\",\"Alone\",\"Friend(s)\",\"Alone\",\"Alone\",\"Alone\",\"Friend(s)\",\"Alone\",\"Kid(s)\",\"Alone\",\"Friend(s)\",\"Alone\",\"Alone\",\"Friend(s)\",\"Alone\",\"Friend(s)\",\"Alone\",\"Alone\",\"Friend(s)\",\"Alone\",\"Alone\",\"Alone\",\"Friend(s)\",\"Alone\",\"Alone\",\"Alone\",\"Partner\",\"Alone\",\"Alone\",\"Alone\",\"Alone\",\"Alone\",\"Alone\",\"Alone\",\"Alone\",\"Alone\",\"Alone\",\"Alone\",\"Alone\",\"Alone\",\"Alone\",\"Alone\",\"Alone\",\"Alone\",\"Alone\",\"Alone\",\"Alone\",\"Alone\",\"Alone\",\"Alone\",\"Alone\",\"Alone\",\"Alone\",\"Alone\",\"Alone\",\"Alone\",\"Alone\",\"Alone\",\"Alone\",\"Alone\",\"Alone\",\"Alone\",\"Alone\",\"Alone\",\"Alone\",\"Alone\",\"Alone\",\"Alone\",\"Alone\",\"Alone\",\"Alone\",\"Alone\",\"Alone\",\"Alone\",\"Alone\",\"Alone\",\"Alone\",\"Alone\",\"Alone\",\"Alone\",\"Alone\",\"Alone\",\"Alone\",\"Alone\",\"Alone\",\"Alone\",\"Alone\",\"Alone\",\"Alone\",\"Alone\",\"Alone\",\"Alone\",\"Alone\",\"Alone\",\"Alone\",\"Alone\",\"Alone\",\"Alone\",\"Alone\",\"Alone\",\"Alone\",\"Alone\",\"Alone\",\"Alone\",\"Alone\",\"Alone\",\"Alone\",\"Alone\",\"Alone\",\"Alone\",\"Alone\",\"Alone\",\"Alone\",\"Alone\",\"Alone\",\"Alone\",\"Alone\",\"Alone\",\"Alone\",\"Alone\",\"Alone\",\"Alone\",\"Alone\",\"Alone\"],\"xaxis\":\"x\",\"yaxis\":\"y\",\"type\":\"histogram\"}],                        {\"template\":{\"data\":{\"bar\":[{\"error_x\":{\"color\":\"#2a3f5f\"},\"error_y\":{\"color\":\"#2a3f5f\"},\"marker\":{\"line\":{\"color\":\"#E5ECF6\",\"width\":0.5},\"pattern\":{\"fillmode\":\"overlay\",\"size\":10,\"solidity\":0.2}},\"type\":\"bar\"}],\"barpolar\":[{\"marker\":{\"line\":{\"color\":\"#E5ECF6\",\"width\":0.5},\"pattern\":{\"fillmode\":\"overlay\",\"size\":10,\"solidity\":0.2}},\"type\":\"barpolar\"}],\"carpet\":[{\"aaxis\":{\"endlinecolor\":\"#2a3f5f\",\"gridcolor\":\"white\",\"linecolor\":\"white\",\"minorgridcolor\":\"white\",\"startlinecolor\":\"#2a3f5f\"},\"baxis\":{\"endlinecolor\":\"#2a3f5f\",\"gridcolor\":\"white\",\"linecolor\":\"white\",\"minorgridcolor\":\"white\",\"startlinecolor\":\"#2a3f5f\"},\"type\":\"carpet\"}],\"choropleth\":[{\"colorbar\":{\"outlinewidth\":0,\"ticks\":\"\"},\"type\":\"choropleth\"}],\"contour\":[{\"colorbar\":{\"outlinewidth\":0,\"ticks\":\"\"},\"colorscale\":[[0.0,\"#0d0887\"],[0.1111111111111111,\"#46039f\"],[0.2222222222222222,\"#7201a8\"],[0.3333333333333333,\"#9c179e\"],[0.4444444444444444,\"#bd3786\"],[0.5555555555555556,\"#d8576b\"],[0.6666666666666666,\"#ed7953\"],[0.7777777777777778,\"#fb9f3a\"],[0.8888888888888888,\"#fdca26\"],[1.0,\"#f0f921\"]],\"type\":\"contour\"}],\"contourcarpet\":[{\"colorbar\":{\"outlinewidth\":0,\"ticks\":\"\"},\"type\":\"contourcarpet\"}],\"heatmap\":[{\"colorbar\":{\"outlinewidth\":0,\"ticks\":\"\"},\"colorscale\":[[0.0,\"#0d0887\"],[0.1111111111111111,\"#46039f\"],[0.2222222222222222,\"#7201a8\"],[0.3333333333333333,\"#9c179e\"],[0.4444444444444444,\"#bd3786\"],[0.5555555555555556,\"#d8576b\"],[0.6666666666666666,\"#ed7953\"],[0.7777777777777778,\"#fb9f3a\"],[0.8888888888888888,\"#fdca26\"],[1.0,\"#f0f921\"]],\"type\":\"heatmap\"}],\"heatmapgl\":[{\"colorbar\":{\"outlinewidth\":0,\"ticks\":\"\"},\"colorscale\":[[0.0,\"#0d0887\"],[0.1111111111111111,\"#46039f\"],[0.2222222222222222,\"#7201a8\"],[0.3333333333333333,\"#9c179e\"],[0.4444444444444444,\"#bd3786\"],[0.5555555555555556,\"#d8576b\"],[0.6666666666666666,\"#ed7953\"],[0.7777777777777778,\"#fb9f3a\"],[0.8888888888888888,\"#fdca26\"],[1.0,\"#f0f921\"]],\"type\":\"heatmapgl\"}],\"histogram\":[{\"marker\":{\"pattern\":{\"fillmode\":\"overlay\",\"size\":10,\"solidity\":0.2}},\"type\":\"histogram\"}],\"histogram2d\":[{\"colorbar\":{\"outlinewidth\":0,\"ticks\":\"\"},\"colorscale\":[[0.0,\"#0d0887\"],[0.1111111111111111,\"#46039f\"],[0.2222222222222222,\"#7201a8\"],[0.3333333333333333,\"#9c179e\"],[0.4444444444444444,\"#bd3786\"],[0.5555555555555556,\"#d8576b\"],[0.6666666666666666,\"#ed7953\"],[0.7777777777777778,\"#fb9f3a\"],[0.8888888888888888,\"#fdca26\"],[1.0,\"#f0f921\"]],\"type\":\"histogram2d\"}],\"histogram2dcontour\":[{\"colorbar\":{\"outlinewidth\":0,\"ticks\":\"\"},\"colorscale\":[[0.0,\"#0d0887\"],[0.1111111111111111,\"#46039f\"],[0.2222222222222222,\"#7201a8\"],[0.3333333333333333,\"#9c179e\"],[0.4444444444444444,\"#bd3786\"],[0.5555555555555556,\"#d8576b\"],[0.6666666666666666,\"#ed7953\"],[0.7777777777777778,\"#fb9f3a\"],[0.8888888888888888,\"#fdca26\"],[1.0,\"#f0f921\"]],\"type\":\"histogram2dcontour\"}],\"mesh3d\":[{\"colorbar\":{\"outlinewidth\":0,\"ticks\":\"\"},\"type\":\"mesh3d\"}],\"parcoords\":[{\"line\":{\"colorbar\":{\"outlinewidth\":0,\"ticks\":\"\"}},\"type\":\"parcoords\"}],\"pie\":[{\"automargin\":true,\"type\":\"pie\"}],\"scatter\":[{\"marker\":{\"colorbar\":{\"outlinewidth\":0,\"ticks\":\"\"}},\"type\":\"scatter\"}],\"scatter3d\":[{\"line\":{\"colorbar\":{\"outlinewidth\":0,\"ticks\":\"\"}},\"marker\":{\"colorbar\":{\"outlinewidth\":0,\"ticks\":\"\"}},\"type\":\"scatter3d\"}],\"scattercarpet\":[{\"marker\":{\"colorbar\":{\"outlinewidth\":0,\"ticks\":\"\"}},\"type\":\"scattercarpet\"}],\"scattergeo\":[{\"marker\":{\"colorbar\":{\"outlinewidth\":0,\"ticks\":\"\"}},\"type\":\"scattergeo\"}],\"scattergl\":[{\"marker\":{\"colorbar\":{\"outlinewidth\":0,\"ticks\":\"\"}},\"type\":\"scattergl\"}],\"scattermapbox\":[{\"marker\":{\"colorbar\":{\"outlinewidth\":0,\"ticks\":\"\"}},\"type\":\"scattermapbox\"}],\"scatterpolar\":[{\"marker\":{\"colorbar\":{\"outlinewidth\":0,\"ticks\":\"\"}},\"type\":\"scatterpolar\"}],\"scatterpolargl\":[{\"marker\":{\"colorbar\":{\"outlinewidth\":0,\"ticks\":\"\"}},\"type\":\"scatterpolargl\"}],\"scatterternary\":[{\"marker\":{\"colorbar\":{\"outlinewidth\":0,\"ticks\":\"\"}},\"type\":\"scatterternary\"}],\"surface\":[{\"colorbar\":{\"outlinewidth\":0,\"ticks\":\"\"},\"colorscale\":[[0.0,\"#0d0887\"],[0.1111111111111111,\"#46039f\"],[0.2222222222222222,\"#7201a8\"],[0.3333333333333333,\"#9c179e\"],[0.4444444444444444,\"#bd3786\"],[0.5555555555555556,\"#d8576b\"],[0.6666666666666666,\"#ed7953\"],[0.7777777777777778,\"#fb9f3a\"],[0.8888888888888888,\"#fdca26\"],[1.0,\"#f0f921\"]],\"type\":\"surface\"}],\"table\":[{\"cells\":{\"fill\":{\"color\":\"#EBF0F8\"},\"line\":{\"color\":\"white\"}},\"header\":{\"fill\":{\"color\":\"#C8D4E3\"},\"line\":{\"color\":\"white\"}},\"type\":\"table\"}]},\"layout\":{\"annotationdefaults\":{\"arrowcolor\":\"#2a3f5f\",\"arrowhead\":0,\"arrowwidth\":1},\"autotypenumbers\":\"strict\",\"coloraxis\":{\"colorbar\":{\"outlinewidth\":0,\"ticks\":\"\"}},\"colorscale\":{\"diverging\":[[0,\"#8e0152\"],[0.1,\"#c51b7d\"],[0.2,\"#de77ae\"],[0.3,\"#f1b6da\"],[0.4,\"#fde0ef\"],[0.5,\"#f7f7f7\"],[0.6,\"#e6f5d0\"],[0.7,\"#b8e186\"],[0.8,\"#7fbc41\"],[0.9,\"#4d9221\"],[1,\"#276419\"]],\"sequential\":[[0.0,\"#0d0887\"],[0.1111111111111111,\"#46039f\"],[0.2222222222222222,\"#7201a8\"],[0.3333333333333333,\"#9c179e\"],[0.4444444444444444,\"#bd3786\"],[0.5555555555555556,\"#d8576b\"],[0.6666666666666666,\"#ed7953\"],[0.7777777777777778,\"#fb9f3a\"],[0.8888888888888888,\"#fdca26\"],[1.0,\"#f0f921\"]],\"sequentialminus\":[[0.0,\"#0d0887\"],[0.1111111111111111,\"#46039f\"],[0.2222222222222222,\"#7201a8\"],[0.3333333333333333,\"#9c179e\"],[0.4444444444444444,\"#bd3786\"],[0.5555555555555556,\"#d8576b\"],[0.6666666666666666,\"#ed7953\"],[0.7777777777777778,\"#fb9f3a\"],[0.8888888888888888,\"#fdca26\"],[1.0,\"#f0f921\"]]},\"colorway\":[\"#636efa\",\"#EF553B\",\"#00cc96\",\"#ab63fa\",\"#FFA15A\",\"#19d3f3\",\"#FF6692\",\"#B6E880\",\"#FF97FF\",\"#FECB52\"],\"font\":{\"color\":\"#2a3f5f\"},\"geo\":{\"bgcolor\":\"white\",\"lakecolor\":\"white\",\"landcolor\":\"#E5ECF6\",\"showlakes\":true,\"showland\":true,\"subunitcolor\":\"white\"},\"hoverlabel\":{\"align\":\"left\"},\"hovermode\":\"closest\",\"mapbox\":{\"style\":\"light\"},\"paper_bgcolor\":\"white\",\"plot_bgcolor\":\"#E5ECF6\",\"polar\":{\"angularaxis\":{\"gridcolor\":\"white\",\"linecolor\":\"white\",\"ticks\":\"\"},\"bgcolor\":\"#E5ECF6\",\"radialaxis\":{\"gridcolor\":\"white\",\"linecolor\":\"white\",\"ticks\":\"\"}},\"scene\":{\"xaxis\":{\"backgroundcolor\":\"#E5ECF6\",\"gridcolor\":\"white\",\"gridwidth\":2,\"linecolor\":\"white\",\"showbackground\":true,\"ticks\":\"\",\"zerolinecolor\":\"white\"},\"yaxis\":{\"backgroundcolor\":\"#E5ECF6\",\"gridcolor\":\"white\",\"gridwidth\":2,\"linecolor\":\"white\",\"showbackground\":true,\"ticks\":\"\",\"zerolinecolor\":\"white\"},\"zaxis\":{\"backgroundcolor\":\"#E5ECF6\",\"gridcolor\":\"white\",\"gridwidth\":2,\"linecolor\":\"white\",\"showbackground\":true,\"ticks\":\"\",\"zerolinecolor\":\"white\"}},\"shapedefaults\":{\"line\":{\"color\":\"#2a3f5f\"}},\"ternary\":{\"aaxis\":{\"gridcolor\":\"white\",\"linecolor\":\"white\",\"ticks\":\"\"},\"baxis\":{\"gridcolor\":\"white\",\"linecolor\":\"white\",\"ticks\":\"\"},\"bgcolor\":\"#E5ECF6\",\"caxis\":{\"gridcolor\":\"white\",\"linecolor\":\"white\",\"ticks\":\"\"}},\"title\":{\"x\":0.05},\"xaxis\":{\"automargin\":true,\"gridcolor\":\"white\",\"linecolor\":\"white\",\"ticks\":\"\",\"title\":{\"standoff\":15},\"zerolinecolor\":\"white\",\"zerolinewidth\":2},\"yaxis\":{\"automargin\":true,\"gridcolor\":\"white\",\"linecolor\":\"white\",\"ticks\":\"\",\"title\":{\"standoff\":15},\"zerolinecolor\":\"white\",\"zerolinewidth\":2}}},\"xaxis\":{\"anchor\":\"y\",\"domain\":[0.0,1.0],\"title\":{\"text\":\"passanger\"}},\"yaxis\":{\"anchor\":\"x\",\"domain\":[0.0,1.0],\"title\":{\"text\":\"count\"}},\"legend\":{\"title\":{\"text\":\"Y\"},\"tracegroupgap\":0},\"margin\":{\"t\":60},\"barmode\":\"group\"},                        {\"responsive\": true}                    ).then(function(){\n",
       "                            \n",
       "var gd = document.getElementById('523703e6-ce6c-48cf-a8e0-b907b9d6cf6e');\n",
       "var x = new MutationObserver(function (mutations, observer) {{\n",
       "        var display = window.getComputedStyle(gd).display;\n",
       "        if (!display || display === 'none') {{\n",
       "            console.log([gd, 'removed!']);\n",
       "            Plotly.purge(gd);\n",
       "            observer.disconnect();\n",
       "        }}\n",
       "}});\n",
       "\n",
       "// Listen for the removal of the full notebook cells\n",
       "var notebookContainer = gd.closest('#notebook-container');\n",
       "if (notebookContainer) {{\n",
       "    x.observe(notebookContainer, {childList: true});\n",
       "}}\n",
       "\n",
       "// Listen for the clearing of the current output cell\n",
       "var outputEl = gd.closest('.output');\n",
       "if (outputEl) {{\n",
       "    x.observe(outputEl, {childList: true});\n",
       "}}\n",
       "\n",
       "                        })                };                });            </script>        </div>"
      ]
     },
     "metadata": {},
     "output_type": "display_data"
    }
   ],
   "source": [
    "# sns.countplot(data=coffee_house_df, x='passanger', hue='Y')\n",
    "px.histogram(coffee_house_df, x='passanger', color='Y', barmode='group')"
   ]
  },
  {
   "cell_type": "code",
   "execution_count": 114,
   "metadata": {},
   "outputs": [
    {
     "data": {
      "text/html": [
       "<div>\n",
       "<style scoped>\n",
       "    .dataframe tbody tr th:only-of-type {\n",
       "        vertical-align: middle;\n",
       "    }\n",
       "\n",
       "    .dataframe tbody tr th {\n",
       "        vertical-align: top;\n",
       "    }\n",
       "\n",
       "    .dataframe thead th {\n",
       "        text-align: right;\n",
       "    }\n",
       "</style>\n",
       "<table border=\"1\" class=\"dataframe\">\n",
       "  <thead>\n",
       "    <tr style=\"text-align: right;\">\n",
       "      <th></th>\n",
       "      <th>Acceptance Rate</th>\n",
       "    </tr>\n",
       "    <tr>\n",
       "      <th>passanger</th>\n",
       "      <th></th>\n",
       "    </tr>\n",
       "  </thead>\n",
       "  <tbody>\n",
       "    <tr>\n",
       "      <th>Alone</th>\n",
       "      <td>0.433936</td>\n",
       "    </tr>\n",
       "    <tr>\n",
       "      <th>Friend(s)</th>\n",
       "      <td>0.597447</td>\n",
       "    </tr>\n",
       "    <tr>\n",
       "      <th>Kid(s)</th>\n",
       "      <td>0.471503</td>\n",
       "    </tr>\n",
       "    <tr>\n",
       "      <th>Partner</th>\n",
       "      <td>0.567010</td>\n",
       "    </tr>\n",
       "  </tbody>\n",
       "</table>\n",
       "</div>"
      ],
      "text/plain": [
       "           Acceptance Rate\n",
       "passanger                 \n",
       "Alone             0.433936\n",
       "Friend(s)         0.597447\n",
       "Kid(s)            0.471503\n",
       "Partner           0.567010"
      ]
     },
     "execution_count": 114,
     "metadata": {},
     "output_type": "execute_result"
    }
   ],
   "source": [
    "acceptance_rate_df = coffee_house_df.groupby('passanger')[['Y']].sum() / coffee_house_df.groupby('passanger')[['Y']].count()\n",
    "acceptance_rate_df.rename(columns={'Y': 'Acceptance Rate'}, inplace=True)\n",
    "acceptance_rate_df"
   ]
  },
  {
   "cell_type": "markdown",
   "metadata": {},
   "source": [
    "Based on the acceptance rate calculated, when the driver is alone the acceptance rate is the lowest. On the other hand, when the driver has a friend or partner companying them during a ride, the acceptance rate is the highest. Based on this observation, I woul like to see when the a friend or partner is on the ride, what other factors impacts the accepting/rejecting a coupon."
   ]
  },
  {
   "cell_type": "code",
   "execution_count": 122,
   "metadata": {},
   "outputs": [
    {
     "data": {
      "application/vnd.plotly.v1+json": {
       "config": {
        "plotlyServerURL": "https://plot.ly"
       },
       "data": [
        {
         "alignmentgroup": "True",
         "bingroup": "x",
         "hovertemplate": "Y=0<br>time=%{x}<br>count=%{y}<extra></extra>",
         "legendgroup": "0",
         "marker": {
          "color": "#636efa",
          "pattern": {
           "shape": ""
          }
         },
         "name": "0",
         "offsetgroup": "0",
         "orientation": "v",
         "showlegend": true,
         "type": "histogram",
         "x": [
          "10AM",
          "2PM",
          "2PM",
          "2PM",
          "6PM",
          "2PM",
          "2PM",
          "6PM",
          "2PM",
          "6PM",
          "2PM",
          "10AM",
          "2PM",
          "6PM",
          "2PM",
          "10AM",
          "2PM",
          "2PM",
          "2PM",
          "6PM",
          "2PM",
          "6PM",
          "2PM",
          "2PM",
          "2PM",
          "2PM",
          "2PM",
          "2PM",
          "10AM",
          "2PM",
          "2PM",
          "2PM",
          "6PM",
          "2PM",
          "2PM",
          "2PM",
          "2PM",
          "6PM",
          "2PM",
          "10AM",
          "6PM",
          "2PM",
          "2PM",
          "2PM",
          "6PM",
          "10AM",
          "2PM",
          "2PM",
          "2PM",
          "6PM",
          "2PM",
          "2PM",
          "6PM",
          "10AM",
          "2PM",
          "2PM",
          "2PM",
          "2PM",
          "10AM",
          "2PM",
          "2PM",
          "2PM",
          "2PM",
          "2PM",
          "6PM",
          "2PM",
          "6PM",
          "10AM",
          "2PM",
          "10AM",
          "2PM",
          "2PM",
          "6PM",
          "2PM",
          "2PM",
          "6PM",
          "2PM",
          "2PM",
          "2PM",
          "2PM",
          "2PM",
          "6PM",
          "2PM",
          "10AM",
          "2PM",
          "2PM",
          "2PM",
          "2PM",
          "10AM",
          "2PM",
          "2PM",
          "2PM",
          "2PM",
          "2PM",
          "2PM",
          "2PM",
          "10AM",
          "2PM",
          "2PM",
          "10AM",
          "2PM",
          "6PM",
          "2PM",
          "10AM",
          "2PM",
          "2PM",
          "6PM",
          "2PM",
          "2PM",
          "2PM",
          "2PM",
          "2PM",
          "6PM",
          "2PM",
          "2PM",
          "6PM",
          "2PM",
          "2PM",
          "2PM",
          "10AM",
          "2PM",
          "2PM",
          "2PM",
          "6PM",
          "2PM",
          "2PM",
          "10AM",
          "2PM",
          "2PM",
          "10AM",
          "2PM",
          "2PM",
          "2PM",
          "6PM",
          "2PM",
          "2PM",
          "10AM",
          "2PM",
          "2PM",
          "6PM",
          "2PM",
          "10AM",
          "10AM",
          "2PM",
          "2PM",
          "2PM",
          "2PM",
          "2PM",
          "10AM",
          "2PM",
          "2PM",
          "2PM",
          "2PM",
          "2PM",
          "2PM",
          "2PM",
          "2PM",
          "2PM",
          "2PM",
          "2PM",
          "2PM",
          "6PM",
          "2PM",
          "10AM",
          "2PM",
          "2PM",
          "10AM",
          "2PM",
          "2PM",
          "10AM",
          "2PM",
          "2PM",
          "2PM",
          "6PM",
          "2PM",
          "2PM",
          "6PM",
          "10AM",
          "2PM",
          "2PM",
          "6PM",
          "2PM",
          "2PM",
          "10AM",
          "2PM",
          "2PM",
          "2PM",
          "6PM",
          "2PM",
          "10AM",
          "2PM",
          "2PM",
          "10AM",
          "2PM",
          "2PM",
          "6PM",
          "2PM",
          "2PM",
          "2PM",
          "2PM",
          "6PM",
          "2PM",
          "10AM",
          "2PM",
          "2PM",
          "2PM",
          "2PM",
          "2PM",
          "6PM",
          "2PM",
          "10AM",
          "2PM",
          "2PM",
          "2PM",
          "6PM",
          "2PM",
          "10AM",
          "2PM",
          "2PM",
          "2PM",
          "10AM",
          "2PM",
          "2PM",
          "2PM",
          "2PM",
          "2PM",
          "6PM",
          "2PM",
          "2PM",
          "2PM",
          "2PM",
          "2PM",
          "6PM",
          "2PM",
          "10AM",
          "2PM",
          "2PM",
          "10AM",
          "2PM",
          "2PM",
          "2PM",
          "6PM",
          "2PM",
          "10AM",
          "2PM",
          "6PM",
          "2PM",
          "10AM",
          "2PM",
          "2PM",
          "2PM",
          "6PM",
          "2PM",
          "2PM",
          "10AM",
          "2PM",
          "2PM",
          "2PM",
          "2PM",
          "2PM",
          "2PM",
          "2PM",
          "2PM",
          "10AM",
          "2PM",
          "6PM",
          "2PM",
          "2PM",
          "2PM",
          "2PM",
          "2PM",
          "2PM",
          "2PM",
          "2PM",
          "10AM",
          "2PM",
          "2PM",
          "10AM",
          "2PM",
          "2PM",
          "2PM",
          "10AM",
          "2PM",
          "2PM",
          "6PM",
          "2PM",
          "2PM",
          "2PM",
          "2PM",
          "2PM",
          "6PM",
          "2PM",
          "2PM",
          "2PM",
          "10AM",
          "2PM",
          "2PM",
          "10AM",
          "2PM",
          "10AM",
          "2PM",
          "2PM",
          "2PM",
          "6PM",
          "2PM",
          "10AM",
          "2PM",
          "2PM",
          "2PM",
          "6PM",
          "2PM",
          "10AM",
          "2PM",
          "2PM",
          "2PM",
          "6PM",
          "2PM",
          "2PM",
          "10AM",
          "2PM",
          "2PM",
          "2PM",
          "6PM",
          "2PM",
          "10AM",
          "2PM",
          "10AM",
          "2PM",
          "10AM",
          "2PM",
          "10AM",
          "2PM",
          "10AM",
          "2PM",
          "2PM",
          "10AM",
          "10AM",
          "2PM",
          "10AM",
          "2PM",
          "10AM",
          "2PM",
          "10AM",
          "2PM",
          "10AM",
          "2PM",
          "10AM",
          "2PM",
          "10AM",
          "2PM",
          "10AM",
          "10AM",
          "2PM",
          "10AM",
          "2PM",
          "10AM",
          "10AM",
          "10AM",
          "2PM",
          "10AM",
          "2PM",
          "10AM",
          "10AM",
          "2PM",
          "10AM",
          "2PM",
          "10AM",
          "2PM",
          "10AM",
          "2PM",
          "10AM",
          "2PM",
          "2PM",
          "10AM",
          "2PM",
          "10AM",
          "2PM",
          "10AM",
          "10AM",
          "2PM",
          "10AM",
          "2PM",
          "10AM",
          "2PM",
          "10AM",
          "2PM",
          "10AM",
          "2PM",
          "2PM",
          "10AM",
          "10AM",
          "2PM",
          "10AM",
          "10AM",
          "10AM",
          "2PM",
          "10AM",
          "2PM",
          "10AM",
          "2PM",
          "10AM",
          "2PM",
          "10AM",
          "2PM",
          "2PM",
          "10AM",
          "10AM",
          "2PM",
          "2PM",
          "10AM",
          "2PM",
          "10AM",
          "2PM",
          "10AM",
          "10AM",
          "10PM",
          "10PM",
          "10PM",
          "10PM",
          "6PM",
          "6PM",
          "6PM",
          "6PM",
          "6PM",
          "6PM",
          "10AM",
          "6PM",
          "10AM",
          "6PM",
          "6PM",
          "6PM",
          "6PM",
          "6PM",
          "6PM",
          "6PM",
          "6PM",
          "10AM",
          "6PM",
          "6PM",
          "6PM",
          "6PM",
          "6PM",
          "6PM",
          "6PM",
          "6PM",
          "6PM",
          "10PM",
          "10PM",
          "10PM",
          "10PM",
          "10PM",
          "10PM",
          "10PM",
          "10PM",
          "10PM",
          "10PM",
          "10PM",
          "10PM",
          "10PM",
          "10PM",
          "10PM",
          "10PM",
          "10PM",
          "10PM",
          "10PM",
          "10PM",
          "10PM",
          "10PM",
          "10PM",
          "10PM",
          "10PM",
          "10PM",
          "10PM"
         ],
         "xaxis": "x",
         "yaxis": "y"
        },
        {
         "alignmentgroup": "True",
         "bingroup": "x",
         "hovertemplate": "Y=1<br>time=%{x}<br>count=%{y}<extra></extra>",
         "legendgroup": "1",
         "marker": {
          "color": "#EF553B",
          "pattern": {
           "shape": ""
          }
         },
         "name": "1",
         "offsetgroup": "1",
         "orientation": "v",
         "showlegend": true,
         "type": "histogram",
         "x": [
          "10AM",
          "2PM",
          "2PM",
          "2PM",
          "10AM",
          "2PM",
          "2PM",
          "10AM",
          "2PM",
          "2PM",
          "2PM",
          "6PM",
          "2PM",
          "10AM",
          "2PM",
          "2PM",
          "10AM",
          "2PM",
          "2PM",
          "2PM",
          "2PM",
          "10AM",
          "2PM",
          "2PM",
          "2PM",
          "6PM",
          "2PM",
          "10AM",
          "2PM",
          "2PM",
          "10AM",
          "2PM",
          "2PM",
          "2PM",
          "10AM",
          "10AM",
          "2PM",
          "2PM",
          "10AM",
          "10AM",
          "2PM",
          "2PM",
          "10AM",
          "2PM",
          "2PM",
          "10AM",
          "2PM",
          "10AM",
          "10AM",
          "2PM",
          "2PM",
          "2PM",
          "2PM",
          "2PM",
          "2PM",
          "10AM",
          "2PM",
          "2PM",
          "2PM",
          "6PM",
          "2PM",
          "10AM",
          "2PM",
          "2PM",
          "10AM",
          "2PM",
          "10AM",
          "2PM",
          "2PM",
          "2PM",
          "6PM",
          "2PM",
          "10AM",
          "2PM",
          "2PM",
          "10AM",
          "2PM",
          "2PM",
          "2PM",
          "10AM",
          "10AM",
          "10AM",
          "2PM",
          "2PM",
          "10AM",
          "2PM",
          "2PM",
          "2PM",
          "2PM",
          "2PM",
          "10AM",
          "2PM",
          "2PM",
          "2PM",
          "2PM",
          "10AM",
          "10AM",
          "2PM",
          "2PM",
          "2PM",
          "2PM",
          "10AM",
          "2PM",
          "2PM",
          "10AM",
          "2PM",
          "2PM",
          "10AM",
          "2PM",
          "2PM",
          "10AM",
          "10AM",
          "10AM",
          "10AM",
          "10AM",
          "2PM",
          "10AM",
          "10AM",
          "2PM",
          "2PM",
          "2PM",
          "6PM",
          "2PM",
          "2PM",
          "2PM",
          "2PM",
          "10AM",
          "10AM",
          "2PM",
          "2PM",
          "10AM",
          "2PM",
          "2PM",
          "10AM",
          "2PM",
          "10AM",
          "2PM",
          "2PM",
          "10AM",
          "2PM",
          "2PM",
          "10AM",
          "10AM",
          "2PM",
          "2PM",
          "10AM",
          "2PM",
          "2PM",
          "10AM",
          "2PM",
          "10AM",
          "2PM",
          "2PM",
          "2PM",
          "6PM",
          "2PM",
          "10AM",
          "2PM",
          "10AM",
          "2PM",
          "2PM",
          "2PM",
          "6PM",
          "2PM",
          "10AM",
          "2PM",
          "2PM",
          "10AM",
          "2PM",
          "2PM",
          "2PM",
          "2PM",
          "2PM",
          "10AM",
          "2PM",
          "2PM",
          "2PM",
          "6PM",
          "2PM",
          "10AM",
          "10AM",
          "2PM",
          "2PM",
          "10AM",
          "2PM",
          "10AM",
          "2PM",
          "2PM",
          "2PM",
          "6PM",
          "2PM",
          "10AM",
          "2PM",
          "2PM",
          "2PM",
          "6PM",
          "2PM",
          "10AM",
          "2PM",
          "2PM",
          "2PM",
          "6PM",
          "2PM",
          "10AM",
          "2PM",
          "2PM",
          "2PM",
          "6PM",
          "2PM",
          "10AM",
          "2PM",
          "2PM",
          "2PM",
          "6PM",
          "2PM",
          "10AM",
          "10AM",
          "2PM",
          "10AM",
          "10AM",
          "2PM",
          "10AM",
          "2PM",
          "10AM",
          "2PM",
          "2PM",
          "10AM",
          "2PM",
          "2PM",
          "2PM",
          "6PM",
          "2PM",
          "10AM",
          "2PM",
          "2PM",
          "2PM",
          "6PM",
          "2PM",
          "10AM",
          "2PM",
          "2PM",
          "10AM",
          "2PM",
          "2PM",
          "2PM",
          "6PM",
          "2PM",
          "10AM",
          "10AM",
          "2PM",
          "2PM",
          "2PM",
          "10AM",
          "2PM",
          "2PM",
          "10AM",
          "2PM",
          "10AM",
          "2PM",
          "2PM",
          "2PM",
          "6PM",
          "2PM",
          "10AM",
          "2PM",
          "2PM",
          "10AM",
          "2PM",
          "2PM",
          "2PM",
          "10AM",
          "2PM",
          "2PM",
          "6PM",
          "2PM",
          "10AM",
          "2PM",
          "2PM",
          "10AM",
          "2PM",
          "2PM",
          "2PM",
          "6PM",
          "2PM",
          "10AM",
          "10AM",
          "2PM",
          "2PM",
          "2PM",
          "2PM",
          "10AM",
          "2PM",
          "10AM",
          "2PM",
          "2PM",
          "10AM",
          "2PM",
          "2PM",
          "10AM",
          "10AM",
          "2PM",
          "2PM",
          "10AM",
          "2PM",
          "2PM",
          "2PM",
          "6PM",
          "10AM",
          "2PM",
          "2PM",
          "2PM",
          "6PM",
          "2PM",
          "10AM",
          "10AM",
          "2PM",
          "2PM",
          "2PM",
          "6PM",
          "2PM",
          "10AM",
          "2PM",
          "2PM",
          "10AM",
          "2PM",
          "2PM",
          "10AM",
          "10AM",
          "2PM",
          "10AM",
          "2PM",
          "2PM",
          "2PM",
          "2PM",
          "10AM",
          "2PM",
          "2PM",
          "10AM",
          "2PM",
          "10AM",
          "10AM",
          "2PM",
          "2PM",
          "2PM",
          "6PM",
          "2PM",
          "10AM",
          "2PM",
          "2PM",
          "10AM",
          "2PM",
          "2PM",
          "10AM",
          "10AM",
          "10AM",
          "2PM",
          "2PM",
          "2PM",
          "6PM",
          "2PM",
          "10AM",
          "10AM",
          "2PM",
          "2PM",
          "2PM",
          "6PM",
          "2PM",
          "10AM",
          "2PM",
          "2PM",
          "2PM",
          "6PM",
          "10AM",
          "2PM",
          "2PM",
          "10AM",
          "2PM",
          "2PM",
          "6PM",
          "2PM",
          "10AM",
          "2PM",
          "2PM",
          "2PM",
          "10AM",
          "2PM",
          "2PM",
          "2PM",
          "6PM",
          "2PM",
          "10AM",
          "2PM",
          "2PM",
          "10AM",
          "10AM",
          "2PM",
          "2PM",
          "10AM",
          "2PM",
          "10AM",
          "2PM",
          "2PM",
          "10AM",
          "2PM",
          "10AM",
          "2PM",
          "2PM",
          "6PM",
          "2PM",
          "2PM",
          "10AM",
          "2PM",
          "2PM",
          "10AM",
          "2PM",
          "10AM",
          "2PM",
          "2PM",
          "2PM",
          "6PM",
          "2PM",
          "10AM",
          "2PM",
          "10AM",
          "2PM",
          "10AM",
          "2PM",
          "10AM",
          "2PM",
          "10AM",
          "2PM",
          "10AM",
          "2PM",
          "10AM",
          "2PM",
          "10AM",
          "2PM",
          "10AM",
          "2PM",
          "10AM",
          "2PM",
          "10AM",
          "2PM",
          "10AM",
          "2PM",
          "10AM",
          "2PM",
          "10AM",
          "2PM",
          "10AM",
          "2PM",
          "10AM",
          "2PM",
          "2PM",
          "2PM",
          "10AM",
          "10AM",
          "2PM",
          "10AM",
          "2PM",
          "2PM",
          "10AM",
          "2PM",
          "2PM",
          "10AM",
          "2PM",
          "10AM",
          "2PM",
          "2PM",
          "2PM",
          "10AM",
          "10AM",
          "2PM",
          "10AM",
          "2PM",
          "10AM",
          "2PM",
          "10AM",
          "2PM",
          "10AM",
          "2PM",
          "10AM",
          "2PM",
          "10AM",
          "2PM",
          "10AM",
          "10AM",
          "2PM",
          "10AM",
          "2PM",
          "2PM",
          "10AM",
          "2PM",
          "10AM",
          "2PM",
          "10AM",
          "2PM",
          "10AM",
          "10AM",
          "2PM",
          "10AM",
          "2PM",
          "10AM",
          "2PM",
          "10AM",
          "2PM",
          "10AM",
          "2PM",
          "2PM",
          "2PM",
          "10AM",
          "2PM",
          "2PM",
          "10AM",
          "2PM",
          "10AM",
          "2PM",
          "10AM",
          "2PM",
          "10AM",
          "2PM",
          "10AM",
          "2PM",
          "10AM",
          "2PM",
          "10AM",
          "2PM",
          "10AM",
          "2PM",
          "10AM",
          "10AM",
          "2PM",
          "10AM",
          "2PM",
          "10AM",
          "2PM",
          "10AM",
          "2PM",
          "2PM",
          "2PM",
          "10AM",
          "10AM",
          "2PM",
          "10AM",
          "10AM",
          "2PM",
          "10AM",
          "2PM",
          "10AM",
          "2PM",
          "10AM",
          "2PM",
          "2PM",
          "10AM",
          "2PM",
          "2PM",
          "10PM",
          "10PM",
          "10PM",
          "10PM",
          "10PM",
          "10PM",
          "10PM",
          "10PM",
          "10PM",
          "10PM",
          "6PM",
          "6PM",
          "6PM",
          "6PM",
          "6PM",
          "6PM",
          "10AM",
          "6PM",
          "6PM",
          "6PM",
          "10AM",
          "6PM",
          "6PM",
          "10AM",
          "6PM",
          "6PM",
          "6PM",
          "6PM",
          "6PM",
          "10AM",
          "6PM",
          "6PM",
          "6PM",
          "6PM",
          "6PM",
          "10AM",
          "6PM",
          "6PM",
          "6PM",
          "6PM",
          "6PM",
          "10AM",
          "6PM",
          "10AM",
          "6PM",
          "6PM",
          "10AM",
          "6PM",
          "6PM",
          "10AM",
          "6PM",
          "6PM",
          "10AM",
          "6PM",
          "6PM",
          "6PM",
          "10AM",
          "6PM",
          "6PM",
          "10AM",
          "10AM",
          "10AM",
          "6PM",
          "6PM",
          "6PM",
          "6PM",
          "10AM",
          "6PM",
          "6PM",
          "6PM",
          "6PM",
          "6PM",
          "6PM",
          "10AM",
          "6PM",
          "6PM",
          "6PM",
          "10AM",
          "6PM",
          "6PM",
          "6PM",
          "6PM",
          "6PM",
          "10AM",
          "6PM",
          "10AM",
          "6PM",
          "6PM",
          "10PM",
          "10PM",
          "10PM",
          "10PM",
          "10PM",
          "10PM",
          "10PM",
          "10PM",
          "10PM",
          "10PM",
          "10PM",
          "10PM",
          "10PM",
          "10PM",
          "10PM",
          "10PM",
          "10PM",
          "10PM",
          "10PM",
          "10PM",
          "10PM",
          "10PM",
          "10PM",
          "10PM",
          "10PM",
          "10PM",
          "10PM",
          "10PM",
          "10PM",
          "10PM",
          "10PM",
          "10PM",
          "10PM",
          "10PM",
          "10PM",
          "10PM",
          "10PM",
          "10PM",
          "10PM",
          "10PM",
          "10PM",
          "10PM",
          "10PM",
          "10PM",
          "10PM",
          "10PM",
          "10PM",
          "10PM",
          "10PM",
          "10PM",
          "10PM",
          "10PM",
          "10PM",
          "10PM",
          "10PM",
          "10PM",
          "10PM",
          "10PM"
         ],
         "xaxis": "x",
         "yaxis": "y"
        }
       ],
       "layout": {
        "barmode": "group",
        "legend": {
         "title": {
          "text": "Y"
         },
         "tracegroupgap": 0
        },
        "template": {
         "data": {
          "bar": [
           {
            "error_x": {
             "color": "#2a3f5f"
            },
            "error_y": {
             "color": "#2a3f5f"
            },
            "marker": {
             "line": {
              "color": "#E5ECF6",
              "width": 0.5
             },
             "pattern": {
              "fillmode": "overlay",
              "size": 10,
              "solidity": 0.2
             }
            },
            "type": "bar"
           }
          ],
          "barpolar": [
           {
            "marker": {
             "line": {
              "color": "#E5ECF6",
              "width": 0.5
             },
             "pattern": {
              "fillmode": "overlay",
              "size": 10,
              "solidity": 0.2
             }
            },
            "type": "barpolar"
           }
          ],
          "carpet": [
           {
            "aaxis": {
             "endlinecolor": "#2a3f5f",
             "gridcolor": "white",
             "linecolor": "white",
             "minorgridcolor": "white",
             "startlinecolor": "#2a3f5f"
            },
            "baxis": {
             "endlinecolor": "#2a3f5f",
             "gridcolor": "white",
             "linecolor": "white",
             "minorgridcolor": "white",
             "startlinecolor": "#2a3f5f"
            },
            "type": "carpet"
           }
          ],
          "choropleth": [
           {
            "colorbar": {
             "outlinewidth": 0,
             "ticks": ""
            },
            "type": "choropleth"
           }
          ],
          "contour": [
           {
            "colorbar": {
             "outlinewidth": 0,
             "ticks": ""
            },
            "colorscale": [
             [
              0,
              "#0d0887"
             ],
             [
              0.1111111111111111,
              "#46039f"
             ],
             [
              0.2222222222222222,
              "#7201a8"
             ],
             [
              0.3333333333333333,
              "#9c179e"
             ],
             [
              0.4444444444444444,
              "#bd3786"
             ],
             [
              0.5555555555555556,
              "#d8576b"
             ],
             [
              0.6666666666666666,
              "#ed7953"
             ],
             [
              0.7777777777777778,
              "#fb9f3a"
             ],
             [
              0.8888888888888888,
              "#fdca26"
             ],
             [
              1,
              "#f0f921"
             ]
            ],
            "type": "contour"
           }
          ],
          "contourcarpet": [
           {
            "colorbar": {
             "outlinewidth": 0,
             "ticks": ""
            },
            "type": "contourcarpet"
           }
          ],
          "heatmap": [
           {
            "colorbar": {
             "outlinewidth": 0,
             "ticks": ""
            },
            "colorscale": [
             [
              0,
              "#0d0887"
             ],
             [
              0.1111111111111111,
              "#46039f"
             ],
             [
              0.2222222222222222,
              "#7201a8"
             ],
             [
              0.3333333333333333,
              "#9c179e"
             ],
             [
              0.4444444444444444,
              "#bd3786"
             ],
             [
              0.5555555555555556,
              "#d8576b"
             ],
             [
              0.6666666666666666,
              "#ed7953"
             ],
             [
              0.7777777777777778,
              "#fb9f3a"
             ],
             [
              0.8888888888888888,
              "#fdca26"
             ],
             [
              1,
              "#f0f921"
             ]
            ],
            "type": "heatmap"
           }
          ],
          "heatmapgl": [
           {
            "colorbar": {
             "outlinewidth": 0,
             "ticks": ""
            },
            "colorscale": [
             [
              0,
              "#0d0887"
             ],
             [
              0.1111111111111111,
              "#46039f"
             ],
             [
              0.2222222222222222,
              "#7201a8"
             ],
             [
              0.3333333333333333,
              "#9c179e"
             ],
             [
              0.4444444444444444,
              "#bd3786"
             ],
             [
              0.5555555555555556,
              "#d8576b"
             ],
             [
              0.6666666666666666,
              "#ed7953"
             ],
             [
              0.7777777777777778,
              "#fb9f3a"
             ],
             [
              0.8888888888888888,
              "#fdca26"
             ],
             [
              1,
              "#f0f921"
             ]
            ],
            "type": "heatmapgl"
           }
          ],
          "histogram": [
           {
            "marker": {
             "pattern": {
              "fillmode": "overlay",
              "size": 10,
              "solidity": 0.2
             }
            },
            "type": "histogram"
           }
          ],
          "histogram2d": [
           {
            "colorbar": {
             "outlinewidth": 0,
             "ticks": ""
            },
            "colorscale": [
             [
              0,
              "#0d0887"
             ],
             [
              0.1111111111111111,
              "#46039f"
             ],
             [
              0.2222222222222222,
              "#7201a8"
             ],
             [
              0.3333333333333333,
              "#9c179e"
             ],
             [
              0.4444444444444444,
              "#bd3786"
             ],
             [
              0.5555555555555556,
              "#d8576b"
             ],
             [
              0.6666666666666666,
              "#ed7953"
             ],
             [
              0.7777777777777778,
              "#fb9f3a"
             ],
             [
              0.8888888888888888,
              "#fdca26"
             ],
             [
              1,
              "#f0f921"
             ]
            ],
            "type": "histogram2d"
           }
          ],
          "histogram2dcontour": [
           {
            "colorbar": {
             "outlinewidth": 0,
             "ticks": ""
            },
            "colorscale": [
             [
              0,
              "#0d0887"
             ],
             [
              0.1111111111111111,
              "#46039f"
             ],
             [
              0.2222222222222222,
              "#7201a8"
             ],
             [
              0.3333333333333333,
              "#9c179e"
             ],
             [
              0.4444444444444444,
              "#bd3786"
             ],
             [
              0.5555555555555556,
              "#d8576b"
             ],
             [
              0.6666666666666666,
              "#ed7953"
             ],
             [
              0.7777777777777778,
              "#fb9f3a"
             ],
             [
              0.8888888888888888,
              "#fdca26"
             ],
             [
              1,
              "#f0f921"
             ]
            ],
            "type": "histogram2dcontour"
           }
          ],
          "mesh3d": [
           {
            "colorbar": {
             "outlinewidth": 0,
             "ticks": ""
            },
            "type": "mesh3d"
           }
          ],
          "parcoords": [
           {
            "line": {
             "colorbar": {
              "outlinewidth": 0,
              "ticks": ""
             }
            },
            "type": "parcoords"
           }
          ],
          "pie": [
           {
            "automargin": true,
            "type": "pie"
           }
          ],
          "scatter": [
           {
            "marker": {
             "colorbar": {
              "outlinewidth": 0,
              "ticks": ""
             }
            },
            "type": "scatter"
           }
          ],
          "scatter3d": [
           {
            "line": {
             "colorbar": {
              "outlinewidth": 0,
              "ticks": ""
             }
            },
            "marker": {
             "colorbar": {
              "outlinewidth": 0,
              "ticks": ""
             }
            },
            "type": "scatter3d"
           }
          ],
          "scattercarpet": [
           {
            "marker": {
             "colorbar": {
              "outlinewidth": 0,
              "ticks": ""
             }
            },
            "type": "scattercarpet"
           }
          ],
          "scattergeo": [
           {
            "marker": {
             "colorbar": {
              "outlinewidth": 0,
              "ticks": ""
             }
            },
            "type": "scattergeo"
           }
          ],
          "scattergl": [
           {
            "marker": {
             "colorbar": {
              "outlinewidth": 0,
              "ticks": ""
             }
            },
            "type": "scattergl"
           }
          ],
          "scattermapbox": [
           {
            "marker": {
             "colorbar": {
              "outlinewidth": 0,
              "ticks": ""
             }
            },
            "type": "scattermapbox"
           }
          ],
          "scatterpolar": [
           {
            "marker": {
             "colorbar": {
              "outlinewidth": 0,
              "ticks": ""
             }
            },
            "type": "scatterpolar"
           }
          ],
          "scatterpolargl": [
           {
            "marker": {
             "colorbar": {
              "outlinewidth": 0,
              "ticks": ""
             }
            },
            "type": "scatterpolargl"
           }
          ],
          "scatterternary": [
           {
            "marker": {
             "colorbar": {
              "outlinewidth": 0,
              "ticks": ""
             }
            },
            "type": "scatterternary"
           }
          ],
          "surface": [
           {
            "colorbar": {
             "outlinewidth": 0,
             "ticks": ""
            },
            "colorscale": [
             [
              0,
              "#0d0887"
             ],
             [
              0.1111111111111111,
              "#46039f"
             ],
             [
              0.2222222222222222,
              "#7201a8"
             ],
             [
              0.3333333333333333,
              "#9c179e"
             ],
             [
              0.4444444444444444,
              "#bd3786"
             ],
             [
              0.5555555555555556,
              "#d8576b"
             ],
             [
              0.6666666666666666,
              "#ed7953"
             ],
             [
              0.7777777777777778,
              "#fb9f3a"
             ],
             [
              0.8888888888888888,
              "#fdca26"
             ],
             [
              1,
              "#f0f921"
             ]
            ],
            "type": "surface"
           }
          ],
          "table": [
           {
            "cells": {
             "fill": {
              "color": "#EBF0F8"
             },
             "line": {
              "color": "white"
             }
            },
            "header": {
             "fill": {
              "color": "#C8D4E3"
             },
             "line": {
              "color": "white"
             }
            },
            "type": "table"
           }
          ]
         },
         "layout": {
          "annotationdefaults": {
           "arrowcolor": "#2a3f5f",
           "arrowhead": 0,
           "arrowwidth": 1
          },
          "autotypenumbers": "strict",
          "coloraxis": {
           "colorbar": {
            "outlinewidth": 0,
            "ticks": ""
           }
          },
          "colorscale": {
           "diverging": [
            [
             0,
             "#8e0152"
            ],
            [
             0.1,
             "#c51b7d"
            ],
            [
             0.2,
             "#de77ae"
            ],
            [
             0.3,
             "#f1b6da"
            ],
            [
             0.4,
             "#fde0ef"
            ],
            [
             0.5,
             "#f7f7f7"
            ],
            [
             0.6,
             "#e6f5d0"
            ],
            [
             0.7,
             "#b8e186"
            ],
            [
             0.8,
             "#7fbc41"
            ],
            [
             0.9,
             "#4d9221"
            ],
            [
             1,
             "#276419"
            ]
           ],
           "sequential": [
            [
             0,
             "#0d0887"
            ],
            [
             0.1111111111111111,
             "#46039f"
            ],
            [
             0.2222222222222222,
             "#7201a8"
            ],
            [
             0.3333333333333333,
             "#9c179e"
            ],
            [
             0.4444444444444444,
             "#bd3786"
            ],
            [
             0.5555555555555556,
             "#d8576b"
            ],
            [
             0.6666666666666666,
             "#ed7953"
            ],
            [
             0.7777777777777778,
             "#fb9f3a"
            ],
            [
             0.8888888888888888,
             "#fdca26"
            ],
            [
             1,
             "#f0f921"
            ]
           ],
           "sequentialminus": [
            [
             0,
             "#0d0887"
            ],
            [
             0.1111111111111111,
             "#46039f"
            ],
            [
             0.2222222222222222,
             "#7201a8"
            ],
            [
             0.3333333333333333,
             "#9c179e"
            ],
            [
             0.4444444444444444,
             "#bd3786"
            ],
            [
             0.5555555555555556,
             "#d8576b"
            ],
            [
             0.6666666666666666,
             "#ed7953"
            ],
            [
             0.7777777777777778,
             "#fb9f3a"
            ],
            [
             0.8888888888888888,
             "#fdca26"
            ],
            [
             1,
             "#f0f921"
            ]
           ]
          },
          "colorway": [
           "#636efa",
           "#EF553B",
           "#00cc96",
           "#ab63fa",
           "#FFA15A",
           "#19d3f3",
           "#FF6692",
           "#B6E880",
           "#FF97FF",
           "#FECB52"
          ],
          "font": {
           "color": "#2a3f5f"
          },
          "geo": {
           "bgcolor": "white",
           "lakecolor": "white",
           "landcolor": "#E5ECF6",
           "showlakes": true,
           "showland": true,
           "subunitcolor": "white"
          },
          "hoverlabel": {
           "align": "left"
          },
          "hovermode": "closest",
          "mapbox": {
           "style": "light"
          },
          "paper_bgcolor": "white",
          "plot_bgcolor": "#E5ECF6",
          "polar": {
           "angularaxis": {
            "gridcolor": "white",
            "linecolor": "white",
            "ticks": ""
           },
           "bgcolor": "#E5ECF6",
           "radialaxis": {
            "gridcolor": "white",
            "linecolor": "white",
            "ticks": ""
           }
          },
          "scene": {
           "xaxis": {
            "backgroundcolor": "#E5ECF6",
            "gridcolor": "white",
            "gridwidth": 2,
            "linecolor": "white",
            "showbackground": true,
            "ticks": "",
            "zerolinecolor": "white"
           },
           "yaxis": {
            "backgroundcolor": "#E5ECF6",
            "gridcolor": "white",
            "gridwidth": 2,
            "linecolor": "white",
            "showbackground": true,
            "ticks": "",
            "zerolinecolor": "white"
           },
           "zaxis": {
            "backgroundcolor": "#E5ECF6",
            "gridcolor": "white",
            "gridwidth": 2,
            "linecolor": "white",
            "showbackground": true,
            "ticks": "",
            "zerolinecolor": "white"
           }
          },
          "shapedefaults": {
           "line": {
            "color": "#2a3f5f"
           }
          },
          "ternary": {
           "aaxis": {
            "gridcolor": "white",
            "linecolor": "white",
            "ticks": ""
           },
           "baxis": {
            "gridcolor": "white",
            "linecolor": "white",
            "ticks": ""
           },
           "bgcolor": "#E5ECF6",
           "caxis": {
            "gridcolor": "white",
            "linecolor": "white",
            "ticks": ""
           }
          },
          "title": {
           "x": 0.05
          },
          "xaxis": {
           "automargin": true,
           "gridcolor": "white",
           "linecolor": "white",
           "ticks": "",
           "title": {
            "standoff": 15
           },
           "zerolinecolor": "white",
           "zerolinewidth": 2
          },
          "yaxis": {
           "automargin": true,
           "gridcolor": "white",
           "linecolor": "white",
           "ticks": "",
           "title": {
            "standoff": 15
           },
           "zerolinecolor": "white",
           "zerolinewidth": 2
          }
         }
        },
        "title": {
         "text": "Acceptance/rejection of coupon based on time of the day with Friends"
        },
        "xaxis": {
         "anchor": "y",
         "domain": [
          0,
          1
         ],
         "title": {
          "text": "time"
         }
        },
        "yaxis": {
         "anchor": "x",
         "domain": [
          0,
          1
         ],
         "title": {
          "text": "count"
         }
        }
       }
      },
      "text/html": [
       "<div>                            <div id=\"c2b3df72-6978-4d2c-9f94-abfb34d95ce9\" class=\"plotly-graph-div\" style=\"height:525px; width:100%;\"></div>            <script type=\"text/javascript\">                require([\"plotly\"], function(Plotly) {                    window.PLOTLYENV=window.PLOTLYENV || {};                                    if (document.getElementById(\"c2b3df72-6978-4d2c-9f94-abfb34d95ce9\")) {                    Plotly.newPlot(                        \"c2b3df72-6978-4d2c-9f94-abfb34d95ce9\",                        [{\"alignmentgroup\":\"True\",\"bingroup\":\"x\",\"hovertemplate\":\"Y=0<br>time=%{x}<br>count=%{y}<extra></extra>\",\"legendgroup\":\"0\",\"marker\":{\"color\":\"#636efa\",\"pattern\":{\"shape\":\"\"}},\"name\":\"0\",\"offsetgroup\":\"0\",\"orientation\":\"v\",\"showlegend\":true,\"x\":[\"10AM\",\"2PM\",\"2PM\",\"2PM\",\"6PM\",\"2PM\",\"2PM\",\"6PM\",\"2PM\",\"6PM\",\"2PM\",\"10AM\",\"2PM\",\"6PM\",\"2PM\",\"10AM\",\"2PM\",\"2PM\",\"2PM\",\"6PM\",\"2PM\",\"6PM\",\"2PM\",\"2PM\",\"2PM\",\"2PM\",\"2PM\",\"2PM\",\"10AM\",\"2PM\",\"2PM\",\"2PM\",\"6PM\",\"2PM\",\"2PM\",\"2PM\",\"2PM\",\"6PM\",\"2PM\",\"10AM\",\"6PM\",\"2PM\",\"2PM\",\"2PM\",\"6PM\",\"10AM\",\"2PM\",\"2PM\",\"2PM\",\"6PM\",\"2PM\",\"2PM\",\"6PM\",\"10AM\",\"2PM\",\"2PM\",\"2PM\",\"2PM\",\"10AM\",\"2PM\",\"2PM\",\"2PM\",\"2PM\",\"2PM\",\"6PM\",\"2PM\",\"6PM\",\"10AM\",\"2PM\",\"10AM\",\"2PM\",\"2PM\",\"6PM\",\"2PM\",\"2PM\",\"6PM\",\"2PM\",\"2PM\",\"2PM\",\"2PM\",\"2PM\",\"6PM\",\"2PM\",\"10AM\",\"2PM\",\"2PM\",\"2PM\",\"2PM\",\"10AM\",\"2PM\",\"2PM\",\"2PM\",\"2PM\",\"2PM\",\"2PM\",\"2PM\",\"10AM\",\"2PM\",\"2PM\",\"10AM\",\"2PM\",\"6PM\",\"2PM\",\"10AM\",\"2PM\",\"2PM\",\"6PM\",\"2PM\",\"2PM\",\"2PM\",\"2PM\",\"2PM\",\"6PM\",\"2PM\",\"2PM\",\"6PM\",\"2PM\",\"2PM\",\"2PM\",\"10AM\",\"2PM\",\"2PM\",\"2PM\",\"6PM\",\"2PM\",\"2PM\",\"10AM\",\"2PM\",\"2PM\",\"10AM\",\"2PM\",\"2PM\",\"2PM\",\"6PM\",\"2PM\",\"2PM\",\"10AM\",\"2PM\",\"2PM\",\"6PM\",\"2PM\",\"10AM\",\"10AM\",\"2PM\",\"2PM\",\"2PM\",\"2PM\",\"2PM\",\"10AM\",\"2PM\",\"2PM\",\"2PM\",\"2PM\",\"2PM\",\"2PM\",\"2PM\",\"2PM\",\"2PM\",\"2PM\",\"2PM\",\"2PM\",\"6PM\",\"2PM\",\"10AM\",\"2PM\",\"2PM\",\"10AM\",\"2PM\",\"2PM\",\"10AM\",\"2PM\",\"2PM\",\"2PM\",\"6PM\",\"2PM\",\"2PM\",\"6PM\",\"10AM\",\"2PM\",\"2PM\",\"6PM\",\"2PM\",\"2PM\",\"10AM\",\"2PM\",\"2PM\",\"2PM\",\"6PM\",\"2PM\",\"10AM\",\"2PM\",\"2PM\",\"10AM\",\"2PM\",\"2PM\",\"6PM\",\"2PM\",\"2PM\",\"2PM\",\"2PM\",\"6PM\",\"2PM\",\"10AM\",\"2PM\",\"2PM\",\"2PM\",\"2PM\",\"2PM\",\"6PM\",\"2PM\",\"10AM\",\"2PM\",\"2PM\",\"2PM\",\"6PM\",\"2PM\",\"10AM\",\"2PM\",\"2PM\",\"2PM\",\"10AM\",\"2PM\",\"2PM\",\"2PM\",\"2PM\",\"2PM\",\"6PM\",\"2PM\",\"2PM\",\"2PM\",\"2PM\",\"2PM\",\"6PM\",\"2PM\",\"10AM\",\"2PM\",\"2PM\",\"10AM\",\"2PM\",\"2PM\",\"2PM\",\"6PM\",\"2PM\",\"10AM\",\"2PM\",\"6PM\",\"2PM\",\"10AM\",\"2PM\",\"2PM\",\"2PM\",\"6PM\",\"2PM\",\"2PM\",\"10AM\",\"2PM\",\"2PM\",\"2PM\",\"2PM\",\"2PM\",\"2PM\",\"2PM\",\"2PM\",\"10AM\",\"2PM\",\"6PM\",\"2PM\",\"2PM\",\"2PM\",\"2PM\",\"2PM\",\"2PM\",\"2PM\",\"2PM\",\"10AM\",\"2PM\",\"2PM\",\"10AM\",\"2PM\",\"2PM\",\"2PM\",\"10AM\",\"2PM\",\"2PM\",\"6PM\",\"2PM\",\"2PM\",\"2PM\",\"2PM\",\"2PM\",\"6PM\",\"2PM\",\"2PM\",\"2PM\",\"10AM\",\"2PM\",\"2PM\",\"10AM\",\"2PM\",\"10AM\",\"2PM\",\"2PM\",\"2PM\",\"6PM\",\"2PM\",\"10AM\",\"2PM\",\"2PM\",\"2PM\",\"6PM\",\"2PM\",\"10AM\",\"2PM\",\"2PM\",\"2PM\",\"6PM\",\"2PM\",\"2PM\",\"10AM\",\"2PM\",\"2PM\",\"2PM\",\"6PM\",\"2PM\",\"10AM\",\"2PM\",\"10AM\",\"2PM\",\"10AM\",\"2PM\",\"10AM\",\"2PM\",\"10AM\",\"2PM\",\"2PM\",\"10AM\",\"10AM\",\"2PM\",\"10AM\",\"2PM\",\"10AM\",\"2PM\",\"10AM\",\"2PM\",\"10AM\",\"2PM\",\"10AM\",\"2PM\",\"10AM\",\"2PM\",\"10AM\",\"10AM\",\"2PM\",\"10AM\",\"2PM\",\"10AM\",\"10AM\",\"10AM\",\"2PM\",\"10AM\",\"2PM\",\"10AM\",\"10AM\",\"2PM\",\"10AM\",\"2PM\",\"10AM\",\"2PM\",\"10AM\",\"2PM\",\"10AM\",\"2PM\",\"2PM\",\"10AM\",\"2PM\",\"10AM\",\"2PM\",\"10AM\",\"10AM\",\"2PM\",\"10AM\",\"2PM\",\"10AM\",\"2PM\",\"10AM\",\"2PM\",\"10AM\",\"2PM\",\"2PM\",\"10AM\",\"10AM\",\"2PM\",\"10AM\",\"10AM\",\"10AM\",\"2PM\",\"10AM\",\"2PM\",\"10AM\",\"2PM\",\"10AM\",\"2PM\",\"10AM\",\"2PM\",\"2PM\",\"10AM\",\"10AM\",\"2PM\",\"2PM\",\"10AM\",\"2PM\",\"10AM\",\"2PM\",\"10AM\",\"10AM\",\"10PM\",\"10PM\",\"10PM\",\"10PM\",\"6PM\",\"6PM\",\"6PM\",\"6PM\",\"6PM\",\"6PM\",\"10AM\",\"6PM\",\"10AM\",\"6PM\",\"6PM\",\"6PM\",\"6PM\",\"6PM\",\"6PM\",\"6PM\",\"6PM\",\"10AM\",\"6PM\",\"6PM\",\"6PM\",\"6PM\",\"6PM\",\"6PM\",\"6PM\",\"6PM\",\"6PM\",\"10PM\",\"10PM\",\"10PM\",\"10PM\",\"10PM\",\"10PM\",\"10PM\",\"10PM\",\"10PM\",\"10PM\",\"10PM\",\"10PM\",\"10PM\",\"10PM\",\"10PM\",\"10PM\",\"10PM\",\"10PM\",\"10PM\",\"10PM\",\"10PM\",\"10PM\",\"10PM\",\"10PM\",\"10PM\",\"10PM\",\"10PM\"],\"xaxis\":\"x\",\"yaxis\":\"y\",\"type\":\"histogram\"},{\"alignmentgroup\":\"True\",\"bingroup\":\"x\",\"hovertemplate\":\"Y=1<br>time=%{x}<br>count=%{y}<extra></extra>\",\"legendgroup\":\"1\",\"marker\":{\"color\":\"#EF553B\",\"pattern\":{\"shape\":\"\"}},\"name\":\"1\",\"offsetgroup\":\"1\",\"orientation\":\"v\",\"showlegend\":true,\"x\":[\"10AM\",\"2PM\",\"2PM\",\"2PM\",\"10AM\",\"2PM\",\"2PM\",\"10AM\",\"2PM\",\"2PM\",\"2PM\",\"6PM\",\"2PM\",\"10AM\",\"2PM\",\"2PM\",\"10AM\",\"2PM\",\"2PM\",\"2PM\",\"2PM\",\"10AM\",\"2PM\",\"2PM\",\"2PM\",\"6PM\",\"2PM\",\"10AM\",\"2PM\",\"2PM\",\"10AM\",\"2PM\",\"2PM\",\"2PM\",\"10AM\",\"10AM\",\"2PM\",\"2PM\",\"10AM\",\"10AM\",\"2PM\",\"2PM\",\"10AM\",\"2PM\",\"2PM\",\"10AM\",\"2PM\",\"10AM\",\"10AM\",\"2PM\",\"2PM\",\"2PM\",\"2PM\",\"2PM\",\"2PM\",\"10AM\",\"2PM\",\"2PM\",\"2PM\",\"6PM\",\"2PM\",\"10AM\",\"2PM\",\"2PM\",\"10AM\",\"2PM\",\"10AM\",\"2PM\",\"2PM\",\"2PM\",\"6PM\",\"2PM\",\"10AM\",\"2PM\",\"2PM\",\"10AM\",\"2PM\",\"2PM\",\"2PM\",\"10AM\",\"10AM\",\"10AM\",\"2PM\",\"2PM\",\"10AM\",\"2PM\",\"2PM\",\"2PM\",\"2PM\",\"2PM\",\"10AM\",\"2PM\",\"2PM\",\"2PM\",\"2PM\",\"10AM\",\"10AM\",\"2PM\",\"2PM\",\"2PM\",\"2PM\",\"10AM\",\"2PM\",\"2PM\",\"10AM\",\"2PM\",\"2PM\",\"10AM\",\"2PM\",\"2PM\",\"10AM\",\"10AM\",\"10AM\",\"10AM\",\"10AM\",\"2PM\",\"10AM\",\"10AM\",\"2PM\",\"2PM\",\"2PM\",\"6PM\",\"2PM\",\"2PM\",\"2PM\",\"2PM\",\"10AM\",\"10AM\",\"2PM\",\"2PM\",\"10AM\",\"2PM\",\"2PM\",\"10AM\",\"2PM\",\"10AM\",\"2PM\",\"2PM\",\"10AM\",\"2PM\",\"2PM\",\"10AM\",\"10AM\",\"2PM\",\"2PM\",\"10AM\",\"2PM\",\"2PM\",\"10AM\",\"2PM\",\"10AM\",\"2PM\",\"2PM\",\"2PM\",\"6PM\",\"2PM\",\"10AM\",\"2PM\",\"10AM\",\"2PM\",\"2PM\",\"2PM\",\"6PM\",\"2PM\",\"10AM\",\"2PM\",\"2PM\",\"10AM\",\"2PM\",\"2PM\",\"2PM\",\"2PM\",\"2PM\",\"10AM\",\"2PM\",\"2PM\",\"2PM\",\"6PM\",\"2PM\",\"10AM\",\"10AM\",\"2PM\",\"2PM\",\"10AM\",\"2PM\",\"10AM\",\"2PM\",\"2PM\",\"2PM\",\"6PM\",\"2PM\",\"10AM\",\"2PM\",\"2PM\",\"2PM\",\"6PM\",\"2PM\",\"10AM\",\"2PM\",\"2PM\",\"2PM\",\"6PM\",\"2PM\",\"10AM\",\"2PM\",\"2PM\",\"2PM\",\"6PM\",\"2PM\",\"10AM\",\"2PM\",\"2PM\",\"2PM\",\"6PM\",\"2PM\",\"10AM\",\"10AM\",\"2PM\",\"10AM\",\"10AM\",\"2PM\",\"10AM\",\"2PM\",\"10AM\",\"2PM\",\"2PM\",\"10AM\",\"2PM\",\"2PM\",\"2PM\",\"6PM\",\"2PM\",\"10AM\",\"2PM\",\"2PM\",\"2PM\",\"6PM\",\"2PM\",\"10AM\",\"2PM\",\"2PM\",\"10AM\",\"2PM\",\"2PM\",\"2PM\",\"6PM\",\"2PM\",\"10AM\",\"10AM\",\"2PM\",\"2PM\",\"2PM\",\"10AM\",\"2PM\",\"2PM\",\"10AM\",\"2PM\",\"10AM\",\"2PM\",\"2PM\",\"2PM\",\"6PM\",\"2PM\",\"10AM\",\"2PM\",\"2PM\",\"10AM\",\"2PM\",\"2PM\",\"2PM\",\"10AM\",\"2PM\",\"2PM\",\"6PM\",\"2PM\",\"10AM\",\"2PM\",\"2PM\",\"10AM\",\"2PM\",\"2PM\",\"2PM\",\"6PM\",\"2PM\",\"10AM\",\"10AM\",\"2PM\",\"2PM\",\"2PM\",\"2PM\",\"10AM\",\"2PM\",\"10AM\",\"2PM\",\"2PM\",\"10AM\",\"2PM\",\"2PM\",\"10AM\",\"10AM\",\"2PM\",\"2PM\",\"10AM\",\"2PM\",\"2PM\",\"2PM\",\"6PM\",\"10AM\",\"2PM\",\"2PM\",\"2PM\",\"6PM\",\"2PM\",\"10AM\",\"10AM\",\"2PM\",\"2PM\",\"2PM\",\"6PM\",\"2PM\",\"10AM\",\"2PM\",\"2PM\",\"10AM\",\"2PM\",\"2PM\",\"10AM\",\"10AM\",\"2PM\",\"10AM\",\"2PM\",\"2PM\",\"2PM\",\"2PM\",\"10AM\",\"2PM\",\"2PM\",\"10AM\",\"2PM\",\"10AM\",\"10AM\",\"2PM\",\"2PM\",\"2PM\",\"6PM\",\"2PM\",\"10AM\",\"2PM\",\"2PM\",\"10AM\",\"2PM\",\"2PM\",\"10AM\",\"10AM\",\"10AM\",\"2PM\",\"2PM\",\"2PM\",\"6PM\",\"2PM\",\"10AM\",\"10AM\",\"2PM\",\"2PM\",\"2PM\",\"6PM\",\"2PM\",\"10AM\",\"2PM\",\"2PM\",\"2PM\",\"6PM\",\"10AM\",\"2PM\",\"2PM\",\"10AM\",\"2PM\",\"2PM\",\"6PM\",\"2PM\",\"10AM\",\"2PM\",\"2PM\",\"2PM\",\"10AM\",\"2PM\",\"2PM\",\"2PM\",\"6PM\",\"2PM\",\"10AM\",\"2PM\",\"2PM\",\"10AM\",\"10AM\",\"2PM\",\"2PM\",\"10AM\",\"2PM\",\"10AM\",\"2PM\",\"2PM\",\"10AM\",\"2PM\",\"10AM\",\"2PM\",\"2PM\",\"6PM\",\"2PM\",\"2PM\",\"10AM\",\"2PM\",\"2PM\",\"10AM\",\"2PM\",\"10AM\",\"2PM\",\"2PM\",\"2PM\",\"6PM\",\"2PM\",\"10AM\",\"2PM\",\"10AM\",\"2PM\",\"10AM\",\"2PM\",\"10AM\",\"2PM\",\"10AM\",\"2PM\",\"10AM\",\"2PM\",\"10AM\",\"2PM\",\"10AM\",\"2PM\",\"10AM\",\"2PM\",\"10AM\",\"2PM\",\"10AM\",\"2PM\",\"10AM\",\"2PM\",\"10AM\",\"2PM\",\"10AM\",\"2PM\",\"10AM\",\"2PM\",\"10AM\",\"2PM\",\"2PM\",\"2PM\",\"10AM\",\"10AM\",\"2PM\",\"10AM\",\"2PM\",\"2PM\",\"10AM\",\"2PM\",\"2PM\",\"10AM\",\"2PM\",\"10AM\",\"2PM\",\"2PM\",\"2PM\",\"10AM\",\"10AM\",\"2PM\",\"10AM\",\"2PM\",\"10AM\",\"2PM\",\"10AM\",\"2PM\",\"10AM\",\"2PM\",\"10AM\",\"2PM\",\"10AM\",\"2PM\",\"10AM\",\"10AM\",\"2PM\",\"10AM\",\"2PM\",\"2PM\",\"10AM\",\"2PM\",\"10AM\",\"2PM\",\"10AM\",\"2PM\",\"10AM\",\"10AM\",\"2PM\",\"10AM\",\"2PM\",\"10AM\",\"2PM\",\"10AM\",\"2PM\",\"10AM\",\"2PM\",\"2PM\",\"2PM\",\"10AM\",\"2PM\",\"2PM\",\"10AM\",\"2PM\",\"10AM\",\"2PM\",\"10AM\",\"2PM\",\"10AM\",\"2PM\",\"10AM\",\"2PM\",\"10AM\",\"2PM\",\"10AM\",\"2PM\",\"10AM\",\"2PM\",\"10AM\",\"10AM\",\"2PM\",\"10AM\",\"2PM\",\"10AM\",\"2PM\",\"10AM\",\"2PM\",\"2PM\",\"2PM\",\"10AM\",\"10AM\",\"2PM\",\"10AM\",\"10AM\",\"2PM\",\"10AM\",\"2PM\",\"10AM\",\"2PM\",\"10AM\",\"2PM\",\"2PM\",\"10AM\",\"2PM\",\"2PM\",\"10PM\",\"10PM\",\"10PM\",\"10PM\",\"10PM\",\"10PM\",\"10PM\",\"10PM\",\"10PM\",\"10PM\",\"6PM\",\"6PM\",\"6PM\",\"6PM\",\"6PM\",\"6PM\",\"10AM\",\"6PM\",\"6PM\",\"6PM\",\"10AM\",\"6PM\",\"6PM\",\"10AM\",\"6PM\",\"6PM\",\"6PM\",\"6PM\",\"6PM\",\"10AM\",\"6PM\",\"6PM\",\"6PM\",\"6PM\",\"6PM\",\"10AM\",\"6PM\",\"6PM\",\"6PM\",\"6PM\",\"6PM\",\"10AM\",\"6PM\",\"10AM\",\"6PM\",\"6PM\",\"10AM\",\"6PM\",\"6PM\",\"10AM\",\"6PM\",\"6PM\",\"10AM\",\"6PM\",\"6PM\",\"6PM\",\"10AM\",\"6PM\",\"6PM\",\"10AM\",\"10AM\",\"10AM\",\"6PM\",\"6PM\",\"6PM\",\"6PM\",\"10AM\",\"6PM\",\"6PM\",\"6PM\",\"6PM\",\"6PM\",\"6PM\",\"10AM\",\"6PM\",\"6PM\",\"6PM\",\"10AM\",\"6PM\",\"6PM\",\"6PM\",\"6PM\",\"6PM\",\"10AM\",\"6PM\",\"10AM\",\"6PM\",\"6PM\",\"10PM\",\"10PM\",\"10PM\",\"10PM\",\"10PM\",\"10PM\",\"10PM\",\"10PM\",\"10PM\",\"10PM\",\"10PM\",\"10PM\",\"10PM\",\"10PM\",\"10PM\",\"10PM\",\"10PM\",\"10PM\",\"10PM\",\"10PM\",\"10PM\",\"10PM\",\"10PM\",\"10PM\",\"10PM\",\"10PM\",\"10PM\",\"10PM\",\"10PM\",\"10PM\",\"10PM\",\"10PM\",\"10PM\",\"10PM\",\"10PM\",\"10PM\",\"10PM\",\"10PM\",\"10PM\",\"10PM\",\"10PM\",\"10PM\",\"10PM\",\"10PM\",\"10PM\",\"10PM\",\"10PM\",\"10PM\",\"10PM\",\"10PM\",\"10PM\",\"10PM\",\"10PM\",\"10PM\",\"10PM\",\"10PM\",\"10PM\",\"10PM\"],\"xaxis\":\"x\",\"yaxis\":\"y\",\"type\":\"histogram\"}],                        {\"template\":{\"data\":{\"bar\":[{\"error_x\":{\"color\":\"#2a3f5f\"},\"error_y\":{\"color\":\"#2a3f5f\"},\"marker\":{\"line\":{\"color\":\"#E5ECF6\",\"width\":0.5},\"pattern\":{\"fillmode\":\"overlay\",\"size\":10,\"solidity\":0.2}},\"type\":\"bar\"}],\"barpolar\":[{\"marker\":{\"line\":{\"color\":\"#E5ECF6\",\"width\":0.5},\"pattern\":{\"fillmode\":\"overlay\",\"size\":10,\"solidity\":0.2}},\"type\":\"barpolar\"}],\"carpet\":[{\"aaxis\":{\"endlinecolor\":\"#2a3f5f\",\"gridcolor\":\"white\",\"linecolor\":\"white\",\"minorgridcolor\":\"white\",\"startlinecolor\":\"#2a3f5f\"},\"baxis\":{\"endlinecolor\":\"#2a3f5f\",\"gridcolor\":\"white\",\"linecolor\":\"white\",\"minorgridcolor\":\"white\",\"startlinecolor\":\"#2a3f5f\"},\"type\":\"carpet\"}],\"choropleth\":[{\"colorbar\":{\"outlinewidth\":0,\"ticks\":\"\"},\"type\":\"choropleth\"}],\"contour\":[{\"colorbar\":{\"outlinewidth\":0,\"ticks\":\"\"},\"colorscale\":[[0.0,\"#0d0887\"],[0.1111111111111111,\"#46039f\"],[0.2222222222222222,\"#7201a8\"],[0.3333333333333333,\"#9c179e\"],[0.4444444444444444,\"#bd3786\"],[0.5555555555555556,\"#d8576b\"],[0.6666666666666666,\"#ed7953\"],[0.7777777777777778,\"#fb9f3a\"],[0.8888888888888888,\"#fdca26\"],[1.0,\"#f0f921\"]],\"type\":\"contour\"}],\"contourcarpet\":[{\"colorbar\":{\"outlinewidth\":0,\"ticks\":\"\"},\"type\":\"contourcarpet\"}],\"heatmap\":[{\"colorbar\":{\"outlinewidth\":0,\"ticks\":\"\"},\"colorscale\":[[0.0,\"#0d0887\"],[0.1111111111111111,\"#46039f\"],[0.2222222222222222,\"#7201a8\"],[0.3333333333333333,\"#9c179e\"],[0.4444444444444444,\"#bd3786\"],[0.5555555555555556,\"#d8576b\"],[0.6666666666666666,\"#ed7953\"],[0.7777777777777778,\"#fb9f3a\"],[0.8888888888888888,\"#fdca26\"],[1.0,\"#f0f921\"]],\"type\":\"heatmap\"}],\"heatmapgl\":[{\"colorbar\":{\"outlinewidth\":0,\"ticks\":\"\"},\"colorscale\":[[0.0,\"#0d0887\"],[0.1111111111111111,\"#46039f\"],[0.2222222222222222,\"#7201a8\"],[0.3333333333333333,\"#9c179e\"],[0.4444444444444444,\"#bd3786\"],[0.5555555555555556,\"#d8576b\"],[0.6666666666666666,\"#ed7953\"],[0.7777777777777778,\"#fb9f3a\"],[0.8888888888888888,\"#fdca26\"],[1.0,\"#f0f921\"]],\"type\":\"heatmapgl\"}],\"histogram\":[{\"marker\":{\"pattern\":{\"fillmode\":\"overlay\",\"size\":10,\"solidity\":0.2}},\"type\":\"histogram\"}],\"histogram2d\":[{\"colorbar\":{\"outlinewidth\":0,\"ticks\":\"\"},\"colorscale\":[[0.0,\"#0d0887\"],[0.1111111111111111,\"#46039f\"],[0.2222222222222222,\"#7201a8\"],[0.3333333333333333,\"#9c179e\"],[0.4444444444444444,\"#bd3786\"],[0.5555555555555556,\"#d8576b\"],[0.6666666666666666,\"#ed7953\"],[0.7777777777777778,\"#fb9f3a\"],[0.8888888888888888,\"#fdca26\"],[1.0,\"#f0f921\"]],\"type\":\"histogram2d\"}],\"histogram2dcontour\":[{\"colorbar\":{\"outlinewidth\":0,\"ticks\":\"\"},\"colorscale\":[[0.0,\"#0d0887\"],[0.1111111111111111,\"#46039f\"],[0.2222222222222222,\"#7201a8\"],[0.3333333333333333,\"#9c179e\"],[0.4444444444444444,\"#bd3786\"],[0.5555555555555556,\"#d8576b\"],[0.6666666666666666,\"#ed7953\"],[0.7777777777777778,\"#fb9f3a\"],[0.8888888888888888,\"#fdca26\"],[1.0,\"#f0f921\"]],\"type\":\"histogram2dcontour\"}],\"mesh3d\":[{\"colorbar\":{\"outlinewidth\":0,\"ticks\":\"\"},\"type\":\"mesh3d\"}],\"parcoords\":[{\"line\":{\"colorbar\":{\"outlinewidth\":0,\"ticks\":\"\"}},\"type\":\"parcoords\"}],\"pie\":[{\"automargin\":true,\"type\":\"pie\"}],\"scatter\":[{\"marker\":{\"colorbar\":{\"outlinewidth\":0,\"ticks\":\"\"}},\"type\":\"scatter\"}],\"scatter3d\":[{\"line\":{\"colorbar\":{\"outlinewidth\":0,\"ticks\":\"\"}},\"marker\":{\"colorbar\":{\"outlinewidth\":0,\"ticks\":\"\"}},\"type\":\"scatter3d\"}],\"scattercarpet\":[{\"marker\":{\"colorbar\":{\"outlinewidth\":0,\"ticks\":\"\"}},\"type\":\"scattercarpet\"}],\"scattergeo\":[{\"marker\":{\"colorbar\":{\"outlinewidth\":0,\"ticks\":\"\"}},\"type\":\"scattergeo\"}],\"scattergl\":[{\"marker\":{\"colorbar\":{\"outlinewidth\":0,\"ticks\":\"\"}},\"type\":\"scattergl\"}],\"scattermapbox\":[{\"marker\":{\"colorbar\":{\"outlinewidth\":0,\"ticks\":\"\"}},\"type\":\"scattermapbox\"}],\"scatterpolar\":[{\"marker\":{\"colorbar\":{\"outlinewidth\":0,\"ticks\":\"\"}},\"type\":\"scatterpolar\"}],\"scatterpolargl\":[{\"marker\":{\"colorbar\":{\"outlinewidth\":0,\"ticks\":\"\"}},\"type\":\"scatterpolargl\"}],\"scatterternary\":[{\"marker\":{\"colorbar\":{\"outlinewidth\":0,\"ticks\":\"\"}},\"type\":\"scatterternary\"}],\"surface\":[{\"colorbar\":{\"outlinewidth\":0,\"ticks\":\"\"},\"colorscale\":[[0.0,\"#0d0887\"],[0.1111111111111111,\"#46039f\"],[0.2222222222222222,\"#7201a8\"],[0.3333333333333333,\"#9c179e\"],[0.4444444444444444,\"#bd3786\"],[0.5555555555555556,\"#d8576b\"],[0.6666666666666666,\"#ed7953\"],[0.7777777777777778,\"#fb9f3a\"],[0.8888888888888888,\"#fdca26\"],[1.0,\"#f0f921\"]],\"type\":\"surface\"}],\"table\":[{\"cells\":{\"fill\":{\"color\":\"#EBF0F8\"},\"line\":{\"color\":\"white\"}},\"header\":{\"fill\":{\"color\":\"#C8D4E3\"},\"line\":{\"color\":\"white\"}},\"type\":\"table\"}]},\"layout\":{\"annotationdefaults\":{\"arrowcolor\":\"#2a3f5f\",\"arrowhead\":0,\"arrowwidth\":1},\"autotypenumbers\":\"strict\",\"coloraxis\":{\"colorbar\":{\"outlinewidth\":0,\"ticks\":\"\"}},\"colorscale\":{\"diverging\":[[0,\"#8e0152\"],[0.1,\"#c51b7d\"],[0.2,\"#de77ae\"],[0.3,\"#f1b6da\"],[0.4,\"#fde0ef\"],[0.5,\"#f7f7f7\"],[0.6,\"#e6f5d0\"],[0.7,\"#b8e186\"],[0.8,\"#7fbc41\"],[0.9,\"#4d9221\"],[1,\"#276419\"]],\"sequential\":[[0.0,\"#0d0887\"],[0.1111111111111111,\"#46039f\"],[0.2222222222222222,\"#7201a8\"],[0.3333333333333333,\"#9c179e\"],[0.4444444444444444,\"#bd3786\"],[0.5555555555555556,\"#d8576b\"],[0.6666666666666666,\"#ed7953\"],[0.7777777777777778,\"#fb9f3a\"],[0.8888888888888888,\"#fdca26\"],[1.0,\"#f0f921\"]],\"sequentialminus\":[[0.0,\"#0d0887\"],[0.1111111111111111,\"#46039f\"],[0.2222222222222222,\"#7201a8\"],[0.3333333333333333,\"#9c179e\"],[0.4444444444444444,\"#bd3786\"],[0.5555555555555556,\"#d8576b\"],[0.6666666666666666,\"#ed7953\"],[0.7777777777777778,\"#fb9f3a\"],[0.8888888888888888,\"#fdca26\"],[1.0,\"#f0f921\"]]},\"colorway\":[\"#636efa\",\"#EF553B\",\"#00cc96\",\"#ab63fa\",\"#FFA15A\",\"#19d3f3\",\"#FF6692\",\"#B6E880\",\"#FF97FF\",\"#FECB52\"],\"font\":{\"color\":\"#2a3f5f\"},\"geo\":{\"bgcolor\":\"white\",\"lakecolor\":\"white\",\"landcolor\":\"#E5ECF6\",\"showlakes\":true,\"showland\":true,\"subunitcolor\":\"white\"},\"hoverlabel\":{\"align\":\"left\"},\"hovermode\":\"closest\",\"mapbox\":{\"style\":\"light\"},\"paper_bgcolor\":\"white\",\"plot_bgcolor\":\"#E5ECF6\",\"polar\":{\"angularaxis\":{\"gridcolor\":\"white\",\"linecolor\":\"white\",\"ticks\":\"\"},\"bgcolor\":\"#E5ECF6\",\"radialaxis\":{\"gridcolor\":\"white\",\"linecolor\":\"white\",\"ticks\":\"\"}},\"scene\":{\"xaxis\":{\"backgroundcolor\":\"#E5ECF6\",\"gridcolor\":\"white\",\"gridwidth\":2,\"linecolor\":\"white\",\"showbackground\":true,\"ticks\":\"\",\"zerolinecolor\":\"white\"},\"yaxis\":{\"backgroundcolor\":\"#E5ECF6\",\"gridcolor\":\"white\",\"gridwidth\":2,\"linecolor\":\"white\",\"showbackground\":true,\"ticks\":\"\",\"zerolinecolor\":\"white\"},\"zaxis\":{\"backgroundcolor\":\"#E5ECF6\",\"gridcolor\":\"white\",\"gridwidth\":2,\"linecolor\":\"white\",\"showbackground\":true,\"ticks\":\"\",\"zerolinecolor\":\"white\"}},\"shapedefaults\":{\"line\":{\"color\":\"#2a3f5f\"}},\"ternary\":{\"aaxis\":{\"gridcolor\":\"white\",\"linecolor\":\"white\",\"ticks\":\"\"},\"baxis\":{\"gridcolor\":\"white\",\"linecolor\":\"white\",\"ticks\":\"\"},\"bgcolor\":\"#E5ECF6\",\"caxis\":{\"gridcolor\":\"white\",\"linecolor\":\"white\",\"ticks\":\"\"}},\"title\":{\"x\":0.05},\"xaxis\":{\"automargin\":true,\"gridcolor\":\"white\",\"linecolor\":\"white\",\"ticks\":\"\",\"title\":{\"standoff\":15},\"zerolinecolor\":\"white\",\"zerolinewidth\":2},\"yaxis\":{\"automargin\":true,\"gridcolor\":\"white\",\"linecolor\":\"white\",\"ticks\":\"\",\"title\":{\"standoff\":15},\"zerolinecolor\":\"white\",\"zerolinewidth\":2}}},\"xaxis\":{\"anchor\":\"y\",\"domain\":[0.0,1.0],\"title\":{\"text\":\"time\"}},\"yaxis\":{\"anchor\":\"x\",\"domain\":[0.0,1.0],\"title\":{\"text\":\"count\"}},\"legend\":{\"title\":{\"text\":\"Y\"},\"tracegroupgap\":0},\"title\":{\"text\":\"Acceptance/rejection of coupon based on time of the day with Friends\"},\"barmode\":\"group\"},                        {\"responsive\": true}                    ).then(function(){\n",
       "                            \n",
       "var gd = document.getElementById('c2b3df72-6978-4d2c-9f94-abfb34d95ce9');\n",
       "var x = new MutationObserver(function (mutations, observer) {{\n",
       "        var display = window.getComputedStyle(gd).display;\n",
       "        if (!display || display === 'none') {{\n",
       "            console.log([gd, 'removed!']);\n",
       "            Plotly.purge(gd);\n",
       "            observer.disconnect();\n",
       "        }}\n",
       "}});\n",
       "\n",
       "// Listen for the removal of the full notebook cells\n",
       "var notebookContainer = gd.closest('#notebook-container');\n",
       "if (notebookContainer) {{\n",
       "    x.observe(notebookContainer, {childList: true});\n",
       "}}\n",
       "\n",
       "// Listen for the clearing of the current output cell\n",
       "var outputEl = gd.closest('.output');\n",
       "if (outputEl) {{\n",
       "    x.observe(outputEl, {childList: true});\n",
       "}}\n",
       "\n",
       "                        })                };                });            </script>        </div>"
      ]
     },
     "metadata": {},
     "output_type": "display_data"
    }
   ],
   "source": [
    "coffee_house_friend_df = coffee_house_df[coffee_house_df['passanger'] == 'Friend(s)']\n",
    "px.histogram(coffee_house_friend_df, x='time', color='Y', barmode='group', title=\"Acceptance/rejection of coupon based on time of the day with Friends\")"
   ]
  },
  {
   "cell_type": "markdown",
   "metadata": {},
   "source": [
    "Let's look at the data when the driver is alone. Does the time of the day affect the acceptance?"
   ]
  },
  {
   "cell_type": "code",
   "execution_count": 123,
   "metadata": {},
   "outputs": [
    {
     "data": {
      "application/vnd.plotly.v1+json": {
       "config": {
        "plotlyServerURL": "https://plot.ly"
       },
       "data": [
        {
         "alignmentgroup": "True",
         "bingroup": "x",
         "hovertemplate": "Y=0<br>time=%{x}<br>count=%{y}<extra></extra>",
         "legendgroup": "0",
         "marker": {
          "color": "#636efa",
          "pattern": {
           "shape": ""
          }
         },
         "name": "0",
         "offsetgroup": "0",
         "orientation": "v",
         "showlegend": true,
         "type": "histogram",
         "x": [
          "10AM",
          "6PM",
          "7AM",
          "7AM",
          "6PM",
          "7AM",
          "7AM",
          "7AM",
          "7AM",
          "10AM",
          "6PM",
          "6PM",
          "7AM",
          "7AM",
          "10AM",
          "6PM",
          "7AM",
          "7AM",
          "10AM",
          "6PM",
          "7AM",
          "7AM",
          "6PM",
          "7AM",
          "6PM",
          "7AM",
          "6PM",
          "7AM",
          "6PM",
          "7AM",
          "7AM",
          "6PM",
          "7AM",
          "7AM",
          "6PM",
          "7AM",
          "7AM",
          "6PM",
          "7AM",
          "10AM",
          "6PM",
          "7AM",
          "7AM",
          "6PM",
          "7AM",
          "10AM",
          "7AM",
          "7AM",
          "6PM",
          "6PM",
          "7AM",
          "7AM",
          "6PM",
          "7AM",
          "7AM",
          "10AM",
          "6PM",
          "7AM",
          "7AM",
          "6PM",
          "7AM",
          "7AM",
          "6PM",
          "7AM",
          "7AM",
          "6PM",
          "7AM",
          "7AM",
          "6PM",
          "7AM",
          "7AM",
          "7AM",
          "7AM",
          "7AM",
          "6PM",
          "7AM",
          "7AM",
          "6PM",
          "7AM",
          "7AM",
          "6PM",
          "7AM",
          "7AM",
          "10AM",
          "6PM",
          "7AM",
          "6PM",
          "6PM",
          "7AM",
          "7AM",
          "6PM",
          "7AM",
          "6PM",
          "7AM",
          "7AM",
          "6PM",
          "7AM",
          "6PM",
          "7AM",
          "7AM",
          "6PM",
          "7AM",
          "7AM",
          "6PM",
          "7AM",
          "6PM",
          "7AM",
          "7AM",
          "6PM",
          "7AM",
          "7AM",
          "7AM",
          "7AM",
          "6PM",
          "7AM",
          "7AM",
          "7AM",
          "6PM",
          "7AM",
          "7AM",
          "6PM",
          "7AM",
          "7AM",
          "7AM",
          "7AM",
          "7AM",
          "7AM",
          "7AM",
          "6PM",
          "7AM",
          "7AM",
          "7AM",
          "10AM",
          "6PM",
          "7AM",
          "7AM",
          "6PM",
          "7AM",
          "7AM",
          "6PM",
          "7AM",
          "6PM",
          "7AM",
          "7AM",
          "6PM",
          "7AM",
          "7AM",
          "10AM",
          "6PM",
          "7AM",
          "7AM",
          "6PM",
          "7AM",
          "6PM",
          "6PM",
          "7AM",
          "7AM",
          "6PM",
          "7AM",
          "6PM",
          "7AM",
          "7AM",
          "6PM",
          "7AM",
          "7AM",
          "7AM",
          "7AM",
          "7AM",
          "6PM",
          "7AM",
          "7AM",
          "10AM",
          "6PM",
          "7AM",
          "7AM",
          "7AM",
          "7AM",
          "10AM",
          "6PM",
          "7AM",
          "7AM",
          "7AM",
          "7AM",
          "6PM",
          "7AM",
          "7AM",
          "6PM",
          "7AM",
          "6PM",
          "7AM",
          "6PM",
          "7AM",
          "7AM",
          "6PM",
          "7AM",
          "7AM",
          "7AM",
          "6PM",
          "7AM",
          "7AM",
          "7AM",
          "7AM",
          "6PM",
          "7AM",
          "7AM",
          "6PM",
          "6PM",
          "7AM",
          "6PM",
          "7AM",
          "7AM",
          "6PM",
          "7AM",
          "7AM",
          "6PM",
          "7AM",
          "10AM",
          "6PM",
          "7AM",
          "7AM",
          "10AM",
          "7AM",
          "7AM",
          "7AM",
          "10AM",
          "7AM",
          "7AM",
          "6PM",
          "7AM",
          "7AM",
          "10AM",
          "6PM",
          "7AM",
          "7AM",
          "6PM",
          "7AM",
          "7AM",
          "7AM",
          "7AM",
          "6PM",
          "7AM",
          "6PM",
          "7AM",
          "7AM",
          "10AM",
          "6PM",
          "7AM",
          "7AM",
          "6PM",
          "7AM",
          "7AM",
          "6PM",
          "7AM",
          "7AM",
          "6PM",
          "7AM",
          "7AM",
          "6PM",
          "7AM",
          "7AM",
          "10AM",
          "6PM",
          "7AM",
          "7AM",
          "10AM",
          "6PM",
          "7AM",
          "7AM",
          "6PM",
          "7AM",
          "7AM",
          "7AM",
          "7AM",
          "6PM",
          "7AM",
          "7AM",
          "6PM",
          "7AM",
          "7AM",
          "6PM",
          "7AM",
          "7AM",
          "6PM",
          "7AM",
          "7AM",
          "6PM",
          "6PM",
          "7AM",
          "6PM",
          "7AM",
          "7AM",
          "10AM",
          "6PM",
          "7AM",
          "7AM",
          "6PM",
          "7AM",
          "10AM",
          "6PM",
          "7AM",
          "7AM",
          "6PM",
          "10AM",
          "6PM",
          "7AM",
          "7AM",
          "7AM",
          "6PM",
          "7AM",
          "7AM",
          "6PM",
          "7AM",
          "6PM",
          "7AM",
          "7AM",
          "6PM",
          "6PM",
          "7AM",
          "7AM",
          "6PM",
          "7AM",
          "7AM",
          "7AM",
          "7AM",
          "6PM",
          "7AM",
          "7AM",
          "6PM",
          "7AM",
          "7AM",
          "7AM",
          "7AM",
          "6PM",
          "7AM",
          "10AM",
          "6PM",
          "7AM",
          "7AM",
          "6PM",
          "7AM",
          "6PM",
          "7AM",
          "7AM",
          "7AM",
          "6PM",
          "7AM",
          "10AM",
          "6PM",
          "7AM",
          "7AM",
          "7AM",
          "7AM",
          "7AM",
          "7AM",
          "7AM",
          "7AM",
          "7AM",
          "7AM",
          "7AM",
          "7AM",
          "6PM",
          "7AM",
          "6PM",
          "7AM",
          "7AM",
          "6PM",
          "7AM",
          "7AM",
          "10AM",
          "6PM",
          "7AM",
          "7AM",
          "6PM",
          "7AM",
          "7AM",
          "10AM",
          "6PM",
          "7AM",
          "7AM",
          "10AM",
          "6PM",
          "7AM",
          "7AM",
          "6PM",
          "7AM",
          "7AM",
          "7AM",
          "7AM",
          "10AM",
          "6PM",
          "7AM",
          "7AM",
          "6PM",
          "6PM",
          "7AM",
          "6PM",
          "7AM",
          "6PM",
          "6PM",
          "6PM",
          "7AM",
          "7AM",
          "7AM",
          "6PM",
          "6PM",
          "6PM",
          "7AM",
          "7AM",
          "7AM",
          "6PM",
          "6PM",
          "6PM",
          "7AM",
          "7AM",
          "6PM",
          "6PM",
          "6PM",
          "7AM",
          "7AM",
          "7AM",
          "6PM",
          "6PM",
          "6PM",
          "7AM",
          "7AM",
          "7AM",
          "6PM",
          "6PM",
          "6PM",
          "7AM",
          "7AM",
          "7AM",
          "6PM",
          "6PM",
          "7AM",
          "6PM",
          "6PM",
          "7AM",
          "7AM",
          "7AM",
          "6PM",
          "6PM",
          "6PM",
          "7AM",
          "7AM",
          "7AM",
          "6PM",
          "6PM",
          "6PM",
          "6PM",
          "7AM",
          "7AM",
          "7AM",
          "6PM",
          "6PM",
          "6PM",
          "7AM",
          "7AM",
          "6PM",
          "6PM",
          "6PM",
          "7AM",
          "7AM",
          "7AM",
          "6PM",
          "6PM",
          "6PM",
          "6PM",
          "6PM",
          "6PM",
          "7AM",
          "6PM",
          "6PM",
          "6PM",
          "7AM",
          "7AM",
          "7AM",
          "6PM",
          "6PM",
          "6PM",
          "6PM",
          "7AM",
          "7AM",
          "7AM",
          "6PM",
          "7AM",
          "6PM",
          "6PM",
          "7AM",
          "6PM",
          "6PM",
          "6PM",
          "7AM",
          "7AM",
          "7AM",
          "6PM",
          "6PM",
          "6PM",
          "6PM",
          "6PM",
          "6PM",
          "6PM",
          "6PM",
          "7AM",
          "7AM",
          "7AM",
          "6PM",
          "7AM",
          "6PM",
          "7AM",
          "7AM",
          "6PM",
          "7AM",
          "6PM",
          "6PM",
          "6PM",
          "7AM",
          "7AM",
          "7AM",
          "6PM",
          "6PM",
          "6PM",
          "7AM",
          "6PM",
          "6PM",
          "6PM",
          "7AM",
          "7AM",
          "7AM",
          "6PM",
          "6PM",
          "6PM",
          "7AM",
          "7AM",
          "7AM",
          "6PM",
          "7AM",
          "7AM",
          "6PM",
          "6PM",
          "7AM",
          "7AM",
          "6PM",
          "6PM",
          "6PM",
          "7AM",
          "7AM",
          "7AM",
          "6PM",
          "6PM",
          "6PM",
          "7AM",
          "7AM",
          "7AM",
          "7AM",
          "6PM",
          "6PM",
          "6PM",
          "7AM",
          "6PM",
          "6PM",
          "6PM",
          "7AM",
          "7AM",
          "7AM",
          "6PM",
          "6PM",
          "7AM",
          "7AM",
          "6PM",
          "6PM",
          "6PM",
          "7AM",
          "7AM",
          "7AM",
          "6PM",
          "6PM",
          "6PM",
          "7AM",
          "7AM",
          "7AM",
          "6PM",
          "6PM",
          "6PM",
          "6PM",
          "6PM",
          "6PM",
          "7AM",
          "7AM",
          "7AM",
          "6PM",
          "6PM",
          "6PM",
          "7AM",
          "7AM",
          "7AM",
          "6PM",
          "6PM",
          "6PM",
          "7AM",
          "6PM",
          "6PM",
          "6PM",
          "7AM",
          "7AM",
          "7AM",
          "6PM",
          "6PM",
          "6PM",
          "7AM",
          "6PM",
          "6PM",
          "6PM",
          "7AM",
          "7AM",
          "7AM",
          "7AM",
          "6PM",
          "6PM",
          "6PM",
          "7AM",
          "7AM",
          "7AM",
          "7AM",
          "7AM",
          "6PM",
          "6PM",
          "7AM",
          "7AM",
          "6PM",
          "6PM",
          "6PM",
          "7AM",
          "7AM",
          "7AM",
          "6PM",
          "6PM",
          "6PM",
          "7AM",
          "7AM",
          "6PM",
          "6PM",
          "6PM",
          "7AM",
          "7AM",
          "7AM",
          "6PM",
          "6PM",
          "6PM",
          "7AM",
          "7AM",
          "7AM",
          "6PM",
          "6PM",
          "6PM",
          "7AM",
          "7AM",
          "6PM",
          "6PM",
          "6PM",
          "7AM",
          "6PM",
          "6PM",
          "6PM",
          "7AM",
          "6PM",
          "7AM",
          "6PM",
          "6PM",
          "6PM",
          "6PM",
          "7AM",
          "7AM",
          "7AM",
          "6PM",
          "6PM",
          "7AM",
          "7AM",
          "6PM",
          "6PM",
          "6PM",
          "7AM",
          "7AM",
          "7AM",
          "6PM",
          "7AM",
          "6PM",
          "7AM",
          "6PM",
          "6PM",
          "6PM",
          "7AM",
          "7AM",
          "7AM",
          "6PM",
          "6PM",
          "6PM",
          "7AM",
          "7AM",
          "7AM",
          "7AM",
          "6PM",
          "6PM",
          "6PM",
          "7AM",
          "7AM",
          "7AM",
          "6PM",
          "6PM",
          "6PM",
          "6PM",
          "6PM",
          "7AM",
          "6PM",
          "6PM",
          "7AM",
          "6PM",
          "7AM",
          "7AM",
          "6PM",
          "6PM",
          "6PM",
          "7AM",
          "7AM",
          "6PM",
          "6PM",
          "6PM",
          "7AM",
          "7AM",
          "7AM",
          "6PM",
          "6PM",
          "6PM",
          "7AM",
          "7AM",
          "7AM",
          "6PM",
          "6PM",
          "7AM",
          "6PM",
          "6PM",
          "6PM",
          "7AM",
          "6PM",
          "7AM",
          "7AM",
          "7AM",
          "6PM",
          "6PM",
          "6PM",
          "7AM",
          "7AM",
          "7AM",
          "7AM",
          "6PM",
          "6PM",
          "7AM",
          "6PM",
          "6PM",
          "7AM",
          "7AM",
          "7AM",
          "6PM",
          "7AM",
          "6PM",
          "6PM",
          "6PM",
          "7AM",
          "7AM",
          "7AM",
          "6PM",
          "6PM",
          "7AM",
          "7AM",
          "7AM",
          "6PM",
          "6PM",
          "6PM",
          "7AM",
          "7AM",
          "6PM",
          "6PM",
          "6PM",
          "7AM",
          "7AM",
          "7AM",
          "7AM",
          "6PM",
          "6PM",
          "6PM",
          "7AM",
          "7AM",
          "7AM",
          "7AM",
          "7AM",
          "6PM",
          "6PM",
          "6PM",
          "7AM",
          "6PM",
          "6PM",
          "6PM",
          "6PM",
          "6PM",
          "7AM",
          "7AM",
          "6PM",
          "6PM",
          "6PM",
          "6PM",
          "6PM",
          "7AM",
          "6PM",
          "6PM",
          "6PM",
          "6PM",
          "6PM",
          "6PM",
          "6PM",
          "6PM",
          "6PM",
          "6PM",
          "6PM",
          "6PM",
          "6PM",
          "6PM",
          "6PM",
          "7AM",
          "6PM",
          "6PM",
          "6PM",
          "6PM",
          "6PM",
          "6PM",
          "6PM",
          "6PM",
          "6PM",
          "6PM",
          "6PM",
          "6PM",
          "6PM",
          "6PM",
          "10PM",
          "6PM",
          "6PM",
          "10AM",
          "6PM",
          "6PM",
          "6PM",
          "6PM",
          "10AM",
          "6PM",
          "6PM",
          "10AM",
          "6PM",
          "6PM",
          "10AM",
          "6PM",
          "10AM",
          "10PM",
          "6PM",
          "6PM",
          "10AM",
          "6PM",
          "10AM",
          "6PM",
          "10AM",
          "6PM",
          "6PM",
          "6PM",
          "10AM",
          "6PM",
          "10AM",
          "10PM",
          "6PM",
          "6PM",
          "10PM",
          "10AM",
          "6PM",
          "6PM",
          "6PM",
          "6PM",
          "6PM",
          "6PM",
          "10AM",
          "6PM",
          "6PM",
          "6PM",
          "6PM",
          "10AM",
          "10PM",
          "6PM",
          "10AM",
          "6PM",
          "6PM",
          "6PM",
          "6PM",
          "10AM",
          "6PM",
          "10PM",
          "6PM",
          "6PM",
          "10AM",
          "6PM",
          "6PM",
          "10AM",
          "6PM",
          "6PM",
          "10AM",
          "6PM",
          "10AM",
          "6PM",
          "10AM",
          "6PM",
          "6PM",
          "6PM",
          "6PM",
          "10AM",
          "6PM",
          "10AM",
          "10PM",
          "6PM",
          "6PM",
          "6PM",
          "10AM",
          "6PM",
          "6PM",
          "10AM",
          "6PM",
          "10AM",
          "6PM",
          "10AM",
          "6PM",
          "6PM",
          "10AM",
          "6PM",
          "6PM",
          "6PM",
          "10AM",
          "6PM",
          "6PM",
          "6PM",
          "10AM",
          "6PM",
          "10AM",
          "6PM",
          "6PM",
          "6PM",
          "6PM",
          "10PM",
          "6PM",
          "6PM",
          "6PM",
          "10AM",
          "6PM",
          "6PM",
          "6PM",
          "10AM",
          "6PM",
          "6PM",
          "10AM",
          "6PM",
          "10AM",
          "10PM",
          "6PM",
          "10AM",
          "6PM",
          "6PM",
          "6PM",
          "10AM",
          "6PM",
          "6PM",
          "6PM",
          "6PM",
          "10AM",
          "10AM",
          "7AM",
          "10AM",
          "7AM",
          "10AM",
          "10AM",
          "7AM",
          "10AM",
          "7AM",
          "10AM",
          "10AM",
          "7AM",
          "10AM",
          "10AM",
          "7AM",
          "10AM",
          "10AM",
          "7AM",
          "10AM",
          "10AM",
          "7AM",
          "10AM",
          "10AM",
          "10AM",
          "10AM",
          "10AM",
          "10AM",
          "7AM",
          "10AM",
          "10AM",
          "7AM",
          "10AM",
          "10AM",
          "10AM",
          "7AM",
          "10AM",
          "10AM",
          "10AM",
          "10AM",
          "7AM",
          "10AM",
          "10AM",
          "10AM",
          "10AM",
          "10AM",
          "10AM",
          "10AM",
          "7AM",
          "10AM",
          "10AM",
          "10AM",
          "10AM",
          "10AM",
          "7AM",
          "10AM",
          "10AM",
          "7AM",
          "10AM",
          "10AM",
          "10AM",
          "7AM",
          "10AM",
          "10AM",
          "10AM",
          "10AM",
          "7AM",
          "10AM",
          "10AM",
          "7AM",
          "10AM",
          "10AM",
          "7AM",
          "10AM",
          "10AM",
          "10AM",
          "7AM",
          "10AM",
          "10AM",
          "10AM",
          "7AM",
          "10AM",
          "10AM",
          "7AM",
          "10AM",
          "7AM",
          "10AM",
          "10AM",
          "10AM",
          "10AM",
          "7AM",
          "10AM",
          "10AM",
          "10AM",
          "7AM",
          "10AM",
          "7AM",
          "10AM",
          "10AM",
          "7AM",
          "10AM",
          "10AM",
          "7AM",
          "10PM",
          "10PM",
          "7AM",
          "10PM",
          "10PM",
          "10PM",
          "10PM",
          "10PM",
          "10PM",
          "10PM",
          "7AM",
          "10PM",
          "10PM",
          "10PM",
          "10PM",
          "10PM",
          "7AM",
          "10PM",
          "10PM",
          "10PM",
          "10PM",
          "10PM",
          "10PM",
          "10PM",
          "7AM",
          "10PM",
          "10PM",
          "10PM",
          "10PM",
          "10PM",
          "10PM",
          "7AM",
          "10PM",
          "10PM",
          "10PM",
          "10PM",
          "10PM",
          "10PM",
          "10PM",
          "10PM",
          "10PM",
          "10PM",
          "10PM",
          "10PM",
          "7AM",
          "10PM",
          "7AM",
          "10PM",
          "10PM",
          "7AM",
          "10PM",
          "10PM",
          "10PM",
          "10PM",
          "10PM",
          "10PM",
          "10PM",
          "10PM",
          "10PM",
          "10PM",
          "7AM",
          "10PM",
          "10PM",
          "10PM",
          "10PM",
          "10PM",
          "7AM",
          "10PM",
          "10PM",
          "10PM",
          "10PM",
          "7AM",
          "10PM",
          "10PM",
          "10PM",
          "10PM",
          "10PM",
          "10PM",
          "10PM",
          "7AM",
          "10PM",
          "10PM",
          "10PM",
          "10PM",
          "10PM",
          "10PM",
          "10PM",
          "10PM",
          "10PM",
          "10PM",
          "10PM",
          "7AM",
          "10PM",
          "10PM",
          "7AM",
          "10PM",
          "10PM",
          "10PM",
          "10PM",
          "10PM",
          "7AM",
          "10PM",
          "10PM",
          "10PM",
          "10PM",
          "10PM",
          "10PM",
          "10PM",
          "10PM",
          "10PM",
          "10PM",
          "7AM",
          "10PM",
          "10PM",
          "10PM",
          "10PM",
          "10PM",
          "10PM",
          "10PM",
          "7AM",
          "10PM",
          "10PM",
          "10PM",
          "10PM",
          "10PM",
          "7AM",
          "10PM",
          "10PM",
          "7AM",
          "10PM",
          "10PM",
          "7AM",
          "10PM",
          "10PM",
          "10PM",
          "7AM",
          "10PM",
          "10PM",
          "10PM",
          "10PM",
          "7AM",
          "10PM",
          "10PM",
          "7AM"
         ],
         "xaxis": "x",
         "yaxis": "y"
        },
        {
         "alignmentgroup": "True",
         "bingroup": "x",
         "hovertemplate": "Y=1<br>time=%{x}<br>count=%{y}<extra></extra>",
         "legendgroup": "1",
         "marker": {
          "color": "#EF553B",
          "pattern": {
           "shape": ""
          }
         },
         "name": "1",
         "offsetgroup": "1",
         "orientation": "v",
         "showlegend": true,
         "type": "histogram",
         "x": [
          "10AM",
          "6PM",
          "10AM",
          "6PM",
          "7AM",
          "7AM",
          "7AM",
          "7AM",
          "6PM",
          "7AM",
          "10AM",
          "7AM",
          "7AM",
          "6PM",
          "7AM",
          "7AM",
          "7AM",
          "7AM",
          "6PM",
          "10AM",
          "7AM",
          "7AM",
          "10AM",
          "7AM",
          "7AM",
          "6PM",
          "10AM",
          "10AM",
          "6PM",
          "7AM",
          "7AM",
          "6PM",
          "7AM",
          "7AM",
          "10AM",
          "10AM",
          "6PM",
          "7AM",
          "7AM",
          "6PM",
          "7AM",
          "10AM",
          "6PM",
          "7AM",
          "7AM",
          "7AM",
          "10AM",
          "7AM",
          "7AM",
          "7AM",
          "10AM",
          "7AM",
          "7AM",
          "7AM",
          "7AM",
          "6PM",
          "6PM",
          "10AM",
          "10AM",
          "6PM",
          "7AM",
          "10AM",
          "6PM",
          "7AM",
          "10AM",
          "6PM",
          "6PM",
          "6PM",
          "7AM",
          "7AM",
          "10AM",
          "7AM",
          "6PM",
          "7AM",
          "6PM",
          "7AM",
          "7AM",
          "10AM",
          "7AM",
          "10AM",
          "6PM",
          "7AM",
          "7AM",
          "7AM",
          "7AM",
          "10AM",
          "7AM",
          "10AM",
          "6PM",
          "6PM",
          "7AM",
          "6PM",
          "7AM",
          "7AM",
          "10AM",
          "6PM",
          "7AM",
          "7AM",
          "10AM",
          "6PM",
          "10AM",
          "6PM",
          "7AM",
          "7AM",
          "7AM",
          "6PM",
          "10AM",
          "6PM",
          "10AM",
          "7AM",
          "7AM",
          "10AM",
          "7AM",
          "10AM",
          "7AM",
          "6PM",
          "7AM",
          "6PM",
          "6PM",
          "10AM",
          "6PM",
          "7AM",
          "10AM",
          "6PM",
          "7AM",
          "7AM",
          "6PM",
          "7AM",
          "10AM",
          "6PM",
          "7AM",
          "7AM",
          "10AM",
          "7AM",
          "6PM",
          "7AM",
          "7AM",
          "7AM",
          "6PM",
          "7AM",
          "6PM",
          "7AM",
          "10AM",
          "6PM",
          "7AM",
          "10AM",
          "6PM",
          "7AM",
          "10AM",
          "7AM",
          "10AM",
          "6PM",
          "7AM",
          "7AM",
          "7AM",
          "10AM",
          "7AM",
          "7AM",
          "7AM",
          "7AM",
          "7AM",
          "6PM",
          "10AM",
          "6PM",
          "7AM",
          "7AM",
          "7AM",
          "7AM",
          "10AM",
          "6PM",
          "10AM",
          "6PM",
          "7AM",
          "6PM",
          "7AM",
          "10AM",
          "7AM",
          "7AM",
          "10AM",
          "6PM",
          "7AM",
          "7AM",
          "10AM",
          "6PM",
          "7AM",
          "6PM",
          "7AM",
          "6PM",
          "7AM",
          "6PM",
          "10AM",
          "6PM",
          "6PM",
          "7AM",
          "6PM",
          "10AM",
          "7AM",
          "10AM",
          "6PM",
          "6PM",
          "7AM",
          "7AM",
          "6PM",
          "6PM",
          "7AM",
          "7AM",
          "7AM",
          "6PM",
          "6PM",
          "6PM",
          "7AM",
          "7AM",
          "7AM",
          "6PM",
          "7AM",
          "7AM",
          "6PM",
          "6PM",
          "6PM",
          "7AM",
          "7AM",
          "7AM",
          "6PM",
          "6PM",
          "6PM",
          "7AM",
          "7AM",
          "7AM",
          "7AM",
          "7AM",
          "7AM",
          "7AM",
          "7AM",
          "6PM",
          "6PM",
          "7AM",
          "7AM",
          "7AM",
          "6PM",
          "6PM",
          "7AM",
          "7AM",
          "6PM",
          "7AM",
          "7AM",
          "7AM",
          "7AM",
          "7AM",
          "6PM",
          "7AM",
          "7AM",
          "7AM",
          "6PM",
          "6PM",
          "7AM",
          "7AM",
          "6PM",
          "6PM",
          "7AM",
          "6PM",
          "6PM",
          "7AM",
          "7AM",
          "7AM",
          "7AM",
          "6PM",
          "6PM",
          "7AM",
          "6PM",
          "6PM",
          "7AM",
          "7AM",
          "7AM",
          "6PM",
          "6PM",
          "7AM",
          "6PM",
          "6PM",
          "6PM",
          "7AM",
          "7AM",
          "7AM",
          "6PM",
          "6PM",
          "6PM",
          "7AM",
          "7AM",
          "7AM",
          "6PM",
          "6PM",
          "6PM",
          "7AM",
          "7AM",
          "7AM",
          "7AM",
          "6PM",
          "6PM",
          "6PM",
          "7AM",
          "7AM",
          "7AM",
          "6PM",
          "6PM",
          "6PM",
          "7AM",
          "7AM",
          "7AM",
          "6PM",
          "7AM",
          "7AM",
          "7AM",
          "7AM",
          "7AM",
          "7AM",
          "6PM",
          "6PM",
          "7AM",
          "7AM",
          "7AM",
          "6PM",
          "7AM",
          "7AM",
          "6PM",
          "6PM",
          "6PM",
          "7AM",
          "7AM",
          "7AM",
          "6PM",
          "6PM",
          "6PM",
          "6PM",
          "7AM",
          "7AM",
          "7AM",
          "6PM",
          "6PM",
          "6PM",
          "7AM",
          "7AM",
          "7AM",
          "7AM",
          "7AM",
          "6PM",
          "7AM",
          "7AM",
          "7AM",
          "6PM",
          "6PM",
          "7AM",
          "7AM",
          "6PM",
          "6PM",
          "7AM",
          "7AM",
          "6PM",
          "6PM",
          "7AM",
          "7AM",
          "7AM",
          "6PM",
          "6PM",
          "7AM",
          "7AM",
          "7AM",
          "6PM",
          "7AM",
          "6PM",
          "6PM",
          "6PM",
          "7AM",
          "7AM",
          "6PM",
          "7AM",
          "6PM",
          "6PM",
          "7AM",
          "7AM",
          "6PM",
          "6PM",
          "7AM",
          "7AM",
          "6PM",
          "6PM",
          "6PM",
          "7AM",
          "7AM",
          "6PM",
          "6PM",
          "6PM",
          "7AM",
          "7AM",
          "7AM",
          "6PM",
          "7AM",
          "7AM",
          "7AM",
          "7AM",
          "7AM",
          "6PM",
          "7AM",
          "7AM",
          "6PM",
          "6PM",
          "7AM",
          "7AM",
          "6PM",
          "6PM",
          "6PM",
          "7AM",
          "7AM",
          "7AM",
          "6PM",
          "7AM",
          "7AM",
          "7AM",
          "7AM",
          "6PM",
          "6PM",
          "7AM",
          "6PM",
          "6PM",
          "6PM",
          "7AM",
          "6PM",
          "7AM",
          "7AM",
          "6PM",
          "6PM",
          "6PM",
          "7AM",
          "7AM",
          "6PM",
          "6PM",
          "6PM",
          "7AM",
          "7AM",
          "7AM",
          "6PM",
          "7AM",
          "6PM",
          "6PM",
          "6PM",
          "7AM",
          "7AM",
          "7AM",
          "6PM",
          "6PM",
          "6PM",
          "7AM",
          "7AM",
          "6PM",
          "6PM",
          "6PM",
          "7AM",
          "7AM",
          "7AM",
          "6PM",
          "6PM",
          "6PM",
          "7AM",
          "7AM",
          "7AM",
          "6PM",
          "6PM",
          "6PM",
          "7AM",
          "7AM",
          "7AM",
          "10AM",
          "6PM",
          "6PM",
          "7AM",
          "7AM",
          "6PM",
          "6PM",
          "6PM",
          "6PM",
          "7AM",
          "7AM",
          "10AM",
          "6PM",
          "6PM",
          "6PM",
          "7AM",
          "10AM",
          "6PM",
          "6PM",
          "7AM",
          "7AM",
          "6PM",
          "6PM",
          "6PM",
          "7AM",
          "7AM",
          "10AM",
          "6PM",
          "6PM",
          "6PM",
          "7AM",
          "7AM",
          "6PM",
          "6PM",
          "7AM",
          "7AM",
          "6PM",
          "6PM",
          "6PM",
          "6PM",
          "7AM",
          "7AM",
          "6PM",
          "7AM",
          "6PM",
          "6PM",
          "6PM",
          "6PM",
          "6PM",
          "7AM",
          "7AM",
          "6PM",
          "6PM",
          "7AM",
          "7AM",
          "10AM",
          "6PM",
          "6PM",
          "6PM",
          "6PM",
          "7AM",
          "7AM",
          "6PM",
          "6PM",
          "6PM",
          "6PM",
          "6PM",
          "7AM",
          "7AM",
          "10AM",
          "6PM",
          "6PM",
          "10AM",
          "6PM",
          "10AM",
          "10AM",
          "10AM",
          "6PM",
          "10AM",
          "10AM",
          "10PM",
          "10AM",
          "6PM",
          "6PM",
          "10AM",
          "10AM",
          "6PM",
          "10AM",
          "10AM",
          "6PM",
          "10AM",
          "10AM",
          "6PM",
          "10AM",
          "10PM",
          "6PM",
          "10AM",
          "6PM",
          "6PM",
          "10AM",
          "6PM",
          "6PM",
          "10AM",
          "6PM",
          "6PM",
          "10AM",
          "6PM",
          "10AM",
          "6PM",
          "6PM",
          "6PM",
          "10PM",
          "6PM",
          "10AM",
          "10AM",
          "6PM",
          "10AM",
          "6PM",
          "6PM",
          "10AM",
          "10AM",
          "6PM",
          "10AM",
          "6PM",
          "6PM",
          "10AM",
          "6PM",
          "6PM",
          "10AM",
          "10AM",
          "10AM",
          "6PM",
          "10PM",
          "10AM",
          "10AM",
          "6PM",
          "10AM",
          "10AM",
          "10AM",
          "10PM",
          "6PM",
          "6PM",
          "10AM",
          "6PM",
          "10AM",
          "10AM",
          "6PM",
          "6PM",
          "10AM",
          "6PM",
          "10AM",
          "10PM",
          "6PM",
          "10AM",
          "6PM",
          "10AM",
          "6PM",
          "6PM",
          "10AM",
          "6PM",
          "10AM",
          "10PM",
          "6PM",
          "10AM",
          "6PM",
          "6PM",
          "6PM",
          "10AM",
          "10PM",
          "6PM",
          "10AM",
          "6PM",
          "10AM",
          "10PM",
          "10PM",
          "10AM",
          "6PM",
          "10AM",
          "10AM",
          "6PM",
          "10AM",
          "6PM",
          "10PM",
          "10AM",
          "6PM",
          "6PM",
          "10AM",
          "6PM",
          "10PM",
          "10AM",
          "6PM",
          "10AM",
          "6PM",
          "10AM",
          "6PM",
          "10AM",
          "6PM",
          "10AM",
          "10PM",
          "6PM",
          "6PM",
          "10AM",
          "6PM",
          "10AM",
          "10AM",
          "10AM",
          "6PM",
          "10AM",
          "6PM",
          "10AM",
          "6PM",
          "10PM",
          "6PM",
          "10AM",
          "6PM",
          "10AM",
          "10AM",
          "6PM",
          "6PM",
          "10AM",
          "6PM",
          "10AM",
          "10AM",
          "7AM",
          "10AM",
          "7AM",
          "10AM",
          "10AM",
          "7AM",
          "10AM",
          "10AM",
          "10AM",
          "7AM",
          "10AM",
          "10AM",
          "7AM",
          "10AM",
          "10AM",
          "10AM",
          "10AM",
          "7AM",
          "10AM",
          "10AM",
          "7AM",
          "10AM",
          "10AM",
          "7AM",
          "10AM",
          "10AM",
          "7AM",
          "10AM",
          "7AM",
          "10AM",
          "10AM",
          "7AM",
          "10AM",
          "10AM",
          "7AM",
          "7AM",
          "10AM",
          "10AM",
          "7AM",
          "10AM",
          "10AM",
          "7AM",
          "10AM",
          "10AM",
          "7AM",
          "10AM",
          "10AM",
          "7AM",
          "10AM",
          "7AM",
          "10AM",
          "10AM",
          "7AM",
          "10AM",
          "10AM",
          "7AM",
          "10AM",
          "10AM",
          "7AM",
          "7AM",
          "10AM",
          "7AM",
          "10AM",
          "10AM",
          "7AM",
          "7AM",
          "10AM",
          "10AM",
          "7AM",
          "7AM",
          "10AM",
          "7AM",
          "10AM",
          "7AM",
          "10AM",
          "7AM",
          "7AM",
          "10AM",
          "7AM",
          "10AM",
          "10AM",
          "10AM",
          "7AM",
          "10AM",
          "10AM",
          "7AM",
          "10AM",
          "7AM",
          "10AM",
          "10AM",
          "7AM",
          "10AM",
          "7AM",
          "7AM",
          "10AM",
          "10AM",
          "10AM",
          "7AM",
          "10AM",
          "10AM",
          "7AM",
          "10AM",
          "10AM",
          "7AM",
          "10AM",
          "7AM",
          "10AM",
          "10AM",
          "7AM",
          "10AM",
          "7AM",
          "10AM",
          "10AM",
          "7AM",
          "10AM",
          "10AM",
          "7AM",
          "10AM",
          "10AM",
          "7AM",
          "10AM",
          "7AM",
          "10AM",
          "10AM",
          "7AM",
          "10AM",
          "7AM",
          "10AM",
          "10AM",
          "7AM",
          "10AM",
          "10AM",
          "7AM",
          "10AM",
          "10AM",
          "7AM",
          "10AM",
          "7AM",
          "10AM",
          "10AM",
          "7AM",
          "10AM",
          "7AM",
          "10AM",
          "10AM",
          "10AM",
          "10AM",
          "7AM",
          "10PM",
          "10PM",
          "7AM",
          "10PM",
          "7AM",
          "10PM",
          "7AM",
          "10PM",
          "7AM",
          "7AM",
          "10PM",
          "10PM",
          "7AM",
          "10PM",
          "7AM",
          "7AM",
          "10PM",
          "7AM",
          "7AM",
          "10PM",
          "10PM",
          "7AM",
          "10PM",
          "10PM",
          "7AM",
          "7AM",
          "7AM",
          "7AM",
          "7AM",
          "10PM",
          "10PM",
          "7AM",
          "7AM",
          "7AM",
          "10PM",
          "10PM",
          "7AM",
          "7AM",
          "10PM",
          "7AM",
          "7AM",
          "10PM",
          "10PM",
          "7AM",
          "10PM",
          "7AM",
          "10PM",
          "7AM",
          "7AM",
          "10PM",
          "10PM",
          "7AM",
          "7AM",
          "10PM",
          "7AM",
          "10PM",
          "10PM",
          "7AM",
          "7AM",
          "7AM",
          "7AM",
          "10PM",
          "10PM",
          "7AM",
          "10PM",
          "7AM",
          "7AM",
          "7AM",
          "7AM",
          "7AM",
          "7AM",
          "10PM",
          "7AM",
          "10PM",
          "7AM",
          "7AM",
          "7AM",
          "7AM",
          "7AM",
          "10PM",
          "10PM",
          "7AM",
          "7AM",
          "7AM",
          "7AM",
          "7AM",
          "10PM",
          "7AM",
          "10PM",
          "7AM",
          "7AM",
          "10PM",
          "10PM",
          "7AM",
          "10PM",
          "7AM"
         ],
         "xaxis": "x",
         "yaxis": "y"
        }
       ],
       "layout": {
        "barmode": "group",
        "legend": {
         "title": {
          "text": "Y"
         },
         "tracegroupgap": 0
        },
        "template": {
         "data": {
          "bar": [
           {
            "error_x": {
             "color": "#2a3f5f"
            },
            "error_y": {
             "color": "#2a3f5f"
            },
            "marker": {
             "line": {
              "color": "#E5ECF6",
              "width": 0.5
             },
             "pattern": {
              "fillmode": "overlay",
              "size": 10,
              "solidity": 0.2
             }
            },
            "type": "bar"
           }
          ],
          "barpolar": [
           {
            "marker": {
             "line": {
              "color": "#E5ECF6",
              "width": 0.5
             },
             "pattern": {
              "fillmode": "overlay",
              "size": 10,
              "solidity": 0.2
             }
            },
            "type": "barpolar"
           }
          ],
          "carpet": [
           {
            "aaxis": {
             "endlinecolor": "#2a3f5f",
             "gridcolor": "white",
             "linecolor": "white",
             "minorgridcolor": "white",
             "startlinecolor": "#2a3f5f"
            },
            "baxis": {
             "endlinecolor": "#2a3f5f",
             "gridcolor": "white",
             "linecolor": "white",
             "minorgridcolor": "white",
             "startlinecolor": "#2a3f5f"
            },
            "type": "carpet"
           }
          ],
          "choropleth": [
           {
            "colorbar": {
             "outlinewidth": 0,
             "ticks": ""
            },
            "type": "choropleth"
           }
          ],
          "contour": [
           {
            "colorbar": {
             "outlinewidth": 0,
             "ticks": ""
            },
            "colorscale": [
             [
              0,
              "#0d0887"
             ],
             [
              0.1111111111111111,
              "#46039f"
             ],
             [
              0.2222222222222222,
              "#7201a8"
             ],
             [
              0.3333333333333333,
              "#9c179e"
             ],
             [
              0.4444444444444444,
              "#bd3786"
             ],
             [
              0.5555555555555556,
              "#d8576b"
             ],
             [
              0.6666666666666666,
              "#ed7953"
             ],
             [
              0.7777777777777778,
              "#fb9f3a"
             ],
             [
              0.8888888888888888,
              "#fdca26"
             ],
             [
              1,
              "#f0f921"
             ]
            ],
            "type": "contour"
           }
          ],
          "contourcarpet": [
           {
            "colorbar": {
             "outlinewidth": 0,
             "ticks": ""
            },
            "type": "contourcarpet"
           }
          ],
          "heatmap": [
           {
            "colorbar": {
             "outlinewidth": 0,
             "ticks": ""
            },
            "colorscale": [
             [
              0,
              "#0d0887"
             ],
             [
              0.1111111111111111,
              "#46039f"
             ],
             [
              0.2222222222222222,
              "#7201a8"
             ],
             [
              0.3333333333333333,
              "#9c179e"
             ],
             [
              0.4444444444444444,
              "#bd3786"
             ],
             [
              0.5555555555555556,
              "#d8576b"
             ],
             [
              0.6666666666666666,
              "#ed7953"
             ],
             [
              0.7777777777777778,
              "#fb9f3a"
             ],
             [
              0.8888888888888888,
              "#fdca26"
             ],
             [
              1,
              "#f0f921"
             ]
            ],
            "type": "heatmap"
           }
          ],
          "heatmapgl": [
           {
            "colorbar": {
             "outlinewidth": 0,
             "ticks": ""
            },
            "colorscale": [
             [
              0,
              "#0d0887"
             ],
             [
              0.1111111111111111,
              "#46039f"
             ],
             [
              0.2222222222222222,
              "#7201a8"
             ],
             [
              0.3333333333333333,
              "#9c179e"
             ],
             [
              0.4444444444444444,
              "#bd3786"
             ],
             [
              0.5555555555555556,
              "#d8576b"
             ],
             [
              0.6666666666666666,
              "#ed7953"
             ],
             [
              0.7777777777777778,
              "#fb9f3a"
             ],
             [
              0.8888888888888888,
              "#fdca26"
             ],
             [
              1,
              "#f0f921"
             ]
            ],
            "type": "heatmapgl"
           }
          ],
          "histogram": [
           {
            "marker": {
             "pattern": {
              "fillmode": "overlay",
              "size": 10,
              "solidity": 0.2
             }
            },
            "type": "histogram"
           }
          ],
          "histogram2d": [
           {
            "colorbar": {
             "outlinewidth": 0,
             "ticks": ""
            },
            "colorscale": [
             [
              0,
              "#0d0887"
             ],
             [
              0.1111111111111111,
              "#46039f"
             ],
             [
              0.2222222222222222,
              "#7201a8"
             ],
             [
              0.3333333333333333,
              "#9c179e"
             ],
             [
              0.4444444444444444,
              "#bd3786"
             ],
             [
              0.5555555555555556,
              "#d8576b"
             ],
             [
              0.6666666666666666,
              "#ed7953"
             ],
             [
              0.7777777777777778,
              "#fb9f3a"
             ],
             [
              0.8888888888888888,
              "#fdca26"
             ],
             [
              1,
              "#f0f921"
             ]
            ],
            "type": "histogram2d"
           }
          ],
          "histogram2dcontour": [
           {
            "colorbar": {
             "outlinewidth": 0,
             "ticks": ""
            },
            "colorscale": [
             [
              0,
              "#0d0887"
             ],
             [
              0.1111111111111111,
              "#46039f"
             ],
             [
              0.2222222222222222,
              "#7201a8"
             ],
             [
              0.3333333333333333,
              "#9c179e"
             ],
             [
              0.4444444444444444,
              "#bd3786"
             ],
             [
              0.5555555555555556,
              "#d8576b"
             ],
             [
              0.6666666666666666,
              "#ed7953"
             ],
             [
              0.7777777777777778,
              "#fb9f3a"
             ],
             [
              0.8888888888888888,
              "#fdca26"
             ],
             [
              1,
              "#f0f921"
             ]
            ],
            "type": "histogram2dcontour"
           }
          ],
          "mesh3d": [
           {
            "colorbar": {
             "outlinewidth": 0,
             "ticks": ""
            },
            "type": "mesh3d"
           }
          ],
          "parcoords": [
           {
            "line": {
             "colorbar": {
              "outlinewidth": 0,
              "ticks": ""
             }
            },
            "type": "parcoords"
           }
          ],
          "pie": [
           {
            "automargin": true,
            "type": "pie"
           }
          ],
          "scatter": [
           {
            "marker": {
             "colorbar": {
              "outlinewidth": 0,
              "ticks": ""
             }
            },
            "type": "scatter"
           }
          ],
          "scatter3d": [
           {
            "line": {
             "colorbar": {
              "outlinewidth": 0,
              "ticks": ""
             }
            },
            "marker": {
             "colorbar": {
              "outlinewidth": 0,
              "ticks": ""
             }
            },
            "type": "scatter3d"
           }
          ],
          "scattercarpet": [
           {
            "marker": {
             "colorbar": {
              "outlinewidth": 0,
              "ticks": ""
             }
            },
            "type": "scattercarpet"
           }
          ],
          "scattergeo": [
           {
            "marker": {
             "colorbar": {
              "outlinewidth": 0,
              "ticks": ""
             }
            },
            "type": "scattergeo"
           }
          ],
          "scattergl": [
           {
            "marker": {
             "colorbar": {
              "outlinewidth": 0,
              "ticks": ""
             }
            },
            "type": "scattergl"
           }
          ],
          "scattermapbox": [
           {
            "marker": {
             "colorbar": {
              "outlinewidth": 0,
              "ticks": ""
             }
            },
            "type": "scattermapbox"
           }
          ],
          "scatterpolar": [
           {
            "marker": {
             "colorbar": {
              "outlinewidth": 0,
              "ticks": ""
             }
            },
            "type": "scatterpolar"
           }
          ],
          "scatterpolargl": [
           {
            "marker": {
             "colorbar": {
              "outlinewidth": 0,
              "ticks": ""
             }
            },
            "type": "scatterpolargl"
           }
          ],
          "scatterternary": [
           {
            "marker": {
             "colorbar": {
              "outlinewidth": 0,
              "ticks": ""
             }
            },
            "type": "scatterternary"
           }
          ],
          "surface": [
           {
            "colorbar": {
             "outlinewidth": 0,
             "ticks": ""
            },
            "colorscale": [
             [
              0,
              "#0d0887"
             ],
             [
              0.1111111111111111,
              "#46039f"
             ],
             [
              0.2222222222222222,
              "#7201a8"
             ],
             [
              0.3333333333333333,
              "#9c179e"
             ],
             [
              0.4444444444444444,
              "#bd3786"
             ],
             [
              0.5555555555555556,
              "#d8576b"
             ],
             [
              0.6666666666666666,
              "#ed7953"
             ],
             [
              0.7777777777777778,
              "#fb9f3a"
             ],
             [
              0.8888888888888888,
              "#fdca26"
             ],
             [
              1,
              "#f0f921"
             ]
            ],
            "type": "surface"
           }
          ],
          "table": [
           {
            "cells": {
             "fill": {
              "color": "#EBF0F8"
             },
             "line": {
              "color": "white"
             }
            },
            "header": {
             "fill": {
              "color": "#C8D4E3"
             },
             "line": {
              "color": "white"
             }
            },
            "type": "table"
           }
          ]
         },
         "layout": {
          "annotationdefaults": {
           "arrowcolor": "#2a3f5f",
           "arrowhead": 0,
           "arrowwidth": 1
          },
          "autotypenumbers": "strict",
          "coloraxis": {
           "colorbar": {
            "outlinewidth": 0,
            "ticks": ""
           }
          },
          "colorscale": {
           "diverging": [
            [
             0,
             "#8e0152"
            ],
            [
             0.1,
             "#c51b7d"
            ],
            [
             0.2,
             "#de77ae"
            ],
            [
             0.3,
             "#f1b6da"
            ],
            [
             0.4,
             "#fde0ef"
            ],
            [
             0.5,
             "#f7f7f7"
            ],
            [
             0.6,
             "#e6f5d0"
            ],
            [
             0.7,
             "#b8e186"
            ],
            [
             0.8,
             "#7fbc41"
            ],
            [
             0.9,
             "#4d9221"
            ],
            [
             1,
             "#276419"
            ]
           ],
           "sequential": [
            [
             0,
             "#0d0887"
            ],
            [
             0.1111111111111111,
             "#46039f"
            ],
            [
             0.2222222222222222,
             "#7201a8"
            ],
            [
             0.3333333333333333,
             "#9c179e"
            ],
            [
             0.4444444444444444,
             "#bd3786"
            ],
            [
             0.5555555555555556,
             "#d8576b"
            ],
            [
             0.6666666666666666,
             "#ed7953"
            ],
            [
             0.7777777777777778,
             "#fb9f3a"
            ],
            [
             0.8888888888888888,
             "#fdca26"
            ],
            [
             1,
             "#f0f921"
            ]
           ],
           "sequentialminus": [
            [
             0,
             "#0d0887"
            ],
            [
             0.1111111111111111,
             "#46039f"
            ],
            [
             0.2222222222222222,
             "#7201a8"
            ],
            [
             0.3333333333333333,
             "#9c179e"
            ],
            [
             0.4444444444444444,
             "#bd3786"
            ],
            [
             0.5555555555555556,
             "#d8576b"
            ],
            [
             0.6666666666666666,
             "#ed7953"
            ],
            [
             0.7777777777777778,
             "#fb9f3a"
            ],
            [
             0.8888888888888888,
             "#fdca26"
            ],
            [
             1,
             "#f0f921"
            ]
           ]
          },
          "colorway": [
           "#636efa",
           "#EF553B",
           "#00cc96",
           "#ab63fa",
           "#FFA15A",
           "#19d3f3",
           "#FF6692",
           "#B6E880",
           "#FF97FF",
           "#FECB52"
          ],
          "font": {
           "color": "#2a3f5f"
          },
          "geo": {
           "bgcolor": "white",
           "lakecolor": "white",
           "landcolor": "#E5ECF6",
           "showlakes": true,
           "showland": true,
           "subunitcolor": "white"
          },
          "hoverlabel": {
           "align": "left"
          },
          "hovermode": "closest",
          "mapbox": {
           "style": "light"
          },
          "paper_bgcolor": "white",
          "plot_bgcolor": "#E5ECF6",
          "polar": {
           "angularaxis": {
            "gridcolor": "white",
            "linecolor": "white",
            "ticks": ""
           },
           "bgcolor": "#E5ECF6",
           "radialaxis": {
            "gridcolor": "white",
            "linecolor": "white",
            "ticks": ""
           }
          },
          "scene": {
           "xaxis": {
            "backgroundcolor": "#E5ECF6",
            "gridcolor": "white",
            "gridwidth": 2,
            "linecolor": "white",
            "showbackground": true,
            "ticks": "",
            "zerolinecolor": "white"
           },
           "yaxis": {
            "backgroundcolor": "#E5ECF6",
            "gridcolor": "white",
            "gridwidth": 2,
            "linecolor": "white",
            "showbackground": true,
            "ticks": "",
            "zerolinecolor": "white"
           },
           "zaxis": {
            "backgroundcolor": "#E5ECF6",
            "gridcolor": "white",
            "gridwidth": 2,
            "linecolor": "white",
            "showbackground": true,
            "ticks": "",
            "zerolinecolor": "white"
           }
          },
          "shapedefaults": {
           "line": {
            "color": "#2a3f5f"
           }
          },
          "ternary": {
           "aaxis": {
            "gridcolor": "white",
            "linecolor": "white",
            "ticks": ""
           },
           "baxis": {
            "gridcolor": "white",
            "linecolor": "white",
            "ticks": ""
           },
           "bgcolor": "#E5ECF6",
           "caxis": {
            "gridcolor": "white",
            "linecolor": "white",
            "ticks": ""
           }
          },
          "title": {
           "x": 0.05
          },
          "xaxis": {
           "automargin": true,
           "gridcolor": "white",
           "linecolor": "white",
           "ticks": "",
           "title": {
            "standoff": 15
           },
           "zerolinecolor": "white",
           "zerolinewidth": 2
          },
          "yaxis": {
           "automargin": true,
           "gridcolor": "white",
           "linecolor": "white",
           "ticks": "",
           "title": {
            "standoff": 15
           },
           "zerolinecolor": "white",
           "zerolinewidth": 2
          }
         }
        },
        "title": {
         "text": "Acceptance/rejection of coupon based on time of the day alone"
        },
        "xaxis": {
         "anchor": "y",
         "domain": [
          0,
          1
         ],
         "title": {
          "text": "time"
         }
        },
        "yaxis": {
         "anchor": "x",
         "domain": [
          0,
          1
         ],
         "title": {
          "text": "count"
         }
        }
       }
      },
      "text/html": [
       "<div>                            <div id=\"63118744-199b-4e32-8e8c-20a3ec95f590\" class=\"plotly-graph-div\" style=\"height:525px; width:100%;\"></div>            <script type=\"text/javascript\">                require([\"plotly\"], function(Plotly) {                    window.PLOTLYENV=window.PLOTLYENV || {};                                    if (document.getElementById(\"63118744-199b-4e32-8e8c-20a3ec95f590\")) {                    Plotly.newPlot(                        \"63118744-199b-4e32-8e8c-20a3ec95f590\",                        [{\"alignmentgroup\":\"True\",\"bingroup\":\"x\",\"hovertemplate\":\"Y=0<br>time=%{x}<br>count=%{y}<extra></extra>\",\"legendgroup\":\"0\",\"marker\":{\"color\":\"#636efa\",\"pattern\":{\"shape\":\"\"}},\"name\":\"0\",\"offsetgroup\":\"0\",\"orientation\":\"v\",\"showlegend\":true,\"x\":[\"10AM\",\"6PM\",\"7AM\",\"7AM\",\"6PM\",\"7AM\",\"7AM\",\"7AM\",\"7AM\",\"10AM\",\"6PM\",\"6PM\",\"7AM\",\"7AM\",\"10AM\",\"6PM\",\"7AM\",\"7AM\",\"10AM\",\"6PM\",\"7AM\",\"7AM\",\"6PM\",\"7AM\",\"6PM\",\"7AM\",\"6PM\",\"7AM\",\"6PM\",\"7AM\",\"7AM\",\"6PM\",\"7AM\",\"7AM\",\"6PM\",\"7AM\",\"7AM\",\"6PM\",\"7AM\",\"10AM\",\"6PM\",\"7AM\",\"7AM\",\"6PM\",\"7AM\",\"10AM\",\"7AM\",\"7AM\",\"6PM\",\"6PM\",\"7AM\",\"7AM\",\"6PM\",\"7AM\",\"7AM\",\"10AM\",\"6PM\",\"7AM\",\"7AM\",\"6PM\",\"7AM\",\"7AM\",\"6PM\",\"7AM\",\"7AM\",\"6PM\",\"7AM\",\"7AM\",\"6PM\",\"7AM\",\"7AM\",\"7AM\",\"7AM\",\"7AM\",\"6PM\",\"7AM\",\"7AM\",\"6PM\",\"7AM\",\"7AM\",\"6PM\",\"7AM\",\"7AM\",\"10AM\",\"6PM\",\"7AM\",\"6PM\",\"6PM\",\"7AM\",\"7AM\",\"6PM\",\"7AM\",\"6PM\",\"7AM\",\"7AM\",\"6PM\",\"7AM\",\"6PM\",\"7AM\",\"7AM\",\"6PM\",\"7AM\",\"7AM\",\"6PM\",\"7AM\",\"6PM\",\"7AM\",\"7AM\",\"6PM\",\"7AM\",\"7AM\",\"7AM\",\"7AM\",\"6PM\",\"7AM\",\"7AM\",\"7AM\",\"6PM\",\"7AM\",\"7AM\",\"6PM\",\"7AM\",\"7AM\",\"7AM\",\"7AM\",\"7AM\",\"7AM\",\"7AM\",\"6PM\",\"7AM\",\"7AM\",\"7AM\",\"10AM\",\"6PM\",\"7AM\",\"7AM\",\"6PM\",\"7AM\",\"7AM\",\"6PM\",\"7AM\",\"6PM\",\"7AM\",\"7AM\",\"6PM\",\"7AM\",\"7AM\",\"10AM\",\"6PM\",\"7AM\",\"7AM\",\"6PM\",\"7AM\",\"6PM\",\"6PM\",\"7AM\",\"7AM\",\"6PM\",\"7AM\",\"6PM\",\"7AM\",\"7AM\",\"6PM\",\"7AM\",\"7AM\",\"7AM\",\"7AM\",\"7AM\",\"6PM\",\"7AM\",\"7AM\",\"10AM\",\"6PM\",\"7AM\",\"7AM\",\"7AM\",\"7AM\",\"10AM\",\"6PM\",\"7AM\",\"7AM\",\"7AM\",\"7AM\",\"6PM\",\"7AM\",\"7AM\",\"6PM\",\"7AM\",\"6PM\",\"7AM\",\"6PM\",\"7AM\",\"7AM\",\"6PM\",\"7AM\",\"7AM\",\"7AM\",\"6PM\",\"7AM\",\"7AM\",\"7AM\",\"7AM\",\"6PM\",\"7AM\",\"7AM\",\"6PM\",\"6PM\",\"7AM\",\"6PM\",\"7AM\",\"7AM\",\"6PM\",\"7AM\",\"7AM\",\"6PM\",\"7AM\",\"10AM\",\"6PM\",\"7AM\",\"7AM\",\"10AM\",\"7AM\",\"7AM\",\"7AM\",\"10AM\",\"7AM\",\"7AM\",\"6PM\",\"7AM\",\"7AM\",\"10AM\",\"6PM\",\"7AM\",\"7AM\",\"6PM\",\"7AM\",\"7AM\",\"7AM\",\"7AM\",\"6PM\",\"7AM\",\"6PM\",\"7AM\",\"7AM\",\"10AM\",\"6PM\",\"7AM\",\"7AM\",\"6PM\",\"7AM\",\"7AM\",\"6PM\",\"7AM\",\"7AM\",\"6PM\",\"7AM\",\"7AM\",\"6PM\",\"7AM\",\"7AM\",\"10AM\",\"6PM\",\"7AM\",\"7AM\",\"10AM\",\"6PM\",\"7AM\",\"7AM\",\"6PM\",\"7AM\",\"7AM\",\"7AM\",\"7AM\",\"6PM\",\"7AM\",\"7AM\",\"6PM\",\"7AM\",\"7AM\",\"6PM\",\"7AM\",\"7AM\",\"6PM\",\"7AM\",\"7AM\",\"6PM\",\"6PM\",\"7AM\",\"6PM\",\"7AM\",\"7AM\",\"10AM\",\"6PM\",\"7AM\",\"7AM\",\"6PM\",\"7AM\",\"10AM\",\"6PM\",\"7AM\",\"7AM\",\"6PM\",\"10AM\",\"6PM\",\"7AM\",\"7AM\",\"7AM\",\"6PM\",\"7AM\",\"7AM\",\"6PM\",\"7AM\",\"6PM\",\"7AM\",\"7AM\",\"6PM\",\"6PM\",\"7AM\",\"7AM\",\"6PM\",\"7AM\",\"7AM\",\"7AM\",\"7AM\",\"6PM\",\"7AM\",\"7AM\",\"6PM\",\"7AM\",\"7AM\",\"7AM\",\"7AM\",\"6PM\",\"7AM\",\"10AM\",\"6PM\",\"7AM\",\"7AM\",\"6PM\",\"7AM\",\"6PM\",\"7AM\",\"7AM\",\"7AM\",\"6PM\",\"7AM\",\"10AM\",\"6PM\",\"7AM\",\"7AM\",\"7AM\",\"7AM\",\"7AM\",\"7AM\",\"7AM\",\"7AM\",\"7AM\",\"7AM\",\"7AM\",\"7AM\",\"6PM\",\"7AM\",\"6PM\",\"7AM\",\"7AM\",\"6PM\",\"7AM\",\"7AM\",\"10AM\",\"6PM\",\"7AM\",\"7AM\",\"6PM\",\"7AM\",\"7AM\",\"10AM\",\"6PM\",\"7AM\",\"7AM\",\"10AM\",\"6PM\",\"7AM\",\"7AM\",\"6PM\",\"7AM\",\"7AM\",\"7AM\",\"7AM\",\"10AM\",\"6PM\",\"7AM\",\"7AM\",\"6PM\",\"6PM\",\"7AM\",\"6PM\",\"7AM\",\"6PM\",\"6PM\",\"6PM\",\"7AM\",\"7AM\",\"7AM\",\"6PM\",\"6PM\",\"6PM\",\"7AM\",\"7AM\",\"7AM\",\"6PM\",\"6PM\",\"6PM\",\"7AM\",\"7AM\",\"6PM\",\"6PM\",\"6PM\",\"7AM\",\"7AM\",\"7AM\",\"6PM\",\"6PM\",\"6PM\",\"7AM\",\"7AM\",\"7AM\",\"6PM\",\"6PM\",\"6PM\",\"7AM\",\"7AM\",\"7AM\",\"6PM\",\"6PM\",\"7AM\",\"6PM\",\"6PM\",\"7AM\",\"7AM\",\"7AM\",\"6PM\",\"6PM\",\"6PM\",\"7AM\",\"7AM\",\"7AM\",\"6PM\",\"6PM\",\"6PM\",\"6PM\",\"7AM\",\"7AM\",\"7AM\",\"6PM\",\"6PM\",\"6PM\",\"7AM\",\"7AM\",\"6PM\",\"6PM\",\"6PM\",\"7AM\",\"7AM\",\"7AM\",\"6PM\",\"6PM\",\"6PM\",\"6PM\",\"6PM\",\"6PM\",\"7AM\",\"6PM\",\"6PM\",\"6PM\",\"7AM\",\"7AM\",\"7AM\",\"6PM\",\"6PM\",\"6PM\",\"6PM\",\"7AM\",\"7AM\",\"7AM\",\"6PM\",\"7AM\",\"6PM\",\"6PM\",\"7AM\",\"6PM\",\"6PM\",\"6PM\",\"7AM\",\"7AM\",\"7AM\",\"6PM\",\"6PM\",\"6PM\",\"6PM\",\"6PM\",\"6PM\",\"6PM\",\"6PM\",\"7AM\",\"7AM\",\"7AM\",\"6PM\",\"7AM\",\"6PM\",\"7AM\",\"7AM\",\"6PM\",\"7AM\",\"6PM\",\"6PM\",\"6PM\",\"7AM\",\"7AM\",\"7AM\",\"6PM\",\"6PM\",\"6PM\",\"7AM\",\"6PM\",\"6PM\",\"6PM\",\"7AM\",\"7AM\",\"7AM\",\"6PM\",\"6PM\",\"6PM\",\"7AM\",\"7AM\",\"7AM\",\"6PM\",\"7AM\",\"7AM\",\"6PM\",\"6PM\",\"7AM\",\"7AM\",\"6PM\",\"6PM\",\"6PM\",\"7AM\",\"7AM\",\"7AM\",\"6PM\",\"6PM\",\"6PM\",\"7AM\",\"7AM\",\"7AM\",\"7AM\",\"6PM\",\"6PM\",\"6PM\",\"7AM\",\"6PM\",\"6PM\",\"6PM\",\"7AM\",\"7AM\",\"7AM\",\"6PM\",\"6PM\",\"7AM\",\"7AM\",\"6PM\",\"6PM\",\"6PM\",\"7AM\",\"7AM\",\"7AM\",\"6PM\",\"6PM\",\"6PM\",\"7AM\",\"7AM\",\"7AM\",\"6PM\",\"6PM\",\"6PM\",\"6PM\",\"6PM\",\"6PM\",\"7AM\",\"7AM\",\"7AM\",\"6PM\",\"6PM\",\"6PM\",\"7AM\",\"7AM\",\"7AM\",\"6PM\",\"6PM\",\"6PM\",\"7AM\",\"6PM\",\"6PM\",\"6PM\",\"7AM\",\"7AM\",\"7AM\",\"6PM\",\"6PM\",\"6PM\",\"7AM\",\"6PM\",\"6PM\",\"6PM\",\"7AM\",\"7AM\",\"7AM\",\"7AM\",\"6PM\",\"6PM\",\"6PM\",\"7AM\",\"7AM\",\"7AM\",\"7AM\",\"7AM\",\"6PM\",\"6PM\",\"7AM\",\"7AM\",\"6PM\",\"6PM\",\"6PM\",\"7AM\",\"7AM\",\"7AM\",\"6PM\",\"6PM\",\"6PM\",\"7AM\",\"7AM\",\"6PM\",\"6PM\",\"6PM\",\"7AM\",\"7AM\",\"7AM\",\"6PM\",\"6PM\",\"6PM\",\"7AM\",\"7AM\",\"7AM\",\"6PM\",\"6PM\",\"6PM\",\"7AM\",\"7AM\",\"6PM\",\"6PM\",\"6PM\",\"7AM\",\"6PM\",\"6PM\",\"6PM\",\"7AM\",\"6PM\",\"7AM\",\"6PM\",\"6PM\",\"6PM\",\"6PM\",\"7AM\",\"7AM\",\"7AM\",\"6PM\",\"6PM\",\"7AM\",\"7AM\",\"6PM\",\"6PM\",\"6PM\",\"7AM\",\"7AM\",\"7AM\",\"6PM\",\"7AM\",\"6PM\",\"7AM\",\"6PM\",\"6PM\",\"6PM\",\"7AM\",\"7AM\",\"7AM\",\"6PM\",\"6PM\",\"6PM\",\"7AM\",\"7AM\",\"7AM\",\"7AM\",\"6PM\",\"6PM\",\"6PM\",\"7AM\",\"7AM\",\"7AM\",\"6PM\",\"6PM\",\"6PM\",\"6PM\",\"6PM\",\"7AM\",\"6PM\",\"6PM\",\"7AM\",\"6PM\",\"7AM\",\"7AM\",\"6PM\",\"6PM\",\"6PM\",\"7AM\",\"7AM\",\"6PM\",\"6PM\",\"6PM\",\"7AM\",\"7AM\",\"7AM\",\"6PM\",\"6PM\",\"6PM\",\"7AM\",\"7AM\",\"7AM\",\"6PM\",\"6PM\",\"7AM\",\"6PM\",\"6PM\",\"6PM\",\"7AM\",\"6PM\",\"7AM\",\"7AM\",\"7AM\",\"6PM\",\"6PM\",\"6PM\",\"7AM\",\"7AM\",\"7AM\",\"7AM\",\"6PM\",\"6PM\",\"7AM\",\"6PM\",\"6PM\",\"7AM\",\"7AM\",\"7AM\",\"6PM\",\"7AM\",\"6PM\",\"6PM\",\"6PM\",\"7AM\",\"7AM\",\"7AM\",\"6PM\",\"6PM\",\"7AM\",\"7AM\",\"7AM\",\"6PM\",\"6PM\",\"6PM\",\"7AM\",\"7AM\",\"6PM\",\"6PM\",\"6PM\",\"7AM\",\"7AM\",\"7AM\",\"7AM\",\"6PM\",\"6PM\",\"6PM\",\"7AM\",\"7AM\",\"7AM\",\"7AM\",\"7AM\",\"6PM\",\"6PM\",\"6PM\",\"7AM\",\"6PM\",\"6PM\",\"6PM\",\"6PM\",\"6PM\",\"7AM\",\"7AM\",\"6PM\",\"6PM\",\"6PM\",\"6PM\",\"6PM\",\"7AM\",\"6PM\",\"6PM\",\"6PM\",\"6PM\",\"6PM\",\"6PM\",\"6PM\",\"6PM\",\"6PM\",\"6PM\",\"6PM\",\"6PM\",\"6PM\",\"6PM\",\"6PM\",\"7AM\",\"6PM\",\"6PM\",\"6PM\",\"6PM\",\"6PM\",\"6PM\",\"6PM\",\"6PM\",\"6PM\",\"6PM\",\"6PM\",\"6PM\",\"6PM\",\"6PM\",\"10PM\",\"6PM\",\"6PM\",\"10AM\",\"6PM\",\"6PM\",\"6PM\",\"6PM\",\"10AM\",\"6PM\",\"6PM\",\"10AM\",\"6PM\",\"6PM\",\"10AM\",\"6PM\",\"10AM\",\"10PM\",\"6PM\",\"6PM\",\"10AM\",\"6PM\",\"10AM\",\"6PM\",\"10AM\",\"6PM\",\"6PM\",\"6PM\",\"10AM\",\"6PM\",\"10AM\",\"10PM\",\"6PM\",\"6PM\",\"10PM\",\"10AM\",\"6PM\",\"6PM\",\"6PM\",\"6PM\",\"6PM\",\"6PM\",\"10AM\",\"6PM\",\"6PM\",\"6PM\",\"6PM\",\"10AM\",\"10PM\",\"6PM\",\"10AM\",\"6PM\",\"6PM\",\"6PM\",\"6PM\",\"10AM\",\"6PM\",\"10PM\",\"6PM\",\"6PM\",\"10AM\",\"6PM\",\"6PM\",\"10AM\",\"6PM\",\"6PM\",\"10AM\",\"6PM\",\"10AM\",\"6PM\",\"10AM\",\"6PM\",\"6PM\",\"6PM\",\"6PM\",\"10AM\",\"6PM\",\"10AM\",\"10PM\",\"6PM\",\"6PM\",\"6PM\",\"10AM\",\"6PM\",\"6PM\",\"10AM\",\"6PM\",\"10AM\",\"6PM\",\"10AM\",\"6PM\",\"6PM\",\"10AM\",\"6PM\",\"6PM\",\"6PM\",\"10AM\",\"6PM\",\"6PM\",\"6PM\",\"10AM\",\"6PM\",\"10AM\",\"6PM\",\"6PM\",\"6PM\",\"6PM\",\"10PM\",\"6PM\",\"6PM\",\"6PM\",\"10AM\",\"6PM\",\"6PM\",\"6PM\",\"10AM\",\"6PM\",\"6PM\",\"10AM\",\"6PM\",\"10AM\",\"10PM\",\"6PM\",\"10AM\",\"6PM\",\"6PM\",\"6PM\",\"10AM\",\"6PM\",\"6PM\",\"6PM\",\"6PM\",\"10AM\",\"10AM\",\"7AM\",\"10AM\",\"7AM\",\"10AM\",\"10AM\",\"7AM\",\"10AM\",\"7AM\",\"10AM\",\"10AM\",\"7AM\",\"10AM\",\"10AM\",\"7AM\",\"10AM\",\"10AM\",\"7AM\",\"10AM\",\"10AM\",\"7AM\",\"10AM\",\"10AM\",\"10AM\",\"10AM\",\"10AM\",\"10AM\",\"7AM\",\"10AM\",\"10AM\",\"7AM\",\"10AM\",\"10AM\",\"10AM\",\"7AM\",\"10AM\",\"10AM\",\"10AM\",\"10AM\",\"7AM\",\"10AM\",\"10AM\",\"10AM\",\"10AM\",\"10AM\",\"10AM\",\"10AM\",\"7AM\",\"10AM\",\"10AM\",\"10AM\",\"10AM\",\"10AM\",\"7AM\",\"10AM\",\"10AM\",\"7AM\",\"10AM\",\"10AM\",\"10AM\",\"7AM\",\"10AM\",\"10AM\",\"10AM\",\"10AM\",\"7AM\",\"10AM\",\"10AM\",\"7AM\",\"10AM\",\"10AM\",\"7AM\",\"10AM\",\"10AM\",\"10AM\",\"7AM\",\"10AM\",\"10AM\",\"10AM\",\"7AM\",\"10AM\",\"10AM\",\"7AM\",\"10AM\",\"7AM\",\"10AM\",\"10AM\",\"10AM\",\"10AM\",\"7AM\",\"10AM\",\"10AM\",\"10AM\",\"7AM\",\"10AM\",\"7AM\",\"10AM\",\"10AM\",\"7AM\",\"10AM\",\"10AM\",\"7AM\",\"10PM\",\"10PM\",\"7AM\",\"10PM\",\"10PM\",\"10PM\",\"10PM\",\"10PM\",\"10PM\",\"10PM\",\"7AM\",\"10PM\",\"10PM\",\"10PM\",\"10PM\",\"10PM\",\"7AM\",\"10PM\",\"10PM\",\"10PM\",\"10PM\",\"10PM\",\"10PM\",\"10PM\",\"7AM\",\"10PM\",\"10PM\",\"10PM\",\"10PM\",\"10PM\",\"10PM\",\"7AM\",\"10PM\",\"10PM\",\"10PM\",\"10PM\",\"10PM\",\"10PM\",\"10PM\",\"10PM\",\"10PM\",\"10PM\",\"10PM\",\"10PM\",\"7AM\",\"10PM\",\"7AM\",\"10PM\",\"10PM\",\"7AM\",\"10PM\",\"10PM\",\"10PM\",\"10PM\",\"10PM\",\"10PM\",\"10PM\",\"10PM\",\"10PM\",\"10PM\",\"7AM\",\"10PM\",\"10PM\",\"10PM\",\"10PM\",\"10PM\",\"7AM\",\"10PM\",\"10PM\",\"10PM\",\"10PM\",\"7AM\",\"10PM\",\"10PM\",\"10PM\",\"10PM\",\"10PM\",\"10PM\",\"10PM\",\"7AM\",\"10PM\",\"10PM\",\"10PM\",\"10PM\",\"10PM\",\"10PM\",\"10PM\",\"10PM\",\"10PM\",\"10PM\",\"10PM\",\"7AM\",\"10PM\",\"10PM\",\"7AM\",\"10PM\",\"10PM\",\"10PM\",\"10PM\",\"10PM\",\"7AM\",\"10PM\",\"10PM\",\"10PM\",\"10PM\",\"10PM\",\"10PM\",\"10PM\",\"10PM\",\"10PM\",\"10PM\",\"7AM\",\"10PM\",\"10PM\",\"10PM\",\"10PM\",\"10PM\",\"10PM\",\"10PM\",\"7AM\",\"10PM\",\"10PM\",\"10PM\",\"10PM\",\"10PM\",\"7AM\",\"10PM\",\"10PM\",\"7AM\",\"10PM\",\"10PM\",\"7AM\",\"10PM\",\"10PM\",\"10PM\",\"7AM\",\"10PM\",\"10PM\",\"10PM\",\"10PM\",\"7AM\",\"10PM\",\"10PM\",\"7AM\"],\"xaxis\":\"x\",\"yaxis\":\"y\",\"type\":\"histogram\"},{\"alignmentgroup\":\"True\",\"bingroup\":\"x\",\"hovertemplate\":\"Y=1<br>time=%{x}<br>count=%{y}<extra></extra>\",\"legendgroup\":\"1\",\"marker\":{\"color\":\"#EF553B\",\"pattern\":{\"shape\":\"\"}},\"name\":\"1\",\"offsetgroup\":\"1\",\"orientation\":\"v\",\"showlegend\":true,\"x\":[\"10AM\",\"6PM\",\"10AM\",\"6PM\",\"7AM\",\"7AM\",\"7AM\",\"7AM\",\"6PM\",\"7AM\",\"10AM\",\"7AM\",\"7AM\",\"6PM\",\"7AM\",\"7AM\",\"7AM\",\"7AM\",\"6PM\",\"10AM\",\"7AM\",\"7AM\",\"10AM\",\"7AM\",\"7AM\",\"6PM\",\"10AM\",\"10AM\",\"6PM\",\"7AM\",\"7AM\",\"6PM\",\"7AM\",\"7AM\",\"10AM\",\"10AM\",\"6PM\",\"7AM\",\"7AM\",\"6PM\",\"7AM\",\"10AM\",\"6PM\",\"7AM\",\"7AM\",\"7AM\",\"10AM\",\"7AM\",\"7AM\",\"7AM\",\"10AM\",\"7AM\",\"7AM\",\"7AM\",\"7AM\",\"6PM\",\"6PM\",\"10AM\",\"10AM\",\"6PM\",\"7AM\",\"10AM\",\"6PM\",\"7AM\",\"10AM\",\"6PM\",\"6PM\",\"6PM\",\"7AM\",\"7AM\",\"10AM\",\"7AM\",\"6PM\",\"7AM\",\"6PM\",\"7AM\",\"7AM\",\"10AM\",\"7AM\",\"10AM\",\"6PM\",\"7AM\",\"7AM\",\"7AM\",\"7AM\",\"10AM\",\"7AM\",\"10AM\",\"6PM\",\"6PM\",\"7AM\",\"6PM\",\"7AM\",\"7AM\",\"10AM\",\"6PM\",\"7AM\",\"7AM\",\"10AM\",\"6PM\",\"10AM\",\"6PM\",\"7AM\",\"7AM\",\"7AM\",\"6PM\",\"10AM\",\"6PM\",\"10AM\",\"7AM\",\"7AM\",\"10AM\",\"7AM\",\"10AM\",\"7AM\",\"6PM\",\"7AM\",\"6PM\",\"6PM\",\"10AM\",\"6PM\",\"7AM\",\"10AM\",\"6PM\",\"7AM\",\"7AM\",\"6PM\",\"7AM\",\"10AM\",\"6PM\",\"7AM\",\"7AM\",\"10AM\",\"7AM\",\"6PM\",\"7AM\",\"7AM\",\"7AM\",\"6PM\",\"7AM\",\"6PM\",\"7AM\",\"10AM\",\"6PM\",\"7AM\",\"10AM\",\"6PM\",\"7AM\",\"10AM\",\"7AM\",\"10AM\",\"6PM\",\"7AM\",\"7AM\",\"7AM\",\"10AM\",\"7AM\",\"7AM\",\"7AM\",\"7AM\",\"7AM\",\"6PM\",\"10AM\",\"6PM\",\"7AM\",\"7AM\",\"7AM\",\"7AM\",\"10AM\",\"6PM\",\"10AM\",\"6PM\",\"7AM\",\"6PM\",\"7AM\",\"10AM\",\"7AM\",\"7AM\",\"10AM\",\"6PM\",\"7AM\",\"7AM\",\"10AM\",\"6PM\",\"7AM\",\"6PM\",\"7AM\",\"6PM\",\"7AM\",\"6PM\",\"10AM\",\"6PM\",\"6PM\",\"7AM\",\"6PM\",\"10AM\",\"7AM\",\"10AM\",\"6PM\",\"6PM\",\"7AM\",\"7AM\",\"6PM\",\"6PM\",\"7AM\",\"7AM\",\"7AM\",\"6PM\",\"6PM\",\"6PM\",\"7AM\",\"7AM\",\"7AM\",\"6PM\",\"7AM\",\"7AM\",\"6PM\",\"6PM\",\"6PM\",\"7AM\",\"7AM\",\"7AM\",\"6PM\",\"6PM\",\"6PM\",\"7AM\",\"7AM\",\"7AM\",\"7AM\",\"7AM\",\"7AM\",\"7AM\",\"7AM\",\"6PM\",\"6PM\",\"7AM\",\"7AM\",\"7AM\",\"6PM\",\"6PM\",\"7AM\",\"7AM\",\"6PM\",\"7AM\",\"7AM\",\"7AM\",\"7AM\",\"7AM\",\"6PM\",\"7AM\",\"7AM\",\"7AM\",\"6PM\",\"6PM\",\"7AM\",\"7AM\",\"6PM\",\"6PM\",\"7AM\",\"6PM\",\"6PM\",\"7AM\",\"7AM\",\"7AM\",\"7AM\",\"6PM\",\"6PM\",\"7AM\",\"6PM\",\"6PM\",\"7AM\",\"7AM\",\"7AM\",\"6PM\",\"6PM\",\"7AM\",\"6PM\",\"6PM\",\"6PM\",\"7AM\",\"7AM\",\"7AM\",\"6PM\",\"6PM\",\"6PM\",\"7AM\",\"7AM\",\"7AM\",\"6PM\",\"6PM\",\"6PM\",\"7AM\",\"7AM\",\"7AM\",\"7AM\",\"6PM\",\"6PM\",\"6PM\",\"7AM\",\"7AM\",\"7AM\",\"6PM\",\"6PM\",\"6PM\",\"7AM\",\"7AM\",\"7AM\",\"6PM\",\"7AM\",\"7AM\",\"7AM\",\"7AM\",\"7AM\",\"7AM\",\"6PM\",\"6PM\",\"7AM\",\"7AM\",\"7AM\",\"6PM\",\"7AM\",\"7AM\",\"6PM\",\"6PM\",\"6PM\",\"7AM\",\"7AM\",\"7AM\",\"6PM\",\"6PM\",\"6PM\",\"6PM\",\"7AM\",\"7AM\",\"7AM\",\"6PM\",\"6PM\",\"6PM\",\"7AM\",\"7AM\",\"7AM\",\"7AM\",\"7AM\",\"6PM\",\"7AM\",\"7AM\",\"7AM\",\"6PM\",\"6PM\",\"7AM\",\"7AM\",\"6PM\",\"6PM\",\"7AM\",\"7AM\",\"6PM\",\"6PM\",\"7AM\",\"7AM\",\"7AM\",\"6PM\",\"6PM\",\"7AM\",\"7AM\",\"7AM\",\"6PM\",\"7AM\",\"6PM\",\"6PM\",\"6PM\",\"7AM\",\"7AM\",\"6PM\",\"7AM\",\"6PM\",\"6PM\",\"7AM\",\"7AM\",\"6PM\",\"6PM\",\"7AM\",\"7AM\",\"6PM\",\"6PM\",\"6PM\",\"7AM\",\"7AM\",\"6PM\",\"6PM\",\"6PM\",\"7AM\",\"7AM\",\"7AM\",\"6PM\",\"7AM\",\"7AM\",\"7AM\",\"7AM\",\"7AM\",\"6PM\",\"7AM\",\"7AM\",\"6PM\",\"6PM\",\"7AM\",\"7AM\",\"6PM\",\"6PM\",\"6PM\",\"7AM\",\"7AM\",\"7AM\",\"6PM\",\"7AM\",\"7AM\",\"7AM\",\"7AM\",\"6PM\",\"6PM\",\"7AM\",\"6PM\",\"6PM\",\"6PM\",\"7AM\",\"6PM\",\"7AM\",\"7AM\",\"6PM\",\"6PM\",\"6PM\",\"7AM\",\"7AM\",\"6PM\",\"6PM\",\"6PM\",\"7AM\",\"7AM\",\"7AM\",\"6PM\",\"7AM\",\"6PM\",\"6PM\",\"6PM\",\"7AM\",\"7AM\",\"7AM\",\"6PM\",\"6PM\",\"6PM\",\"7AM\",\"7AM\",\"6PM\",\"6PM\",\"6PM\",\"7AM\",\"7AM\",\"7AM\",\"6PM\",\"6PM\",\"6PM\",\"7AM\",\"7AM\",\"7AM\",\"6PM\",\"6PM\",\"6PM\",\"7AM\",\"7AM\",\"7AM\",\"10AM\",\"6PM\",\"6PM\",\"7AM\",\"7AM\",\"6PM\",\"6PM\",\"6PM\",\"6PM\",\"7AM\",\"7AM\",\"10AM\",\"6PM\",\"6PM\",\"6PM\",\"7AM\",\"10AM\",\"6PM\",\"6PM\",\"7AM\",\"7AM\",\"6PM\",\"6PM\",\"6PM\",\"7AM\",\"7AM\",\"10AM\",\"6PM\",\"6PM\",\"6PM\",\"7AM\",\"7AM\",\"6PM\",\"6PM\",\"7AM\",\"7AM\",\"6PM\",\"6PM\",\"6PM\",\"6PM\",\"7AM\",\"7AM\",\"6PM\",\"7AM\",\"6PM\",\"6PM\",\"6PM\",\"6PM\",\"6PM\",\"7AM\",\"7AM\",\"6PM\",\"6PM\",\"7AM\",\"7AM\",\"10AM\",\"6PM\",\"6PM\",\"6PM\",\"6PM\",\"7AM\",\"7AM\",\"6PM\",\"6PM\",\"6PM\",\"6PM\",\"6PM\",\"7AM\",\"7AM\",\"10AM\",\"6PM\",\"6PM\",\"10AM\",\"6PM\",\"10AM\",\"10AM\",\"10AM\",\"6PM\",\"10AM\",\"10AM\",\"10PM\",\"10AM\",\"6PM\",\"6PM\",\"10AM\",\"10AM\",\"6PM\",\"10AM\",\"10AM\",\"6PM\",\"10AM\",\"10AM\",\"6PM\",\"10AM\",\"10PM\",\"6PM\",\"10AM\",\"6PM\",\"6PM\",\"10AM\",\"6PM\",\"6PM\",\"10AM\",\"6PM\",\"6PM\",\"10AM\",\"6PM\",\"10AM\",\"6PM\",\"6PM\",\"6PM\",\"10PM\",\"6PM\",\"10AM\",\"10AM\",\"6PM\",\"10AM\",\"6PM\",\"6PM\",\"10AM\",\"10AM\",\"6PM\",\"10AM\",\"6PM\",\"6PM\",\"10AM\",\"6PM\",\"6PM\",\"10AM\",\"10AM\",\"10AM\",\"6PM\",\"10PM\",\"10AM\",\"10AM\",\"6PM\",\"10AM\",\"10AM\",\"10AM\",\"10PM\",\"6PM\",\"6PM\",\"10AM\",\"6PM\",\"10AM\",\"10AM\",\"6PM\",\"6PM\",\"10AM\",\"6PM\",\"10AM\",\"10PM\",\"6PM\",\"10AM\",\"6PM\",\"10AM\",\"6PM\",\"6PM\",\"10AM\",\"6PM\",\"10AM\",\"10PM\",\"6PM\",\"10AM\",\"6PM\",\"6PM\",\"6PM\",\"10AM\",\"10PM\",\"6PM\",\"10AM\",\"6PM\",\"10AM\",\"10PM\",\"10PM\",\"10AM\",\"6PM\",\"10AM\",\"10AM\",\"6PM\",\"10AM\",\"6PM\",\"10PM\",\"10AM\",\"6PM\",\"6PM\",\"10AM\",\"6PM\",\"10PM\",\"10AM\",\"6PM\",\"10AM\",\"6PM\",\"10AM\",\"6PM\",\"10AM\",\"6PM\",\"10AM\",\"10PM\",\"6PM\",\"6PM\",\"10AM\",\"6PM\",\"10AM\",\"10AM\",\"10AM\",\"6PM\",\"10AM\",\"6PM\",\"10AM\",\"6PM\",\"10PM\",\"6PM\",\"10AM\",\"6PM\",\"10AM\",\"10AM\",\"6PM\",\"6PM\",\"10AM\",\"6PM\",\"10AM\",\"10AM\",\"7AM\",\"10AM\",\"7AM\",\"10AM\",\"10AM\",\"7AM\",\"10AM\",\"10AM\",\"10AM\",\"7AM\",\"10AM\",\"10AM\",\"7AM\",\"10AM\",\"10AM\",\"10AM\",\"10AM\",\"7AM\",\"10AM\",\"10AM\",\"7AM\",\"10AM\",\"10AM\",\"7AM\",\"10AM\",\"10AM\",\"7AM\",\"10AM\",\"7AM\",\"10AM\",\"10AM\",\"7AM\",\"10AM\",\"10AM\",\"7AM\",\"7AM\",\"10AM\",\"10AM\",\"7AM\",\"10AM\",\"10AM\",\"7AM\",\"10AM\",\"10AM\",\"7AM\",\"10AM\",\"10AM\",\"7AM\",\"10AM\",\"7AM\",\"10AM\",\"10AM\",\"7AM\",\"10AM\",\"10AM\",\"7AM\",\"10AM\",\"10AM\",\"7AM\",\"7AM\",\"10AM\",\"7AM\",\"10AM\",\"10AM\",\"7AM\",\"7AM\",\"10AM\",\"10AM\",\"7AM\",\"7AM\",\"10AM\",\"7AM\",\"10AM\",\"7AM\",\"10AM\",\"7AM\",\"7AM\",\"10AM\",\"7AM\",\"10AM\",\"10AM\",\"10AM\",\"7AM\",\"10AM\",\"10AM\",\"7AM\",\"10AM\",\"7AM\",\"10AM\",\"10AM\",\"7AM\",\"10AM\",\"7AM\",\"7AM\",\"10AM\",\"10AM\",\"10AM\",\"7AM\",\"10AM\",\"10AM\",\"7AM\",\"10AM\",\"10AM\",\"7AM\",\"10AM\",\"7AM\",\"10AM\",\"10AM\",\"7AM\",\"10AM\",\"7AM\",\"10AM\",\"10AM\",\"7AM\",\"10AM\",\"10AM\",\"7AM\",\"10AM\",\"10AM\",\"7AM\",\"10AM\",\"7AM\",\"10AM\",\"10AM\",\"7AM\",\"10AM\",\"7AM\",\"10AM\",\"10AM\",\"7AM\",\"10AM\",\"10AM\",\"7AM\",\"10AM\",\"10AM\",\"7AM\",\"10AM\",\"7AM\",\"10AM\",\"10AM\",\"7AM\",\"10AM\",\"7AM\",\"10AM\",\"10AM\",\"10AM\",\"10AM\",\"7AM\",\"10PM\",\"10PM\",\"7AM\",\"10PM\",\"7AM\",\"10PM\",\"7AM\",\"10PM\",\"7AM\",\"7AM\",\"10PM\",\"10PM\",\"7AM\",\"10PM\",\"7AM\",\"7AM\",\"10PM\",\"7AM\",\"7AM\",\"10PM\",\"10PM\",\"7AM\",\"10PM\",\"10PM\",\"7AM\",\"7AM\",\"7AM\",\"7AM\",\"7AM\",\"10PM\",\"10PM\",\"7AM\",\"7AM\",\"7AM\",\"10PM\",\"10PM\",\"7AM\",\"7AM\",\"10PM\",\"7AM\",\"7AM\",\"10PM\",\"10PM\",\"7AM\",\"10PM\",\"7AM\",\"10PM\",\"7AM\",\"7AM\",\"10PM\",\"10PM\",\"7AM\",\"7AM\",\"10PM\",\"7AM\",\"10PM\",\"10PM\",\"7AM\",\"7AM\",\"7AM\",\"7AM\",\"10PM\",\"10PM\",\"7AM\",\"10PM\",\"7AM\",\"7AM\",\"7AM\",\"7AM\",\"7AM\",\"7AM\",\"10PM\",\"7AM\",\"10PM\",\"7AM\",\"7AM\",\"7AM\",\"7AM\",\"7AM\",\"10PM\",\"10PM\",\"7AM\",\"7AM\",\"7AM\",\"7AM\",\"7AM\",\"10PM\",\"7AM\",\"10PM\",\"7AM\",\"7AM\",\"10PM\",\"10PM\",\"7AM\",\"10PM\",\"7AM\"],\"xaxis\":\"x\",\"yaxis\":\"y\",\"type\":\"histogram\"}],                        {\"template\":{\"data\":{\"bar\":[{\"error_x\":{\"color\":\"#2a3f5f\"},\"error_y\":{\"color\":\"#2a3f5f\"},\"marker\":{\"line\":{\"color\":\"#E5ECF6\",\"width\":0.5},\"pattern\":{\"fillmode\":\"overlay\",\"size\":10,\"solidity\":0.2}},\"type\":\"bar\"}],\"barpolar\":[{\"marker\":{\"line\":{\"color\":\"#E5ECF6\",\"width\":0.5},\"pattern\":{\"fillmode\":\"overlay\",\"size\":10,\"solidity\":0.2}},\"type\":\"barpolar\"}],\"carpet\":[{\"aaxis\":{\"endlinecolor\":\"#2a3f5f\",\"gridcolor\":\"white\",\"linecolor\":\"white\",\"minorgridcolor\":\"white\",\"startlinecolor\":\"#2a3f5f\"},\"baxis\":{\"endlinecolor\":\"#2a3f5f\",\"gridcolor\":\"white\",\"linecolor\":\"white\",\"minorgridcolor\":\"white\",\"startlinecolor\":\"#2a3f5f\"},\"type\":\"carpet\"}],\"choropleth\":[{\"colorbar\":{\"outlinewidth\":0,\"ticks\":\"\"},\"type\":\"choropleth\"}],\"contour\":[{\"colorbar\":{\"outlinewidth\":0,\"ticks\":\"\"},\"colorscale\":[[0.0,\"#0d0887\"],[0.1111111111111111,\"#46039f\"],[0.2222222222222222,\"#7201a8\"],[0.3333333333333333,\"#9c179e\"],[0.4444444444444444,\"#bd3786\"],[0.5555555555555556,\"#d8576b\"],[0.6666666666666666,\"#ed7953\"],[0.7777777777777778,\"#fb9f3a\"],[0.8888888888888888,\"#fdca26\"],[1.0,\"#f0f921\"]],\"type\":\"contour\"}],\"contourcarpet\":[{\"colorbar\":{\"outlinewidth\":0,\"ticks\":\"\"},\"type\":\"contourcarpet\"}],\"heatmap\":[{\"colorbar\":{\"outlinewidth\":0,\"ticks\":\"\"},\"colorscale\":[[0.0,\"#0d0887\"],[0.1111111111111111,\"#46039f\"],[0.2222222222222222,\"#7201a8\"],[0.3333333333333333,\"#9c179e\"],[0.4444444444444444,\"#bd3786\"],[0.5555555555555556,\"#d8576b\"],[0.6666666666666666,\"#ed7953\"],[0.7777777777777778,\"#fb9f3a\"],[0.8888888888888888,\"#fdca26\"],[1.0,\"#f0f921\"]],\"type\":\"heatmap\"}],\"heatmapgl\":[{\"colorbar\":{\"outlinewidth\":0,\"ticks\":\"\"},\"colorscale\":[[0.0,\"#0d0887\"],[0.1111111111111111,\"#46039f\"],[0.2222222222222222,\"#7201a8\"],[0.3333333333333333,\"#9c179e\"],[0.4444444444444444,\"#bd3786\"],[0.5555555555555556,\"#d8576b\"],[0.6666666666666666,\"#ed7953\"],[0.7777777777777778,\"#fb9f3a\"],[0.8888888888888888,\"#fdca26\"],[1.0,\"#f0f921\"]],\"type\":\"heatmapgl\"}],\"histogram\":[{\"marker\":{\"pattern\":{\"fillmode\":\"overlay\",\"size\":10,\"solidity\":0.2}},\"type\":\"histogram\"}],\"histogram2d\":[{\"colorbar\":{\"outlinewidth\":0,\"ticks\":\"\"},\"colorscale\":[[0.0,\"#0d0887\"],[0.1111111111111111,\"#46039f\"],[0.2222222222222222,\"#7201a8\"],[0.3333333333333333,\"#9c179e\"],[0.4444444444444444,\"#bd3786\"],[0.5555555555555556,\"#d8576b\"],[0.6666666666666666,\"#ed7953\"],[0.7777777777777778,\"#fb9f3a\"],[0.8888888888888888,\"#fdca26\"],[1.0,\"#f0f921\"]],\"type\":\"histogram2d\"}],\"histogram2dcontour\":[{\"colorbar\":{\"outlinewidth\":0,\"ticks\":\"\"},\"colorscale\":[[0.0,\"#0d0887\"],[0.1111111111111111,\"#46039f\"],[0.2222222222222222,\"#7201a8\"],[0.3333333333333333,\"#9c179e\"],[0.4444444444444444,\"#bd3786\"],[0.5555555555555556,\"#d8576b\"],[0.6666666666666666,\"#ed7953\"],[0.7777777777777778,\"#fb9f3a\"],[0.8888888888888888,\"#fdca26\"],[1.0,\"#f0f921\"]],\"type\":\"histogram2dcontour\"}],\"mesh3d\":[{\"colorbar\":{\"outlinewidth\":0,\"ticks\":\"\"},\"type\":\"mesh3d\"}],\"parcoords\":[{\"line\":{\"colorbar\":{\"outlinewidth\":0,\"ticks\":\"\"}},\"type\":\"parcoords\"}],\"pie\":[{\"automargin\":true,\"type\":\"pie\"}],\"scatter\":[{\"marker\":{\"colorbar\":{\"outlinewidth\":0,\"ticks\":\"\"}},\"type\":\"scatter\"}],\"scatter3d\":[{\"line\":{\"colorbar\":{\"outlinewidth\":0,\"ticks\":\"\"}},\"marker\":{\"colorbar\":{\"outlinewidth\":0,\"ticks\":\"\"}},\"type\":\"scatter3d\"}],\"scattercarpet\":[{\"marker\":{\"colorbar\":{\"outlinewidth\":0,\"ticks\":\"\"}},\"type\":\"scattercarpet\"}],\"scattergeo\":[{\"marker\":{\"colorbar\":{\"outlinewidth\":0,\"ticks\":\"\"}},\"type\":\"scattergeo\"}],\"scattergl\":[{\"marker\":{\"colorbar\":{\"outlinewidth\":0,\"ticks\":\"\"}},\"type\":\"scattergl\"}],\"scattermapbox\":[{\"marker\":{\"colorbar\":{\"outlinewidth\":0,\"ticks\":\"\"}},\"type\":\"scattermapbox\"}],\"scatterpolar\":[{\"marker\":{\"colorbar\":{\"outlinewidth\":0,\"ticks\":\"\"}},\"type\":\"scatterpolar\"}],\"scatterpolargl\":[{\"marker\":{\"colorbar\":{\"outlinewidth\":0,\"ticks\":\"\"}},\"type\":\"scatterpolargl\"}],\"scatterternary\":[{\"marker\":{\"colorbar\":{\"outlinewidth\":0,\"ticks\":\"\"}},\"type\":\"scatterternary\"}],\"surface\":[{\"colorbar\":{\"outlinewidth\":0,\"ticks\":\"\"},\"colorscale\":[[0.0,\"#0d0887\"],[0.1111111111111111,\"#46039f\"],[0.2222222222222222,\"#7201a8\"],[0.3333333333333333,\"#9c179e\"],[0.4444444444444444,\"#bd3786\"],[0.5555555555555556,\"#d8576b\"],[0.6666666666666666,\"#ed7953\"],[0.7777777777777778,\"#fb9f3a\"],[0.8888888888888888,\"#fdca26\"],[1.0,\"#f0f921\"]],\"type\":\"surface\"}],\"table\":[{\"cells\":{\"fill\":{\"color\":\"#EBF0F8\"},\"line\":{\"color\":\"white\"}},\"header\":{\"fill\":{\"color\":\"#C8D4E3\"},\"line\":{\"color\":\"white\"}},\"type\":\"table\"}]},\"layout\":{\"annotationdefaults\":{\"arrowcolor\":\"#2a3f5f\",\"arrowhead\":0,\"arrowwidth\":1},\"autotypenumbers\":\"strict\",\"coloraxis\":{\"colorbar\":{\"outlinewidth\":0,\"ticks\":\"\"}},\"colorscale\":{\"diverging\":[[0,\"#8e0152\"],[0.1,\"#c51b7d\"],[0.2,\"#de77ae\"],[0.3,\"#f1b6da\"],[0.4,\"#fde0ef\"],[0.5,\"#f7f7f7\"],[0.6,\"#e6f5d0\"],[0.7,\"#b8e186\"],[0.8,\"#7fbc41\"],[0.9,\"#4d9221\"],[1,\"#276419\"]],\"sequential\":[[0.0,\"#0d0887\"],[0.1111111111111111,\"#46039f\"],[0.2222222222222222,\"#7201a8\"],[0.3333333333333333,\"#9c179e\"],[0.4444444444444444,\"#bd3786\"],[0.5555555555555556,\"#d8576b\"],[0.6666666666666666,\"#ed7953\"],[0.7777777777777778,\"#fb9f3a\"],[0.8888888888888888,\"#fdca26\"],[1.0,\"#f0f921\"]],\"sequentialminus\":[[0.0,\"#0d0887\"],[0.1111111111111111,\"#46039f\"],[0.2222222222222222,\"#7201a8\"],[0.3333333333333333,\"#9c179e\"],[0.4444444444444444,\"#bd3786\"],[0.5555555555555556,\"#d8576b\"],[0.6666666666666666,\"#ed7953\"],[0.7777777777777778,\"#fb9f3a\"],[0.8888888888888888,\"#fdca26\"],[1.0,\"#f0f921\"]]},\"colorway\":[\"#636efa\",\"#EF553B\",\"#00cc96\",\"#ab63fa\",\"#FFA15A\",\"#19d3f3\",\"#FF6692\",\"#B6E880\",\"#FF97FF\",\"#FECB52\"],\"font\":{\"color\":\"#2a3f5f\"},\"geo\":{\"bgcolor\":\"white\",\"lakecolor\":\"white\",\"landcolor\":\"#E5ECF6\",\"showlakes\":true,\"showland\":true,\"subunitcolor\":\"white\"},\"hoverlabel\":{\"align\":\"left\"},\"hovermode\":\"closest\",\"mapbox\":{\"style\":\"light\"},\"paper_bgcolor\":\"white\",\"plot_bgcolor\":\"#E5ECF6\",\"polar\":{\"angularaxis\":{\"gridcolor\":\"white\",\"linecolor\":\"white\",\"ticks\":\"\"},\"bgcolor\":\"#E5ECF6\",\"radialaxis\":{\"gridcolor\":\"white\",\"linecolor\":\"white\",\"ticks\":\"\"}},\"scene\":{\"xaxis\":{\"backgroundcolor\":\"#E5ECF6\",\"gridcolor\":\"white\",\"gridwidth\":2,\"linecolor\":\"white\",\"showbackground\":true,\"ticks\":\"\",\"zerolinecolor\":\"white\"},\"yaxis\":{\"backgroundcolor\":\"#E5ECF6\",\"gridcolor\":\"white\",\"gridwidth\":2,\"linecolor\":\"white\",\"showbackground\":true,\"ticks\":\"\",\"zerolinecolor\":\"white\"},\"zaxis\":{\"backgroundcolor\":\"#E5ECF6\",\"gridcolor\":\"white\",\"gridwidth\":2,\"linecolor\":\"white\",\"showbackground\":true,\"ticks\":\"\",\"zerolinecolor\":\"white\"}},\"shapedefaults\":{\"line\":{\"color\":\"#2a3f5f\"}},\"ternary\":{\"aaxis\":{\"gridcolor\":\"white\",\"linecolor\":\"white\",\"ticks\":\"\"},\"baxis\":{\"gridcolor\":\"white\",\"linecolor\":\"white\",\"ticks\":\"\"},\"bgcolor\":\"#E5ECF6\",\"caxis\":{\"gridcolor\":\"white\",\"linecolor\":\"white\",\"ticks\":\"\"}},\"title\":{\"x\":0.05},\"xaxis\":{\"automargin\":true,\"gridcolor\":\"white\",\"linecolor\":\"white\",\"ticks\":\"\",\"title\":{\"standoff\":15},\"zerolinecolor\":\"white\",\"zerolinewidth\":2},\"yaxis\":{\"automargin\":true,\"gridcolor\":\"white\",\"linecolor\":\"white\",\"ticks\":\"\",\"title\":{\"standoff\":15},\"zerolinecolor\":\"white\",\"zerolinewidth\":2}}},\"xaxis\":{\"anchor\":\"y\",\"domain\":[0.0,1.0],\"title\":{\"text\":\"time\"}},\"yaxis\":{\"anchor\":\"x\",\"domain\":[0.0,1.0],\"title\":{\"text\":\"count\"}},\"legend\":{\"title\":{\"text\":\"Y\"},\"tracegroupgap\":0},\"title\":{\"text\":\"Acceptance/rejection of coupon based on time of the day alone\"},\"barmode\":\"group\"},                        {\"responsive\": true}                    ).then(function(){\n",
       "                            \n",
       "var gd = document.getElementById('63118744-199b-4e32-8e8c-20a3ec95f590');\n",
       "var x = new MutationObserver(function (mutations, observer) {{\n",
       "        var display = window.getComputedStyle(gd).display;\n",
       "        if (!display || display === 'none') {{\n",
       "            console.log([gd, 'removed!']);\n",
       "            Plotly.purge(gd);\n",
       "            observer.disconnect();\n",
       "        }}\n",
       "}});\n",
       "\n",
       "// Listen for the removal of the full notebook cells\n",
       "var notebookContainer = gd.closest('#notebook-container');\n",
       "if (notebookContainer) {{\n",
       "    x.observe(notebookContainer, {childList: true});\n",
       "}}\n",
       "\n",
       "// Listen for the clearing of the current output cell\n",
       "var outputEl = gd.closest('.output');\n",
       "if (outputEl) {{\n",
       "    x.observe(outputEl, {childList: true});\n",
       "}}\n",
       "\n",
       "                        })                };                });            </script>        </div>"
      ]
     },
     "metadata": {},
     "output_type": "display_data"
    }
   ],
   "source": [
    "coffee_house_alone_df = coffee_house_df[coffee_house_df['passanger'] == 'Alone']\n",
    "px.histogram(coffee_house_alone_df, x='time', color='Y', barmode='group', title=\"Acceptance/rejection of coupon based on time of the day alone\")"
   ]
  },
  {
   "cell_type": "markdown",
   "metadata": {},
   "source": [
    "As these two graphs show, 10 AM is the best is the time that has highest number of acceptance comparing to other time no matter if the driver is alone or with a friend. This will help the coffee houses know what time of the day is the best time to bring in more customers. This make me curious to see how other passangers affect the outcome."
   ]
  },
  {
   "cell_type": "code",
   "execution_count": 131,
   "metadata": {},
   "outputs": [
    {
     "data": {
      "application/vnd.plotly.v1+json": {
       "config": {
        "plotlyServerURL": "https://plot.ly"
       },
       "data": [
        {
         "alignmentgroup": "True",
         "bingroup": "x",
         "hovertemplate": "Y=0<br>time=%{x}<br>count=%{y}<extra></extra>",
         "legendgroup": "0",
         "marker": {
          "color": "#636efa",
          "pattern": {
           "shape": ""
          }
         },
         "name": "0",
         "offsetgroup": "0",
         "orientation": "v",
         "showlegend": true,
         "type": "histogram",
         "x": [
          "6PM",
          "6PM",
          "6PM",
          "6PM",
          "6PM",
          "6PM",
          "6PM",
          "6PM",
          "6PM",
          "6PM",
          "6PM",
          "6PM",
          "6PM",
          "6PM",
          "6PM",
          "6PM",
          "6PM",
          "6PM",
          "6PM",
          "6PM",
          "6PM",
          "6PM",
          "6PM",
          "6PM",
          "6PM",
          "6PM",
          "6PM",
          "6PM",
          "6PM",
          "6PM",
          "6PM",
          "6PM",
          "6PM",
          "6PM",
          "6PM",
          "6PM",
          "6PM",
          "6PM",
          "6PM",
          "6PM",
          "6PM",
          "6PM",
          "6PM",
          "6PM",
          "6PM",
          "6PM",
          "6PM",
          "6PM",
          "6PM",
          "2PM",
          "6PM",
          "2PM",
          "6PM",
          "2PM",
          "2PM",
          "6PM",
          "2PM",
          "2PM",
          "6PM",
          "2PM",
          "6PM",
          "6PM",
          "2PM",
          "2PM",
          "6PM",
          "2PM",
          "2PM",
          "6PM",
          "2PM",
          "10AM",
          "10AM",
          "10AM",
          "2PM",
          "2PM",
          "2PM",
          "2PM",
          "2PM",
          "2PM",
          "2PM",
          "2PM",
          "2PM",
          "2PM",
          "2PM",
          "2PM",
          "2PM",
          "2PM",
          "10AM",
          "2PM",
          "10AM",
          "2PM",
          "2PM",
          "10AM",
          "2PM",
          "2PM",
          "10AM",
          "2PM",
          "10AM",
          "2PM",
          "10AM",
          "2PM",
          "10AM",
          "2PM"
         ],
         "xaxis": "x",
         "yaxis": "y"
        },
        {
         "alignmentgroup": "True",
         "bingroup": "x",
         "hovertemplate": "Y=1<br>time=%{x}<br>count=%{y}<extra></extra>",
         "legendgroup": "1",
         "marker": {
          "color": "#EF553B",
          "pattern": {
           "shape": ""
          }
         },
         "name": "1",
         "offsetgroup": "1",
         "orientation": "v",
         "showlegend": true,
         "type": "histogram",
         "x": [
          "6PM",
          "6PM",
          "6PM",
          "6PM",
          "6PM",
          "6PM",
          "6PM",
          "6PM",
          "6PM",
          "6PM",
          "6PM",
          "2PM",
          "6PM",
          "2PM",
          "6PM",
          "2PM",
          "6PM",
          "6PM",
          "6PM",
          "2PM",
          "6PM",
          "2PM",
          "2PM",
          "6PM",
          "6PM",
          "2PM",
          "6PM",
          "6PM",
          "2PM",
          "6PM",
          "2PM",
          "6PM",
          "6PM",
          "2PM",
          "6PM",
          "2PM",
          "6PM",
          "10AM",
          "10AM",
          "10AM",
          "10AM",
          "10AM",
          "10AM",
          "10AM",
          "2PM",
          "2PM",
          "2PM",
          "2PM",
          "2PM",
          "2PM",
          "2PM",
          "2PM",
          "2PM",
          "2PM",
          "2PM",
          "2PM",
          "2PM",
          "2PM",
          "2PM",
          "2PM",
          "2PM",
          "2PM",
          "2PM",
          "10AM",
          "2PM",
          "10AM",
          "2PM",
          "10AM",
          "2PM",
          "10AM",
          "10AM",
          "2PM",
          "10AM",
          "2PM",
          "10AM",
          "2PM",
          "10AM",
          "2PM",
          "10AM",
          "10AM",
          "2PM",
          "10AM",
          "2PM",
          "10AM",
          "10AM",
          "2PM",
          "10AM",
          "2PM",
          "10AM",
          "2PM",
          "10AM"
         ],
         "xaxis": "x",
         "yaxis": "y"
        }
       ],
       "layout": {
        "barmode": "group",
        "legend": {
         "title": {
          "text": "Y"
         },
         "tracegroupgap": 0
        },
        "template": {
         "data": {
          "bar": [
           {
            "error_x": {
             "color": "#2a3f5f"
            },
            "error_y": {
             "color": "#2a3f5f"
            },
            "marker": {
             "line": {
              "color": "#E5ECF6",
              "width": 0.5
             },
             "pattern": {
              "fillmode": "overlay",
              "size": 10,
              "solidity": 0.2
             }
            },
            "type": "bar"
           }
          ],
          "barpolar": [
           {
            "marker": {
             "line": {
              "color": "#E5ECF6",
              "width": 0.5
             },
             "pattern": {
              "fillmode": "overlay",
              "size": 10,
              "solidity": 0.2
             }
            },
            "type": "barpolar"
           }
          ],
          "carpet": [
           {
            "aaxis": {
             "endlinecolor": "#2a3f5f",
             "gridcolor": "white",
             "linecolor": "white",
             "minorgridcolor": "white",
             "startlinecolor": "#2a3f5f"
            },
            "baxis": {
             "endlinecolor": "#2a3f5f",
             "gridcolor": "white",
             "linecolor": "white",
             "minorgridcolor": "white",
             "startlinecolor": "#2a3f5f"
            },
            "type": "carpet"
           }
          ],
          "choropleth": [
           {
            "colorbar": {
             "outlinewidth": 0,
             "ticks": ""
            },
            "type": "choropleth"
           }
          ],
          "contour": [
           {
            "colorbar": {
             "outlinewidth": 0,
             "ticks": ""
            },
            "colorscale": [
             [
              0,
              "#0d0887"
             ],
             [
              0.1111111111111111,
              "#46039f"
             ],
             [
              0.2222222222222222,
              "#7201a8"
             ],
             [
              0.3333333333333333,
              "#9c179e"
             ],
             [
              0.4444444444444444,
              "#bd3786"
             ],
             [
              0.5555555555555556,
              "#d8576b"
             ],
             [
              0.6666666666666666,
              "#ed7953"
             ],
             [
              0.7777777777777778,
              "#fb9f3a"
             ],
             [
              0.8888888888888888,
              "#fdca26"
             ],
             [
              1,
              "#f0f921"
             ]
            ],
            "type": "contour"
           }
          ],
          "contourcarpet": [
           {
            "colorbar": {
             "outlinewidth": 0,
             "ticks": ""
            },
            "type": "contourcarpet"
           }
          ],
          "heatmap": [
           {
            "colorbar": {
             "outlinewidth": 0,
             "ticks": ""
            },
            "colorscale": [
             [
              0,
              "#0d0887"
             ],
             [
              0.1111111111111111,
              "#46039f"
             ],
             [
              0.2222222222222222,
              "#7201a8"
             ],
             [
              0.3333333333333333,
              "#9c179e"
             ],
             [
              0.4444444444444444,
              "#bd3786"
             ],
             [
              0.5555555555555556,
              "#d8576b"
             ],
             [
              0.6666666666666666,
              "#ed7953"
             ],
             [
              0.7777777777777778,
              "#fb9f3a"
             ],
             [
              0.8888888888888888,
              "#fdca26"
             ],
             [
              1,
              "#f0f921"
             ]
            ],
            "type": "heatmap"
           }
          ],
          "heatmapgl": [
           {
            "colorbar": {
             "outlinewidth": 0,
             "ticks": ""
            },
            "colorscale": [
             [
              0,
              "#0d0887"
             ],
             [
              0.1111111111111111,
              "#46039f"
             ],
             [
              0.2222222222222222,
              "#7201a8"
             ],
             [
              0.3333333333333333,
              "#9c179e"
             ],
             [
              0.4444444444444444,
              "#bd3786"
             ],
             [
              0.5555555555555556,
              "#d8576b"
             ],
             [
              0.6666666666666666,
              "#ed7953"
             ],
             [
              0.7777777777777778,
              "#fb9f3a"
             ],
             [
              0.8888888888888888,
              "#fdca26"
             ],
             [
              1,
              "#f0f921"
             ]
            ],
            "type": "heatmapgl"
           }
          ],
          "histogram": [
           {
            "marker": {
             "pattern": {
              "fillmode": "overlay",
              "size": 10,
              "solidity": 0.2
             }
            },
            "type": "histogram"
           }
          ],
          "histogram2d": [
           {
            "colorbar": {
             "outlinewidth": 0,
             "ticks": ""
            },
            "colorscale": [
             [
              0,
              "#0d0887"
             ],
             [
              0.1111111111111111,
              "#46039f"
             ],
             [
              0.2222222222222222,
              "#7201a8"
             ],
             [
              0.3333333333333333,
              "#9c179e"
             ],
             [
              0.4444444444444444,
              "#bd3786"
             ],
             [
              0.5555555555555556,
              "#d8576b"
             ],
             [
              0.6666666666666666,
              "#ed7953"
             ],
             [
              0.7777777777777778,
              "#fb9f3a"
             ],
             [
              0.8888888888888888,
              "#fdca26"
             ],
             [
              1,
              "#f0f921"
             ]
            ],
            "type": "histogram2d"
           }
          ],
          "histogram2dcontour": [
           {
            "colorbar": {
             "outlinewidth": 0,
             "ticks": ""
            },
            "colorscale": [
             [
              0,
              "#0d0887"
             ],
             [
              0.1111111111111111,
              "#46039f"
             ],
             [
              0.2222222222222222,
              "#7201a8"
             ],
             [
              0.3333333333333333,
              "#9c179e"
             ],
             [
              0.4444444444444444,
              "#bd3786"
             ],
             [
              0.5555555555555556,
              "#d8576b"
             ],
             [
              0.6666666666666666,
              "#ed7953"
             ],
             [
              0.7777777777777778,
              "#fb9f3a"
             ],
             [
              0.8888888888888888,
              "#fdca26"
             ],
             [
              1,
              "#f0f921"
             ]
            ],
            "type": "histogram2dcontour"
           }
          ],
          "mesh3d": [
           {
            "colorbar": {
             "outlinewidth": 0,
             "ticks": ""
            },
            "type": "mesh3d"
           }
          ],
          "parcoords": [
           {
            "line": {
             "colorbar": {
              "outlinewidth": 0,
              "ticks": ""
             }
            },
            "type": "parcoords"
           }
          ],
          "pie": [
           {
            "automargin": true,
            "type": "pie"
           }
          ],
          "scatter": [
           {
            "marker": {
             "colorbar": {
              "outlinewidth": 0,
              "ticks": ""
             }
            },
            "type": "scatter"
           }
          ],
          "scatter3d": [
           {
            "line": {
             "colorbar": {
              "outlinewidth": 0,
              "ticks": ""
             }
            },
            "marker": {
             "colorbar": {
              "outlinewidth": 0,
              "ticks": ""
             }
            },
            "type": "scatter3d"
           }
          ],
          "scattercarpet": [
           {
            "marker": {
             "colorbar": {
              "outlinewidth": 0,
              "ticks": ""
             }
            },
            "type": "scattercarpet"
           }
          ],
          "scattergeo": [
           {
            "marker": {
             "colorbar": {
              "outlinewidth": 0,
              "ticks": ""
             }
            },
            "type": "scattergeo"
           }
          ],
          "scattergl": [
           {
            "marker": {
             "colorbar": {
              "outlinewidth": 0,
              "ticks": ""
             }
            },
            "type": "scattergl"
           }
          ],
          "scattermapbox": [
           {
            "marker": {
             "colorbar": {
              "outlinewidth": 0,
              "ticks": ""
             }
            },
            "type": "scattermapbox"
           }
          ],
          "scatterpolar": [
           {
            "marker": {
             "colorbar": {
              "outlinewidth": 0,
              "ticks": ""
             }
            },
            "type": "scatterpolar"
           }
          ],
          "scatterpolargl": [
           {
            "marker": {
             "colorbar": {
              "outlinewidth": 0,
              "ticks": ""
             }
            },
            "type": "scatterpolargl"
           }
          ],
          "scatterternary": [
           {
            "marker": {
             "colorbar": {
              "outlinewidth": 0,
              "ticks": ""
             }
            },
            "type": "scatterternary"
           }
          ],
          "surface": [
           {
            "colorbar": {
             "outlinewidth": 0,
             "ticks": ""
            },
            "colorscale": [
             [
              0,
              "#0d0887"
             ],
             [
              0.1111111111111111,
              "#46039f"
             ],
             [
              0.2222222222222222,
              "#7201a8"
             ],
             [
              0.3333333333333333,
              "#9c179e"
             ],
             [
              0.4444444444444444,
              "#bd3786"
             ],
             [
              0.5555555555555556,
              "#d8576b"
             ],
             [
              0.6666666666666666,
              "#ed7953"
             ],
             [
              0.7777777777777778,
              "#fb9f3a"
             ],
             [
              0.8888888888888888,
              "#fdca26"
             ],
             [
              1,
              "#f0f921"
             ]
            ],
            "type": "surface"
           }
          ],
          "table": [
           {
            "cells": {
             "fill": {
              "color": "#EBF0F8"
             },
             "line": {
              "color": "white"
             }
            },
            "header": {
             "fill": {
              "color": "#C8D4E3"
             },
             "line": {
              "color": "white"
             }
            },
            "type": "table"
           }
          ]
         },
         "layout": {
          "annotationdefaults": {
           "arrowcolor": "#2a3f5f",
           "arrowhead": 0,
           "arrowwidth": 1
          },
          "autotypenumbers": "strict",
          "coloraxis": {
           "colorbar": {
            "outlinewidth": 0,
            "ticks": ""
           }
          },
          "colorscale": {
           "diverging": [
            [
             0,
             "#8e0152"
            ],
            [
             0.1,
             "#c51b7d"
            ],
            [
             0.2,
             "#de77ae"
            ],
            [
             0.3,
             "#f1b6da"
            ],
            [
             0.4,
             "#fde0ef"
            ],
            [
             0.5,
             "#f7f7f7"
            ],
            [
             0.6,
             "#e6f5d0"
            ],
            [
             0.7,
             "#b8e186"
            ],
            [
             0.8,
             "#7fbc41"
            ],
            [
             0.9,
             "#4d9221"
            ],
            [
             1,
             "#276419"
            ]
           ],
           "sequential": [
            [
             0,
             "#0d0887"
            ],
            [
             0.1111111111111111,
             "#46039f"
            ],
            [
             0.2222222222222222,
             "#7201a8"
            ],
            [
             0.3333333333333333,
             "#9c179e"
            ],
            [
             0.4444444444444444,
             "#bd3786"
            ],
            [
             0.5555555555555556,
             "#d8576b"
            ],
            [
             0.6666666666666666,
             "#ed7953"
            ],
            [
             0.7777777777777778,
             "#fb9f3a"
            ],
            [
             0.8888888888888888,
             "#fdca26"
            ],
            [
             1,
             "#f0f921"
            ]
           ],
           "sequentialminus": [
            [
             0,
             "#0d0887"
            ],
            [
             0.1111111111111111,
             "#46039f"
            ],
            [
             0.2222222222222222,
             "#7201a8"
            ],
            [
             0.3333333333333333,
             "#9c179e"
            ],
            [
             0.4444444444444444,
             "#bd3786"
            ],
            [
             0.5555555555555556,
             "#d8576b"
            ],
            [
             0.6666666666666666,
             "#ed7953"
            ],
            [
             0.7777777777777778,
             "#fb9f3a"
            ],
            [
             0.8888888888888888,
             "#fdca26"
            ],
            [
             1,
             "#f0f921"
            ]
           ]
          },
          "colorway": [
           "#636efa",
           "#EF553B",
           "#00cc96",
           "#ab63fa",
           "#FFA15A",
           "#19d3f3",
           "#FF6692",
           "#B6E880",
           "#FF97FF",
           "#FECB52"
          ],
          "font": {
           "color": "#2a3f5f"
          },
          "geo": {
           "bgcolor": "white",
           "lakecolor": "white",
           "landcolor": "#E5ECF6",
           "showlakes": true,
           "showland": true,
           "subunitcolor": "white"
          },
          "hoverlabel": {
           "align": "left"
          },
          "hovermode": "closest",
          "mapbox": {
           "style": "light"
          },
          "paper_bgcolor": "white",
          "plot_bgcolor": "#E5ECF6",
          "polar": {
           "angularaxis": {
            "gridcolor": "white",
            "linecolor": "white",
            "ticks": ""
           },
           "bgcolor": "#E5ECF6",
           "radialaxis": {
            "gridcolor": "white",
            "linecolor": "white",
            "ticks": ""
           }
          },
          "scene": {
           "xaxis": {
            "backgroundcolor": "#E5ECF6",
            "gridcolor": "white",
            "gridwidth": 2,
            "linecolor": "white",
            "showbackground": true,
            "ticks": "",
            "zerolinecolor": "white"
           },
           "yaxis": {
            "backgroundcolor": "#E5ECF6",
            "gridcolor": "white",
            "gridwidth": 2,
            "linecolor": "white",
            "showbackground": true,
            "ticks": "",
            "zerolinecolor": "white"
           },
           "zaxis": {
            "backgroundcolor": "#E5ECF6",
            "gridcolor": "white",
            "gridwidth": 2,
            "linecolor": "white",
            "showbackground": true,
            "ticks": "",
            "zerolinecolor": "white"
           }
          },
          "shapedefaults": {
           "line": {
            "color": "#2a3f5f"
           }
          },
          "ternary": {
           "aaxis": {
            "gridcolor": "white",
            "linecolor": "white",
            "ticks": ""
           },
           "baxis": {
            "gridcolor": "white",
            "linecolor": "white",
            "ticks": ""
           },
           "bgcolor": "#E5ECF6",
           "caxis": {
            "gridcolor": "white",
            "linecolor": "white",
            "ticks": ""
           }
          },
          "title": {
           "x": 0.05
          },
          "xaxis": {
           "automargin": true,
           "gridcolor": "white",
           "linecolor": "white",
           "ticks": "",
           "title": {
            "standoff": 15
           },
           "zerolinecolor": "white",
           "zerolinewidth": 2
          },
          "yaxis": {
           "automargin": true,
           "gridcolor": "white",
           "linecolor": "white",
           "ticks": "",
           "title": {
            "standoff": 15
           },
           "zerolinecolor": "white",
           "zerolinewidth": 2
          }
         }
        },
        "title": {
         "text": "Acceptance/rejection of coupon based on time of the day with kids"
        },
        "xaxis": {
         "anchor": "y",
         "domain": [
          0,
          1
         ],
         "title": {
          "text": "time"
         }
        },
        "yaxis": {
         "anchor": "x",
         "domain": [
          0,
          1
         ],
         "title": {
          "text": "count"
         }
        }
       }
      },
      "text/html": [
       "<div>                            <div id=\"a8532086-6b20-452c-a670-93d4c933649e\" class=\"plotly-graph-div\" style=\"height:525px; width:100%;\"></div>            <script type=\"text/javascript\">                require([\"plotly\"], function(Plotly) {                    window.PLOTLYENV=window.PLOTLYENV || {};                                    if (document.getElementById(\"a8532086-6b20-452c-a670-93d4c933649e\")) {                    Plotly.newPlot(                        \"a8532086-6b20-452c-a670-93d4c933649e\",                        [{\"alignmentgroup\":\"True\",\"bingroup\":\"x\",\"hovertemplate\":\"Y=0<br>time=%{x}<br>count=%{y}<extra></extra>\",\"legendgroup\":\"0\",\"marker\":{\"color\":\"#636efa\",\"pattern\":{\"shape\":\"\"}},\"name\":\"0\",\"offsetgroup\":\"0\",\"orientation\":\"v\",\"showlegend\":true,\"x\":[\"6PM\",\"6PM\",\"6PM\",\"6PM\",\"6PM\",\"6PM\",\"6PM\",\"6PM\",\"6PM\",\"6PM\",\"6PM\",\"6PM\",\"6PM\",\"6PM\",\"6PM\",\"6PM\",\"6PM\",\"6PM\",\"6PM\",\"6PM\",\"6PM\",\"6PM\",\"6PM\",\"6PM\",\"6PM\",\"6PM\",\"6PM\",\"6PM\",\"6PM\",\"6PM\",\"6PM\",\"6PM\",\"6PM\",\"6PM\",\"6PM\",\"6PM\",\"6PM\",\"6PM\",\"6PM\",\"6PM\",\"6PM\",\"6PM\",\"6PM\",\"6PM\",\"6PM\",\"6PM\",\"6PM\",\"6PM\",\"6PM\",\"2PM\",\"6PM\",\"2PM\",\"6PM\",\"2PM\",\"2PM\",\"6PM\",\"2PM\",\"2PM\",\"6PM\",\"2PM\",\"6PM\",\"6PM\",\"2PM\",\"2PM\",\"6PM\",\"2PM\",\"2PM\",\"6PM\",\"2PM\",\"10AM\",\"10AM\",\"10AM\",\"2PM\",\"2PM\",\"2PM\",\"2PM\",\"2PM\",\"2PM\",\"2PM\",\"2PM\",\"2PM\",\"2PM\",\"2PM\",\"2PM\",\"2PM\",\"2PM\",\"10AM\",\"2PM\",\"10AM\",\"2PM\",\"2PM\",\"10AM\",\"2PM\",\"2PM\",\"10AM\",\"2PM\",\"10AM\",\"2PM\",\"10AM\",\"2PM\",\"10AM\",\"2PM\"],\"xaxis\":\"x\",\"yaxis\":\"y\",\"type\":\"histogram\"},{\"alignmentgroup\":\"True\",\"bingroup\":\"x\",\"hovertemplate\":\"Y=1<br>time=%{x}<br>count=%{y}<extra></extra>\",\"legendgroup\":\"1\",\"marker\":{\"color\":\"#EF553B\",\"pattern\":{\"shape\":\"\"}},\"name\":\"1\",\"offsetgroup\":\"1\",\"orientation\":\"v\",\"showlegend\":true,\"x\":[\"6PM\",\"6PM\",\"6PM\",\"6PM\",\"6PM\",\"6PM\",\"6PM\",\"6PM\",\"6PM\",\"6PM\",\"6PM\",\"2PM\",\"6PM\",\"2PM\",\"6PM\",\"2PM\",\"6PM\",\"6PM\",\"6PM\",\"2PM\",\"6PM\",\"2PM\",\"2PM\",\"6PM\",\"6PM\",\"2PM\",\"6PM\",\"6PM\",\"2PM\",\"6PM\",\"2PM\",\"6PM\",\"6PM\",\"2PM\",\"6PM\",\"2PM\",\"6PM\",\"10AM\",\"10AM\",\"10AM\",\"10AM\",\"10AM\",\"10AM\",\"10AM\",\"2PM\",\"2PM\",\"2PM\",\"2PM\",\"2PM\",\"2PM\",\"2PM\",\"2PM\",\"2PM\",\"2PM\",\"2PM\",\"2PM\",\"2PM\",\"2PM\",\"2PM\",\"2PM\",\"2PM\",\"2PM\",\"2PM\",\"10AM\",\"2PM\",\"10AM\",\"2PM\",\"10AM\",\"2PM\",\"10AM\",\"10AM\",\"2PM\",\"10AM\",\"2PM\",\"10AM\",\"2PM\",\"10AM\",\"2PM\",\"10AM\",\"10AM\",\"2PM\",\"10AM\",\"2PM\",\"10AM\",\"10AM\",\"2PM\",\"10AM\",\"2PM\",\"10AM\",\"2PM\",\"10AM\"],\"xaxis\":\"x\",\"yaxis\":\"y\",\"type\":\"histogram\"}],                        {\"template\":{\"data\":{\"bar\":[{\"error_x\":{\"color\":\"#2a3f5f\"},\"error_y\":{\"color\":\"#2a3f5f\"},\"marker\":{\"line\":{\"color\":\"#E5ECF6\",\"width\":0.5},\"pattern\":{\"fillmode\":\"overlay\",\"size\":10,\"solidity\":0.2}},\"type\":\"bar\"}],\"barpolar\":[{\"marker\":{\"line\":{\"color\":\"#E5ECF6\",\"width\":0.5},\"pattern\":{\"fillmode\":\"overlay\",\"size\":10,\"solidity\":0.2}},\"type\":\"barpolar\"}],\"carpet\":[{\"aaxis\":{\"endlinecolor\":\"#2a3f5f\",\"gridcolor\":\"white\",\"linecolor\":\"white\",\"minorgridcolor\":\"white\",\"startlinecolor\":\"#2a3f5f\"},\"baxis\":{\"endlinecolor\":\"#2a3f5f\",\"gridcolor\":\"white\",\"linecolor\":\"white\",\"minorgridcolor\":\"white\",\"startlinecolor\":\"#2a3f5f\"},\"type\":\"carpet\"}],\"choropleth\":[{\"colorbar\":{\"outlinewidth\":0,\"ticks\":\"\"},\"type\":\"choropleth\"}],\"contour\":[{\"colorbar\":{\"outlinewidth\":0,\"ticks\":\"\"},\"colorscale\":[[0.0,\"#0d0887\"],[0.1111111111111111,\"#46039f\"],[0.2222222222222222,\"#7201a8\"],[0.3333333333333333,\"#9c179e\"],[0.4444444444444444,\"#bd3786\"],[0.5555555555555556,\"#d8576b\"],[0.6666666666666666,\"#ed7953\"],[0.7777777777777778,\"#fb9f3a\"],[0.8888888888888888,\"#fdca26\"],[1.0,\"#f0f921\"]],\"type\":\"contour\"}],\"contourcarpet\":[{\"colorbar\":{\"outlinewidth\":0,\"ticks\":\"\"},\"type\":\"contourcarpet\"}],\"heatmap\":[{\"colorbar\":{\"outlinewidth\":0,\"ticks\":\"\"},\"colorscale\":[[0.0,\"#0d0887\"],[0.1111111111111111,\"#46039f\"],[0.2222222222222222,\"#7201a8\"],[0.3333333333333333,\"#9c179e\"],[0.4444444444444444,\"#bd3786\"],[0.5555555555555556,\"#d8576b\"],[0.6666666666666666,\"#ed7953\"],[0.7777777777777778,\"#fb9f3a\"],[0.8888888888888888,\"#fdca26\"],[1.0,\"#f0f921\"]],\"type\":\"heatmap\"}],\"heatmapgl\":[{\"colorbar\":{\"outlinewidth\":0,\"ticks\":\"\"},\"colorscale\":[[0.0,\"#0d0887\"],[0.1111111111111111,\"#46039f\"],[0.2222222222222222,\"#7201a8\"],[0.3333333333333333,\"#9c179e\"],[0.4444444444444444,\"#bd3786\"],[0.5555555555555556,\"#d8576b\"],[0.6666666666666666,\"#ed7953\"],[0.7777777777777778,\"#fb9f3a\"],[0.8888888888888888,\"#fdca26\"],[1.0,\"#f0f921\"]],\"type\":\"heatmapgl\"}],\"histogram\":[{\"marker\":{\"pattern\":{\"fillmode\":\"overlay\",\"size\":10,\"solidity\":0.2}},\"type\":\"histogram\"}],\"histogram2d\":[{\"colorbar\":{\"outlinewidth\":0,\"ticks\":\"\"},\"colorscale\":[[0.0,\"#0d0887\"],[0.1111111111111111,\"#46039f\"],[0.2222222222222222,\"#7201a8\"],[0.3333333333333333,\"#9c179e\"],[0.4444444444444444,\"#bd3786\"],[0.5555555555555556,\"#d8576b\"],[0.6666666666666666,\"#ed7953\"],[0.7777777777777778,\"#fb9f3a\"],[0.8888888888888888,\"#fdca26\"],[1.0,\"#f0f921\"]],\"type\":\"histogram2d\"}],\"histogram2dcontour\":[{\"colorbar\":{\"outlinewidth\":0,\"ticks\":\"\"},\"colorscale\":[[0.0,\"#0d0887\"],[0.1111111111111111,\"#46039f\"],[0.2222222222222222,\"#7201a8\"],[0.3333333333333333,\"#9c179e\"],[0.4444444444444444,\"#bd3786\"],[0.5555555555555556,\"#d8576b\"],[0.6666666666666666,\"#ed7953\"],[0.7777777777777778,\"#fb9f3a\"],[0.8888888888888888,\"#fdca26\"],[1.0,\"#f0f921\"]],\"type\":\"histogram2dcontour\"}],\"mesh3d\":[{\"colorbar\":{\"outlinewidth\":0,\"ticks\":\"\"},\"type\":\"mesh3d\"}],\"parcoords\":[{\"line\":{\"colorbar\":{\"outlinewidth\":0,\"ticks\":\"\"}},\"type\":\"parcoords\"}],\"pie\":[{\"automargin\":true,\"type\":\"pie\"}],\"scatter\":[{\"marker\":{\"colorbar\":{\"outlinewidth\":0,\"ticks\":\"\"}},\"type\":\"scatter\"}],\"scatter3d\":[{\"line\":{\"colorbar\":{\"outlinewidth\":0,\"ticks\":\"\"}},\"marker\":{\"colorbar\":{\"outlinewidth\":0,\"ticks\":\"\"}},\"type\":\"scatter3d\"}],\"scattercarpet\":[{\"marker\":{\"colorbar\":{\"outlinewidth\":0,\"ticks\":\"\"}},\"type\":\"scattercarpet\"}],\"scattergeo\":[{\"marker\":{\"colorbar\":{\"outlinewidth\":0,\"ticks\":\"\"}},\"type\":\"scattergeo\"}],\"scattergl\":[{\"marker\":{\"colorbar\":{\"outlinewidth\":0,\"ticks\":\"\"}},\"type\":\"scattergl\"}],\"scattermapbox\":[{\"marker\":{\"colorbar\":{\"outlinewidth\":0,\"ticks\":\"\"}},\"type\":\"scattermapbox\"}],\"scatterpolar\":[{\"marker\":{\"colorbar\":{\"outlinewidth\":0,\"ticks\":\"\"}},\"type\":\"scatterpolar\"}],\"scatterpolargl\":[{\"marker\":{\"colorbar\":{\"outlinewidth\":0,\"ticks\":\"\"}},\"type\":\"scatterpolargl\"}],\"scatterternary\":[{\"marker\":{\"colorbar\":{\"outlinewidth\":0,\"ticks\":\"\"}},\"type\":\"scatterternary\"}],\"surface\":[{\"colorbar\":{\"outlinewidth\":0,\"ticks\":\"\"},\"colorscale\":[[0.0,\"#0d0887\"],[0.1111111111111111,\"#46039f\"],[0.2222222222222222,\"#7201a8\"],[0.3333333333333333,\"#9c179e\"],[0.4444444444444444,\"#bd3786\"],[0.5555555555555556,\"#d8576b\"],[0.6666666666666666,\"#ed7953\"],[0.7777777777777778,\"#fb9f3a\"],[0.8888888888888888,\"#fdca26\"],[1.0,\"#f0f921\"]],\"type\":\"surface\"}],\"table\":[{\"cells\":{\"fill\":{\"color\":\"#EBF0F8\"},\"line\":{\"color\":\"white\"}},\"header\":{\"fill\":{\"color\":\"#C8D4E3\"},\"line\":{\"color\":\"white\"}},\"type\":\"table\"}]},\"layout\":{\"annotationdefaults\":{\"arrowcolor\":\"#2a3f5f\",\"arrowhead\":0,\"arrowwidth\":1},\"autotypenumbers\":\"strict\",\"coloraxis\":{\"colorbar\":{\"outlinewidth\":0,\"ticks\":\"\"}},\"colorscale\":{\"diverging\":[[0,\"#8e0152\"],[0.1,\"#c51b7d\"],[0.2,\"#de77ae\"],[0.3,\"#f1b6da\"],[0.4,\"#fde0ef\"],[0.5,\"#f7f7f7\"],[0.6,\"#e6f5d0\"],[0.7,\"#b8e186\"],[0.8,\"#7fbc41\"],[0.9,\"#4d9221\"],[1,\"#276419\"]],\"sequential\":[[0.0,\"#0d0887\"],[0.1111111111111111,\"#46039f\"],[0.2222222222222222,\"#7201a8\"],[0.3333333333333333,\"#9c179e\"],[0.4444444444444444,\"#bd3786\"],[0.5555555555555556,\"#d8576b\"],[0.6666666666666666,\"#ed7953\"],[0.7777777777777778,\"#fb9f3a\"],[0.8888888888888888,\"#fdca26\"],[1.0,\"#f0f921\"]],\"sequentialminus\":[[0.0,\"#0d0887\"],[0.1111111111111111,\"#46039f\"],[0.2222222222222222,\"#7201a8\"],[0.3333333333333333,\"#9c179e\"],[0.4444444444444444,\"#bd3786\"],[0.5555555555555556,\"#d8576b\"],[0.6666666666666666,\"#ed7953\"],[0.7777777777777778,\"#fb9f3a\"],[0.8888888888888888,\"#fdca26\"],[1.0,\"#f0f921\"]]},\"colorway\":[\"#636efa\",\"#EF553B\",\"#00cc96\",\"#ab63fa\",\"#FFA15A\",\"#19d3f3\",\"#FF6692\",\"#B6E880\",\"#FF97FF\",\"#FECB52\"],\"font\":{\"color\":\"#2a3f5f\"},\"geo\":{\"bgcolor\":\"white\",\"lakecolor\":\"white\",\"landcolor\":\"#E5ECF6\",\"showlakes\":true,\"showland\":true,\"subunitcolor\":\"white\"},\"hoverlabel\":{\"align\":\"left\"},\"hovermode\":\"closest\",\"mapbox\":{\"style\":\"light\"},\"paper_bgcolor\":\"white\",\"plot_bgcolor\":\"#E5ECF6\",\"polar\":{\"angularaxis\":{\"gridcolor\":\"white\",\"linecolor\":\"white\",\"ticks\":\"\"},\"bgcolor\":\"#E5ECF6\",\"radialaxis\":{\"gridcolor\":\"white\",\"linecolor\":\"white\",\"ticks\":\"\"}},\"scene\":{\"xaxis\":{\"backgroundcolor\":\"#E5ECF6\",\"gridcolor\":\"white\",\"gridwidth\":2,\"linecolor\":\"white\",\"showbackground\":true,\"ticks\":\"\",\"zerolinecolor\":\"white\"},\"yaxis\":{\"backgroundcolor\":\"#E5ECF6\",\"gridcolor\":\"white\",\"gridwidth\":2,\"linecolor\":\"white\",\"showbackground\":true,\"ticks\":\"\",\"zerolinecolor\":\"white\"},\"zaxis\":{\"backgroundcolor\":\"#E5ECF6\",\"gridcolor\":\"white\",\"gridwidth\":2,\"linecolor\":\"white\",\"showbackground\":true,\"ticks\":\"\",\"zerolinecolor\":\"white\"}},\"shapedefaults\":{\"line\":{\"color\":\"#2a3f5f\"}},\"ternary\":{\"aaxis\":{\"gridcolor\":\"white\",\"linecolor\":\"white\",\"ticks\":\"\"},\"baxis\":{\"gridcolor\":\"white\",\"linecolor\":\"white\",\"ticks\":\"\"},\"bgcolor\":\"#E5ECF6\",\"caxis\":{\"gridcolor\":\"white\",\"linecolor\":\"white\",\"ticks\":\"\"}},\"title\":{\"x\":0.05},\"xaxis\":{\"automargin\":true,\"gridcolor\":\"white\",\"linecolor\":\"white\",\"ticks\":\"\",\"title\":{\"standoff\":15},\"zerolinecolor\":\"white\",\"zerolinewidth\":2},\"yaxis\":{\"automargin\":true,\"gridcolor\":\"white\",\"linecolor\":\"white\",\"ticks\":\"\",\"title\":{\"standoff\":15},\"zerolinecolor\":\"white\",\"zerolinewidth\":2}}},\"xaxis\":{\"anchor\":\"y\",\"domain\":[0.0,1.0],\"title\":{\"text\":\"time\"}},\"yaxis\":{\"anchor\":\"x\",\"domain\":[0.0,1.0],\"title\":{\"text\":\"count\"}},\"legend\":{\"title\":{\"text\":\"Y\"},\"tracegroupgap\":0},\"title\":{\"text\":\"Acceptance/rejection of coupon based on time of the day with kids\"},\"barmode\":\"group\"},                        {\"responsive\": true}                    ).then(function(){\n",
       "                            \n",
       "var gd = document.getElementById('a8532086-6b20-452c-a670-93d4c933649e');\n",
       "var x = new MutationObserver(function (mutations, observer) {{\n",
       "        var display = window.getComputedStyle(gd).display;\n",
       "        if (!display || display === 'none') {{\n",
       "            console.log([gd, 'removed!']);\n",
       "            Plotly.purge(gd);\n",
       "            observer.disconnect();\n",
       "        }}\n",
       "}});\n",
       "\n",
       "// Listen for the removal of the full notebook cells\n",
       "var notebookContainer = gd.closest('#notebook-container');\n",
       "if (notebookContainer) {{\n",
       "    x.observe(notebookContainer, {childList: true});\n",
       "}}\n",
       "\n",
       "// Listen for the clearing of the current output cell\n",
       "var outputEl = gd.closest('.output');\n",
       "if (outputEl) {{\n",
       "    x.observe(outputEl, {childList: true});\n",
       "}}\n",
       "\n",
       "                        })                };                });            </script>        </div>"
      ]
     },
     "metadata": {},
     "output_type": "display_data"
    }
   ],
   "source": [
    "coffee_house_alone_df = coffee_house_df[coffee_house_df['passanger'] == 'Kid(s)']\n",
    "px.histogram(coffee_house_alone_df, x='time', color='Y', barmode='group', title=\"Acceptance/rejection of coupon based on time of the day with kids\")"
   ]
  },
  {
   "cell_type": "code",
   "execution_count": 142,
   "metadata": {},
   "outputs": [
    {
     "data": {
      "application/vnd.plotly.v1+json": {
       "config": {
        "plotlyServerURL": "https://plot.ly"
       },
       "data": [
        {
         "alignmentgroup": "True",
         "bingroup": "x",
         "hovertemplate": "Y=1<br>time=%{x}<br>count=%{y}<extra></extra>",
         "legendgroup": "1",
         "marker": {
          "color": "#d62728",
          "pattern": {
           "shape": ""
          }
         },
         "name": "1",
         "offsetgroup": "1",
         "orientation": "v",
         "showlegend": true,
         "type": "histogram",
         "x": [
          "10AM",
          "10AM",
          "10AM",
          "10AM",
          "10AM",
          "10AM",
          "10AM",
          "10AM",
          "10AM",
          "10AM",
          "10AM",
          "10AM",
          "10AM",
          "10AM",
          "10AM",
          "10AM",
          "10AM",
          "10AM",
          "10AM",
          "10AM",
          "10AM",
          "10AM",
          "10AM",
          "10AM",
          "10AM",
          "10AM",
          "10AM",
          "10AM",
          "10AM",
          "10AM",
          "10AM",
          "10AM",
          "10AM",
          "10AM",
          "10AM",
          "10AM",
          "10AM",
          "10AM",
          "10AM",
          "10AM",
          "10AM",
          "10AM",
          "10AM",
          "10AM",
          "10AM",
          "10AM",
          "10AM",
          "10AM",
          "10AM",
          "10AM",
          "10AM",
          "10AM",
          "10AM",
          "10AM",
          "2PM",
          "10AM",
          "10AM",
          "10AM",
          "2PM",
          "10AM",
          "2PM",
          "10AM",
          "10AM",
          "2PM",
          "10AM",
          "10AM",
          "10AM",
          "2PM",
          "10AM",
          "10AM",
          "2PM",
          "10AM",
          "10AM",
          "10AM",
          "2PM",
          "10AM",
          "2PM",
          "10AM",
          "10AM",
          "2PM",
          "10AM",
          "10AM",
          "2PM",
          "10AM",
          "10AM",
          "2PM",
          "10AM",
          "10AM",
          "2PM",
          "10AM",
          "10AM",
          "2PM",
          "10AM",
          "10AM",
          "10AM",
          "10AM",
          "2PM",
          "10AM",
          "10AM",
          "2PM",
          "10AM",
          "10AM",
          "2PM",
          "10AM",
          "10AM",
          "2PM",
          "10AM",
          "10AM",
          "2PM",
          "10AM",
          "10AM",
          "2PM",
          "10AM",
          "10AM",
          "2PM",
          "10AM",
          "10AM",
          "2PM",
          "10AM",
          "10AM",
          "2PM",
          "10AM",
          "2PM",
          "6PM",
          "2PM",
          "6PM",
          "2PM",
          "6PM",
          "2PM",
          "6PM",
          "2PM",
          "6PM",
          "2PM",
          "6PM",
          "6PM",
          "2PM",
          "6PM",
          "6PM",
          "2PM",
          "6PM",
          "2PM",
          "6PM",
          "2PM",
          "6PM",
          "6PM",
          "6PM",
          "2PM",
          "2PM",
          "2PM",
          "6PM",
          "6PM",
          "6PM",
          "6PM",
          "6PM",
          "6PM",
          "6PM",
          "6PM",
          "6PM",
          "6PM",
          "6PM",
          "6PM",
          "6PM",
          "6PM",
          "6PM",
          "6PM"
         ],
         "xaxis": "x",
         "yaxis": "y"
        },
        {
         "alignmentgroup": "True",
         "bingroup": "x",
         "hovertemplate": "Y=0<br>time=%{x}<br>count=%{y}<extra></extra>",
         "legendgroup": "0",
         "marker": {
          "color": "#1f77b4",
          "pattern": {
           "shape": ""
          }
         },
         "name": "0",
         "offsetgroup": "0",
         "orientation": "v",
         "showlegend": true,
         "type": "histogram",
         "x": [
          "10AM",
          "10AM",
          "10AM",
          "10AM",
          "10AM",
          "10AM",
          "10AM",
          "10AM",
          "10AM",
          "10AM",
          "10AM",
          "10AM",
          "10AM",
          "10AM",
          "10AM",
          "10AM",
          "10AM",
          "10AM",
          "10AM",
          "10AM",
          "10AM",
          "10AM",
          "10AM",
          "10AM",
          "10AM",
          "10AM",
          "10AM",
          "2PM",
          "10AM",
          "10AM",
          "2PM",
          "10AM",
          "10AM",
          "2PM",
          "10AM",
          "2PM",
          "2PM",
          "10AM",
          "10AM",
          "2PM",
          "10AM",
          "10AM",
          "10AM",
          "10AM",
          "2PM",
          "10AM",
          "10AM",
          "2PM",
          "2PM",
          "10AM",
          "10AM",
          "10AM",
          "10AM",
          "2PM",
          "10AM",
          "10AM",
          "2PM",
          "10AM",
          "10AM",
          "2PM",
          "10AM",
          "10AM",
          "2PM",
          "2PM",
          "10AM",
          "10AM",
          "2PM",
          "10AM",
          "10AM",
          "2PM",
          "10AM",
          "10AM",
          "2PM",
          "10AM",
          "10AM",
          "2PM",
          "10AM",
          "10AM",
          "2PM",
          "10AM",
          "10AM",
          "2PM",
          "10AM",
          "10AM",
          "2PM",
          "2PM",
          "6PM",
          "2PM",
          "6PM",
          "2PM",
          "6PM",
          "2PM",
          "6PM",
          "2PM",
          "6PM",
          "2PM",
          "6PM",
          "2PM",
          "6PM",
          "2PM",
          "6PM",
          "2PM",
          "2PM",
          "6PM",
          "6PM",
          "2PM",
          "2PM",
          "2PM",
          "6PM",
          "2PM",
          "6PM",
          "6PM",
          "2PM",
          "6PM",
          "2PM",
          "6PM",
          "6PM",
          "6PM",
          "6PM",
          "6PM",
          "6PM",
          "6PM",
          "6PM",
          "6PM",
          "6PM",
          "6PM"
         ],
         "xaxis": "x",
         "yaxis": "y"
        }
       ],
       "layout": {
        "barmode": "group",
        "legend": {
         "title": {
          "text": "Y"
         },
         "tracegroupgap": 0
        },
        "template": {
         "data": {
          "bar": [
           {
            "error_x": {
             "color": "#2a3f5f"
            },
            "error_y": {
             "color": "#2a3f5f"
            },
            "marker": {
             "line": {
              "color": "#E5ECF6",
              "width": 0.5
             },
             "pattern": {
              "fillmode": "overlay",
              "size": 10,
              "solidity": 0.2
             }
            },
            "type": "bar"
           }
          ],
          "barpolar": [
           {
            "marker": {
             "line": {
              "color": "#E5ECF6",
              "width": 0.5
             },
             "pattern": {
              "fillmode": "overlay",
              "size": 10,
              "solidity": 0.2
             }
            },
            "type": "barpolar"
           }
          ],
          "carpet": [
           {
            "aaxis": {
             "endlinecolor": "#2a3f5f",
             "gridcolor": "white",
             "linecolor": "white",
             "minorgridcolor": "white",
             "startlinecolor": "#2a3f5f"
            },
            "baxis": {
             "endlinecolor": "#2a3f5f",
             "gridcolor": "white",
             "linecolor": "white",
             "minorgridcolor": "white",
             "startlinecolor": "#2a3f5f"
            },
            "type": "carpet"
           }
          ],
          "choropleth": [
           {
            "colorbar": {
             "outlinewidth": 0,
             "ticks": ""
            },
            "type": "choropleth"
           }
          ],
          "contour": [
           {
            "colorbar": {
             "outlinewidth": 0,
             "ticks": ""
            },
            "colorscale": [
             [
              0,
              "#0d0887"
             ],
             [
              0.1111111111111111,
              "#46039f"
             ],
             [
              0.2222222222222222,
              "#7201a8"
             ],
             [
              0.3333333333333333,
              "#9c179e"
             ],
             [
              0.4444444444444444,
              "#bd3786"
             ],
             [
              0.5555555555555556,
              "#d8576b"
             ],
             [
              0.6666666666666666,
              "#ed7953"
             ],
             [
              0.7777777777777778,
              "#fb9f3a"
             ],
             [
              0.8888888888888888,
              "#fdca26"
             ],
             [
              1,
              "#f0f921"
             ]
            ],
            "type": "contour"
           }
          ],
          "contourcarpet": [
           {
            "colorbar": {
             "outlinewidth": 0,
             "ticks": ""
            },
            "type": "contourcarpet"
           }
          ],
          "heatmap": [
           {
            "colorbar": {
             "outlinewidth": 0,
             "ticks": ""
            },
            "colorscale": [
             [
              0,
              "#0d0887"
             ],
             [
              0.1111111111111111,
              "#46039f"
             ],
             [
              0.2222222222222222,
              "#7201a8"
             ],
             [
              0.3333333333333333,
              "#9c179e"
             ],
             [
              0.4444444444444444,
              "#bd3786"
             ],
             [
              0.5555555555555556,
              "#d8576b"
             ],
             [
              0.6666666666666666,
              "#ed7953"
             ],
             [
              0.7777777777777778,
              "#fb9f3a"
             ],
             [
              0.8888888888888888,
              "#fdca26"
             ],
             [
              1,
              "#f0f921"
             ]
            ],
            "type": "heatmap"
           }
          ],
          "heatmapgl": [
           {
            "colorbar": {
             "outlinewidth": 0,
             "ticks": ""
            },
            "colorscale": [
             [
              0,
              "#0d0887"
             ],
             [
              0.1111111111111111,
              "#46039f"
             ],
             [
              0.2222222222222222,
              "#7201a8"
             ],
             [
              0.3333333333333333,
              "#9c179e"
             ],
             [
              0.4444444444444444,
              "#bd3786"
             ],
             [
              0.5555555555555556,
              "#d8576b"
             ],
             [
              0.6666666666666666,
              "#ed7953"
             ],
             [
              0.7777777777777778,
              "#fb9f3a"
             ],
             [
              0.8888888888888888,
              "#fdca26"
             ],
             [
              1,
              "#f0f921"
             ]
            ],
            "type": "heatmapgl"
           }
          ],
          "histogram": [
           {
            "marker": {
             "pattern": {
              "fillmode": "overlay",
              "size": 10,
              "solidity": 0.2
             }
            },
            "type": "histogram"
           }
          ],
          "histogram2d": [
           {
            "colorbar": {
             "outlinewidth": 0,
             "ticks": ""
            },
            "colorscale": [
             [
              0,
              "#0d0887"
             ],
             [
              0.1111111111111111,
              "#46039f"
             ],
             [
              0.2222222222222222,
              "#7201a8"
             ],
             [
              0.3333333333333333,
              "#9c179e"
             ],
             [
              0.4444444444444444,
              "#bd3786"
             ],
             [
              0.5555555555555556,
              "#d8576b"
             ],
             [
              0.6666666666666666,
              "#ed7953"
             ],
             [
              0.7777777777777778,
              "#fb9f3a"
             ],
             [
              0.8888888888888888,
              "#fdca26"
             ],
             [
              1,
              "#f0f921"
             ]
            ],
            "type": "histogram2d"
           }
          ],
          "histogram2dcontour": [
           {
            "colorbar": {
             "outlinewidth": 0,
             "ticks": ""
            },
            "colorscale": [
             [
              0,
              "#0d0887"
             ],
             [
              0.1111111111111111,
              "#46039f"
             ],
             [
              0.2222222222222222,
              "#7201a8"
             ],
             [
              0.3333333333333333,
              "#9c179e"
             ],
             [
              0.4444444444444444,
              "#bd3786"
             ],
             [
              0.5555555555555556,
              "#d8576b"
             ],
             [
              0.6666666666666666,
              "#ed7953"
             ],
             [
              0.7777777777777778,
              "#fb9f3a"
             ],
             [
              0.8888888888888888,
              "#fdca26"
             ],
             [
              1,
              "#f0f921"
             ]
            ],
            "type": "histogram2dcontour"
           }
          ],
          "mesh3d": [
           {
            "colorbar": {
             "outlinewidth": 0,
             "ticks": ""
            },
            "type": "mesh3d"
           }
          ],
          "parcoords": [
           {
            "line": {
             "colorbar": {
              "outlinewidth": 0,
              "ticks": ""
             }
            },
            "type": "parcoords"
           }
          ],
          "pie": [
           {
            "automargin": true,
            "type": "pie"
           }
          ],
          "scatter": [
           {
            "marker": {
             "colorbar": {
              "outlinewidth": 0,
              "ticks": ""
             }
            },
            "type": "scatter"
           }
          ],
          "scatter3d": [
           {
            "line": {
             "colorbar": {
              "outlinewidth": 0,
              "ticks": ""
             }
            },
            "marker": {
             "colorbar": {
              "outlinewidth": 0,
              "ticks": ""
             }
            },
            "type": "scatter3d"
           }
          ],
          "scattercarpet": [
           {
            "marker": {
             "colorbar": {
              "outlinewidth": 0,
              "ticks": ""
             }
            },
            "type": "scattercarpet"
           }
          ],
          "scattergeo": [
           {
            "marker": {
             "colorbar": {
              "outlinewidth": 0,
              "ticks": ""
             }
            },
            "type": "scattergeo"
           }
          ],
          "scattergl": [
           {
            "marker": {
             "colorbar": {
              "outlinewidth": 0,
              "ticks": ""
             }
            },
            "type": "scattergl"
           }
          ],
          "scattermapbox": [
           {
            "marker": {
             "colorbar": {
              "outlinewidth": 0,
              "ticks": ""
             }
            },
            "type": "scattermapbox"
           }
          ],
          "scatterpolar": [
           {
            "marker": {
             "colorbar": {
              "outlinewidth": 0,
              "ticks": ""
             }
            },
            "type": "scatterpolar"
           }
          ],
          "scatterpolargl": [
           {
            "marker": {
             "colorbar": {
              "outlinewidth": 0,
              "ticks": ""
             }
            },
            "type": "scatterpolargl"
           }
          ],
          "scatterternary": [
           {
            "marker": {
             "colorbar": {
              "outlinewidth": 0,
              "ticks": ""
             }
            },
            "type": "scatterternary"
           }
          ],
          "surface": [
           {
            "colorbar": {
             "outlinewidth": 0,
             "ticks": ""
            },
            "colorscale": [
             [
              0,
              "#0d0887"
             ],
             [
              0.1111111111111111,
              "#46039f"
             ],
             [
              0.2222222222222222,
              "#7201a8"
             ],
             [
              0.3333333333333333,
              "#9c179e"
             ],
             [
              0.4444444444444444,
              "#bd3786"
             ],
             [
              0.5555555555555556,
              "#d8576b"
             ],
             [
              0.6666666666666666,
              "#ed7953"
             ],
             [
              0.7777777777777778,
              "#fb9f3a"
             ],
             [
              0.8888888888888888,
              "#fdca26"
             ],
             [
              1,
              "#f0f921"
             ]
            ],
            "type": "surface"
           }
          ],
          "table": [
           {
            "cells": {
             "fill": {
              "color": "#EBF0F8"
             },
             "line": {
              "color": "white"
             }
            },
            "header": {
             "fill": {
              "color": "#C8D4E3"
             },
             "line": {
              "color": "white"
             }
            },
            "type": "table"
           }
          ]
         },
         "layout": {
          "annotationdefaults": {
           "arrowcolor": "#2a3f5f",
           "arrowhead": 0,
           "arrowwidth": 1
          },
          "autotypenumbers": "strict",
          "coloraxis": {
           "colorbar": {
            "outlinewidth": 0,
            "ticks": ""
           }
          },
          "colorscale": {
           "diverging": [
            [
             0,
             "#8e0152"
            ],
            [
             0.1,
             "#c51b7d"
            ],
            [
             0.2,
             "#de77ae"
            ],
            [
             0.3,
             "#f1b6da"
            ],
            [
             0.4,
             "#fde0ef"
            ],
            [
             0.5,
             "#f7f7f7"
            ],
            [
             0.6,
             "#e6f5d0"
            ],
            [
             0.7,
             "#b8e186"
            ],
            [
             0.8,
             "#7fbc41"
            ],
            [
             0.9,
             "#4d9221"
            ],
            [
             1,
             "#276419"
            ]
           ],
           "sequential": [
            [
             0,
             "#0d0887"
            ],
            [
             0.1111111111111111,
             "#46039f"
            ],
            [
             0.2222222222222222,
             "#7201a8"
            ],
            [
             0.3333333333333333,
             "#9c179e"
            ],
            [
             0.4444444444444444,
             "#bd3786"
            ],
            [
             0.5555555555555556,
             "#d8576b"
            ],
            [
             0.6666666666666666,
             "#ed7953"
            ],
            [
             0.7777777777777778,
             "#fb9f3a"
            ],
            [
             0.8888888888888888,
             "#fdca26"
            ],
            [
             1,
             "#f0f921"
            ]
           ],
           "sequentialminus": [
            [
             0,
             "#0d0887"
            ],
            [
             0.1111111111111111,
             "#46039f"
            ],
            [
             0.2222222222222222,
             "#7201a8"
            ],
            [
             0.3333333333333333,
             "#9c179e"
            ],
            [
             0.4444444444444444,
             "#bd3786"
            ],
            [
             0.5555555555555556,
             "#d8576b"
            ],
            [
             0.6666666666666666,
             "#ed7953"
            ],
            [
             0.7777777777777778,
             "#fb9f3a"
            ],
            [
             0.8888888888888888,
             "#fdca26"
            ],
            [
             1,
             "#f0f921"
            ]
           ]
          },
          "colorway": [
           "#636efa",
           "#EF553B",
           "#00cc96",
           "#ab63fa",
           "#FFA15A",
           "#19d3f3",
           "#FF6692",
           "#B6E880",
           "#FF97FF",
           "#FECB52"
          ],
          "font": {
           "color": "#2a3f5f"
          },
          "geo": {
           "bgcolor": "white",
           "lakecolor": "white",
           "landcolor": "#E5ECF6",
           "showlakes": true,
           "showland": true,
           "subunitcolor": "white"
          },
          "hoverlabel": {
           "align": "left"
          },
          "hovermode": "closest",
          "mapbox": {
           "style": "light"
          },
          "paper_bgcolor": "white",
          "plot_bgcolor": "#E5ECF6",
          "polar": {
           "angularaxis": {
            "gridcolor": "white",
            "linecolor": "white",
            "ticks": ""
           },
           "bgcolor": "#E5ECF6",
           "radialaxis": {
            "gridcolor": "white",
            "linecolor": "white",
            "ticks": ""
           }
          },
          "scene": {
           "xaxis": {
            "backgroundcolor": "#E5ECF6",
            "gridcolor": "white",
            "gridwidth": 2,
            "linecolor": "white",
            "showbackground": true,
            "ticks": "",
            "zerolinecolor": "white"
           },
           "yaxis": {
            "backgroundcolor": "#E5ECF6",
            "gridcolor": "white",
            "gridwidth": 2,
            "linecolor": "white",
            "showbackground": true,
            "ticks": "",
            "zerolinecolor": "white"
           },
           "zaxis": {
            "backgroundcolor": "#E5ECF6",
            "gridcolor": "white",
            "gridwidth": 2,
            "linecolor": "white",
            "showbackground": true,
            "ticks": "",
            "zerolinecolor": "white"
           }
          },
          "shapedefaults": {
           "line": {
            "color": "#2a3f5f"
           }
          },
          "ternary": {
           "aaxis": {
            "gridcolor": "white",
            "linecolor": "white",
            "ticks": ""
           },
           "baxis": {
            "gridcolor": "white",
            "linecolor": "white",
            "ticks": ""
           },
           "bgcolor": "#E5ECF6",
           "caxis": {
            "gridcolor": "white",
            "linecolor": "white",
            "ticks": ""
           }
          },
          "title": {
           "x": 0.05
          },
          "xaxis": {
           "automargin": true,
           "gridcolor": "white",
           "linecolor": "white",
           "ticks": "",
           "title": {
            "standoff": 15
           },
           "zerolinecolor": "white",
           "zerolinewidth": 2
          },
          "yaxis": {
           "automargin": true,
           "gridcolor": "white",
           "linecolor": "white",
           "ticks": "",
           "title": {
            "standoff": 15
           },
           "zerolinecolor": "white",
           "zerolinewidth": 2
          }
         }
        },
        "title": {
         "text": "Acceptance/rejection of coupon based on time of the day with partner"
        },
        "xaxis": {
         "anchor": "y",
         "domain": [
          0,
          1
         ],
         "title": {
          "text": "time"
         }
        },
        "yaxis": {
         "anchor": "x",
         "domain": [
          0,
          1
         ],
         "title": {
          "text": "count"
         }
        }
       }
      },
      "text/html": [
       "<div>                            <div id=\"09fe229e-23df-4555-85d4-ea3eb1cb24c8\" class=\"plotly-graph-div\" style=\"height:525px; width:100%;\"></div>            <script type=\"text/javascript\">                require([\"plotly\"], function(Plotly) {                    window.PLOTLYENV=window.PLOTLYENV || {};                                    if (document.getElementById(\"09fe229e-23df-4555-85d4-ea3eb1cb24c8\")) {                    Plotly.newPlot(                        \"09fe229e-23df-4555-85d4-ea3eb1cb24c8\",                        [{\"alignmentgroup\":\"True\",\"bingroup\":\"x\",\"hovertemplate\":\"Y=1<br>time=%{x}<br>count=%{y}<extra></extra>\",\"legendgroup\":\"1\",\"marker\":{\"color\":\"#d62728\",\"pattern\":{\"shape\":\"\"}},\"name\":\"1\",\"offsetgroup\":\"1\",\"orientation\":\"v\",\"showlegend\":true,\"x\":[\"10AM\",\"10AM\",\"10AM\",\"10AM\",\"10AM\",\"10AM\",\"10AM\",\"10AM\",\"10AM\",\"10AM\",\"10AM\",\"10AM\",\"10AM\",\"10AM\",\"10AM\",\"10AM\",\"10AM\",\"10AM\",\"10AM\",\"10AM\",\"10AM\",\"10AM\",\"10AM\",\"10AM\",\"10AM\",\"10AM\",\"10AM\",\"10AM\",\"10AM\",\"10AM\",\"10AM\",\"10AM\",\"10AM\",\"10AM\",\"10AM\",\"10AM\",\"10AM\",\"10AM\",\"10AM\",\"10AM\",\"10AM\",\"10AM\",\"10AM\",\"10AM\",\"10AM\",\"10AM\",\"10AM\",\"10AM\",\"10AM\",\"10AM\",\"10AM\",\"10AM\",\"10AM\",\"10AM\",\"2PM\",\"10AM\",\"10AM\",\"10AM\",\"2PM\",\"10AM\",\"2PM\",\"10AM\",\"10AM\",\"2PM\",\"10AM\",\"10AM\",\"10AM\",\"2PM\",\"10AM\",\"10AM\",\"2PM\",\"10AM\",\"10AM\",\"10AM\",\"2PM\",\"10AM\",\"2PM\",\"10AM\",\"10AM\",\"2PM\",\"10AM\",\"10AM\",\"2PM\",\"10AM\",\"10AM\",\"2PM\",\"10AM\",\"10AM\",\"2PM\",\"10AM\",\"10AM\",\"2PM\",\"10AM\",\"10AM\",\"10AM\",\"10AM\",\"2PM\",\"10AM\",\"10AM\",\"2PM\",\"10AM\",\"10AM\",\"2PM\",\"10AM\",\"10AM\",\"2PM\",\"10AM\",\"10AM\",\"2PM\",\"10AM\",\"10AM\",\"2PM\",\"10AM\",\"10AM\",\"2PM\",\"10AM\",\"10AM\",\"2PM\",\"10AM\",\"10AM\",\"2PM\",\"10AM\",\"2PM\",\"6PM\",\"2PM\",\"6PM\",\"2PM\",\"6PM\",\"2PM\",\"6PM\",\"2PM\",\"6PM\",\"2PM\",\"6PM\",\"6PM\",\"2PM\",\"6PM\",\"6PM\",\"2PM\",\"6PM\",\"2PM\",\"6PM\",\"2PM\",\"6PM\",\"6PM\",\"6PM\",\"2PM\",\"2PM\",\"2PM\",\"6PM\",\"6PM\",\"6PM\",\"6PM\",\"6PM\",\"6PM\",\"6PM\",\"6PM\",\"6PM\",\"6PM\",\"6PM\",\"6PM\",\"6PM\",\"6PM\",\"6PM\",\"6PM\"],\"xaxis\":\"x\",\"yaxis\":\"y\",\"type\":\"histogram\"},{\"alignmentgroup\":\"True\",\"bingroup\":\"x\",\"hovertemplate\":\"Y=0<br>time=%{x}<br>count=%{y}<extra></extra>\",\"legendgroup\":\"0\",\"marker\":{\"color\":\"#1f77b4\",\"pattern\":{\"shape\":\"\"}},\"name\":\"0\",\"offsetgroup\":\"0\",\"orientation\":\"v\",\"showlegend\":true,\"x\":[\"10AM\",\"10AM\",\"10AM\",\"10AM\",\"10AM\",\"10AM\",\"10AM\",\"10AM\",\"10AM\",\"10AM\",\"10AM\",\"10AM\",\"10AM\",\"10AM\",\"10AM\",\"10AM\",\"10AM\",\"10AM\",\"10AM\",\"10AM\",\"10AM\",\"10AM\",\"10AM\",\"10AM\",\"10AM\",\"10AM\",\"10AM\",\"2PM\",\"10AM\",\"10AM\",\"2PM\",\"10AM\",\"10AM\",\"2PM\",\"10AM\",\"2PM\",\"2PM\",\"10AM\",\"10AM\",\"2PM\",\"10AM\",\"10AM\",\"10AM\",\"10AM\",\"2PM\",\"10AM\",\"10AM\",\"2PM\",\"2PM\",\"10AM\",\"10AM\",\"10AM\",\"10AM\",\"2PM\",\"10AM\",\"10AM\",\"2PM\",\"10AM\",\"10AM\",\"2PM\",\"10AM\",\"10AM\",\"2PM\",\"2PM\",\"10AM\",\"10AM\",\"2PM\",\"10AM\",\"10AM\",\"2PM\",\"10AM\",\"10AM\",\"2PM\",\"10AM\",\"10AM\",\"2PM\",\"10AM\",\"10AM\",\"2PM\",\"10AM\",\"10AM\",\"2PM\",\"10AM\",\"10AM\",\"2PM\",\"2PM\",\"6PM\",\"2PM\",\"6PM\",\"2PM\",\"6PM\",\"2PM\",\"6PM\",\"2PM\",\"6PM\",\"2PM\",\"6PM\",\"2PM\",\"6PM\",\"2PM\",\"6PM\",\"2PM\",\"2PM\",\"6PM\",\"6PM\",\"2PM\",\"2PM\",\"2PM\",\"6PM\",\"2PM\",\"6PM\",\"6PM\",\"2PM\",\"6PM\",\"2PM\",\"6PM\",\"6PM\",\"6PM\",\"6PM\",\"6PM\",\"6PM\",\"6PM\",\"6PM\",\"6PM\",\"6PM\",\"6PM\"],\"xaxis\":\"x\",\"yaxis\":\"y\",\"type\":\"histogram\"}],                        {\"template\":{\"data\":{\"bar\":[{\"error_x\":{\"color\":\"#2a3f5f\"},\"error_y\":{\"color\":\"#2a3f5f\"},\"marker\":{\"line\":{\"color\":\"#E5ECF6\",\"width\":0.5},\"pattern\":{\"fillmode\":\"overlay\",\"size\":10,\"solidity\":0.2}},\"type\":\"bar\"}],\"barpolar\":[{\"marker\":{\"line\":{\"color\":\"#E5ECF6\",\"width\":0.5},\"pattern\":{\"fillmode\":\"overlay\",\"size\":10,\"solidity\":0.2}},\"type\":\"barpolar\"}],\"carpet\":[{\"aaxis\":{\"endlinecolor\":\"#2a3f5f\",\"gridcolor\":\"white\",\"linecolor\":\"white\",\"minorgridcolor\":\"white\",\"startlinecolor\":\"#2a3f5f\"},\"baxis\":{\"endlinecolor\":\"#2a3f5f\",\"gridcolor\":\"white\",\"linecolor\":\"white\",\"minorgridcolor\":\"white\",\"startlinecolor\":\"#2a3f5f\"},\"type\":\"carpet\"}],\"choropleth\":[{\"colorbar\":{\"outlinewidth\":0,\"ticks\":\"\"},\"type\":\"choropleth\"}],\"contour\":[{\"colorbar\":{\"outlinewidth\":0,\"ticks\":\"\"},\"colorscale\":[[0.0,\"#0d0887\"],[0.1111111111111111,\"#46039f\"],[0.2222222222222222,\"#7201a8\"],[0.3333333333333333,\"#9c179e\"],[0.4444444444444444,\"#bd3786\"],[0.5555555555555556,\"#d8576b\"],[0.6666666666666666,\"#ed7953\"],[0.7777777777777778,\"#fb9f3a\"],[0.8888888888888888,\"#fdca26\"],[1.0,\"#f0f921\"]],\"type\":\"contour\"}],\"contourcarpet\":[{\"colorbar\":{\"outlinewidth\":0,\"ticks\":\"\"},\"type\":\"contourcarpet\"}],\"heatmap\":[{\"colorbar\":{\"outlinewidth\":0,\"ticks\":\"\"},\"colorscale\":[[0.0,\"#0d0887\"],[0.1111111111111111,\"#46039f\"],[0.2222222222222222,\"#7201a8\"],[0.3333333333333333,\"#9c179e\"],[0.4444444444444444,\"#bd3786\"],[0.5555555555555556,\"#d8576b\"],[0.6666666666666666,\"#ed7953\"],[0.7777777777777778,\"#fb9f3a\"],[0.8888888888888888,\"#fdca26\"],[1.0,\"#f0f921\"]],\"type\":\"heatmap\"}],\"heatmapgl\":[{\"colorbar\":{\"outlinewidth\":0,\"ticks\":\"\"},\"colorscale\":[[0.0,\"#0d0887\"],[0.1111111111111111,\"#46039f\"],[0.2222222222222222,\"#7201a8\"],[0.3333333333333333,\"#9c179e\"],[0.4444444444444444,\"#bd3786\"],[0.5555555555555556,\"#d8576b\"],[0.6666666666666666,\"#ed7953\"],[0.7777777777777778,\"#fb9f3a\"],[0.8888888888888888,\"#fdca26\"],[1.0,\"#f0f921\"]],\"type\":\"heatmapgl\"}],\"histogram\":[{\"marker\":{\"pattern\":{\"fillmode\":\"overlay\",\"size\":10,\"solidity\":0.2}},\"type\":\"histogram\"}],\"histogram2d\":[{\"colorbar\":{\"outlinewidth\":0,\"ticks\":\"\"},\"colorscale\":[[0.0,\"#0d0887\"],[0.1111111111111111,\"#46039f\"],[0.2222222222222222,\"#7201a8\"],[0.3333333333333333,\"#9c179e\"],[0.4444444444444444,\"#bd3786\"],[0.5555555555555556,\"#d8576b\"],[0.6666666666666666,\"#ed7953\"],[0.7777777777777778,\"#fb9f3a\"],[0.8888888888888888,\"#fdca26\"],[1.0,\"#f0f921\"]],\"type\":\"histogram2d\"}],\"histogram2dcontour\":[{\"colorbar\":{\"outlinewidth\":0,\"ticks\":\"\"},\"colorscale\":[[0.0,\"#0d0887\"],[0.1111111111111111,\"#46039f\"],[0.2222222222222222,\"#7201a8\"],[0.3333333333333333,\"#9c179e\"],[0.4444444444444444,\"#bd3786\"],[0.5555555555555556,\"#d8576b\"],[0.6666666666666666,\"#ed7953\"],[0.7777777777777778,\"#fb9f3a\"],[0.8888888888888888,\"#fdca26\"],[1.0,\"#f0f921\"]],\"type\":\"histogram2dcontour\"}],\"mesh3d\":[{\"colorbar\":{\"outlinewidth\":0,\"ticks\":\"\"},\"type\":\"mesh3d\"}],\"parcoords\":[{\"line\":{\"colorbar\":{\"outlinewidth\":0,\"ticks\":\"\"}},\"type\":\"parcoords\"}],\"pie\":[{\"automargin\":true,\"type\":\"pie\"}],\"scatter\":[{\"marker\":{\"colorbar\":{\"outlinewidth\":0,\"ticks\":\"\"}},\"type\":\"scatter\"}],\"scatter3d\":[{\"line\":{\"colorbar\":{\"outlinewidth\":0,\"ticks\":\"\"}},\"marker\":{\"colorbar\":{\"outlinewidth\":0,\"ticks\":\"\"}},\"type\":\"scatter3d\"}],\"scattercarpet\":[{\"marker\":{\"colorbar\":{\"outlinewidth\":0,\"ticks\":\"\"}},\"type\":\"scattercarpet\"}],\"scattergeo\":[{\"marker\":{\"colorbar\":{\"outlinewidth\":0,\"ticks\":\"\"}},\"type\":\"scattergeo\"}],\"scattergl\":[{\"marker\":{\"colorbar\":{\"outlinewidth\":0,\"ticks\":\"\"}},\"type\":\"scattergl\"}],\"scattermapbox\":[{\"marker\":{\"colorbar\":{\"outlinewidth\":0,\"ticks\":\"\"}},\"type\":\"scattermapbox\"}],\"scatterpolar\":[{\"marker\":{\"colorbar\":{\"outlinewidth\":0,\"ticks\":\"\"}},\"type\":\"scatterpolar\"}],\"scatterpolargl\":[{\"marker\":{\"colorbar\":{\"outlinewidth\":0,\"ticks\":\"\"}},\"type\":\"scatterpolargl\"}],\"scatterternary\":[{\"marker\":{\"colorbar\":{\"outlinewidth\":0,\"ticks\":\"\"}},\"type\":\"scatterternary\"}],\"surface\":[{\"colorbar\":{\"outlinewidth\":0,\"ticks\":\"\"},\"colorscale\":[[0.0,\"#0d0887\"],[0.1111111111111111,\"#46039f\"],[0.2222222222222222,\"#7201a8\"],[0.3333333333333333,\"#9c179e\"],[0.4444444444444444,\"#bd3786\"],[0.5555555555555556,\"#d8576b\"],[0.6666666666666666,\"#ed7953\"],[0.7777777777777778,\"#fb9f3a\"],[0.8888888888888888,\"#fdca26\"],[1.0,\"#f0f921\"]],\"type\":\"surface\"}],\"table\":[{\"cells\":{\"fill\":{\"color\":\"#EBF0F8\"},\"line\":{\"color\":\"white\"}},\"header\":{\"fill\":{\"color\":\"#C8D4E3\"},\"line\":{\"color\":\"white\"}},\"type\":\"table\"}]},\"layout\":{\"annotationdefaults\":{\"arrowcolor\":\"#2a3f5f\",\"arrowhead\":0,\"arrowwidth\":1},\"autotypenumbers\":\"strict\",\"coloraxis\":{\"colorbar\":{\"outlinewidth\":0,\"ticks\":\"\"}},\"colorscale\":{\"diverging\":[[0,\"#8e0152\"],[0.1,\"#c51b7d\"],[0.2,\"#de77ae\"],[0.3,\"#f1b6da\"],[0.4,\"#fde0ef\"],[0.5,\"#f7f7f7\"],[0.6,\"#e6f5d0\"],[0.7,\"#b8e186\"],[0.8,\"#7fbc41\"],[0.9,\"#4d9221\"],[1,\"#276419\"]],\"sequential\":[[0.0,\"#0d0887\"],[0.1111111111111111,\"#46039f\"],[0.2222222222222222,\"#7201a8\"],[0.3333333333333333,\"#9c179e\"],[0.4444444444444444,\"#bd3786\"],[0.5555555555555556,\"#d8576b\"],[0.6666666666666666,\"#ed7953\"],[0.7777777777777778,\"#fb9f3a\"],[0.8888888888888888,\"#fdca26\"],[1.0,\"#f0f921\"]],\"sequentialminus\":[[0.0,\"#0d0887\"],[0.1111111111111111,\"#46039f\"],[0.2222222222222222,\"#7201a8\"],[0.3333333333333333,\"#9c179e\"],[0.4444444444444444,\"#bd3786\"],[0.5555555555555556,\"#d8576b\"],[0.6666666666666666,\"#ed7953\"],[0.7777777777777778,\"#fb9f3a\"],[0.8888888888888888,\"#fdca26\"],[1.0,\"#f0f921\"]]},\"colorway\":[\"#636efa\",\"#EF553B\",\"#00cc96\",\"#ab63fa\",\"#FFA15A\",\"#19d3f3\",\"#FF6692\",\"#B6E880\",\"#FF97FF\",\"#FECB52\"],\"font\":{\"color\":\"#2a3f5f\"},\"geo\":{\"bgcolor\":\"white\",\"lakecolor\":\"white\",\"landcolor\":\"#E5ECF6\",\"showlakes\":true,\"showland\":true,\"subunitcolor\":\"white\"},\"hoverlabel\":{\"align\":\"left\"},\"hovermode\":\"closest\",\"mapbox\":{\"style\":\"light\"},\"paper_bgcolor\":\"white\",\"plot_bgcolor\":\"#E5ECF6\",\"polar\":{\"angularaxis\":{\"gridcolor\":\"white\",\"linecolor\":\"white\",\"ticks\":\"\"},\"bgcolor\":\"#E5ECF6\",\"radialaxis\":{\"gridcolor\":\"white\",\"linecolor\":\"white\",\"ticks\":\"\"}},\"scene\":{\"xaxis\":{\"backgroundcolor\":\"#E5ECF6\",\"gridcolor\":\"white\",\"gridwidth\":2,\"linecolor\":\"white\",\"showbackground\":true,\"ticks\":\"\",\"zerolinecolor\":\"white\"},\"yaxis\":{\"backgroundcolor\":\"#E5ECF6\",\"gridcolor\":\"white\",\"gridwidth\":2,\"linecolor\":\"white\",\"showbackground\":true,\"ticks\":\"\",\"zerolinecolor\":\"white\"},\"zaxis\":{\"backgroundcolor\":\"#E5ECF6\",\"gridcolor\":\"white\",\"gridwidth\":2,\"linecolor\":\"white\",\"showbackground\":true,\"ticks\":\"\",\"zerolinecolor\":\"white\"}},\"shapedefaults\":{\"line\":{\"color\":\"#2a3f5f\"}},\"ternary\":{\"aaxis\":{\"gridcolor\":\"white\",\"linecolor\":\"white\",\"ticks\":\"\"},\"baxis\":{\"gridcolor\":\"white\",\"linecolor\":\"white\",\"ticks\":\"\"},\"bgcolor\":\"#E5ECF6\",\"caxis\":{\"gridcolor\":\"white\",\"linecolor\":\"white\",\"ticks\":\"\"}},\"title\":{\"x\":0.05},\"xaxis\":{\"automargin\":true,\"gridcolor\":\"white\",\"linecolor\":\"white\",\"ticks\":\"\",\"title\":{\"standoff\":15},\"zerolinecolor\":\"white\",\"zerolinewidth\":2},\"yaxis\":{\"automargin\":true,\"gridcolor\":\"white\",\"linecolor\":\"white\",\"ticks\":\"\",\"title\":{\"standoff\":15},\"zerolinecolor\":\"white\",\"zerolinewidth\":2}}},\"xaxis\":{\"anchor\":\"y\",\"domain\":[0.0,1.0],\"title\":{\"text\":\"time\"}},\"yaxis\":{\"anchor\":\"x\",\"domain\":[0.0,1.0],\"title\":{\"text\":\"count\"}},\"legend\":{\"title\":{\"text\":\"Y\"},\"tracegroupgap\":0},\"title\":{\"text\":\"Acceptance/rejection of coupon based on time of the day with partner\"},\"barmode\":\"group\"},                        {\"responsive\": true}                    ).then(function(){\n",
       "                            \n",
       "var gd = document.getElementById('09fe229e-23df-4555-85d4-ea3eb1cb24c8');\n",
       "var x = new MutationObserver(function (mutations, observer) {{\n",
       "        var display = window.getComputedStyle(gd).display;\n",
       "        if (!display || display === 'none') {{\n",
       "            console.log([gd, 'removed!']);\n",
       "            Plotly.purge(gd);\n",
       "            observer.disconnect();\n",
       "        }}\n",
       "}});\n",
       "\n",
       "// Listen for the removal of the full notebook cells\n",
       "var notebookContainer = gd.closest('#notebook-container');\n",
       "if (notebookContainer) {{\n",
       "    x.observe(notebookContainer, {childList: true});\n",
       "}}\n",
       "\n",
       "// Listen for the clearing of the current output cell\n",
       "var outputEl = gd.closest('.output');\n",
       "if (outputEl) {{\n",
       "    x.observe(outputEl, {childList: true});\n",
       "}}\n",
       "\n",
       "                        })                };                });            </script>        </div>"
      ]
     },
     "metadata": {},
     "output_type": "display_data"
    }
   ],
   "source": [
    "coffee_house_alone_df = coffee_house_df[coffee_house_df['passanger'] == 'Partner']\n",
    "px.histogram(coffee_house_alone_df, x='time', color='Y', barmode='group', title=\"Acceptance/rejection of coupon based on time of the day with partner\",\n",
    "            color_discrete_map={0: '#1f77b4', 1:'#d62728'})"
   ]
  },
  {
   "cell_type": "markdown",
   "metadata": {},
   "source": [
    "#### Now let's take a look at the income"
   ]
  },
  {
   "cell_type": "code",
   "execution_count": 144,
   "metadata": {},
   "outputs": [
    {
     "data": {
      "text/plain": [
       "<AxesSubplot:>"
      ]
     },
     "execution_count": 144,
     "metadata": {},
     "output_type": "execute_result"
    },
    {
     "data": {
      "image/png": "[encoded data removed]",
      "text/plain": [
       "<Figure size 1008x360 with 1 Axes>"
      ]
     },
     "metadata": {
      "needs_background": "light"
     },
     "output_type": "display_data"
    }
   ],
   "source": [
    "data['income'].value_counts().sort_values(ascending=True).plot.barh(figsize=(14, 5))"
   ]
  },
  {
   "cell_type": "code",
   "execution_count": 157,
   "metadata": {},
   "outputs": [
    {
     "data": {
      "text/html": [
       "<div>\n",
       "<style scoped>\n",
       "    .dataframe tbody tr th:only-of-type {\n",
       "        vertical-align: middle;\n",
       "    }\n",
       "\n",
       "    .dataframe tbody tr th {\n",
       "        vertical-align: top;\n",
       "    }\n",
       "\n",
       "    .dataframe thead th {\n",
       "        text-align: right;\n",
       "    }\n",
       "</style>\n",
       "<table border=\"1\" class=\"dataframe\">\n",
       "  <thead>\n",
       "    <tr style=\"text-align: right;\">\n",
       "      <th></th>\n",
       "      <th>Y</th>\n",
       "    </tr>\n",
       "    <tr>\n",
       "      <th>income</th>\n",
       "      <th></th>\n",
       "    </tr>\n",
       "  </thead>\n",
       "  <tbody>\n",
       "    <tr>\n",
       "      <th>$100000 or More</th>\n",
       "      <td>0.578014</td>\n",
       "    </tr>\n",
       "    <tr>\n",
       "      <th>$12500 - $24999</th>\n",
       "      <td>0.577546</td>\n",
       "    </tr>\n",
       "    <tr>\n",
       "      <th>$25000 - $37499</th>\n",
       "      <td>0.597186</td>\n",
       "    </tr>\n",
       "    <tr>\n",
       "      <th>$37500 - $49999</th>\n",
       "      <td>0.570752</td>\n",
       "    </tr>\n",
       "    <tr>\n",
       "      <th>$50000 - $62499</th>\n",
       "      <td>0.589776</td>\n",
       "    </tr>\n",
       "    <tr>\n",
       "      <th>$62500 - $74999</th>\n",
       "      <td>0.527381</td>\n",
       "    </tr>\n",
       "    <tr>\n",
       "      <th>$75000 - $87499</th>\n",
       "      <td>0.492629</td>\n",
       "    </tr>\n",
       "    <tr>\n",
       "      <th>$87500 - $99999</th>\n",
       "      <td>0.523227</td>\n",
       "    </tr>\n",
       "    <tr>\n",
       "      <th>Less than $12500</th>\n",
       "      <td>0.587771</td>\n",
       "    </tr>\n",
       "  </tbody>\n",
       "</table>\n",
       "</div>"
      ],
      "text/plain": [
       "                         Y\n",
       "income                    \n",
       "$100000 or More   0.578014\n",
       "$12500 - $24999   0.577546\n",
       "$25000 - $37499   0.597186\n",
       "$37500 - $49999   0.570752\n",
       "$50000 - $62499   0.589776\n",
       "$62500 - $74999   0.527381\n",
       "$75000 - $87499   0.492629\n",
       "$87500 - $99999   0.523227\n",
       "Less than $12500  0.587771"
      ]
     },
     "execution_count": 157,
     "metadata": {},
     "output_type": "execute_result"
    }
   ],
   "source": [
    "acc_rate_income = data.groupby('income')[['Y']].sum() / data.groupby('income')[['Y']].count()\n",
    "acc_rate_income"
   ]
  },
  {
   "cell_type": "markdown",
   "metadata": {},
   "source": [
    "Among all the income groups, the people who had income between 75k to 87.5k used the accepted fewer number of coupons. Interesting enough that the people with the lowest amount of income and the ones with the highest amount of income, have almost equal acceptance rate in overall coupons."
   ]
  },
  {
   "cell_type": "code",
   "execution_count": 186,
   "metadata": {},
   "outputs": [
    {
     "data": {
      "application/vnd.plotly.v1+json": {
       "config": {
        "plotlyServerURL": "https://plot.ly"
       },
       "data": [
        {
         "alignmentgroup": "True",
         "hovertemplate": "income=$100000 or More<br>Acceptance Rate=%{x}<br>index=%{y}<extra></extra>",
         "legendgroup": "$100000 or More",
         "marker": {
          "color": "#636efa",
          "pattern": {
           "shape": ""
          }
         },
         "name": "$100000 or More",
         "offsetgroup": "$100000 or More",
         "orientation": "h",
         "showlegend": true,
         "textposition": "auto",
         "type": "bar",
         "x": [
          0.5780141843971631
         ],
         "xaxis": "x",
         "y": [
          0
         ],
         "yaxis": "y"
        },
        {
         "alignmentgroup": "True",
         "hovertemplate": "income=$12500 - $24999<br>Acceptance Rate=%{x}<br>index=%{y}<extra></extra>",
         "legendgroup": "$12500 - $24999",
         "marker": {
          "color": "#EF553B",
          "pattern": {
           "shape": ""
          }
         },
         "name": "$12500 - $24999",
         "offsetgroup": "$12500 - $24999",
         "orientation": "h",
         "showlegend": true,
         "textposition": "auto",
         "type": "bar",
         "x": [
          0.5775462962962963
         ],
         "xaxis": "x",
         "y": [
          1
         ],
         "yaxis": "y"
        },
        {
         "alignmentgroup": "True",
         "hovertemplate": "income=$25000 - $37499<br>Acceptance Rate=%{x}<br>index=%{y}<extra></extra>",
         "legendgroup": "$25000 - $37499",
         "marker": {
          "color": "#00cc96",
          "pattern": {
           "shape": ""
          }
         },
         "name": "$25000 - $37499",
         "offsetgroup": "$25000 - $37499",
         "orientation": "h",
         "showlegend": true,
         "textposition": "auto",
         "type": "bar",
         "x": [
          0.597186034392913
         ],
         "xaxis": "x",
         "y": [
          2
         ],
         "yaxis": "y"
        },
        {
         "alignmentgroup": "True",
         "hovertemplate": "income=$37500 - $49999<br>Acceptance Rate=%{x}<br>index=%{y}<extra></extra>",
         "legendgroup": "$37500 - $49999",
         "marker": {
          "color": "#ab63fa",
          "pattern": {
           "shape": ""
          }
         },
         "name": "$37500 - $49999",
         "offsetgroup": "$37500 - $49999",
         "orientation": "h",
         "showlegend": true,
         "textposition": "auto",
         "type": "bar",
         "x": [
          0.5707519242155121
         ],
         "xaxis": "x",
         "y": [
          3
         ],
         "yaxis": "y"
        },
        {
         "alignmentgroup": "True",
         "hovertemplate": "income=$50000 - $62499<br>Acceptance Rate=%{x}<br>index=%{y}<extra></extra>",
         "legendgroup": "$50000 - $62499",
         "marker": {
          "color": "#FFA15A",
          "pattern": {
           "shape": ""
          }
         },
         "name": "$50000 - $62499",
         "offsetgroup": "$50000 - $62499",
         "orientation": "h",
         "showlegend": true,
         "textposition": "auto",
         "type": "bar",
         "x": [
          0.5897763578274761
         ],
         "xaxis": "x",
         "y": [
          4
         ],
         "yaxis": "y"
        },
        {
         "alignmentgroup": "True",
         "hovertemplate": "income=$62500 - $74999<br>Acceptance Rate=%{x}<br>index=%{y}<extra></extra>",
         "legendgroup": "$62500 - $74999",
         "marker": {
          "color": "#19d3f3",
          "pattern": {
           "shape": ""
          }
         },
         "name": "$62500 - $74999",
         "offsetgroup": "$62500 - $74999",
         "orientation": "h",
         "showlegend": true,
         "textposition": "auto",
         "type": "bar",
         "x": [
          0.5273809523809524
         ],
         "xaxis": "x",
         "y": [
          5
         ],
         "yaxis": "y"
        },
        {
         "alignmentgroup": "True",
         "hovertemplate": "income=$75000 - $87499<br>Acceptance Rate=%{x}<br>index=%{y}<extra></extra>",
         "legendgroup": "$75000 - $87499",
         "marker": {
          "color": "#FF6692",
          "pattern": {
           "shape": ""
          }
         },
         "name": "$75000 - $87499",
         "offsetgroup": "$75000 - $87499",
         "orientation": "h",
         "showlegend": true,
         "textposition": "auto",
         "type": "bar",
         "x": [
          0.4926289926289926
         ],
         "xaxis": "x",
         "y": [
          6
         ],
         "yaxis": "y"
        },
        {
         "alignmentgroup": "True",
         "hovertemplate": "income=$87500 - $99999<br>Acceptance Rate=%{x}<br>index=%{y}<extra></extra>",
         "legendgroup": "$87500 - $99999",
         "marker": {
          "color": "#B6E880",
          "pattern": {
           "shape": ""
          }
         },
         "name": "$87500 - $99999",
         "offsetgroup": "$87500 - $99999",
         "orientation": "h",
         "showlegend": true,
         "textposition": "auto",
         "type": "bar",
         "x": [
          0.5232273838630807
         ],
         "xaxis": "x",
         "y": [
          7
         ],
         "yaxis": "y"
        },
        {
         "alignmentgroup": "True",
         "hovertemplate": "income=Less than $12500<br>Acceptance Rate=%{x}<br>index=%{y}<extra></extra>",
         "legendgroup": "Less than $12500",
         "marker": {
          "color": "#FF97FF",
          "pattern": {
           "shape": ""
          }
         },
         "name": "Less than $12500",
         "offsetgroup": "Less than $12500",
         "orientation": "h",
         "showlegend": true,
         "textposition": "auto",
         "type": "bar",
         "x": [
          0.5877712031558185
         ],
         "xaxis": "x",
         "y": [
          8
         ],
         "yaxis": "y"
        }
       ],
       "layout": {
        "barmode": "relative",
        "legend": {
         "title": {
          "text": "income"
         },
         "tracegroupgap": 0
        },
        "template": {
         "data": {
          "bar": [
           {
            "error_x": {
             "color": "#2a3f5f"
            },
            "error_y": {
             "color": "#2a3f5f"
            },
            "marker": {
             "line": {
              "color": "#E5ECF6",
              "width": 0.5
             },
             "pattern": {
              "fillmode": "overlay",
              "size": 10,
              "solidity": 0.2
             }
            },
            "type": "bar"
           }
          ],
          "barpolar": [
           {
            "marker": {
             "line": {
              "color": "#E5ECF6",
              "width": 0.5
             },
             "pattern": {
              "fillmode": "overlay",
              "size": 10,
              "solidity": 0.2
             }
            },
            "type": "barpolar"
           }
          ],
          "carpet": [
           {
            "aaxis": {
             "endlinecolor": "#2a3f5f",
             "gridcolor": "white",
             "linecolor": "white",
             "minorgridcolor": "white",
             "startlinecolor": "#2a3f5f"
            },
            "baxis": {
             "endlinecolor": "#2a3f5f",
             "gridcolor": "white",
             "linecolor": "white",
             "minorgridcolor": "white",
             "startlinecolor": "#2a3f5f"
            },
            "type": "carpet"
           }
          ],
          "choropleth": [
           {
            "colorbar": {
             "outlinewidth": 0,
             "ticks": ""
            },
            "type": "choropleth"
           }
          ],
          "contour": [
           {
            "colorbar": {
             "outlinewidth": 0,
             "ticks": ""
            },
            "colorscale": [
             [
              0,
              "#0d0887"
             ],
             [
              0.1111111111111111,
              "#46039f"
             ],
             [
              0.2222222222222222,
              "#7201a8"
             ],
             [
              0.3333333333333333,
              "#9c179e"
             ],
             [
              0.4444444444444444,
              "#bd3786"
             ],
             [
              0.5555555555555556,
              "#d8576b"
             ],
             [
              0.6666666666666666,
              "#ed7953"
             ],
             [
              0.7777777777777778,
              "#fb9f3a"
             ],
             [
              0.8888888888888888,
              "#fdca26"
             ],
             [
              1,
              "#f0f921"
             ]
            ],
            "type": "contour"
           }
          ],
          "contourcarpet": [
           {
            "colorbar": {
             "outlinewidth": 0,
             "ticks": ""
            },
            "type": "contourcarpet"
           }
          ],
          "heatmap": [
           {
            "colorbar": {
             "outlinewidth": 0,
             "ticks": ""
            },
            "colorscale": [
             [
              0,
              "#0d0887"
             ],
             [
              0.1111111111111111,
              "#46039f"
             ],
             [
              0.2222222222222222,
              "#7201a8"
             ],
             [
              0.3333333333333333,
              "#9c179e"
             ],
             [
              0.4444444444444444,
              "#bd3786"
             ],
             [
              0.5555555555555556,
              "#d8576b"
             ],
             [
              0.6666666666666666,
              "#ed7953"
             ],
             [
              0.7777777777777778,
              "#fb9f3a"
             ],
             [
              0.8888888888888888,
              "#fdca26"
             ],
             [
              1,
              "#f0f921"
             ]
            ],
            "type": "heatmap"
           }
          ],
          "heatmapgl": [
           {
            "colorbar": {
             "outlinewidth": 0,
             "ticks": ""
            },
            "colorscale": [
             [
              0,
              "#0d0887"
             ],
             [
              0.1111111111111111,
              "#46039f"
             ],
             [
              0.2222222222222222,
              "#7201a8"
             ],
             [
              0.3333333333333333,
              "#9c179e"
             ],
             [
              0.4444444444444444,
              "#bd3786"
             ],
             [
              0.5555555555555556,
              "#d8576b"
             ],
             [
              0.6666666666666666,
              "#ed7953"
             ],
             [
              0.7777777777777778,
              "#fb9f3a"
             ],
             [
              0.8888888888888888,
              "#fdca26"
             ],
             [
              1,
              "#f0f921"
             ]
            ],
            "type": "heatmapgl"
           }
          ],
          "histogram": [
           {
            "marker": {
             "pattern": {
              "fillmode": "overlay",
              "size": 10,
              "solidity": 0.2
             }
            },
            "type": "histogram"
           }
          ],
          "histogram2d": [
           {
            "colorbar": {
             "outlinewidth": 0,
             "ticks": ""
            },
            "colorscale": [
             [
              0,
              "#0d0887"
             ],
             [
              0.1111111111111111,
              "#46039f"
             ],
             [
              0.2222222222222222,
              "#7201a8"
             ],
             [
              0.3333333333333333,
              "#9c179e"
             ],
             [
              0.4444444444444444,
              "#bd3786"
             ],
             [
              0.5555555555555556,
              "#d8576b"
             ],
             [
              0.6666666666666666,
              "#ed7953"
             ],
             [
              0.7777777777777778,
              "#fb9f3a"
             ],
             [
              0.8888888888888888,
              "#fdca26"
             ],
             [
              1,
              "#f0f921"
             ]
            ],
            "type": "histogram2d"
           }
          ],
          "histogram2dcontour": [
           {
            "colorbar": {
             "outlinewidth": 0,
             "ticks": ""
            },
            "colorscale": [
             [
              0,
              "#0d0887"
             ],
             [
              0.1111111111111111,
              "#46039f"
             ],
             [
              0.2222222222222222,
              "#7201a8"
             ],
             [
              0.3333333333333333,
              "#9c179e"
             ],
             [
              0.4444444444444444,
              "#bd3786"
             ],
             [
              0.5555555555555556,
              "#d8576b"
             ],
             [
              0.6666666666666666,
              "#ed7953"
             ],
             [
              0.7777777777777778,
              "#fb9f3a"
             ],
             [
              0.8888888888888888,
              "#fdca26"
             ],
             [
              1,
              "#f0f921"
             ]
            ],
            "type": "histogram2dcontour"
           }
          ],
          "mesh3d": [
           {
            "colorbar": {
             "outlinewidth": 0,
             "ticks": ""
            },
            "type": "mesh3d"
           }
          ],
          "parcoords": [
           {
            "line": {
             "colorbar": {
              "outlinewidth": 0,
              "ticks": ""
             }
            },
            "type": "parcoords"
           }
          ],
          "pie": [
           {
            "automargin": true,
            "type": "pie"
           }
          ],
          "scatter": [
           {
            "marker": {
             "colorbar": {
              "outlinewidth": 0,
              "ticks": ""
             }
            },
            "type": "scatter"
           }
          ],
          "scatter3d": [
           {
            "line": {
             "colorbar": {
              "outlinewidth": 0,
              "ticks": ""
             }
            },
            "marker": {
             "colorbar": {
              "outlinewidth": 0,
              "ticks": ""
             }
            },
            "type": "scatter3d"
           }
          ],
          "scattercarpet": [
           {
            "marker": {
             "colorbar": {
              "outlinewidth": 0,
              "ticks": ""
             }
            },
            "type": "scattercarpet"
           }
          ],
          "scattergeo": [
           {
            "marker": {
             "colorbar": {
              "outlinewidth": 0,
              "ticks": ""
             }
            },
            "type": "scattergeo"
           }
          ],
          "scattergl": [
           {
            "marker": {
             "colorbar": {
              "outlinewidth": 0,
              "ticks": ""
             }
            },
            "type": "scattergl"
           }
          ],
          "scattermapbox": [
           {
            "marker": {
             "colorbar": {
              "outlinewidth": 0,
              "ticks": ""
             }
            },
            "type": "scattermapbox"
           }
          ],
          "scatterpolar": [
           {
            "marker": {
             "colorbar": {
              "outlinewidth": 0,
              "ticks": ""
             }
            },
            "type": "scatterpolar"
           }
          ],
          "scatterpolargl": [
           {
            "marker": {
             "colorbar": {
              "outlinewidth": 0,
              "ticks": ""
             }
            },
            "type": "scatterpolargl"
           }
          ],
          "scatterternary": [
           {
            "marker": {
             "colorbar": {
              "outlinewidth": 0,
              "ticks": ""
             }
            },
            "type": "scatterternary"
           }
          ],
          "surface": [
           {
            "colorbar": {
             "outlinewidth": 0,
             "ticks": ""
            },
            "colorscale": [
             [
              0,
              "#0d0887"
             ],
             [
              0.1111111111111111,
              "#46039f"
             ],
             [
              0.2222222222222222,
              "#7201a8"
             ],
             [
              0.3333333333333333,
              "#9c179e"
             ],
             [
              0.4444444444444444,
              "#bd3786"
             ],
             [
              0.5555555555555556,
              "#d8576b"
             ],
             [
              0.6666666666666666,
              "#ed7953"
             ],
             [
              0.7777777777777778,
              "#fb9f3a"
             ],
             [
              0.8888888888888888,
              "#fdca26"
             ],
             [
              1,
              "#f0f921"
             ]
            ],
            "type": "surface"
           }
          ],
          "table": [
           {
            "cells": {
             "fill": {
              "color": "#EBF0F8"
             },
             "line": {
              "color": "white"
             }
            },
            "header": {
             "fill": {
              "color": "#C8D4E3"
             },
             "line": {
              "color": "white"
             }
            },
            "type": "table"
           }
          ]
         },
         "layout": {
          "annotationdefaults": {
           "arrowcolor": "#2a3f5f",
           "arrowhead": 0,
           "arrowwidth": 1
          },
          "autotypenumbers": "strict",
          "coloraxis": {
           "colorbar": {
            "outlinewidth": 0,
            "ticks": ""
           }
          },
          "colorscale": {
           "diverging": [
            [
             0,
             "#8e0152"
            ],
            [
             0.1,
             "#c51b7d"
            ],
            [
             0.2,
             "#de77ae"
            ],
            [
             0.3,
             "#f1b6da"
            ],
            [
             0.4,
             "#fde0ef"
            ],
            [
             0.5,
             "#f7f7f7"
            ],
            [
             0.6,
             "#e6f5d0"
            ],
            [
             0.7,
             "#b8e186"
            ],
            [
             0.8,
             "#7fbc41"
            ],
            [
             0.9,
             "#4d9221"
            ],
            [
             1,
             "#276419"
            ]
           ],
           "sequential": [
            [
             0,
             "#0d0887"
            ],
            [
             0.1111111111111111,
             "#46039f"
            ],
            [
             0.2222222222222222,
             "#7201a8"
            ],
            [
             0.3333333333333333,
             "#9c179e"
            ],
            [
             0.4444444444444444,
             "#bd3786"
            ],
            [
             0.5555555555555556,
             "#d8576b"
            ],
            [
             0.6666666666666666,
             "#ed7953"
            ],
            [
             0.7777777777777778,
             "#fb9f3a"
            ],
            [
             0.8888888888888888,
             "#fdca26"
            ],
            [
             1,
             "#f0f921"
            ]
           ],
           "sequentialminus": [
            [
             0,
             "#0d0887"
            ],
            [
             0.1111111111111111,
             "#46039f"
            ],
            [
             0.2222222222222222,
             "#7201a8"
            ],
            [
             0.3333333333333333,
             "#9c179e"
            ],
            [
             0.4444444444444444,
             "#bd3786"
            ],
            [
             0.5555555555555556,
             "#d8576b"
            ],
            [
             0.6666666666666666,
             "#ed7953"
            ],
            [
             0.7777777777777778,
             "#fb9f3a"
            ],
            [
             0.8888888888888888,
             "#fdca26"
            ],
            [
             1,
             "#f0f921"
            ]
           ]
          },
          "colorway": [
           "#636efa",
           "#EF553B",
           "#00cc96",
           "#ab63fa",
           "#FFA15A",
           "#19d3f3",
           "#FF6692",
           "#B6E880",
           "#FF97FF",
           "#FECB52"
          ],
          "font": {
           "color": "#2a3f5f"
          },
          "geo": {
           "bgcolor": "white",
           "lakecolor": "white",
           "landcolor": "#E5ECF6",
           "showlakes": true,
           "showland": true,
           "subunitcolor": "white"
          },
          "hoverlabel": {
           "align": "left"
          },
          "hovermode": "closest",
          "mapbox": {
           "style": "light"
          },
          "paper_bgcolor": "white",
          "plot_bgcolor": "#E5ECF6",
          "polar": {
           "angularaxis": {
            "gridcolor": "white",
            "linecolor": "white",
            "ticks": ""
           },
           "bgcolor": "#E5ECF6",
           "radialaxis": {
            "gridcolor": "white",
            "linecolor": "white",
            "ticks": ""
           }
          },
          "scene": {
           "xaxis": {
            "backgroundcolor": "#E5ECF6",
            "gridcolor": "white",
            "gridwidth": 2,
            "linecolor": "white",
            "showbackground": true,
            "ticks": "",
            "zerolinecolor": "white"
           },
           "yaxis": {
            "backgroundcolor": "#E5ECF6",
            "gridcolor": "white",
            "gridwidth": 2,
            "linecolor": "white",
            "showbackground": true,
            "ticks": "",
            "zerolinecolor": "white"
           },
           "zaxis": {
            "backgroundcolor": "#E5ECF6",
            "gridcolor": "white",
            "gridwidth": 2,
            "linecolor": "white",
            "showbackground": true,
            "ticks": "",
            "zerolinecolor": "white"
           }
          },
          "shapedefaults": {
           "line": {
            "color": "#2a3f5f"
           }
          },
          "ternary": {
           "aaxis": {
            "gridcolor": "white",
            "linecolor": "white",
            "ticks": ""
           },
           "baxis": {
            "gridcolor": "white",
            "linecolor": "white",
            "ticks": ""
           },
           "bgcolor": "#E5ECF6",
           "caxis": {
            "gridcolor": "white",
            "linecolor": "white",
            "ticks": ""
           }
          },
          "title": {
           "x": 0.05
          },
          "xaxis": {
           "automargin": true,
           "gridcolor": "white",
           "linecolor": "white",
           "ticks": "",
           "title": {
            "standoff": 15
           },
           "zerolinecolor": "white",
           "zerolinewidth": 2
          },
          "yaxis": {
           "automargin": true,
           "gridcolor": "white",
           "linecolor": "white",
           "ticks": "",
           "title": {
            "standoff": 15
           },
           "zerolinecolor": "white",
           "zerolinewidth": 2
          }
         }
        },
        "title": {
         "text": "Coupon acceptance rate in different income brackets"
        },
        "xaxis": {
         "anchor": "y",
         "domain": [
          0,
          1
         ],
         "title": {
          "text": "Acceptance Rate"
         }
        },
        "yaxis": {
         "anchor": "x",
         "domain": [
          0,
          1
         ],
         "title": {
          "text": "index"
         }
        }
       }
      },
      "text/html": [
       "<div>                            <div id=\"5cd05895-f18f-43e7-a189-c2029cb01741\" class=\"plotly-graph-div\" style=\"height:525px; width:100%;\"></div>            <script type=\"text/javascript\">                require([\"plotly\"], function(Plotly) {                    window.PLOTLYENV=window.PLOTLYENV || {};                                    if (document.getElementById(\"5cd05895-f18f-43e7-a189-c2029cb01741\")) {                    Plotly.newPlot(                        \"5cd05895-f18f-43e7-a189-c2029cb01741\",                        [{\"alignmentgroup\":\"True\",\"hovertemplate\":\"income=$100000 or More<br>Acceptance Rate=%{x}<br>index=%{y}<extra></extra>\",\"legendgroup\":\"$100000 or More\",\"marker\":{\"color\":\"#636efa\",\"pattern\":{\"shape\":\"\"}},\"name\":\"$100000 or More\",\"offsetgroup\":\"$100000 or More\",\"orientation\":\"h\",\"showlegend\":true,\"textposition\":\"auto\",\"x\":[0.5780141843971631],\"xaxis\":\"x\",\"y\":[0],\"yaxis\":\"y\",\"type\":\"bar\"},{\"alignmentgroup\":\"True\",\"hovertemplate\":\"income=$12500 - $24999<br>Acceptance Rate=%{x}<br>index=%{y}<extra></extra>\",\"legendgroup\":\"$12500 - $24999\",\"marker\":{\"color\":\"#EF553B\",\"pattern\":{\"shape\":\"\"}},\"name\":\"$12500 - $24999\",\"offsetgroup\":\"$12500 - $24999\",\"orientation\":\"h\",\"showlegend\":true,\"textposition\":\"auto\",\"x\":[0.5775462962962963],\"xaxis\":\"x\",\"y\":[1],\"yaxis\":\"y\",\"type\":\"bar\"},{\"alignmentgroup\":\"True\",\"hovertemplate\":\"income=$25000 - $37499<br>Acceptance Rate=%{x}<br>index=%{y}<extra></extra>\",\"legendgroup\":\"$25000 - $37499\",\"marker\":{\"color\":\"#00cc96\",\"pattern\":{\"shape\":\"\"}},\"name\":\"$25000 - $37499\",\"offsetgroup\":\"$25000 - $37499\",\"orientation\":\"h\",\"showlegend\":true,\"textposition\":\"auto\",\"x\":[0.597186034392913],\"xaxis\":\"x\",\"y\":[2],\"yaxis\":\"y\",\"type\":\"bar\"},{\"alignmentgroup\":\"True\",\"hovertemplate\":\"income=$37500 - $49999<br>Acceptance Rate=%{x}<br>index=%{y}<extra></extra>\",\"legendgroup\":\"$37500 - $49999\",\"marker\":{\"color\":\"#ab63fa\",\"pattern\":{\"shape\":\"\"}},\"name\":\"$37500 - $49999\",\"offsetgroup\":\"$37500 - $49999\",\"orientation\":\"h\",\"showlegend\":true,\"textposition\":\"auto\",\"x\":[0.5707519242155121],\"xaxis\":\"x\",\"y\":[3],\"yaxis\":\"y\",\"type\":\"bar\"},{\"alignmentgroup\":\"True\",\"hovertemplate\":\"income=$50000 - $62499<br>Acceptance Rate=%{x}<br>index=%{y}<extra></extra>\",\"legendgroup\":\"$50000 - $62499\",\"marker\":{\"color\":\"#FFA15A\",\"pattern\":{\"shape\":\"\"}},\"name\":\"$50000 - $62499\",\"offsetgroup\":\"$50000 - $62499\",\"orientation\":\"h\",\"showlegend\":true,\"textposition\":\"auto\",\"x\":[0.5897763578274761],\"xaxis\":\"x\",\"y\":[4],\"yaxis\":\"y\",\"type\":\"bar\"},{\"alignmentgroup\":\"True\",\"hovertemplate\":\"income=$62500 - $74999<br>Acceptance Rate=%{x}<br>index=%{y}<extra></extra>\",\"legendgroup\":\"$62500 - $74999\",\"marker\":{\"color\":\"#19d3f3\",\"pattern\":{\"shape\":\"\"}},\"name\":\"$62500 - $74999\",\"offsetgroup\":\"$62500 - $74999\",\"orientation\":\"h\",\"showlegend\":true,\"textposition\":\"auto\",\"x\":[0.5273809523809524],\"xaxis\":\"x\",\"y\":[5],\"yaxis\":\"y\",\"type\":\"bar\"},{\"alignmentgroup\":\"True\",\"hovertemplate\":\"income=$75000 - $87499<br>Acceptance Rate=%{x}<br>index=%{y}<extra></extra>\",\"legendgroup\":\"$75000 - $87499\",\"marker\":{\"color\":\"#FF6692\",\"pattern\":{\"shape\":\"\"}},\"name\":\"$75000 - $87499\",\"offsetgroup\":\"$75000 - $87499\",\"orientation\":\"h\",\"showlegend\":true,\"textposition\":\"auto\",\"x\":[0.4926289926289926],\"xaxis\":\"x\",\"y\":[6],\"yaxis\":\"y\",\"type\":\"bar\"},{\"alignmentgroup\":\"True\",\"hovertemplate\":\"income=$87500 - $99999<br>Acceptance Rate=%{x}<br>index=%{y}<extra></extra>\",\"legendgroup\":\"$87500 - $99999\",\"marker\":{\"color\":\"#B6E880\",\"pattern\":{\"shape\":\"\"}},\"name\":\"$87500 - $99999\",\"offsetgroup\":\"$87500 - $99999\",\"orientation\":\"h\",\"showlegend\":true,\"textposition\":\"auto\",\"x\":[0.5232273838630807],\"xaxis\":\"x\",\"y\":[7],\"yaxis\":\"y\",\"type\":\"bar\"},{\"alignmentgroup\":\"True\",\"hovertemplate\":\"income=Less than $12500<br>Acceptance Rate=%{x}<br>index=%{y}<extra></extra>\",\"legendgroup\":\"Less than $12500\",\"marker\":{\"color\":\"#FF97FF\",\"pattern\":{\"shape\":\"\"}},\"name\":\"Less than $12500\",\"offsetgroup\":\"Less than $12500\",\"orientation\":\"h\",\"showlegend\":true,\"textposition\":\"auto\",\"x\":[0.5877712031558185],\"xaxis\":\"x\",\"y\":[8],\"yaxis\":\"y\",\"type\":\"bar\"}],                        {\"template\":{\"data\":{\"bar\":[{\"error_x\":{\"color\":\"#2a3f5f\"},\"error_y\":{\"color\":\"#2a3f5f\"},\"marker\":{\"line\":{\"color\":\"#E5ECF6\",\"width\":0.5},\"pattern\":{\"fillmode\":\"overlay\",\"size\":10,\"solidity\":0.2}},\"type\":\"bar\"}],\"barpolar\":[{\"marker\":{\"line\":{\"color\":\"#E5ECF6\",\"width\":0.5},\"pattern\":{\"fillmode\":\"overlay\",\"size\":10,\"solidity\":0.2}},\"type\":\"barpolar\"}],\"carpet\":[{\"aaxis\":{\"endlinecolor\":\"#2a3f5f\",\"gridcolor\":\"white\",\"linecolor\":\"white\",\"minorgridcolor\":\"white\",\"startlinecolor\":\"#2a3f5f\"},\"baxis\":{\"endlinecolor\":\"#2a3f5f\",\"gridcolor\":\"white\",\"linecolor\":\"white\",\"minorgridcolor\":\"white\",\"startlinecolor\":\"#2a3f5f\"},\"type\":\"carpet\"}],\"choropleth\":[{\"colorbar\":{\"outlinewidth\":0,\"ticks\":\"\"},\"type\":\"choropleth\"}],\"contour\":[{\"colorbar\":{\"outlinewidth\":0,\"ticks\":\"\"},\"colorscale\":[[0.0,\"#0d0887\"],[0.1111111111111111,\"#46039f\"],[0.2222222222222222,\"#7201a8\"],[0.3333333333333333,\"#9c179e\"],[0.4444444444444444,\"#bd3786\"],[0.5555555555555556,\"#d8576b\"],[0.6666666666666666,\"#ed7953\"],[0.7777777777777778,\"#fb9f3a\"],[0.8888888888888888,\"#fdca26\"],[1.0,\"#f0f921\"]],\"type\":\"contour\"}],\"contourcarpet\":[{\"colorbar\":{\"outlinewidth\":0,\"ticks\":\"\"},\"type\":\"contourcarpet\"}],\"heatmap\":[{\"colorbar\":{\"outlinewidth\":0,\"ticks\":\"\"},\"colorscale\":[[0.0,\"#0d0887\"],[0.1111111111111111,\"#46039f\"],[0.2222222222222222,\"#7201a8\"],[0.3333333333333333,\"#9c179e\"],[0.4444444444444444,\"#bd3786\"],[0.5555555555555556,\"#d8576b\"],[0.6666666666666666,\"#ed7953\"],[0.7777777777777778,\"#fb9f3a\"],[0.8888888888888888,\"#fdca26\"],[1.0,\"#f0f921\"]],\"type\":\"heatmap\"}],\"heatmapgl\":[{\"colorbar\":{\"outlinewidth\":0,\"ticks\":\"\"},\"colorscale\":[[0.0,\"#0d0887\"],[0.1111111111111111,\"#46039f\"],[0.2222222222222222,\"#7201a8\"],[0.3333333333333333,\"#9c179e\"],[0.4444444444444444,\"#bd3786\"],[0.5555555555555556,\"#d8576b\"],[0.6666666666666666,\"#ed7953\"],[0.7777777777777778,\"#fb9f3a\"],[0.8888888888888888,\"#fdca26\"],[1.0,\"#f0f921\"]],\"type\":\"heatmapgl\"}],\"histogram\":[{\"marker\":{\"pattern\":{\"fillmode\":\"overlay\",\"size\":10,\"solidity\":0.2}},\"type\":\"histogram\"}],\"histogram2d\":[{\"colorbar\":{\"outlinewidth\":0,\"ticks\":\"\"},\"colorscale\":[[0.0,\"#0d0887\"],[0.1111111111111111,\"#46039f\"],[0.2222222222222222,\"#7201a8\"],[0.3333333333333333,\"#9c179e\"],[0.4444444444444444,\"#bd3786\"],[0.5555555555555556,\"#d8576b\"],[0.6666666666666666,\"#ed7953\"],[0.7777777777777778,\"#fb9f3a\"],[0.8888888888888888,\"#fdca26\"],[1.0,\"#f0f921\"]],\"type\":\"histogram2d\"}],\"histogram2dcontour\":[{\"colorbar\":{\"outlinewidth\":0,\"ticks\":\"\"},\"colorscale\":[[0.0,\"#0d0887\"],[0.1111111111111111,\"#46039f\"],[0.2222222222222222,\"#7201a8\"],[0.3333333333333333,\"#9c179e\"],[0.4444444444444444,\"#bd3786\"],[0.5555555555555556,\"#d8576b\"],[0.6666666666666666,\"#ed7953\"],[0.7777777777777778,\"#fb9f3a\"],[0.8888888888888888,\"#fdca26\"],[1.0,\"#f0f921\"]],\"type\":\"histogram2dcontour\"}],\"mesh3d\":[{\"colorbar\":{\"outlinewidth\":0,\"ticks\":\"\"},\"type\":\"mesh3d\"}],\"parcoords\":[{\"line\":{\"colorbar\":{\"outlinewidth\":0,\"ticks\":\"\"}},\"type\":\"parcoords\"}],\"pie\":[{\"automargin\":true,\"type\":\"pie\"}],\"scatter\":[{\"marker\":{\"colorbar\":{\"outlinewidth\":0,\"ticks\":\"\"}},\"type\":\"scatter\"}],\"scatter3d\":[{\"line\":{\"colorbar\":{\"outlinewidth\":0,\"ticks\":\"\"}},\"marker\":{\"colorbar\":{\"outlinewidth\":0,\"ticks\":\"\"}},\"type\":\"scatter3d\"}],\"scattercarpet\":[{\"marker\":{\"colorbar\":{\"outlinewidth\":0,\"ticks\":\"\"}},\"type\":\"scattercarpet\"}],\"scattergeo\":[{\"marker\":{\"colorbar\":{\"outlinewidth\":0,\"ticks\":\"\"}},\"type\":\"scattergeo\"}],\"scattergl\":[{\"marker\":{\"colorbar\":{\"outlinewidth\":0,\"ticks\":\"\"}},\"type\":\"scattergl\"}],\"scattermapbox\":[{\"marker\":{\"colorbar\":{\"outlinewidth\":0,\"ticks\":\"\"}},\"type\":\"scattermapbox\"}],\"scatterpolar\":[{\"marker\":{\"colorbar\":{\"outlinewidth\":0,\"ticks\":\"\"}},\"type\":\"scatterpolar\"}],\"scatterpolargl\":[{\"marker\":{\"colorbar\":{\"outlinewidth\":0,\"ticks\":\"\"}},\"type\":\"scatterpolargl\"}],\"scatterternary\":[{\"marker\":{\"colorbar\":{\"outlinewidth\":0,\"ticks\":\"\"}},\"type\":\"scatterternary\"}],\"surface\":[{\"colorbar\":{\"outlinewidth\":0,\"ticks\":\"\"},\"colorscale\":[[0.0,\"#0d0887\"],[0.1111111111111111,\"#46039f\"],[0.2222222222222222,\"#7201a8\"],[0.3333333333333333,\"#9c179e\"],[0.4444444444444444,\"#bd3786\"],[0.5555555555555556,\"#d8576b\"],[0.6666666666666666,\"#ed7953\"],[0.7777777777777778,\"#fb9f3a\"],[0.8888888888888888,\"#fdca26\"],[1.0,\"#f0f921\"]],\"type\":\"surface\"}],\"table\":[{\"cells\":{\"fill\":{\"color\":\"#EBF0F8\"},\"line\":{\"color\":\"white\"}},\"header\":{\"fill\":{\"color\":\"#C8D4E3\"},\"line\":{\"color\":\"white\"}},\"type\":\"table\"}]},\"layout\":{\"annotationdefaults\":{\"arrowcolor\":\"#2a3f5f\",\"arrowhead\":0,\"arrowwidth\":1},\"autotypenumbers\":\"strict\",\"coloraxis\":{\"colorbar\":{\"outlinewidth\":0,\"ticks\":\"\"}},\"colorscale\":{\"diverging\":[[0,\"#8e0152\"],[0.1,\"#c51b7d\"],[0.2,\"#de77ae\"],[0.3,\"#f1b6da\"],[0.4,\"#fde0ef\"],[0.5,\"#f7f7f7\"],[0.6,\"#e6f5d0\"],[0.7,\"#b8e186\"],[0.8,\"#7fbc41\"],[0.9,\"#4d9221\"],[1,\"#276419\"]],\"sequential\":[[0.0,\"#0d0887\"],[0.1111111111111111,\"#46039f\"],[0.2222222222222222,\"#7201a8\"],[0.3333333333333333,\"#9c179e\"],[0.4444444444444444,\"#bd3786\"],[0.5555555555555556,\"#d8576b\"],[0.6666666666666666,\"#ed7953\"],[0.7777777777777778,\"#fb9f3a\"],[0.8888888888888888,\"#fdca26\"],[1.0,\"#f0f921\"]],\"sequentialminus\":[[0.0,\"#0d0887\"],[0.1111111111111111,\"#46039f\"],[0.2222222222222222,\"#7201a8\"],[0.3333333333333333,\"#9c179e\"],[0.4444444444444444,\"#bd3786\"],[0.5555555555555556,\"#d8576b\"],[0.6666666666666666,\"#ed7953\"],[0.7777777777777778,\"#fb9f3a\"],[0.8888888888888888,\"#fdca26\"],[1.0,\"#f0f921\"]]},\"colorway\":[\"#636efa\",\"#EF553B\",\"#00cc96\",\"#ab63fa\",\"#FFA15A\",\"#19d3f3\",\"#FF6692\",\"#B6E880\",\"#FF97FF\",\"#FECB52\"],\"font\":{\"color\":\"#2a3f5f\"},\"geo\":{\"bgcolor\":\"white\",\"lakecolor\":\"white\",\"landcolor\":\"#E5ECF6\",\"showlakes\":true,\"showland\":true,\"subunitcolor\":\"white\"},\"hoverlabel\":{\"align\":\"left\"},\"hovermode\":\"closest\",\"mapbox\":{\"style\":\"light\"},\"paper_bgcolor\":\"white\",\"plot_bgcolor\":\"#E5ECF6\",\"polar\":{\"angularaxis\":{\"gridcolor\":\"white\",\"linecolor\":\"white\",\"ticks\":\"\"},\"bgcolor\":\"#E5ECF6\",\"radialaxis\":{\"gridcolor\":\"white\",\"linecolor\":\"white\",\"ticks\":\"\"}},\"scene\":{\"xaxis\":{\"backgroundcolor\":\"#E5ECF6\",\"gridcolor\":\"white\",\"gridwidth\":2,\"linecolor\":\"white\",\"showbackground\":true,\"ticks\":\"\",\"zerolinecolor\":\"white\"},\"yaxis\":{\"backgroundcolor\":\"#E5ECF6\",\"gridcolor\":\"white\",\"gridwidth\":2,\"linecolor\":\"white\",\"showbackground\":true,\"ticks\":\"\",\"zerolinecolor\":\"white\"},\"zaxis\":{\"backgroundcolor\":\"#E5ECF6\",\"gridcolor\":\"white\",\"gridwidth\":2,\"linecolor\":\"white\",\"showbackground\":true,\"ticks\":\"\",\"zerolinecolor\":\"white\"}},\"shapedefaults\":{\"line\":{\"color\":\"#2a3f5f\"}},\"ternary\":{\"aaxis\":{\"gridcolor\":\"white\",\"linecolor\":\"white\",\"ticks\":\"\"},\"baxis\":{\"gridcolor\":\"white\",\"linecolor\":\"white\",\"ticks\":\"\"},\"bgcolor\":\"#E5ECF6\",\"caxis\":{\"gridcolor\":\"white\",\"linecolor\":\"white\",\"ticks\":\"\"}},\"title\":{\"x\":0.05},\"xaxis\":{\"automargin\":true,\"gridcolor\":\"white\",\"linecolor\":\"white\",\"ticks\":\"\",\"title\":{\"standoff\":15},\"zerolinecolor\":\"white\",\"zerolinewidth\":2},\"yaxis\":{\"automargin\":true,\"gridcolor\":\"white\",\"linecolor\":\"white\",\"ticks\":\"\",\"title\":{\"standoff\":15},\"zerolinecolor\":\"white\",\"zerolinewidth\":2}}},\"xaxis\":{\"anchor\":\"y\",\"domain\":[0.0,1.0],\"title\":{\"text\":\"Acceptance Rate\"}},\"yaxis\":{\"anchor\":\"x\",\"domain\":[0.0,1.0],\"title\":{\"text\":\"index\"}},\"legend\":{\"title\":{\"text\":\"income\"},\"tracegroupgap\":0},\"title\":{\"text\":\"Coupon acceptance rate in different income brackets\"},\"barmode\":\"relative\"},                        {\"responsive\": true}                    ).then(function(){\n",
       "                            \n",
       "var gd = document.getElementById('5cd05895-f18f-43e7-a189-c2029cb01741');\n",
       "var x = new MutationObserver(function (mutations, observer) {{\n",
       "        var display = window.getComputedStyle(gd).display;\n",
       "        if (!display || display === 'none') {{\n",
       "            console.log([gd, 'removed!']);\n",
       "            Plotly.purge(gd);\n",
       "            observer.disconnect();\n",
       "        }}\n",
       "}});\n",
       "\n",
       "// Listen for the removal of the full notebook cells\n",
       "var notebookContainer = gd.closest('#notebook-container');\n",
       "if (notebookContainer) {{\n",
       "    x.observe(notebookContainer, {childList: true});\n",
       "}}\n",
       "\n",
       "// Listen for the clearing of the current output cell\n",
       "var outputEl = gd.closest('.output');\n",
       "if (outputEl) {{\n",
       "    x.observe(outputEl, {childList: true});\n",
       "}}\n",
       "\n",
       "                        })                };                });            </script>        </div>"
      ]
     },
     "metadata": {},
     "output_type": "display_data"
    }
   ],
   "source": [
    "px.bar(acc_rate_income.reset_index(), x='Y', color='income', labels={'Y': 'Acceptance Rate'}, title='Coupon acceptance rate in different income brackets')"
   ]
  },
  {
   "cell_type": "code",
   "execution_count": null,
   "metadata": {},
   "outputs": [],
   "source": []
  }
 ],
 "metadata": {
  "kernelspec": {
   "display_name": "Python 3 (ipykernel)",
   "language": "python",
   "name": "python3"
  },
  "language_info": {
   "codemirror_mode": {
    "name": "ipython",
    "version": 3
   },
   "file_extension": ".py",
   "mimetype": "text/x-python",
   "name": "python",
   "nbconvert_exporter": "python",
   "pygments_lexer": "ipython3",
   "version": "3.9.12"
  },
  "widgets": {
   "application/vnd.jupyter.widget-state+json": {
    "state": {},
    "version_major": 2,
    "version_minor": 0
   }
  }
 },
 "nbformat": 4,
 "nbformat_minor": 4
}
